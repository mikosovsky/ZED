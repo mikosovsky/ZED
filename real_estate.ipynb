{
 "cells": [
  {
   "cell_type": "markdown",
   "id": "8ec407b2",
   "metadata": {},
   "source": [
    "# Analiza rynku nieruchomości w Polsce"
   ]
  },
  {
   "cell_type": "code",
   "execution_count": 1,
   "id": "e11f7eb8",
   "metadata": {},
   "outputs": [
    {
     "name": "stdout",
     "output_type": "stream",
     "text": [
      "Requirement already satisfied: pandas in ./.venv/lib/python3.12/site-packages (2.3.0)\n",
      "Requirement already satisfied: numpy in ./.venv/lib/python3.12/site-packages (2.3.1)\n",
      "Requirement already satisfied: matplotlib in ./.venv/lib/python3.12/site-packages (3.10.3)\n",
      "Requirement already satisfied: seaborn in ./.venv/lib/python3.12/site-packages (0.13.2)\n",
      "Requirement already satisfied: plotly in ./.venv/lib/python3.12/site-packages (6.2.0)\n",
      "Requirement already satisfied: scikit-learn in ./.venv/lib/python3.12/site-packages (1.7.0)\n",
      "Requirement already satisfied: openpyxl in ./.venv/lib/python3.12/site-packages (3.1.5)\n",
      "Requirement already satisfied: python-dateutil>=2.8.2 in ./.venv/lib/python3.12/site-packages (from pandas) (2.9.0.post0)\n",
      "Requirement already satisfied: pytz>=2020.1 in ./.venv/lib/python3.12/site-packages (from pandas) (2025.2)\n",
      "Requirement already satisfied: tzdata>=2022.7 in ./.venv/lib/python3.12/site-packages (from pandas) (2025.2)\n",
      "Requirement already satisfied: contourpy>=1.0.1 in ./.venv/lib/python3.12/site-packages (from matplotlib) (1.3.2)\n",
      "Requirement already satisfied: cycler>=0.10 in ./.venv/lib/python3.12/site-packages (from matplotlib) (0.12.1)\n",
      "Requirement already satisfied: fonttools>=4.22.0 in ./.venv/lib/python3.12/site-packages (from matplotlib) (4.58.4)\n",
      "Requirement already satisfied: kiwisolver>=1.3.1 in ./.venv/lib/python3.12/site-packages (from matplotlib) (1.4.8)\n",
      "Requirement already satisfied: packaging>=20.0 in ./.venv/lib/python3.12/site-packages (from matplotlib) (25.0)\n",
      "Requirement already satisfied: pillow>=8 in ./.venv/lib/python3.12/site-packages (from matplotlib) (11.2.1)\n",
      "Requirement already satisfied: pyparsing>=2.3.1 in ./.venv/lib/python3.12/site-packages (from matplotlib) (3.2.3)\n",
      "Requirement already satisfied: narwhals>=1.15.1 in ./.venv/lib/python3.12/site-packages (from plotly) (1.44.0)\n",
      "Requirement already satisfied: scipy>=1.8.0 in ./.venv/lib/python3.12/site-packages (from scikit-learn) (1.15.3)\n",
      "Requirement already satisfied: joblib>=1.2.0 in ./.venv/lib/python3.12/site-packages (from scikit-learn) (1.5.1)\n",
      "Requirement already satisfied: threadpoolctl>=3.1.0 in ./.venv/lib/python3.12/site-packages (from scikit-learn) (3.6.0)\n",
      "Requirement already satisfied: et-xmlfile in ./.venv/lib/python3.12/site-packages (from openpyxl) (2.0.0)\n",
      "Requirement already satisfied: six>=1.5 in ./.venv/lib/python3.12/site-packages (from python-dateutil>=2.8.2->pandas) (1.17.0)\n",
      "\n",
      "\u001b[1m[\u001b[0m\u001b[34;49mnotice\u001b[0m\u001b[1;39;49m]\u001b[0m\u001b[39;49m A new release of pip is available: \u001b[0m\u001b[31;49m24.3.1\u001b[0m\u001b[39;49m -> \u001b[0m\u001b[32;49m25.1.1\u001b[0m\n",
      "\u001b[1m[\u001b[0m\u001b[34;49mnotice\u001b[0m\u001b[1;39;49m]\u001b[0m\u001b[39;49m To update, run: \u001b[0m\u001b[32;49mpip install --upgrade pip\u001b[0m\n",
      "Requirement already satisfied: statsmodels==0.14.4 in ./.venv/lib/python3.12/site-packages (0.14.4)\n",
      "Requirement already satisfied: scipy==1.15.3 in ./.venv/lib/python3.12/site-packages (1.15.3)\n",
      "Requirement already satisfied: yfinance in ./.venv/lib/python3.12/site-packages (0.2.63)\n",
      "Requirement already satisfied: fredapi in ./.venv/lib/python3.12/site-packages (0.5.2)\n",
      "Requirement already satisfied: numpy<3,>=1.22.3 in ./.venv/lib/python3.12/site-packages (from statsmodels==0.14.4) (2.3.1)\n",
      "Requirement already satisfied: pandas!=2.1.0,>=1.4 in ./.venv/lib/python3.12/site-packages (from statsmodels==0.14.4) (2.3.0)\n",
      "Requirement already satisfied: patsy>=0.5.6 in ./.venv/lib/python3.12/site-packages (from statsmodels==0.14.4) (1.0.1)\n",
      "Requirement already satisfied: packaging>=21.3 in ./.venv/lib/python3.12/site-packages (from statsmodels==0.14.4) (25.0)\n",
      "Requirement already satisfied: requests>=2.31 in ./.venv/lib/python3.12/site-packages (from yfinance) (2.32.4)\n",
      "Requirement already satisfied: multitasking>=0.0.7 in ./.venv/lib/python3.12/site-packages (from yfinance) (0.0.11)\n",
      "Requirement already satisfied: platformdirs>=2.0.0 in ./.venv/lib/python3.12/site-packages (from yfinance) (4.3.8)\n",
      "Requirement already satisfied: pytz>=2022.5 in ./.venv/lib/python3.12/site-packages (from yfinance) (2025.2)\n",
      "Requirement already satisfied: frozendict>=2.3.4 in ./.venv/lib/python3.12/site-packages (from yfinance) (2.4.6)\n",
      "Requirement already satisfied: peewee>=3.16.2 in ./.venv/lib/python3.12/site-packages (from yfinance) (3.18.1)\n",
      "Requirement already satisfied: beautifulsoup4>=4.11.1 in ./.venv/lib/python3.12/site-packages (from yfinance) (4.13.4)\n",
      "Requirement already satisfied: curl_cffi>=0.7 in ./.venv/lib/python3.12/site-packages (from yfinance) (0.11.4)\n",
      "Requirement already satisfied: protobuf>=3.19.0 in ./.venv/lib/python3.12/site-packages (from yfinance) (6.31.1)\n",
      "Requirement already satisfied: websockets>=13.0 in ./.venv/lib/python3.12/site-packages (from yfinance) (15.0.1)\n",
      "Requirement already satisfied: soupsieve>1.2 in ./.venv/lib/python3.12/site-packages (from beautifulsoup4>=4.11.1->yfinance) (2.7)\n",
      "Requirement already satisfied: typing-extensions>=4.0.0 in ./.venv/lib/python3.12/site-packages (from beautifulsoup4>=4.11.1->yfinance) (4.14.0)\n",
      "Requirement already satisfied: cffi>=1.12.0 in ./.venv/lib/python3.12/site-packages (from curl_cffi>=0.7->yfinance) (1.17.1)\n",
      "Requirement already satisfied: certifi>=2024.2.2 in ./.venv/lib/python3.12/site-packages (from curl_cffi>=0.7->yfinance) (2025.6.15)\n",
      "Requirement already satisfied: python-dateutil>=2.8.2 in ./.venv/lib/python3.12/site-packages (from pandas!=2.1.0,>=1.4->statsmodels==0.14.4) (2.9.0.post0)\n",
      "Requirement already satisfied: tzdata>=2022.7 in ./.venv/lib/python3.12/site-packages (from pandas!=2.1.0,>=1.4->statsmodels==0.14.4) (2025.2)\n",
      "Requirement already satisfied: charset_normalizer<4,>=2 in ./.venv/lib/python3.12/site-packages (from requests>=2.31->yfinance) (3.4.2)\n",
      "Requirement already satisfied: idna<4,>=2.5 in ./.venv/lib/python3.12/site-packages (from requests>=2.31->yfinance) (3.10)\n",
      "Requirement already satisfied: urllib3<3,>=1.21.1 in ./.venv/lib/python3.12/site-packages (from requests>=2.31->yfinance) (2.5.0)\n",
      "Requirement already satisfied: pycparser in ./.venv/lib/python3.12/site-packages (from cffi>=1.12.0->curl_cffi>=0.7->yfinance) (2.22)\n",
      "Requirement already satisfied: six>=1.5 in ./.venv/lib/python3.12/site-packages (from python-dateutil>=2.8.2->pandas!=2.1.0,>=1.4->statsmodels==0.14.4) (1.17.0)\n",
      "\n",
      "\u001b[1m[\u001b[0m\u001b[34;49mnotice\u001b[0m\u001b[1;39;49m]\u001b[0m\u001b[39;49m A new release of pip is available: \u001b[0m\u001b[31;49m24.3.1\u001b[0m\u001b[39;49m -> \u001b[0m\u001b[32;49m25.1.1\u001b[0m\n",
      "\u001b[1m[\u001b[0m\u001b[34;49mnotice\u001b[0m\u001b[1;39;49m]\u001b[0m\u001b[39;49m To update, run: \u001b[0m\u001b[32;49mpip install --upgrade pip\u001b[0m\n",
      "Requirement already satisfied: nbformat in ./.venv/lib/python3.12/site-packages (5.10.4)\n",
      "Requirement already satisfied: fastjsonschema>=2.15 in ./.venv/lib/python3.12/site-packages (from nbformat) (2.21.1)\n",
      "Requirement already satisfied: jsonschema>=2.6 in ./.venv/lib/python3.12/site-packages (from nbformat) (4.24.0)\n",
      "Requirement already satisfied: jupyter-core!=5.0.*,>=4.12 in ./.venv/lib/python3.12/site-packages (from nbformat) (5.8.1)\n",
      "Requirement already satisfied: traitlets>=5.1 in ./.venv/lib/python3.12/site-packages (from nbformat) (5.14.3)\n",
      "Requirement already satisfied: attrs>=22.2.0 in ./.venv/lib/python3.12/site-packages (from jsonschema>=2.6->nbformat) (25.3.0)\n",
      "Requirement already satisfied: jsonschema-specifications>=2023.03.6 in ./.venv/lib/python3.12/site-packages (from jsonschema>=2.6->nbformat) (2025.4.1)\n",
      "Requirement already satisfied: referencing>=0.28.4 in ./.venv/lib/python3.12/site-packages (from jsonschema>=2.6->nbformat) (0.36.2)\n",
      "Requirement already satisfied: rpds-py>=0.7.1 in ./.venv/lib/python3.12/site-packages (from jsonschema>=2.6->nbformat) (0.25.1)\n",
      "Requirement already satisfied: platformdirs>=2.5 in ./.venv/lib/python3.12/site-packages (from jupyter-core!=5.0.*,>=4.12->nbformat) (4.3.8)\n",
      "Requirement already satisfied: typing-extensions>=4.4.0 in ./.venv/lib/python3.12/site-packages (from referencing>=0.28.4->jsonschema>=2.6->nbformat) (4.14.0)\n",
      "\n",
      "\u001b[1m[\u001b[0m\u001b[34;49mnotice\u001b[0m\u001b[1;39;49m]\u001b[0m\u001b[39;49m A new release of pip is available: \u001b[0m\u001b[31;49m24.3.1\u001b[0m\u001b[39;49m -> \u001b[0m\u001b[32;49m25.1.1\u001b[0m\n",
      "\u001b[1m[\u001b[0m\u001b[34;49mnotice\u001b[0m\u001b[1;39;49m]\u001b[0m\u001b[39;49m To update, run: \u001b[0m\u001b[32;49mpip install --upgrade pip\u001b[0m\n"
     ]
    }
   ],
   "source": [
    "!pip3 install pandas numpy matplotlib seaborn plotly scikit-learn openpyxl\n",
    "!pip3 install \"statsmodels==0.14.4\" \"scipy==1.15.3\" yfinance fredapi\n",
    "!pip3 install --upgrade nbformat"
   ]
  },
  {
   "cell_type": "code",
   "execution_count": 2,
   "id": "7dea46f5",
   "metadata": {},
   "outputs": [
    {
     "name": "stdout",
     "output_type": "stream",
     "text": [
      "✅ Wszystkie biblioteki zostały załadowane pomyślnie!\n"
     ]
    }
   ],
   "source": [
    "# Komórka 2: Import bibliotek i konfiguracja\n",
    "import pandas as pd\n",
    "import numpy as np\n",
    "import matplotlib.pyplot as plt\n",
    "import seaborn as sns\n",
    "import plotly.express as px\n",
    "import plotly.graph_objects as go\n",
    "from plotly.subplots import make_subplots\n",
    "import warnings\n",
    "warnings.filterwarnings('ignore')\n",
    "\n",
    "# Biblioteki do analizy statystycznej\n",
    "from scipy import stats\n",
    "from scipy.stats import pearsonr, spearmanr, normaltest\n",
    "import statsmodels.api as sm\n",
    "from statsmodels.tsa.seasonal import seasonal_decompose\n",
    "from statsmodels.tsa.arima.model import ARIMA\n",
    "\n",
    "# Biblioteki machine learning\n",
    "from sklearn.model_selection import train_test_split\n",
    "from sklearn.linear_model import LinearRegression\n",
    "from sklearn.ensemble import RandomForestRegressor, GradientBoostingRegressor\n",
    "from sklearn.preprocessing import StandardScaler, LabelEncoder\n",
    "from sklearn.metrics import mean_squared_error, r2_score, mean_absolute_error\n",
    "\n",
    "# Konfiguracja wyświetlania\n",
    "plt.rcParams['figure.figsize'] = (12, 8)\n",
    "plt.style.use('seaborn-v0_8')\n",
    "pd.set_option('display.max_columns', None)\n",
    "pd.set_option('display.max_rows', 100)\n",
    "\n",
    "print(\"✅ Wszystkie biblioteki zostały załadowane pomyślnie!\")\n"
   ]
  },
  {
   "cell_type": "code",
   "execution_count": 3,
   "id": "62e612a8",
   "metadata": {},
   "outputs": [
    {
     "name": "stdout",
     "output_type": "stream",
     "text": [
      "✅ Dane z NBP zostały załadowane pomyślnie!\n"
     ]
    }
   ],
   "source": [
    "from LoadData.LoadNbpData import load_nbp_data\n",
    "\n",
    "primary_offer, primary_trans, secondary_offer, secondary_trans = load_nbp_data()\n",
    "print(\"✅ Dane z NBP zostały załadowane pomyślnie!\")\n",
    "#print(primary_offer.head())\n",
    "miasta = primary_offer.columns[1:].tolist()"
   ]
  },
  {
   "cell_type": "code",
   "execution_count": 4,
   "id": "86541200",
   "metadata": {},
   "outputs": [
    {
     "name": "stdout",
     "output_type": "stream",
     "text": [
      "✅ Dane o inflacji zostały załadowane pomyślnie!\n"
     ]
    }
   ],
   "source": [
    "from LoadData.LoadInflation import load_inflation_data\n",
    "\n",
    "df_inflacja_raw = load_inflation_data()\n",
    "print(\"✅ Dane o inflacji zostały załadowane pomyślnie!\")\n",
    "\n",
    "#print(df_inflacja.head())"
   ]
  },
  {
   "cell_type": "code",
   "execution_count": 5,
   "id": "7cbb7592",
   "metadata": {},
   "outputs": [
    {
     "name": "stdout",
     "output_type": "stream",
     "text": [
      "✅ Dane WIBOR zostały załadowane pomyślnie!\n"
     ]
    }
   ],
   "source": [
    "from LoadData.LoadWibor import load_wibor\n",
    "\n",
    "df_wibor = load_wibor()\n",
    "print(\"✅ Dane WIBOR zostały załadowane pomyślnie!\")\n",
    "\n",
    "#print(df_wibor.head())"
   ]
  },
  {
   "cell_type": "markdown",
   "id": "66034c63",
   "metadata": {},
   "source": [
    "## Komórka 4: Czyszczenie i feature engineering danych\n"
   ]
  },
  {
   "cell_type": "code",
   "execution_count": 6,
   "id": "13ef4882",
   "metadata": {},
   "outputs": [
    {
     "name": "stdout",
     "output_type": "stream",
     "text": [
      "📅 Przetwarzanie dat i tworzenie zmiennych czasowych...\n"
     ]
    }
   ],
   "source": [
    "from DataProcessing.Preprocess import dodaj_kolumny_daty, polacz_dataframes\n",
    "\n",
    "print(\"📅 Przetwarzanie dat i tworzenie zmiennych czasowych...\")\n",
    "\n",
    "primary_offer = dodaj_kolumny_daty(primary_offer)\n",
    "secondary_offer = dodaj_kolumny_daty(secondary_offer)\n",
    "primary_trans = dodaj_kolumny_daty(primary_trans)\n",
    "secondary_trans = dodaj_kolumny_daty(secondary_trans)\n",
    "\n",
    "df_inflacja = dodaj_kolumny_daty(df_inflacja_raw)[['CPI_Y2Y', 'CPI_Q2Q', 'Data']]\n",
    "df_inflacja['CPI_Y2Y'] = df_inflacja['CPI_Y2Y'] - 100\n",
    "df_inflacja['CPI_Q2Q'] = df_inflacja['CPI_Q2Q'] - 100\n",
    "primary_offer = dodaj_kolumny_daty(primary_offer)\n",
    "secondary_offer = dodaj_kolumny_daty(secondary_offer)\n",
    "primary_trans = dodaj_kolumny_daty(primary_trans)\n",
    "secondary_trans = dodaj_kolumny_daty(secondary_trans)\n",
    "#print(df_inflacja.head())"
   ]
  },
  {
   "cell_type": "markdown",
   "id": "b7643151",
   "metadata": {},
   "source": [
    "### Merge dataframes"
   ]
  },
  {
   "cell_type": "code",
   "execution_count": 7,
   "id": "01037137",
   "metadata": {},
   "outputs": [],
   "source": [
    "\n",
    "rynek_pierwotny_ofertowe = polacz_dataframes(primary_offer, df_inflacja, df_wibor, on_col='Data')\n",
    "rynek_pierwotny_transakcyjne = polacz_dataframes(primary_trans, df_inflacja, df_wibor, on_col='Data')\n",
    "rynek_wtorny_ofertowe = polacz_dataframes(secondary_offer, df_inflacja, df_wibor, on_col='Data')\n",
    "rynek_wtorny_transakcyjne = polacz_dataframes(secondary_trans, df_inflacja, df_wibor, on_col='Data')\n",
    "#print(rynek_wtorny_transakcyjne.head())"
   ]
  },
  {
   "cell_type": "markdown",
   "id": "dc6a08ce",
   "metadata": {},
   "source": [
    "## Komórka 5: Analiza statystyczna dla danych w nowym formacie\n"
   ]
  },
  {
   "cell_type": "code",
   "execution_count": 8,
   "id": "ad38409a",
   "metadata": {},
   "outputs": [
    {
     "name": "stdout",
     "output_type": "stream",
     "text": [
      "🔄 Przekształcanie danych do formatu dogodnego dla analizy korelacji...\n",
      "✅ Dane zostały przekształcone pomyślnie\n"
     ]
    }
   ],
   "source": [
    "# Komórka 5a: Przygotowanie danych do analiz korelacyjnych\n",
    "\n",
    "def przeksztalc_dane_do_formatu_dlugiego(rynek_pierwotny_ofertowe, rynek_pierwotny_transakcyjne, \n",
    "                                         rynek_wtorny_ofertowe, rynek_wtorny_transakcyjne):\n",
    "    \"\"\"\n",
    "    Przekształca cztery dataframes w format długi dla łatwiejszej analizy\n",
    "    \"\"\"\n",
    "    print(\"🔄 Przekształcanie danych do formatu dogodnego dla analizy korelacji...\")\n",
    "    \n",
    "    # Interesujące nas miasta\n",
    "    miasta_do_analizy = ['Białystok', 'Bydgoszcz', 'Gdańsk', 'Gdynia', 'Katowice', 'Kielce', 'Kraków', 'Lublin',\n",
    "        'Łódź', 'Olsztyn', 'Opole', 'Poznań', 'Rzeszów', 'Szczecin', 'Warszawa', 'Wrocław', 'Zielona Góra']\n",
    "    \n",
    "    # Obliczenie średnich cen dla wszystkich miast\n",
    "    df_pierwotny_ofertowe = rynek_pierwotny_ofertowe.copy()\n",
    "    df_pierwotny_transakcyjne = rynek_pierwotny_transakcyjne.copy()\n",
    "    df_wtorny_ofertowe = rynek_wtorny_ofertowe.copy()\n",
    "    df_wtorny_transakcyjne = rynek_wtorny_transakcyjne.copy()\n",
    "    \n",
    "    # Dodanie średnich po miastach\n",
    "    for df in [df_pierwotny_ofertowe, df_pierwotny_transakcyjne, df_wtorny_ofertowe, df_wtorny_transakcyjne]:\n",
    "        miasta_cols = [col for col in df.columns if col in miasta_do_analizy]\n",
    "        df['średnia_miast'] = df[miasta_cols].mean(axis=1)\n",
    "    \n",
    "    # Obliczenie rocznych zmian cen (rok do roku)\n",
    "    for df in [df_pierwotny_ofertowe, df_pierwotny_transakcyjne, df_wtorny_ofertowe, df_wtorny_transakcyjne]:\n",
    "        for miasto in miasta_do_analizy + ['średnia_miast']:\n",
    "            if miasto in df.columns:\n",
    "                df[f'{miasto}_roczna_zmiana'] = df[miasto].pct_change(4) * 100  # 4 kwartały\n",
    "\n",
    "    print(\"✅ Dane zostały przekształcone pomyślnie\")\n",
    "    return df_pierwotny_ofertowe, df_pierwotny_transakcyjne, df_wtorny_ofertowe, df_wtorny_transakcyjne\n",
    "\n",
    "# Wywołanie funkcji\n",
    "df_pierwotny_ofertowe, df_pierwotny_transakcyjne, df_wtorny_ofertowe, df_wtorny_transakcyjne = \\\n",
    "    przeksztalc_dane_do_formatu_dlugiego(rynek_pierwotny_ofertowe, rynek_pierwotny_transakcyjne, \n",
    "                                          rynek_wtorny_ofertowe, rynek_wtorny_transakcyjne)\n"
   ]
  },
  {
   "cell_type": "code",
   "execution_count": 9,
   "id": "c0656d58",
   "metadata": {},
   "outputs": [
    {
     "name": "stdout",
     "output_type": "stream",
     "text": [
      "🔍 Analiza korelacji cen między wybranymi miastami...\n"
     ]
    },
    {
     "data": {
      "image/png": "[encoded data removed]",
      "text/plain": [
       "<Figure size 1000x800 with 2 Axes>"
      ]
     },
     "metadata": {},
     "output_type": "display_data"
    },
    {
     "data": {
      "image/png": "[encoded data removed]",
      "text/plain": [
       "<Figure size 1000x800 with 2 Axes>"
      ]
     },
     "metadata": {},
     "output_type": "display_data"
    },
    {
     "name": "stdout",
     "output_type": "stream",
     "text": [
      "\n",
      "📊 Szczegółowe wyniki korelacji dla rynku pierwotnego (ceny transakcyjne):\n",
      "Warszawa vs Poznań: r = 0.984, p-value = 0.0000\n",
      "   ✓ Korelacja jest statystycznie istotna (p < 0.05)\n",
      "Wrocław vs Poznań: r = 0.969, p-value = 0.0000\n",
      "   ✓ Korelacja jest statystycznie istotna (p < 0.05)\n",
      "Wrocław vs Warszawa: r = 0.981, p-value = 0.0000\n",
      "   ✓ Korelacja jest statystycznie istotna (p < 0.05)\n",
      "średnia_miast vs Poznań: r = 0.978, p-value = 0.0000\n",
      "   ✓ Korelacja jest statystycznie istotna (p < 0.05)\n",
      "średnia_miast vs Warszawa: r = 0.993, p-value = 0.0000\n",
      "   ✓ Korelacja jest statystycznie istotna (p < 0.05)\n",
      "średnia_miast vs Wrocław: r = 0.987, p-value = 0.0000\n",
      "   ✓ Korelacja jest statystycznie istotna (p < 0.05)\n",
      "\n",
      "📊 Szczegółowe wyniki korelacji dla rynku wtórnego (ceny transakcyjne):\n",
      "Warszawa vs Poznań: r = 0.988, p-value = 0.0000\n",
      "   ✓ Korelacja jest statystycznie istotna (p < 0.05)\n",
      "Wrocław vs Poznań: r = 0.985, p-value = 0.0000\n",
      "   ✓ Korelacja jest statystycznie istotna (p < 0.05)\n",
      "Wrocław vs Warszawa: r = 0.994, p-value = 0.0000\n",
      "   ✓ Korelacja jest statystycznie istotna (p < 0.05)\n",
      "średnia_miast vs Poznań: r = 0.995, p-value = 0.0000\n",
      "   ✓ Korelacja jest statystycznie istotna (p < 0.05)\n",
      "średnia_miast vs Warszawa: r = 0.991, p-value = 0.0000\n",
      "   ✓ Korelacja jest statystycznie istotna (p < 0.05)\n",
      "średnia_miast vs Wrocław: r = 0.992, p-value = 0.0000\n",
      "   ✓ Korelacja jest statystycznie istotna (p < 0.05)\n"
     ]
    }
   ],
   "source": [
    "# Komórka 5b: Analiza korelacji cen pomiędzy miastami\n",
    "\n",
    "import numpy as np\n",
    "import pandas as pd\n",
    "import matplotlib.pyplot as plt\n",
    "import seaborn as sns\n",
    "from scipy.stats import pearsonr, spearmanr\n",
    "\n",
    "def korelacja_cen_miedzy_miastami(df_pierwotny_trans, df_wtorny_trans):\n",
    "    \"\"\"\n",
    "    Analiza korelacji cen między wybranymi miastami (Poznań, Warszawa, Wrocław)\n",
    "    Wyświetla dolną połówkę macierzy korelacji bez diagonali\n",
    "    \"\"\"\n",
    "    print(\"🔍 Analiza korelacji cen między wybranymi miastami...\")\n",
    "    \n",
    "    # Wybór miast do analizy\n",
    "    miasta_do_korelacji = ['Poznań', 'Warszawa', 'Wrocław', 'średnia_miast']\n",
    "    \n",
    "    # Tworzenie dataframe z cenami wybranych miast\n",
    "    df_pierwotny_miasta = df_pierwotny_trans[miasta_do_korelacji].copy()\n",
    "    df_wtorny_miasta = df_wtorny_trans[miasta_do_korelacji].copy()\n",
    "    \n",
    "    # Obliczenie korelacji Pearsona\n",
    "    corr_pierwotny = df_pierwotny_miasta.corr(method='pearson')\n",
    "    corr_wtorny = df_wtorny_miasta.corr(method='pearson')\n",
    "    \n",
    "    # Tworzenie masek dla dolnej trójkątnej macierzy bez diagonali\n",
    "    mask_pierwotny = np.triu(np.ones_like(corr_pierwotny), k=1)\n",
    "    mask_wtorny = np.triu(np.ones_like(corr_wtorny), k=1)\n",
    "    \n",
    "    # Wizualizacja - rynek pierwotny\n",
    "    plt.figure(figsize=(10, 8))\n",
    "    sns.heatmap(corr_pierwotny, annot=True, fmt='.3f', cmap='coolwarm', \n",
    "                mask=mask_pierwotny, vmin=-1, vmax=1, cbar_kws={'label': 'Współczynnik korelacji Pearsona'})\n",
    "    plt.title('Macierz korelacji cen mieszkań - Rynek pierwotny (ceny transakcyjne)')\n",
    "    plt.tight_layout()\n",
    "    plt.show()\n",
    "    \n",
    "    # Wizualizacja - rynek wtórny\n",
    "    plt.figure(figsize=(10, 8))\n",
    "    sns.heatmap(corr_wtorny, annot=True, fmt='.3f', cmap='coolwarm', \n",
    "                mask=mask_wtorny, vmin=-1, vmax=1, cbar_kws={'label': 'Współczynnik korelacji Pearsona'})\n",
    "    plt.title('Macierz korelacji cen mieszkań - Rynek wtórny (ceny transakcyjne)')\n",
    "    plt.tight_layout()\n",
    "    plt.show()\n",
    "    \n",
    "    # Wypisanie szczegółowych wyników i testów statystycznych\n",
    "    print(\"\\n📊 Szczegółowe wyniki korelacji dla rynku pierwotnego (ceny transakcyjne):\")\n",
    "    for i, miasto1 in enumerate(miasta_do_korelacji):\n",
    "        for j, miasto2 in enumerate(miasta_do_korelacji):\n",
    "            if j < i:  # Tylko dolna część macierzy\n",
    "                corr, p_value = pearsonr(df_pierwotny_miasta[miasto1].dropna().to_list(), df_pierwotny_miasta[miasto2].dropna().to_list())\n",
    "                print(f\"{miasto1} vs {miasto2}: r = {corr:.3f}, p-value = {p_value:.4f}\")\n",
    "                if p_value < 0.05:\n",
    "                    print(\"   ✓ Korelacja jest statystycznie istotna (p < 0.05)\")\n",
    "                else:\n",
    "                    print(\"   ✗ Korelacja nie jest statystycznie istotna\")\n",
    "\n",
    "    print(\"\\n📊 Szczegółowe wyniki korelacji dla rynku wtórnego (ceny transakcyjne):\")\n",
    "    for i, miasto1 in enumerate(miasta_do_korelacji):\n",
    "        for j, miasto2 in enumerate(miasta_do_korelacji):\n",
    "            if j < i:  # Tylko dolna część macierzy\n",
    "                corr, p_value = pearsonr(df_wtorny_miasta[miasto1].dropna().to_list(), df_wtorny_miasta[miasto2].dropna().to_list())\n",
    "                print(f\"{miasto1} vs {miasto2}: r = {corr:.3f}, p-value = {p_value:.4f}\")\n",
    "                if p_value < 0.05:\n",
    "                    print(\"   ✓ Korelacja jest statystycznie istotna (p < 0.05)\")\n",
    "                else:\n",
    "                    print(\"   ✗ Korelacja nie jest statystycznie istotna\")\n",
    "\n",
    "    return corr_pierwotny, corr_wtorny\n",
    "\n",
    "# Wywołanie analizy\n",
    "corr_pierwotny, corr_wtorny = korelacja_cen_miedzy_miastami(df_pierwotny_transakcyjne, df_wtorny_transakcyjne)\n"
   ]
  },
  {
   "cell_type": "code",
   "execution_count": 10,
   "id": "9eddcf1b",
   "metadata": {},
   "outputs": [
    {
     "name": "stdout",
     "output_type": "stream",
     "text": [
      "🔍 Analiza korelacji zmian cen mieszkań ze wskaźnikami ekonomicznymi...\n",
      "\n",
      "📊 Wyniki korelacji zmian cen mieszkań z inflacją (CPI) i stopą WIBOR:\n",
      "           miasto      rynek      typ_ceny  corr_cpi     p_cpi  corr_wibor   p_wibor  istotny_cpi  istotny_wibor\n",
      "0          Poznań  pierwotny  transakcyjne  0.271416  0.022047    0.186157  0.120097         True          False\n",
      "1          Poznań  pierwotny      ofertowe  0.307030  0.009204    0.130512  0.277993         True          False\n",
      "2          Poznań     wtórny  transakcyjne  0.144268  0.230008    0.085232  0.479742        False          False\n",
      "3          Poznań     wtórny      ofertowe  0.136398  0.256701    0.013605  0.910339        False          False\n",
      "4        Warszawa  pierwotny  transakcyjne  0.183823  0.124899    0.034151  0.777381        False          False\n",
      "5        Warszawa  pierwotny      ofertowe  0.222529  0.062147    0.178916  0.135467        False          False\n",
      "6        Warszawa     wtórny  transakcyjne  0.166568  0.165035   -0.023562  0.845359        False          False\n",
      "7        Warszawa     wtórny      ofertowe  0.126067  0.294828    0.030771  0.798922        False          False\n",
      "8         Wrocław  pierwotny  transakcyjne  0.191859  0.108964    0.094741  0.431923        False          False\n",
      "9         Wrocław  pierwotny      ofertowe  0.318058  0.006872   -0.031046  0.797168         True          False\n",
      "10        Wrocław     wtórny  transakcyjne  0.259998  0.028546   -0.072861  0.545950         True          False\n",
      "11        Wrocław     wtórny      ofertowe  0.358895  0.002116    0.038925  0.747234         True          False\n",
      "12  średnia_miast  pierwotny  transakcyjne  0.279473  0.018259    0.091005  0.450384         True          False\n",
      "13  średnia_miast  pierwotny      ofertowe  0.347164  0.003015    0.078326  0.516164         True          False\n",
      "14  średnia_miast     wtórny  transakcyjne  0.171141  0.153576    0.008743  0.942313        False          False\n",
      "15  średnia_miast     wtórny      ofertowe  0.217644  0.068262   -0.005387  0.964436        False          False\n"
     ]
    },
    {
     "data": {
      "image/png": "[encoded data removed]",
      "text/plain": [
       "<Figure size 1400x800 with 1 Axes>"
      ]
     },
     "metadata": {},
     "output_type": "display_data"
    },
    {
     "data": {
      "image/png": "[encoded data removed]",
      "text/plain": [
       "<Figure size 1400x800 with 1 Axes>"
      ]
     },
     "metadata": {},
     "output_type": "display_data"
    }
   ],
   "source": [
    "# Komórka 5c: Analiza korelacji zmian cen mieszkań z inflacją i WIBOR\n",
    "\n",
    "def korelacja_z_wskaznikami_ekonomicznymi(df_pierwotny_of, df_pierwotny_tr, df_wtorny_of, df_wtorny_tr):\n",
    "    \"\"\"\n",
    "    Bada korelacje między rocznymi zmianami cen mieszkań a inflacją i stopami WIBOR\n",
    "    \"\"\"\n",
    "    print(\"🔍 Analiza korelacji zmian cen mieszkań ze wskaźnikami ekonomicznymi...\")\n",
    "    \n",
    "    # Wybór miast do analizy\n",
    "    miasta_do_korelacji = ['Poznań', 'Warszawa', 'Wrocław', 'średnia_miast']\n",
    "    \n",
    "    # Przygotowanie danych do analizy\n",
    "    data = []\n",
    "    \n",
    "    # Zbieranie danych o rocznych zmianach cen dla każdego miasta i rodzaju rynku\n",
    "    for miasto in miasta_do_korelacji:\n",
    "        zmiana_kolumny = f'{miasto}_roczna_zmiana'\n",
    "        \n",
    "        # Zbieranie danych tylko gdy kolumna istnieje\n",
    "        if zmiana_kolumny in df_pierwotny_tr.columns and zmiana_kolumny in df_wtorny_tr.columns:\n",
    "            # Łączenie danych o zmianach cen z danymi o inflacji i WIBOR\n",
    "            df_prim_tr = df_pierwotny_tr[[zmiana_kolumny, 'CPI_Y2Y', 'WIBOR']].copy().dropna()\n",
    "            df_prim_of = df_pierwotny_of[[zmiana_kolumny, 'CPI_Y2Y', 'WIBOR']].copy().dropna()\n",
    "            df_sec_tr = df_wtorny_tr[[zmiana_kolumny, 'CPI_Y2Y', 'WIBOR']].copy().dropna()\n",
    "            df_sec_of = df_wtorny_of[[zmiana_kolumny, 'CPI_Y2Y', 'WIBOR']].copy().dropna()\n",
    "            \n",
    "            # Obliczanie korelacji i p-value\n",
    "            for df, rynek, typ_ceny in [\n",
    "                (df_prim_tr, 'pierwotny', 'transakcyjne'),\n",
    "                (df_prim_of, 'pierwotny', 'ofertowe'),\n",
    "                (df_sec_tr, 'wtórny', 'transakcyjne'),\n",
    "                (df_sec_of, 'wtórny', 'ofertowe')\n",
    "            ]:\n",
    "                if not df.empty:\n",
    "                    # Korelacja z inflacją\n",
    "                    corr_cpi, p_cpi = pearsonr(df[zmiana_kolumny].to_list(), df['CPI_Y2Y'].to_list())\n",
    "                    # Korelacja z WIBOR\n",
    "                    corr_wibor, p_wibor = pearsonr(df[zmiana_kolumny].to_list(), df['WIBOR'].to_list())\n",
    "                    \n",
    "                    data.append({\n",
    "                        'miasto': miasto,\n",
    "                        'rynek': rynek,\n",
    "                        'typ_ceny': typ_ceny,\n",
    "                        'corr_cpi': corr_cpi,\n",
    "                        'p_cpi': p_cpi,\n",
    "                        'corr_wibor': corr_wibor,\n",
    "                        'p_wibor': p_wibor,\n",
    "                        'istotny_cpi': p_cpi < 0.05,\n",
    "                        'istotny_wibor': p_wibor < 0.05\n",
    "                    })\n",
    "    \n",
    "    # Tworzenie DataFrame z wynikami\n",
    "    results_df = pd.DataFrame(data)\n",
    "    \n",
    "    # Wyświetlenie wyników\n",
    "    print(\"\\n📊 Wyniki korelacji zmian cen mieszkań z inflacją (CPI) i stopą WIBOR:\")\n",
    "    pd.set_option('display.max_columns', None)\n",
    "    pd.set_option('display.width', 1000)\n",
    "    print(results_df[['miasto', 'rynek', 'typ_ceny', 'corr_cpi', 'p_cpi', 'corr_wibor', 'p_wibor', \n",
    "                      'istotny_cpi', 'istotny_wibor']])\n",
    "    \n",
    "    # Wizualizacja wyników dla miast i typów rynku\n",
    "    plt.figure(figsize=(14, 8))\n",
    "    \n",
    "    # Filtrowanie tylko transakcyjnych cen\n",
    "    df_trans = results_df[results_df['typ_ceny'] == 'transakcyjne']\n",
    "    \n",
    "    # Tworzenie barplotów dla korelacji z CPI i WIBOR\n",
    "    sns.barplot(x='miasto', y='corr_cpi', hue='rynek', data=df_trans, palette='Set1')\n",
    "    plt.title('Korelacja rocznych zmian cen mieszkań z inflacją CPI')\n",
    "    plt.xlabel('Miasto')\n",
    "    plt.ylabel('Współczynnik korelacji Pearsona')\n",
    "    plt.xticks(rotation=45)\n",
    "    plt.tight_layout()\n",
    "    plt.show()\n",
    "    \n",
    "    plt.figure(figsize=(14, 8))\n",
    "    sns.barplot(x='miasto', y='corr_wibor', hue='rynek', data=df_trans, palette='Set1')\n",
    "    plt.title('Korelacja rocznych zmian cen mieszkań z indeksem WIBOR')\n",
    "    plt.xlabel('Miasto')\n",
    "    plt.ylabel('Współczynnik korelacji Pearsona')\n",
    "    plt.xticks(rotation=45)\n",
    "    plt.tight_layout()\n",
    "    plt.show()\n",
    "    \n",
    "    return results_df\n",
    "\n",
    "# Wywołanie analizy\n",
    "wyniki_korelacji = korelacja_z_wskaznikami_ekonomicznymi(\n",
    "    df_pierwotny_ofertowe, df_pierwotny_transakcyjne, df_wtorny_ofertowe, df_wtorny_transakcyjne)\n"
   ]
  },
  {
   "cell_type": "code",
   "execution_count": 11,
   "id": "eda77653",
   "metadata": {},
   "outputs": [
    {
     "name": "stdout",
     "output_type": "stream",
     "text": [
      "🔍 Analiza korelacji zmian cen między rynkiem pierwotnym a wtórnym...\n",
      "\n",
      "📊 Korelacje zmian cen pomiędzy rynkiem pierwotnym a wtórnym:\n",
      "          miasto      typ_ceny  korelacja       p_value  istotna  liczba_obserwacji\n",
      "0         Poznań  transakcyjne   0.860054  7.559948e-22     True                 71\n",
      "1         Poznań      ofertowe   0.872580  3.699666e-23     True                 71\n",
      "2       Warszawa  transakcyjne   0.841855  3.731781e-20     True                 71\n",
      "3       Warszawa      ofertowe   0.711360  3.594620e-12     True                 71\n",
      "4        Wrocław  transakcyjne   0.807636  1.750380e-17     True                 71\n",
      "5        Wrocław      ofertowe   0.640204  1.837119e-09     True                 71\n",
      "6  średnia_miast  transakcyjne   0.962532  7.772995e-41     True                 71\n",
      "7  średnia_miast      ofertowe   0.960495  4.665865e-40     True                 71\n"
     ]
    },
    {
     "data": {
      "image/png": "[encoded data removed]",
      "text/plain": [
       "<Figure size 1200x600 with 1 Axes>"
      ]
     },
     "metadata": {},
     "output_type": "display_data"
    },
    {
     "data": {
      "image/png": "[encoded data removed]",
      "text/plain": [
       "<Figure size 1000x600 with 1 Axes>"
      ]
     },
     "metadata": {},
     "output_type": "display_data"
    }
   ],
   "source": [
    "# Komórka 5d: Korelacja zmian cen na rynku wtórnym i pierwotnym\n",
    "\n",
    "def korelacja_rynek_pierwotny_wtorny(df_pierwotny_of, df_pierwotny_tr, df_wtorny_of, df_wtorny_tr):\n",
    "    \"\"\"\n",
    "    Analiza korelacji zmian cen między rynkiem pierwotnym a wtórnym\n",
    "    \"\"\"\n",
    "    print(\"🔍 Analiza korelacji zmian cen między rynkiem pierwotnym a wtórnym...\")\n",
    "    \n",
    "    # Wybór miast do analizy\n",
    "    miasta_do_korelacji = ['Poznań', 'Warszawa', 'Wrocław', 'średnia_miast']\n",
    "    \n",
    "    # Przygotowanie danych\n",
    "    wyniki = []\n",
    "    \n",
    "    for miasto in miasta_do_korelacji:\n",
    "        zmiana_kolumna = f'{miasto}_roczna_zmiana'\n",
    "        \n",
    "        # Korelacja dla cen transakcyjnych\n",
    "        if zmiana_kolumna in df_pierwotny_tr.columns and zmiana_kolumna in df_wtorny_tr.columns:\n",
    "            # Łączenie danych z obu rynków\n",
    "            df_tr = pd.merge(\n",
    "                df_pierwotny_tr[['Data', zmiana_kolumna]].rename(columns={zmiana_kolumna: 'pierwotny'}),\n",
    "                df_wtorny_tr[['Data', zmiana_kolumna]].rename(columns={zmiana_kolumna: 'wtórny'}),\n",
    "                on='Data', how='inner'\n",
    "            ).dropna()\n",
    "            \n",
    "            if len(df_tr) > 5:  # Minimum obserwacji dla wiarygodnej korelacji\n",
    "                corr_tr, p_tr = pearsonr(df_tr['pierwotny'].to_list(), df_tr['wtórny'].to_list())\n",
    "                \n",
    "                wyniki.append({\n",
    "                    'miasto': miasto,\n",
    "                    'typ_ceny': 'transakcyjne',\n",
    "                    'korelacja': corr_tr,\n",
    "                    'p_value': p_tr,\n",
    "                    'istotna': p_tr < 0.05,\n",
    "                    'liczba_obserwacji': len(df_tr)\n",
    "                })\n",
    "        \n",
    "        # Korelacja dla cen ofertowych\n",
    "        if zmiana_kolumna in df_pierwotny_of.columns and zmiana_kolumna in df_wtorny_of.columns:\n",
    "            # Łączenie danych z obu rynków\n",
    "            df_of = pd.merge(\n",
    "                df_pierwotny_of[['Data', zmiana_kolumna]].rename(columns={zmiana_kolumna: 'pierwotny'}),\n",
    "                df_wtorny_of[['Data', zmiana_kolumna]].rename(columns={zmiana_kolumna: 'wtórny'}),\n",
    "                on='Data', how='inner'\n",
    "            ).dropna()\n",
    "            \n",
    "            if len(df_of) > 5:  # Minimum obserwacji dla wiarygodnej korelacji\n",
    "                corr_of, p_of = pearsonr(df_of['pierwotny'].to_list(), df_of['wtórny'].to_list())\n",
    "                \n",
    "                wyniki.append({\n",
    "                    'miasto': miasto,\n",
    "                    'typ_ceny': 'ofertowe',\n",
    "                    'korelacja': corr_of,\n",
    "                    'p_value': p_of,\n",
    "                    'istotna': p_of < 0.05,\n",
    "                    'liczba_obserwacji': len(df_of)\n",
    "                })\n",
    "    \n",
    "    # Tworzenie DataFrame z wynikami\n",
    "    results_df = pd.DataFrame(wyniki)\n",
    "    \n",
    "    # Wyświetlenie wyników\n",
    "    print(\"\\n📊 Korelacje zmian cen pomiędzy rynkiem pierwotnym a wtórnym:\")\n",
    "    print(results_df)\n",
    "    \n",
    "    # Wizualizacja wyników\n",
    "    plt.figure(figsize=(12, 6))\n",
    "    sns.barplot(x='miasto', y='korelacja', hue='typ_ceny', data=results_df, palette='Set1')\n",
    "    plt.title('Korelacja zmian cen między rynkiem pierwotnym a wtórnym')\n",
    "    plt.xlabel('Miasto')\n",
    "    plt.ylabel('Współczynnik korelacji Pearsona')\n",
    "    plt.xticks(rotation=45)\n",
    "    plt.axhline(y=0, color='black', linestyle='-', alpha=0.3)\n",
    "    plt.tight_layout()\n",
    "    plt.show()\n",
    "    \n",
    "    # Scatter ploty dla wybranych miast\n",
    "    for miasto in ['Warszawa']:\n",
    "        zmiana_kolumna = f'{miasto}_roczna_zmiana'\n",
    "        \n",
    "        # Dla cen transakcyjnych\n",
    "        if zmiana_kolumna in df_pierwotny_tr.columns and zmiana_kolumna in df_wtorny_tr.columns:\n",
    "            df_tr = pd.merge(\n",
    "                df_pierwotny_tr[['Data', zmiana_kolumna]].rename(columns={zmiana_kolumna: 'pierwotny'}),\n",
    "                df_wtorny_tr[['Data', zmiana_kolumna]].rename(columns={zmiana_kolumna: 'wtórny'}),\n",
    "                on='Data', how='inner'\n",
    "            ).dropna()\n",
    "            \n",
    "            if not df_tr.empty:\n",
    "                plt.figure(figsize=(10, 6))\n",
    "                sns.regplot(x='pierwotny', y='wtórny', data=df_tr, scatter_kws={'alpha':0.7}, line_kws={'color':'red'})\n",
    "                plt.title(f'Korelacja zmian cen: rynek pierwotny vs wtórny - {miasto} (ceny transakcyjne)')\n",
    "                plt.xlabel('Zmiana cen r/r (%) - rynek pierwotny')\n",
    "                plt.ylabel('Zmiana cen r/r (%) - rynek wtórny')\n",
    "                plt.grid(True, alpha=0.3)\n",
    "                plt.tight_layout()\n",
    "                plt.show()\n",
    "    \n",
    "    return results_df\n",
    "\n",
    "# Wywołanie analizy\n",
    "wyniki_korelacji_rynkow = korelacja_rynek_pierwotny_wtorny(\n",
    "    df_pierwotny_ofertowe, df_pierwotny_transakcyjne, df_wtorny_ofertowe, df_wtorny_transakcyjne)\n"
   ]
  },
  {
   "cell_type": "code",
   "execution_count": 12,
   "id": "66b0fb75",
   "metadata": {},
   "outputs": [
    {
     "name": "stdout",
     "output_type": "stream",
     "text": [
      "🧪 Przeprowadzanie testów statystycznych...\n",
      "\n",
      "📋 Wyniki testów statystycznych:\n",
      "          miasto  test_t_stat  test_t_p_value  test_t_istotny  trend_pierwotny_slope  trend_pierwotny_p  trend_pierwotny_istotny  trend_wtorny_slope  trend_wtorny_p  trend_wtorny_istotny\n",
      "0         Poznań     3.266157        0.001356            True              64.769840       3.940770e-15                     True           63.432874    2.705981e-17                  True\n",
      "1       Warszawa    -0.588665        0.556984           False              97.928180       5.496659e-17                     True           90.071166    3.626652e-14                  True\n",
      "2        Wrocław     1.035193        0.302309           False              99.044899       1.829185e-21                     True           75.751781    3.948230e-15                  True\n",
      "3  średnia_miast     2.323643        0.021525            True              76.017800       2.337861e-20                     True           65.720704    1.557204e-18                  True\n"
     ]
    },
    {
     "data": {
      "image/png": "[encoded data removed]",
      "text/plain": [
       "<Figure size 1200x600 with 1 Axes>"
      ]
     },
     "metadata": {},
     "output_type": "display_data"
    },
    {
     "data": {
      "image/png": "[encoded data removed]",
      "text/plain": [
       "<Figure size 1200x600 with 1 Axes>"
      ]
     },
     "metadata": {},
     "output_type": "display_data"
    },
    {
     "data": {
      "image/png": "[encoded data removed]",
      "text/plain": [
       "<Figure size 1200x600 with 1 Axes>"
      ]
     },
     "metadata": {},
     "output_type": "display_data"
    }
   ],
   "source": [
    "# Komórka 5e: Standardowe testy statystyczne\n",
    "\n",
    "def przeprowadz_testy_statystyczne(df_pierwotny_tr, df_wtorny_tr):\n",
    "    \"\"\"\n",
    "    Przeprowadzenie standardowych testów statystycznych dla danych cenowych\n",
    "    \"\"\"\n",
    "    print(\"🧪 Przeprowadzanie testów statystycznych...\")\n",
    "    \n",
    "    # Wybór miast do analizy\n",
    "    miasta_do_testow = ['Poznań', 'Warszawa', 'Wrocław', 'średnia_miast']\n",
    "    \n",
    "    wyniki_testow = []\n",
    "    \n",
    "    for miasto in miasta_do_testow:\n",
    "        # Test t dla średnich\n",
    "        from scipy.stats import ttest_ind\n",
    "        \n",
    "        # Pobieranie danych cenowych\n",
    "        if miasto in df_pierwotny_tr.columns and miasto in df_wtorny_tr.columns:\n",
    "            ceny_pierwotny = df_pierwotny_tr[miasto].dropna()\n",
    "            ceny_wtorny = df_wtorny_tr[miasto].dropna()\n",
    "            \n",
    "            # Test t - porównanie średnich cen między rynkiem pierwotnym i wtórnym\n",
    "            t_stat, p_value = ttest_ind(ceny_pierwotny.to_list(), ceny_wtorny.to_list(), equal_var=False)\n",
    "            \n",
    "            # Test trendu - regresja liniowa względem czasu\n",
    "            from scipy.stats import linregress\n",
    "            \n",
    "            # Dane dla rynku pierwotnego\n",
    "            x_prim = np.arange(len(ceny_pierwotny))\n",
    "\n",
    "            #print(f\"{miasto}: liczba obserwacji pierwotny = {ceny_pierwotny}, wtórny = {x_prim}\")\n",
    "\n",
    "            slope_prim, intercept_prim, r_prim, p_prim, std_err_prim = linregress(x_prim, ceny_pierwotny.to_list())\n",
    "            \n",
    "            # Dane dla rynku wtórnego\n",
    "            x_sec = np.arange(len(ceny_wtorny))\n",
    "            slope_sec, intercept_sec, r_sec, p_sec, std_err_sec = linregress(x_sec, ceny_wtorny.to_list())\n",
    "            \n",
    "            # Zapisanie wyników\n",
    "            wyniki_testow.append({\n",
    "                'miasto': miasto,\n",
    "                'test_t_stat': t_stat,\n",
    "                'test_t_p_value': p_value,\n",
    "                'test_t_istotny': p_value < 0.05,\n",
    "                'trend_pierwotny_slope': slope_prim,\n",
    "                'trend_pierwotny_p': p_prim,\n",
    "                'trend_pierwotny_istotny': p_prim < 0.05,\n",
    "                'trend_wtorny_slope': slope_sec,\n",
    "                'trend_wtorny_p': p_sec,\n",
    "                'trend_wtorny_istotny': p_sec < 0.05\n",
    "            })\n",
    "    \n",
    "    # Tworzenie DataFrame z wynikami\n",
    "    wyniki_df = pd.DataFrame(wyniki_testow)\n",
    "    \n",
    "    print(\"\\n📋 Wyniki testów statystycznych:\")\n",
    "    pd.set_option('display.max_columns', None)\n",
    "    pd.set_option('display.width', 1000)\n",
    "    print(wyniki_df)\n",
    "    \n",
    "    # Wizualizacja trendów dla wybranych miast\n",
    "    for miasto in ['Warszawa', 'Poznań', 'Wrocław']:\n",
    "        if miasto in df_pierwotny_tr.columns and miasto in df_wtorny_tr.columns:\n",
    "            plt.figure(figsize=(12, 6))\n",
    "            \n",
    "            # Dane dla rynku pierwotnego\n",
    "            ceny_pierwotny = df_pierwotny_tr[miasto].dropna()\n",
    "            x_prim = range(len(ceny_pierwotny))\n",
    "            \n",
    "            # Dane dla rynku wtórnego\n",
    "            ceny_wtorny = df_wtorny_tr[miasto].dropna()\n",
    "            x_sec = range(len(ceny_wtorny))\n",
    "            \n",
    "            # Wizualizacja cen i trendów\n",
    "            plt.plot(df_pierwotny_tr['Data'].iloc[:len(ceny_pierwotny)], ceny_pierwotny, 'b-', label='Rynek pierwotny')\n",
    "            plt.plot(df_wtorny_tr['Data'].iloc[:len(ceny_wtorny)], ceny_wtorny, 'r-', label='Rynek wtórny')\n",
    "            \n",
    "            ceny_pierwotny = pd.to_numeric(df_pierwotny_tr[miasto], errors='coerce').dropna().astype(float)\n",
    "            ceny_wtorny = pd.to_numeric(df_wtorny_tr[miasto], errors='coerce').dropna().astype(float)\n",
    "\n",
    "            # Linie trendu\n",
    "            coef_prim = np.polyfit(x_prim, ceny_pierwotny, 1)\n",
    "            coef_sec = np.polyfit(x_sec, ceny_wtorny, 1)\n",
    "            \n",
    "            poly1d_prim = np.poly1d(coef_prim)\n",
    "            poly1d_sec = np.poly1d(coef_sec)\n",
    "            \n",
    "            plt.plot(df_pierwotny_tr['Data'].iloc[:len(ceny_pierwotny)], poly1d_prim(x_prim), 'b--', alpha=0.7)\n",
    "            plt.plot(df_wtorny_tr['Data'].iloc[:len(ceny_wtorny)], poly1d_sec(x_sec), 'r--', alpha=0.7)\n",
    "            \n",
    "            plt.title(f'Ceny mieszkań i trendy liniowe - {miasto}')\n",
    "            plt.xlabel('Data')\n",
    "            plt.ylabel('Cena (PLN/m²)')\n",
    "            plt.legend()\n",
    "            plt.grid(True, alpha=0.3)\n",
    "            plt.xticks(rotation=45)\n",
    "            plt.tight_layout()\n",
    "            plt.show()\n",
    "    \n",
    "    return wyniki_df\n",
    "\n",
    "# Wywołanie testów statystycznych\n",
    "wyniki_testow = przeprowadz_testy_statystyczne(df_pierwotny_transakcyjne, df_wtorny_transakcyjne)\n"
   ]
  },
  {
   "cell_type": "code",
   "execution_count": 13,
   "id": "25c48bb2",
   "metadata": {},
   "outputs": [
    {
     "name": "stdout",
     "output_type": "stream",
     "text": [
      "🚀 Rozpoczynam kompleksową analizę inflacji vs ceny mieszkań...\n",
      "📊 Tworzenie interaktywnej analizy inflacji vs ceny mieszkań...\n",
      "🔍 Analiza statystyczna wyprzedzania...\n",
      "\n",
      "📊 Wyniki analizy wyprzedzania:\n",
      "==================================================\n",
      "Test: Czy inflacja wyprzedza ceny mieszkań?\n",
      "  Lag 1: p-value = 0.5124 (nieistotne)\n",
      "  Lag 2: p-value = 0.0703 (nieistotne)\n",
      "  Lag 3: p-value = 0.1994 (nieistotne)\n",
      "  Lag 4: p-value = 0.0671 (nieistotne)\n",
      "\n",
      "📈 Analiza korelacji cross-lag:\n",
      "  Lag -7: r =  0.302, p = 0.0152 (ceny wyprzedzają inflację)\n",
      "  Lag -6: r =  0.332, p = 0.0070 (ceny wyprzedzają inflację)\n",
      "  Lag -5: r =  0.389, p = 0.0012 (ceny wyprzedzają inflację)\n",
      "  Lag -4: r =  0.443, p = 0.0002 (ceny wyprzedzają inflację)\n",
      "  Lag -3: r =  0.454, p = 0.0001 (ceny wyprzedzają inflację)\n",
      "  Lag -2: r =  0.424, p = 0.0003 (ceny wyprzedzają inflację)\n",
      "  Lag -1: r =  0.369, p = 0.0017 (ceny wyprzedzają inflację)\n",
      "  Lag  2: r =  0.332, p = 0.0054 (inflacja wyprzedza ceny)\n",
      "  Lag  3: r =  0.357, p = 0.0028 (inflacja wyprzedza ceny)\n",
      "  Lag  4: r =  0.405, p = 0.0007 (inflacja wyprzedza ceny)\n",
      "  Lag  5: r =  0.459, p = 0.0001 (inflacja wyprzedza ceny)\n",
      "  Lag  6: r =  0.478, p = 0.0001 (inflacja wyprzedza ceny)\n",
      "  Lag  7: r =  0.469, p = 0.0001 (inflacja wyprzedza ceny)\n",
      "  Lag  8: r =  0.422, p = 0.0006 (inflacja wyprzedza ceny)\n",
      "\n",
      "🎯 Najsilniejsza korelacja:\n",
      "  Lag: 0 kwartałów, r = -1.000\n",
      "  ➤ Zmiany zachodzą równocześnie\n"
     ]
    },
    {
     "data": {
      "application/vnd.plotly.v1+json": {
       "config": {
        "plotlyServerURL": "https://plot.ly"
       },
       "data": [
        {
         "hovertemplate": "Data: %{x}<br>Inflacja: %{y:.1f}%<extra></extra>",
         "line": {
          "color": "red",
          "width": 2
         },
         "marker": {
          "size": 4
         },
         "mode": "lines+markers",
         "name": "Inflacja CPI Y/Y (%)",
         "type": "scatter",
         "x": [
          "2006-07-01T00:00:00.000000000",
          "2006-10-01T00:00:00.000000000",
          "2007-01-01T00:00:00.000000000",
          "2007-04-01T00:00:00.000000000",
          "2007-07-01T00:00:00.000000000",
          "2007-10-01T00:00:00.000000000",
          "2008-01-01T00:00:00.000000000",
          "2008-04-01T00:00:00.000000000",
          "2008-07-01T00:00:00.000000000",
          "2008-10-01T00:00:00.000000000",
          "2009-01-01T00:00:00.000000000",
          "2009-04-01T00:00:00.000000000",
          "2009-07-01T00:00:00.000000000",
          "2009-10-01T00:00:00.000000000",
          "2010-01-01T00:00:00.000000000",
          "2010-04-01T00:00:00.000000000",
          "2010-07-01T00:00:00.000000000",
          "2010-10-01T00:00:00.000000000",
          "2011-01-01T00:00:00.000000000",
          "2011-04-01T00:00:00.000000000",
          "2011-07-01T00:00:00.000000000",
          "2011-10-01T00:00:00.000000000",
          "2012-01-01T00:00:00.000000000",
          "2012-04-01T00:00:00.000000000",
          "2012-07-01T00:00:00.000000000",
          "2012-10-01T00:00:00.000000000",
          "2013-01-01T00:00:00.000000000",
          "2013-04-01T00:00:00.000000000",
          "2013-07-01T00:00:00.000000000",
          "2013-10-01T00:00:00.000000000",
          "2014-01-01T00:00:00.000000000",
          "2014-04-01T00:00:00.000000000",
          "2014-07-01T00:00:00.000000000",
          "2014-10-01T00:00:00.000000000",
          "2015-01-01T00:00:00.000000000",
          "2015-04-01T00:00:00.000000000",
          "2015-07-01T00:00:00.000000000",
          "2015-10-01T00:00:00.000000000",
          "2016-01-01T00:00:00.000000000",
          "2016-04-01T00:00:00.000000000",
          "2016-07-01T00:00:00.000000000",
          "2016-10-01T00:00:00.000000000",
          "2017-01-01T00:00:00.000000000",
          "2017-04-01T00:00:00.000000000",
          "2017-07-01T00:00:00.000000000",
          "2017-10-01T00:00:00.000000000",
          "2018-01-01T00:00:00.000000000",
          "2018-04-01T00:00:00.000000000",
          "2018-07-01T00:00:00.000000000",
          "2018-10-01T00:00:00.000000000",
          "2019-01-01T00:00:00.000000000",
          "2019-04-01T00:00:00.000000000",
          "2019-07-01T00:00:00.000000000",
          "2019-10-01T00:00:00.000000000",
          "2020-01-01T00:00:00.000000000",
          "2020-04-01T00:00:00.000000000",
          "2020-07-01T00:00:00.000000000",
          "2020-10-01T00:00:00.000000000",
          "2021-01-01T00:00:00.000000000",
          "2021-04-01T00:00:00.000000000",
          "2021-07-01T00:00:00.000000000",
          "2021-10-01T00:00:00.000000000",
          "2022-01-01T00:00:00.000000000",
          "2022-04-01T00:00:00.000000000",
          "2022-07-01T00:00:00.000000000",
          "2022-10-01T00:00:00.000000000",
          "2023-01-01T00:00:00.000000000",
          "2023-04-01T00:00:00.000000000",
          "2023-07-01T00:00:00.000000000",
          "2023-10-01T00:00:00.000000000",
          "2024-01-01T00:00:00.000000000",
          "2024-04-01T00:00:00.000000000",
          "2024-07-01T00:00:00.000000000",
          "2024-10-01T00:00:00.000000000",
          "2025-01-01T00:00:00.000000000"
         ],
         "xaxis": "x",
         "y": [
          1.4000000000000057,
          1.2999999999999972,
          2,
          2.4000000000000057,
          2,
          3.5,
          4.099999999999994,
          4.299999999999997,
          4.700000000000003,
          3.799999999999997,
          3.299999999999997,
          3.700000000000003,
          3.5,
          3.299999999999997,
          3,
          2.299999999999997,
          2.200000000000003,
          2.9000000000000057,
          3.799999999999997,
          4.599999999999994,
          4.099999999999994,
          4.599999999999994,
          4.099999999999994,
          4,
          3.9000000000000057,
          2.9000000000000057,
          1.2999999999999972,
          0.5,
          1.0999999999999943,
          0.7000000000000028,
          0.5999999999999943,
          0.29999999999999716,
          -0.29999999999999716,
          -0.7000000000000028,
          -1.5,
          -0.9000000000000057,
          -0.7000000000000028,
          -0.5999999999999943,
          -0.9000000000000057,
          -0.9000000000000057,
          -0.7999999999999972,
          0.20000000000000284,
          2,
          1.7999999999999972,
          1.9000000000000057,
          2.200000000000003,
          1.5,
          1.7000000000000028,
          2,
          1.4000000000000057,
          1.2000000000000028,
          2.4000000000000057,
          2.799999999999997,
          2.799999999999997,
          4.5,
          3.200000000000003,
          3,
          2.799999999999997,
          2.700000000000003,
          4.5,
          5.400000000000006,
          7.700000000000003,
          9.700000000000003,
          13.900000000000006,
          16.299999999999997,
          17.299999999999997,
          17,
          13.099999999999994,
          9.700000000000003,
          6.400000000000006,
          2.799999999999997,
          2.5,
          4.5,
          4.799999999999997,
          4.900000000000006
         ],
         "yaxis": "y"
        },
        {
         "hovertemplate": "Data: %{x}<br>Cena: %{y:,.0f} PLN/m²<extra></extra>",
         "line": {
          "color": "blue",
          "width": 2
         },
         "marker": {
          "size": 4
         },
         "mode": "lines+markers",
         "name": "Średnie Ceny Mieszkań (PLN/m²)",
         "type": "scatter",
         "x": [
          "2006-07-01T00:00:00.000000000",
          "2006-10-01T00:00:00.000000000",
          "2007-01-01T00:00:00.000000000",
          "2007-04-01T00:00:00.000000000",
          "2007-07-01T00:00:00.000000000",
          "2007-10-01T00:00:00.000000000",
          "2008-01-01T00:00:00.000000000",
          "2008-04-01T00:00:00.000000000",
          "2008-07-01T00:00:00.000000000",
          "2008-10-01T00:00:00.000000000",
          "2009-01-01T00:00:00.000000000",
          "2009-04-01T00:00:00.000000000",
          "2009-07-01T00:00:00.000000000",
          "2009-10-01T00:00:00.000000000",
          "2010-01-01T00:00:00.000000000",
          "2010-04-01T00:00:00.000000000",
          "2010-07-01T00:00:00.000000000",
          "2010-10-01T00:00:00.000000000",
          "2011-01-01T00:00:00.000000000",
          "2011-04-01T00:00:00.000000000",
          "2011-07-01T00:00:00.000000000",
          "2011-10-01T00:00:00.000000000",
          "2012-01-01T00:00:00.000000000",
          "2012-04-01T00:00:00.000000000",
          "2012-07-01T00:00:00.000000000",
          "2012-10-01T00:00:00.000000000",
          "2013-01-01T00:00:00.000000000",
          "2013-04-01T00:00:00.000000000",
          "2013-07-01T00:00:00.000000000",
          "2013-10-01T00:00:00.000000000",
          "2014-01-01T00:00:00.000000000",
          "2014-04-01T00:00:00.000000000",
          "2014-07-01T00:00:00.000000000",
          "2014-10-01T00:00:00.000000000",
          "2015-01-01T00:00:00.000000000",
          "2015-04-01T00:00:00.000000000",
          "2015-07-01T00:00:00.000000000",
          "2015-10-01T00:00:00.000000000",
          "2016-01-01T00:00:00.000000000",
          "2016-04-01T00:00:00.000000000",
          "2016-07-01T00:00:00.000000000",
          "2016-10-01T00:00:00.000000000",
          "2017-01-01T00:00:00.000000000",
          "2017-04-01T00:00:00.000000000",
          "2017-07-01T00:00:00.000000000",
          "2017-10-01T00:00:00.000000000",
          "2018-01-01T00:00:00.000000000",
          "2018-04-01T00:00:00.000000000",
          "2018-07-01T00:00:00.000000000",
          "2018-10-01T00:00:00.000000000",
          "2019-01-01T00:00:00.000000000",
          "2019-04-01T00:00:00.000000000",
          "2019-07-01T00:00:00.000000000",
          "2019-10-01T00:00:00.000000000",
          "2020-01-01T00:00:00.000000000",
          "2020-04-01T00:00:00.000000000",
          "2020-07-01T00:00:00.000000000",
          "2020-10-01T00:00:00.000000000",
          "2021-01-01T00:00:00.000000000",
          "2021-04-01T00:00:00.000000000",
          "2021-07-01T00:00:00.000000000",
          "2021-10-01T00:00:00.000000000",
          "2022-01-01T00:00:00.000000000",
          "2022-04-01T00:00:00.000000000",
          "2022-07-01T00:00:00.000000000",
          "2022-10-01T00:00:00.000000000",
          "2023-01-01T00:00:00.000000000",
          "2023-04-01T00:00:00.000000000",
          "2023-07-01T00:00:00.000000000",
          "2023-10-01T00:00:00.000000000",
          "2024-01-01T00:00:00.000000000",
          "2024-04-01T00:00:00.000000000",
          "2024-07-01T00:00:00.000000000",
          "2024-10-01T00:00:00.000000000",
          "2025-01-01T00:00:00.000000000"
         ],
         "xaxis": "x",
         "y": [
          4813.211310289389,
          5444.414533426184,
          7000.395260955546,
          6977.6825,
          6800.155906646404,
          7261.517954545455,
          7350.127083333334,
          7264.360219298245,
          7221.092661290322,
          6986.994335443038,
          6624.708729166667,
          6502.232943262412,
          6425.550200987968,
          6565.545029380595,
          6805.655387589791,
          6865.865824293635,
          6673.013404819398,
          6638.9623650149815,
          6772.905495169082,
          6773.351061925195,
          6658.471948614865,
          6468.901231496732,
          6285.333028233434,
          6336.865747761933,
          6241.657789533973,
          5953.691578923897,
          6123.261730917524,
          6229.340712508112,
          6146.617961933294,
          6192.701121510756,
          6277.94698882432,
          6366.021437132991,
          6339.697681444081,
          6263.758831492315,
          6387.771789643407,
          6420.754478387024,
          6535.190410943525,
          6540.649369178406,
          6529.340611861153,
          6610.360998194662,
          6587.878771305292,
          6650.968590895267,
          6583.541227027514,
          6710.130916122781,
          6860.449728349782,
          6819.331054303455,
          6924.589385555925,
          7086.762340993528,
          7270.321972938031,
          7421.330154673284,
          7571.113658978752,
          7798.200486453012,
          7934.663588880317,
          8186.019257868411,
          8475.777338146941,
          8380.749749670083,
          8666.800865773872,
          8713.53820474124,
          8978.990049640202,
          9144.923093326215,
          9412.407891437388,
          10009.911558868393,
          10435.729674233222,
          10830.213570423139,
          11145.796288105614,
          11282.092368652804,
          11345.439959208996,
          11579.18755639548,
          12160.665366065346,
          12991.586745655979,
          13789.401834237058,
          14357.816369616337,
          14733.0150499802,
          14735.545088172661,
          14663.428055564193
         ],
         "yaxis": "y2"
        },
        {
         "hovertemplate": "Lag: %{x} kwartałów<br>Korelacja: %{y:.3f}<extra></extra>",
         "marker": {
          "color": [
           "blue",
           "blue",
           "blue",
           "blue",
           "blue",
           "blue",
           "blue",
           "blue",
           "blue",
           "blue",
           "blue",
           "blue",
           "green",
           "red",
           "red",
           "red",
           "red",
           "red",
           "red",
           "red",
           "red",
           "red",
           "red",
           "red",
           "red"
          ]
         },
         "name": "Korelacja Cross-Lag",
         "type": "bar",
         "x": [
          -12,
          -11,
          -10,
          -9,
          -8,
          -7,
          -6,
          -5,
          -4,
          -3,
          -2,
          -1,
          0,
          1,
          2,
          3,
          4,
          5,
          6,
          7,
          8,
          9,
          10,
          11,
          12
         ],
         "xaxis": "x2",
         "y": [
          0.5266503349986126,
          0.5251908665360497,
          0.5234638357013283,
          0.5177680832618153,
          0.5137396771077871,
          0.5234840462669788,
          0.540052201251494,
          0.5563482555125994,
          0.5707897775814945,
          0.5743741090089045,
          0.5703117199568973,
          0.5695107137094062,
          0.5689418925224041,
          0.585337013852823,
          0.6117022381340221,
          0.6489850707671599,
          0.7108409631351619,
          0.770246325672882,
          0.792244667560678,
          0.7813556797233165,
          0.7422566797821704,
          0.6827704042432368,
          0.606507264739064,
          0.5096451443128241,
          0.38448942910789125
         ],
         "yaxis": "y3"
        },
        {
         "hovertemplate": "Data: %{x}<br>Inflacja: %{y:.1f}%<extra></extra>",
         "line": {
          "color": "red",
          "width": 2
         },
         "mode": "lines+markers",
         "name": "Inflacja CPI Y/Y (%)",
         "type": "scatter",
         "x": [
          "2006-07-01T00:00:00.000000000",
          "2006-10-01T00:00:00.000000000",
          "2007-01-01T00:00:00.000000000",
          "2007-04-01T00:00:00.000000000",
          "2007-07-01T00:00:00.000000000",
          "2007-10-01T00:00:00.000000000",
          "2008-01-01T00:00:00.000000000",
          "2008-04-01T00:00:00.000000000",
          "2008-07-01T00:00:00.000000000",
          "2008-10-01T00:00:00.000000000",
          "2009-01-01T00:00:00.000000000",
          "2009-04-01T00:00:00.000000000",
          "2009-07-01T00:00:00.000000000",
          "2009-10-01T00:00:00.000000000",
          "2010-01-01T00:00:00.000000000",
          "2010-04-01T00:00:00.000000000",
          "2010-07-01T00:00:00.000000000",
          "2010-10-01T00:00:00.000000000",
          "2011-01-01T00:00:00.000000000",
          "2011-04-01T00:00:00.000000000",
          "2011-07-01T00:00:00.000000000",
          "2011-10-01T00:00:00.000000000",
          "2012-01-01T00:00:00.000000000",
          "2012-04-01T00:00:00.000000000",
          "2012-07-01T00:00:00.000000000",
          "2012-10-01T00:00:00.000000000",
          "2013-01-01T00:00:00.000000000",
          "2013-04-01T00:00:00.000000000",
          "2013-07-01T00:00:00.000000000",
          "2013-10-01T00:00:00.000000000",
          "2014-01-01T00:00:00.000000000",
          "2014-04-01T00:00:00.000000000",
          "2014-07-01T00:00:00.000000000",
          "2014-10-01T00:00:00.000000000",
          "2015-01-01T00:00:00.000000000",
          "2015-04-01T00:00:00.000000000",
          "2015-07-01T00:00:00.000000000",
          "2015-10-01T00:00:00.000000000",
          "2016-01-01T00:00:00.000000000",
          "2016-04-01T00:00:00.000000000",
          "2016-07-01T00:00:00.000000000",
          "2016-10-01T00:00:00.000000000",
          "2017-01-01T00:00:00.000000000",
          "2017-04-01T00:00:00.000000000",
          "2017-07-01T00:00:00.000000000",
          "2017-10-01T00:00:00.000000000",
          "2018-01-01T00:00:00.000000000",
          "2018-04-01T00:00:00.000000000",
          "2018-07-01T00:00:00.000000000",
          "2018-10-01T00:00:00.000000000",
          "2019-01-01T00:00:00.000000000",
          "2019-04-01T00:00:00.000000000",
          "2019-07-01T00:00:00.000000000",
          "2019-10-01T00:00:00.000000000",
          "2020-01-01T00:00:00.000000000",
          "2020-04-01T00:00:00.000000000",
          "2020-07-01T00:00:00.000000000",
          "2020-10-01T00:00:00.000000000",
          "2021-01-01T00:00:00.000000000",
          "2021-04-01T00:00:00.000000000",
          "2021-07-01T00:00:00.000000000",
          "2021-10-01T00:00:00.000000000",
          "2022-01-01T00:00:00.000000000",
          "2022-04-01T00:00:00.000000000",
          "2022-07-01T00:00:00.000000000",
          "2022-10-01T00:00:00.000000000",
          "2023-01-01T00:00:00.000000000",
          "2023-04-01T00:00:00.000000000",
          "2023-07-01T00:00:00.000000000",
          "2023-10-01T00:00:00.000000000",
          "2024-01-01T00:00:00.000000000",
          "2024-04-01T00:00:00.000000000",
          "2024-07-01T00:00:00.000000000",
          "2024-10-01T00:00:00.000000000",
          "2025-01-01T00:00:00.000000000"
         ],
         "xaxis": "x3",
         "y": [
          1.4000000000000057,
          1.2999999999999972,
          2,
          2.4000000000000057,
          2,
          3.5,
          4.099999999999994,
          4.299999999999997,
          4.700000000000003,
          3.799999999999997,
          3.299999999999997,
          3.700000000000003,
          3.5,
          3.299999999999997,
          3,
          2.299999999999997,
          2.200000000000003,
          2.9000000000000057,
          3.799999999999997,
          4.599999999999994,
          4.099999999999994,
          4.599999999999994,
          4.099999999999994,
          4,
          3.9000000000000057,
          2.9000000000000057,
          1.2999999999999972,
          0.5,
          1.0999999999999943,
          0.7000000000000028,
          0.5999999999999943,
          0.29999999999999716,
          -0.29999999999999716,
          -0.7000000000000028,
          -1.5,
          -0.9000000000000057,
          -0.7000000000000028,
          -0.5999999999999943,
          -0.9000000000000057,
          -0.9000000000000057,
          -0.7999999999999972,
          0.20000000000000284,
          2,
          1.7999999999999972,
          1.9000000000000057,
          2.200000000000003,
          1.5,
          1.7000000000000028,
          2,
          1.4000000000000057,
          1.2000000000000028,
          2.4000000000000057,
          2.799999999999997,
          2.799999999999997,
          4.5,
          3.200000000000003,
          3,
          2.799999999999997,
          2.700000000000003,
          4.5,
          5.400000000000006,
          7.700000000000003,
          9.700000000000003,
          13.900000000000006,
          16.299999999999997,
          17.299999999999997,
          17,
          13.099999999999994,
          9.700000000000003,
          6.400000000000006,
          2.799999999999997,
          2.5,
          4.5,
          4.799999999999997,
          4.900000000000006
         ],
         "yaxis": "y4"
        },
        {
         "hovertemplate": "Data: %{x}<br>Wzrost cen: %{y:.1f}%<extra></extra>",
         "line": {
          "color": "blue",
          "width": 2
         },
         "mode": "lines+markers",
         "name": "Wzrost Cen Y/Y (%)",
         "type": "scatter",
         "x": [
          "2006-07-01T00:00:00.000000000",
          "2006-10-01T00:00:00.000000000",
          "2007-01-01T00:00:00.000000000",
          "2007-04-01T00:00:00.000000000",
          "2007-07-01T00:00:00.000000000",
          "2007-10-01T00:00:00.000000000",
          "2008-01-01T00:00:00.000000000",
          "2008-04-01T00:00:00.000000000",
          "2008-07-01T00:00:00.000000000",
          "2008-10-01T00:00:00.000000000",
          "2009-01-01T00:00:00.000000000",
          "2009-04-01T00:00:00.000000000",
          "2009-07-01T00:00:00.000000000",
          "2009-10-01T00:00:00.000000000",
          "2010-01-01T00:00:00.000000000",
          "2010-04-01T00:00:00.000000000",
          "2010-07-01T00:00:00.000000000",
          "2010-10-01T00:00:00.000000000",
          "2011-01-01T00:00:00.000000000",
          "2011-04-01T00:00:00.000000000",
          "2011-07-01T00:00:00.000000000",
          "2011-10-01T00:00:00.000000000",
          "2012-01-01T00:00:00.000000000",
          "2012-04-01T00:00:00.000000000",
          "2012-07-01T00:00:00.000000000",
          "2012-10-01T00:00:00.000000000",
          "2013-01-01T00:00:00.000000000",
          "2013-04-01T00:00:00.000000000",
          "2013-07-01T00:00:00.000000000",
          "2013-10-01T00:00:00.000000000",
          "2014-01-01T00:00:00.000000000",
          "2014-04-01T00:00:00.000000000",
          "2014-07-01T00:00:00.000000000",
          "2014-10-01T00:00:00.000000000",
          "2015-01-01T00:00:00.000000000",
          "2015-04-01T00:00:00.000000000",
          "2015-07-01T00:00:00.000000000",
          "2015-10-01T00:00:00.000000000",
          "2016-01-01T00:00:00.000000000",
          "2016-04-01T00:00:00.000000000",
          "2016-07-01T00:00:00.000000000",
          "2016-10-01T00:00:00.000000000",
          "2017-01-01T00:00:00.000000000",
          "2017-04-01T00:00:00.000000000",
          "2017-07-01T00:00:00.000000000",
          "2017-10-01T00:00:00.000000000",
          "2018-01-01T00:00:00.000000000",
          "2018-04-01T00:00:00.000000000",
          "2018-07-01T00:00:00.000000000",
          "2018-10-01T00:00:00.000000000",
          "2019-01-01T00:00:00.000000000",
          "2019-04-01T00:00:00.000000000",
          "2019-07-01T00:00:00.000000000",
          "2019-10-01T00:00:00.000000000",
          "2020-01-01T00:00:00.000000000",
          "2020-04-01T00:00:00.000000000",
          "2020-07-01T00:00:00.000000000",
          "2020-10-01T00:00:00.000000000",
          "2021-01-01T00:00:00.000000000",
          "2021-04-01T00:00:00.000000000",
          "2021-07-01T00:00:00.000000000",
          "2021-10-01T00:00:00.000000000",
          "2022-01-01T00:00:00.000000000",
          "2022-04-01T00:00:00.000000000",
          "2022-07-01T00:00:00.000000000",
          "2022-10-01T00:00:00.000000000",
          "2023-01-01T00:00:00.000000000",
          "2023-04-01T00:00:00.000000000",
          "2023-07-01T00:00:00.000000000",
          "2023-10-01T00:00:00.000000000",
          "2024-01-01T00:00:00.000000000",
          "2024-04-01T00:00:00.000000000",
          "2024-07-01T00:00:00.000000000",
          "2024-10-01T00:00:00.000000000",
          "2025-01-01T00:00:00.000000000"
         ],
         "xaxis": "x3",
         "y": {
          "bdata": "AAAAAAAA+H8AAAAAAAD4fwAAAAAAAPh/AAAAAAAA+H8JmwC9+aNEQD4WMhkSsEBAC+9sv8n7E0DlPIg/GW8QQDuJ7L6qwhhASM08vYQ+DsCUN37BKr0jwFbYSUuO+yTAkFwgkqoIJsBzKBlgrSAYwGRUGzbj2QVAkYZQMaZeFkCMZn6lVc8OQChjUDg85PE/mDyBkD3M3r+yonm1MY/1v8DdGl2e5Mu/pch0MBR+BMA4Da/So8scwKTh2tnQxhnAVw8NFyUKGcA8mGWhjdsfwMBVp9nloATAdlrG6Skm+7+qb5nU2lz4v2nO4eXSDhBAVA9JYaM1BEBe8tOHm40BQAI5Pds/IQlAkLPjGO1b8j/AcBsRcP37P1BkFAo5g+s/tHrPdUWrCEBSeNcQnK4RQNSIVeLfugFA8oof28ufB0CIC2oPmczpP/hl43+a/Po/IM1Q0j+Q6j8Qy2qfEyb4P5Xwfr7CjBBAlpvaak1ABEBT+VRvpLgUQLVBQSWWcxZAw+ac+87lF0DapCWe2achQHNqAaFcrCJA7HDyPvQTJEDWg70lg0YiQNb6/3ydmyRAGL/IR9TlJ0Dwm0NOl+EdQJxOWwlDdCJA0XtC783GGUBK+H/mjr8XQAeeyW2EPCJA0LrMqb80IUAS3fPPYMEtQLWtToJPOTBAlXTrTr9tMkAsHauHfmoyQNYM8r0daylANMamcz1vIUAzxXlokqkbQLh3r6/2NSJA0nPy0fdNLkAQQ4h1loo1QPcP6RMr/zdAgb8UPS0nNUDceor69dgqQM87ojODWhlA",
          "dtype": "f8"
         },
         "yaxis": "y5"
        },
        {
         "line": {
          "color": "purple",
          "dash": "dot"
         },
         "mode": "lines",
         "name": "Rolling correlation (8 kwartałów)",
         "type": "scatter",
         "x": [
          "2009-07-01T00:00:00",
          "2009-10-01T00:00:00",
          "2010-01-01T00:00:00",
          "2010-04-01T00:00:00",
          "2010-07-01T00:00:00",
          "2010-10-01T00:00:00",
          "2011-01-01T00:00:00",
          "2011-04-01T00:00:00",
          "2011-07-01T00:00:00",
          "2011-10-01T00:00:00",
          "2012-01-01T00:00:00",
          "2012-04-01T00:00:00",
          "2012-07-01T00:00:00",
          "2012-10-01T00:00:00",
          "2013-01-01T00:00:00",
          "2013-04-01T00:00:00",
          "2013-07-01T00:00:00",
          "2013-10-01T00:00:00",
          "2014-01-01T00:00:00",
          "2014-04-01T00:00:00",
          "2014-07-01T00:00:00",
          "2014-10-01T00:00:00",
          "2015-01-01T00:00:00",
          "2015-04-01T00:00:00",
          "2015-07-01T00:00:00",
          "2015-10-01T00:00:00",
          "2016-01-01T00:00:00",
          "2016-04-01T00:00:00",
          "2016-07-01T00:00:00",
          "2016-10-01T00:00:00",
          "2017-01-01T00:00:00",
          "2017-04-01T00:00:00",
          "2017-07-01T00:00:00",
          "2017-10-01T00:00:00",
          "2018-01-01T00:00:00",
          "2018-04-01T00:00:00",
          "2018-07-01T00:00:00",
          "2018-10-01T00:00:00",
          "2019-01-01T00:00:00",
          "2019-04-01T00:00:00",
          "2019-07-01T00:00:00",
          "2019-10-01T00:00:00",
          "2020-01-01T00:00:00",
          "2020-04-01T00:00:00",
          "2020-07-01T00:00:00",
          "2020-10-01T00:00:00",
          "2021-01-01T00:00:00",
          "2021-04-01T00:00:00",
          "2021-07-01T00:00:00",
          "2021-10-01T00:00:00",
          "2022-01-01T00:00:00",
          "2022-04-01T00:00:00",
          "2022-07-01T00:00:00",
          "2022-10-01T00:00:00",
          "2023-01-01T00:00:00",
          "2023-04-01T00:00:00",
          "2023-07-01T00:00:00",
          "2023-10-01T00:00:00",
          "2024-01-01T00:00:00",
          "2024-04-01T00:00:00",
          "2024-07-01T00:00:00",
          "2024-10-01T00:00:00",
          "2025-01-01T00:00:00"
         ],
         "y": [
          -0.5590361680850227,
          0.15551679549593986,
          0.8762348566310733,
          0.540971880214889,
          -0.058233787618551504,
          -0.8198616192576517,
          -0.9030702315516957,
          -0.7599774559585933,
          -0.5228995558846987,
          -0.6172331148471062,
          -0.9432688332027617,
          -0.7904945775726233,
          -0.6462999050741773,
          -0.2954176890838404,
          0.5300874145598263,
          0.10758249942165049,
          -0.2876303103098491,
          -0.6317635484625667,
          -0.8400567335645032,
          -0.8386779959213828,
          -0.8441115741628461,
          -0.8762443591414052,
          -0.4944097747315288,
          -0.23420938630071705,
          -0.05640747370005931,
          0.6021755818933207,
          0.23845083116812535,
          0.2772314301365871,
          0.4547287904299786,
          0.3139999861380771,
          0.09527682275380103,
          -0.3672730296559821,
          -0.5289650251902954,
          -0.12469593272188398,
          0.12339672675252751,
          0.22688697889037795,
          0.3900708875611972,
          0.1952376220038667,
          -0.6607890676900221,
          -0.7632977367155401,
          -0.25374757000446174,
          0.04504271181136278,
          0.446546212530331,
          0.6360948215357646,
          0.47588028315974273,
          0.4574037106013708,
          0.3170458900992976,
          0.5090059527672892,
          0.5728429016592047,
          0.43845692095285105,
          0.856760270431433,
          0.9482238074324097,
          0.9498254551823817,
          0.9452949802336156,
          0.7634832839476299,
          0.35124881330308866,
          0.11776120902587928,
          -0.034906939137731186,
          -0.06388620357841707,
          -0.3922047303325805,
          -0.639952288775058,
          -0.8312238159634061,
          -0.8638576477388605
         ]
        },
        {
         "hovertemplate": "Data: %{x}<br>Inflacja: %{y:.1f}%<br>Anomalia: %{marker.color}<extra></extra>",
         "marker": {
          "color": [
           "orange",
           "orange",
           "orange",
           "orange",
           "orange",
           "orange",
           "red"
          ],
          "size": 8,
          "symbol": "circle"
         },
         "mode": "markers",
         "name": "Inflacja COVID",
         "type": "scatter",
         "x": [
          "2020-04-01T00:00:00.000000000",
          "2020-07-01T00:00:00.000000000",
          "2020-10-01T00:00:00.000000000",
          "2021-01-01T00:00:00.000000000",
          "2021-04-01T00:00:00.000000000",
          "2021-07-01T00:00:00.000000000",
          "2021-10-01T00:00:00.000000000"
         ],
         "xaxis": "x5",
         "y": [
          3.200000000000003,
          3,
          2.799999999999997,
          2.700000000000003,
          4.5,
          5.400000000000006,
          7.700000000000003
         ],
         "yaxis": "y7"
        },
        {
         "hovertemplate": "Data: %{x}<br>Wzrost cen: %{y:.1f}%<br>Anomalia: %{marker.color}<extra></extra>",
         "marker": {
          "color": [
           "darkblue",
           "darkblue",
           "darkblue",
           "darkblue",
           "darkblue",
           "darkblue",
           "darkblue"
          ],
          "size": 8,
          "symbol": "diamond"
         },
         "mode": "markers",
         "name": "Wzrost Cen COVID",
         "type": "scatter",
         "x": [
          "2020-04-01T00:00:00.000000000",
          "2020-07-01T00:00:00.000000000",
          "2020-10-01T00:00:00.000000000",
          "2021-01-01T00:00:00.000000000",
          "2021-04-01T00:00:00.000000000",
          "2021-07-01T00:00:00.000000000",
          "2021-10-01T00:00:00.000000000"
         ],
         "xaxis": "x5",
         "y": {
          "bdata": "8JtDTpfhHUCcTlsJQ3QiQNF7Qu/NxhlASvh/5o6/F0AHnslthDwiQNC6zKm/NCFAEt3zz2DBLUA=",
          "dtype": "f8"
         },
         "yaxis": "y8"
        },
        {
         "hovertemplate": "Data: %{x}<br>Volatility Inflacji: %{y:.2f}<extra></extra>",
         "line": {
          "color": "red",
          "dash": "dash",
          "width": 2
         },
         "mode": "lines",
         "name": "Volatility Inflacji",
         "type": "scatter",
         "x": [
          "2006-07-01T00:00:00.000000000",
          "2006-10-01T00:00:00.000000000",
          "2007-01-01T00:00:00.000000000",
          "2007-04-01T00:00:00.000000000",
          "2007-07-01T00:00:00.000000000",
          "2007-10-01T00:00:00.000000000",
          "2008-01-01T00:00:00.000000000",
          "2008-04-01T00:00:00.000000000",
          "2008-07-01T00:00:00.000000000",
          "2008-10-01T00:00:00.000000000",
          "2009-01-01T00:00:00.000000000",
          "2009-04-01T00:00:00.000000000",
          "2009-07-01T00:00:00.000000000",
          "2009-10-01T00:00:00.000000000",
          "2010-01-01T00:00:00.000000000",
          "2010-04-01T00:00:00.000000000",
          "2010-07-01T00:00:00.000000000",
          "2010-10-01T00:00:00.000000000",
          "2011-01-01T00:00:00.000000000",
          "2011-04-01T00:00:00.000000000",
          "2011-07-01T00:00:00.000000000",
          "2011-10-01T00:00:00.000000000",
          "2012-01-01T00:00:00.000000000",
          "2012-04-01T00:00:00.000000000",
          "2012-07-01T00:00:00.000000000",
          "2012-10-01T00:00:00.000000000",
          "2013-01-01T00:00:00.000000000",
          "2013-04-01T00:00:00.000000000",
          "2013-07-01T00:00:00.000000000",
          "2013-10-01T00:00:00.000000000",
          "2014-01-01T00:00:00.000000000",
          "2014-04-01T00:00:00.000000000",
          "2014-07-01T00:00:00.000000000",
          "2014-10-01T00:00:00.000000000",
          "2015-01-01T00:00:00.000000000",
          "2015-04-01T00:00:00.000000000",
          "2015-07-01T00:00:00.000000000",
          "2015-10-01T00:00:00.000000000",
          "2016-01-01T00:00:00.000000000",
          "2016-04-01T00:00:00.000000000",
          "2016-07-01T00:00:00.000000000",
          "2016-10-01T00:00:00.000000000",
          "2017-01-01T00:00:00.000000000",
          "2017-04-01T00:00:00.000000000",
          "2017-07-01T00:00:00.000000000",
          "2017-10-01T00:00:00.000000000",
          "2018-01-01T00:00:00.000000000",
          "2018-04-01T00:00:00.000000000",
          "2018-07-01T00:00:00.000000000",
          "2018-10-01T00:00:00.000000000",
          "2019-01-01T00:00:00.000000000",
          "2019-04-01T00:00:00.000000000",
          "2019-07-01T00:00:00.000000000",
          "2019-10-01T00:00:00.000000000",
          "2020-01-01T00:00:00.000000000",
          "2020-04-01T00:00:00.000000000",
          "2020-07-01T00:00:00.000000000",
          "2020-10-01T00:00:00.000000000",
          "2021-01-01T00:00:00.000000000",
          "2021-04-01T00:00:00.000000000",
          "2021-07-01T00:00:00.000000000",
          "2021-10-01T00:00:00.000000000",
          "2022-01-01T00:00:00.000000000",
          "2022-04-01T00:00:00.000000000",
          "2022-07-01T00:00:00.000000000",
          "2022-10-01T00:00:00.000000000",
          "2023-01-01T00:00:00.000000000",
          "2023-04-01T00:00:00.000000000",
          "2023-07-01T00:00:00.000000000",
          "2023-10-01T00:00:00.000000000",
          "2024-01-01T00:00:00.000000000",
          "2024-04-01T00:00:00.000000000",
          "2024-07-01T00:00:00.000000000",
          "2024-10-01T00:00:00.000000000",
          "2025-01-01T00:00:00.000000000"
         ],
         "xaxis": "x6",
         "y": {
          "bdata": "AAAAAAAA+H8AAAAAAAD4fwAAAAAAAPh/n1rAMB2a4D9Uvb8hLkXdP0ERyA0Vr+Y/Uh46TXAG7z/RewuonKXwPwsAAAAAAOA/gQzfCdMo2D+xrhlpYnHjP5Bi6fWt6OI/UbZ+2NRhzD8Ym5wjmILIP0Eb7zpkHNM/TmGv0mzO4D9IhheiGSLhP1osDHC9INo/L46ksd2D5z8xbJfwxr/wP0VpVxdC2uY/kbZxKbRD2T8tM5BFp3nSPyiifuTOVNE/aYvrG/7l0z9aU39Y+srhP8se9TnpCvQ/ZAe3AfOP+D9LoSWqJmXwP3CwoEaXXtc/hPyOWOvU0D9nJr3zVSXVP7TMzMzMzNw/16fJvT664j9GDN8J0yjoPwoAAAAAAOA/nga03eE62D+WxAL/mczZPwE0MzMzM8M/ATQzMzMzwz/rY/9RGBrCP2+GF6IZIuE/PYn68FWF9T9wO346+GL1PwVi6XBAU+s/4YGHjTPcxT89M5BFp3nSPzwb7zpkHNM/rovrG/7l0z88+tuHzO7QP0xmZmZmZtY/ozhDQs2f4T9H6hpR2LfoP58GtN3hOug/75rO/Y/y7T8X+wTRXcjpP1kHtwHzj+g/WQe3AfOP6D9Mtn7Y1GHMP29eVq+z9uo/9PjSqX8q9T/sEsBo66EAQMYTRtFAvgJAKNdFnsXaDEANMZXyjkUPQKUOMuz2DgtAIiU8n3ep+D9CD1Ccu97+P1g37tWCzQxADRb27woxEkAB8W2P3KkRQMzmewUwMAtADf+D1mnB/D+cCjjnkK7yP/ELnN+LEvI/",
          "dtype": "f8"
         },
         "yaxis": "y9"
        },
        {
         "hovertemplate": "Data: %{x}<br>Volatility Cen: %{y:.2f}<extra></extra>",
         "line": {
          "color": "blue",
          "dash": "dash",
          "width": 2
         },
         "mode": "lines",
         "name": "Volatility Cen",
         "type": "scatter",
         "x": [
          "2006-07-01T00:00:00.000000000",
          "2006-10-01T00:00:00.000000000",
          "2007-01-01T00:00:00.000000000",
          "2007-04-01T00:00:00.000000000",
          "2007-07-01T00:00:00.000000000",
          "2007-10-01T00:00:00.000000000",
          "2008-01-01T00:00:00.000000000",
          "2008-04-01T00:00:00.000000000",
          "2008-07-01T00:00:00.000000000",
          "2008-10-01T00:00:00.000000000",
          "2009-01-01T00:00:00.000000000",
          "2009-04-01T00:00:00.000000000",
          "2009-07-01T00:00:00.000000000",
          "2009-10-01T00:00:00.000000000",
          "2010-01-01T00:00:00.000000000",
          "2010-04-01T00:00:00.000000000",
          "2010-07-01T00:00:00.000000000",
          "2010-10-01T00:00:00.000000000",
          "2011-01-01T00:00:00.000000000",
          "2011-04-01T00:00:00.000000000",
          "2011-07-01T00:00:00.000000000",
          "2011-10-01T00:00:00.000000000",
          "2012-01-01T00:00:00.000000000",
          "2012-04-01T00:00:00.000000000",
          "2012-07-01T00:00:00.000000000",
          "2012-10-01T00:00:00.000000000",
          "2013-01-01T00:00:00.000000000",
          "2013-04-01T00:00:00.000000000",
          "2013-07-01T00:00:00.000000000",
          "2013-10-01T00:00:00.000000000",
          "2014-01-01T00:00:00.000000000",
          "2014-04-01T00:00:00.000000000",
          "2014-07-01T00:00:00.000000000",
          "2014-10-01T00:00:00.000000000",
          "2015-01-01T00:00:00.000000000",
          "2015-04-01T00:00:00.000000000",
          "2015-07-01T00:00:00.000000000",
          "2015-10-01T00:00:00.000000000",
          "2016-01-01T00:00:00.000000000",
          "2016-04-01T00:00:00.000000000",
          "2016-07-01T00:00:00.000000000",
          "2016-10-01T00:00:00.000000000",
          "2017-01-01T00:00:00.000000000",
          "2017-04-01T00:00:00.000000000",
          "2017-07-01T00:00:00.000000000",
          "2017-10-01T00:00:00.000000000",
          "2018-01-01T00:00:00.000000000",
          "2018-04-01T00:00:00.000000000",
          "2018-07-01T00:00:00.000000000",
          "2018-10-01T00:00:00.000000000",
          "2019-01-01T00:00:00.000000000",
          "2019-04-01T00:00:00.000000000",
          "2019-07-01T00:00:00.000000000",
          "2019-10-01T00:00:00.000000000",
          "2020-01-01T00:00:00.000000000",
          "2020-04-01T00:00:00.000000000",
          "2020-07-01T00:00:00.000000000",
          "2020-10-01T00:00:00.000000000",
          "2021-01-01T00:00:00.000000000",
          "2021-04-01T00:00:00.000000000",
          "2021-07-01T00:00:00.000000000",
          "2021-10-01T00:00:00.000000000",
          "2022-01-01T00:00:00.000000000",
          "2022-04-01T00:00:00.000000000",
          "2022-07-01T00:00:00.000000000",
          "2022-10-01T00:00:00.000000000",
          "2023-01-01T00:00:00.000000000",
          "2023-04-01T00:00:00.000000000",
          "2023-07-01T00:00:00.000000000",
          "2023-10-01T00:00:00.000000000",
          "2024-01-01T00:00:00.000000000",
          "2024-04-01T00:00:00.000000000",
          "2024-07-01T00:00:00.000000000",
          "2024-10-01T00:00:00.000000000",
          "2025-01-01T00:00:00.000000000"
         ],
         "xaxis": "x6",
         "y": {
          "bdata": "AAAAAAAA+H8AAAAAAAD4fwAAAAAAAPh/AAAAAAAA+H8AAAAAAAD4fwAAAAAAAPh/AAAAAAAA+H+7HublMDMzQMMUZbYrVCxA5xLTzgUVEkCQPSIxK5UdQLN8AmxX8R5AMbrXxR76CkBO/1jPNhoCQHye/J5ychlA/1I8S7rDHkCwl7KS+rgUQBax8QX6If4/kbc2STHBBUA52ky+qEcCQLRGECyTV/A/lVYnecDm8D/xL2aL0YQIQKjU+/BzWApAOeIJcaqcAEBNemKYCPDoP8qMtglYSwJAjIGv7cvQB0Cfzt8CmmgIQIChKnAFEwhAWu7Bf7UQB0DIPhdHZNUCQDqiVcctmOk/9/I+3XS06j+BKfSMduDqP2sRlUH8O/A/lIB/+8ec7z8v+KCveez4P3UR7ABj8Pc/WOPRjfJf7T+2sXWtbxj4P4ZLRsu36uw/ZbXhGtYm8D9sT9LvBzHdP15+wJFcIfc/Qen9YmoD9z87kYJBcSz6P6pJNGAQ7vU/QxyMZP4B+T947zLZrGz6P6TcT4Orpv4/IQFCfLWK/D8rA9cEYXDgPxReCLyZy+E/wW1csM/C8j/8yKPCzTr+P2q17gWZF/4/DqNOwhRGA0CcekCVUD33P6cZr/Ebwfs/evKdIcIc+T9bSUzFtxsOQDzv8SnRQQ9AFMgW/frcEEBgxUFrKvL7P5KQVyHlkwVAYvNelZj1EkC/B1SkYGIUQEU69uhjagNAUXsP2+WoDEDH0oy3pEsaQDKRjgbAyBpA3jnuWvgMDkBQDaKysFESQH4amFks2x9A",
          "dtype": "f8"
         },
         "yaxis": "y9"
        },
        {
         "hovertemplate": "Data: %{x}<br>Pierwotny: %{y:.1f}%<extra></extra>",
         "line": {
          "color": "blue",
          "width": 2
         },
         "mode": "lines",
         "name": "Rynek Pierwotny",
         "type": "scatter",
         "x": [
          "2006-07-01T00:00:00.000000000",
          "2006-10-01T00:00:00.000000000",
          "2007-01-01T00:00:00.000000000",
          "2007-04-01T00:00:00.000000000",
          "2007-07-01T00:00:00.000000000",
          "2007-10-01T00:00:00.000000000",
          "2008-01-01T00:00:00.000000000",
          "2008-04-01T00:00:00.000000000",
          "2008-07-01T00:00:00.000000000",
          "2008-10-01T00:00:00.000000000",
          "2009-01-01T00:00:00.000000000",
          "2009-04-01T00:00:00.000000000",
          "2009-07-01T00:00:00.000000000",
          "2009-10-01T00:00:00.000000000",
          "2010-01-01T00:00:00.000000000",
          "2010-04-01T00:00:00.000000000",
          "2010-07-01T00:00:00.000000000",
          "2010-10-01T00:00:00.000000000",
          "2011-01-01T00:00:00.000000000",
          "2011-04-01T00:00:00.000000000",
          "2011-07-01T00:00:00.000000000",
          "2011-10-01T00:00:00.000000000",
          "2012-01-01T00:00:00.000000000",
          "2012-04-01T00:00:00.000000000",
          "2012-07-01T00:00:00.000000000",
          "2012-10-01T00:00:00.000000000",
          "2013-01-01T00:00:00.000000000",
          "2013-04-01T00:00:00.000000000",
          "2013-07-01T00:00:00.000000000",
          "2013-10-01T00:00:00.000000000",
          "2014-01-01T00:00:00.000000000",
          "2014-04-01T00:00:00.000000000",
          "2014-07-01T00:00:00.000000000",
          "2014-10-01T00:00:00.000000000",
          "2015-01-01T00:00:00.000000000",
          "2015-04-01T00:00:00.000000000",
          "2015-07-01T00:00:00.000000000",
          "2015-10-01T00:00:00.000000000",
          "2016-01-01T00:00:00.000000000",
          "2016-04-01T00:00:00.000000000",
          "2016-07-01T00:00:00.000000000",
          "2016-10-01T00:00:00.000000000",
          "2017-01-01T00:00:00.000000000",
          "2017-04-01T00:00:00.000000000",
          "2017-07-01T00:00:00.000000000",
          "2017-10-01T00:00:00.000000000",
          "2018-01-01T00:00:00.000000000",
          "2018-04-01T00:00:00.000000000",
          "2018-07-01T00:00:00.000000000",
          "2018-10-01T00:00:00.000000000",
          "2019-01-01T00:00:00.000000000",
          "2019-04-01T00:00:00.000000000",
          "2019-07-01T00:00:00.000000000",
          "2019-10-01T00:00:00.000000000",
          "2020-01-01T00:00:00.000000000",
          "2020-04-01T00:00:00.000000000",
          "2020-07-01T00:00:00.000000000",
          "2020-10-01T00:00:00.000000000",
          "2021-01-01T00:00:00.000000000",
          "2021-04-01T00:00:00.000000000",
          "2021-07-01T00:00:00.000000000",
          "2021-10-01T00:00:00.000000000",
          "2022-01-01T00:00:00.000000000",
          "2022-04-01T00:00:00.000000000",
          "2022-07-01T00:00:00.000000000",
          "2022-10-01T00:00:00.000000000",
          "2023-01-01T00:00:00.000000000",
          "2023-04-01T00:00:00.000000000",
          "2023-07-01T00:00:00.000000000",
          "2023-10-01T00:00:00.000000000",
          "2024-01-01T00:00:00.000000000",
          "2024-04-01T00:00:00.000000000",
          "2024-07-01T00:00:00.000000000",
          "2024-10-01T00:00:00.000000000",
          "2025-01-01T00:00:00.000000000"
         ],
         "xaxis": "x7",
         "y": {
          "bdata": "AAAAAAAA+H8AAAAAAAD4fwAAAAAAAPh/AAAAAAAA+H8JmwC9+aNEQD4WMhkSsEBAC+9sv8n7E0DlPIg/GW8QQDuJ7L6qwhhASM08vYQ+DsCUN37BKr0jwFbYSUuO+yTAkFwgkqoIJsBzKBlgrSAYwGRUGzbj2QVAkYZQMaZeFkCMZn6lVc8OQChjUDg85PE/mDyBkD3M3r+yonm1MY/1v8DdGl2e5Mu/pch0MBR+BMA4Da/So8scwKTh2tnQxhnAVw8NFyUKGcA8mGWhjdsfwMBVp9nloATAdlrG6Skm+7+qb5nU2lz4v2nO4eXSDhBAVA9JYaM1BEBe8tOHm40BQAI5Pds/IQlAkLPjGO1b8j/AcBsRcP37P1BkFAo5g+s/tHrPdUWrCEBSeNcQnK4RQNSIVeLfugFA8oof28ufB0CIC2oPmczpP/hl43+a/Po/IM1Q0j+Q6j8Qy2qfEyb4P5Xwfr7CjBBAlpvaak1ABEBT+VRvpLgUQLVBQSWWcxZAw+ac+87lF0DapCWe2achQHNqAaFcrCJA7HDyPvQTJEDWg70lg0YiQNb6/3ydmyRAGL/IR9TlJ0Dwm0NOl+EdQJxOWwlDdCJA0XtC783GGUBK+H/mjr8XQAeeyW2EPCJA0LrMqb80IUAS3fPPYMEtQLWtToJPOTBAlXTrTr9tMkAsHauHfmoyQNYM8r0daylANMamcz1vIUAzxXlokqkbQLh3r6/2NSJA0nPy0fdNLkAQQ4h1loo1QPcP6RMr/zdAgb8UPS0nNUDceor69dgqQM87ojODWhlA",
          "dtype": "f8"
         },
         "yaxis": "y10"
        },
        {
         "hovertemplate": "Data: %{x}<br>Wtórny: %{y:.1f}%<extra></extra>",
         "line": {
          "color": "green",
          "width": 2
         },
         "mode": "lines",
         "name": "Rynek Wtórny",
         "type": "scatter",
         "x": [
          "2006-07-01T00:00:00.000000000",
          "2006-10-01T00:00:00.000000000",
          "2007-01-01T00:00:00.000000000",
          "2007-04-01T00:00:00.000000000",
          "2007-07-01T00:00:00.000000000",
          "2007-10-01T00:00:00.000000000",
          "2008-01-01T00:00:00.000000000",
          "2008-04-01T00:00:00.000000000",
          "2008-07-01T00:00:00.000000000",
          "2008-10-01T00:00:00.000000000",
          "2009-01-01T00:00:00.000000000",
          "2009-04-01T00:00:00.000000000",
          "2009-07-01T00:00:00.000000000",
          "2009-10-01T00:00:00.000000000",
          "2010-01-01T00:00:00.000000000",
          "2010-04-01T00:00:00.000000000",
          "2010-07-01T00:00:00.000000000",
          "2010-10-01T00:00:00.000000000",
          "2011-01-01T00:00:00.000000000",
          "2011-04-01T00:00:00.000000000",
          "2011-07-01T00:00:00.000000000",
          "2011-10-01T00:00:00.000000000",
          "2012-01-01T00:00:00.000000000",
          "2012-04-01T00:00:00.000000000",
          "2012-07-01T00:00:00.000000000",
          "2012-10-01T00:00:00.000000000",
          "2013-01-01T00:00:00.000000000",
          "2013-04-01T00:00:00.000000000",
          "2013-07-01T00:00:00.000000000",
          "2013-10-01T00:00:00.000000000",
          "2014-01-01T00:00:00.000000000",
          "2014-04-01T00:00:00.000000000",
          "2014-07-01T00:00:00.000000000",
          "2014-10-01T00:00:00.000000000",
          "2015-01-01T00:00:00.000000000",
          "2015-04-01T00:00:00.000000000",
          "2015-07-01T00:00:00.000000000",
          "2015-10-01T00:00:00.000000000",
          "2016-01-01T00:00:00.000000000",
          "2016-04-01T00:00:00.000000000",
          "2016-07-01T00:00:00.000000000",
          "2016-10-01T00:00:00.000000000",
          "2017-01-01T00:00:00.000000000",
          "2017-04-01T00:00:00.000000000",
          "2017-07-01T00:00:00.000000000",
          "2017-10-01T00:00:00.000000000",
          "2018-01-01T00:00:00.000000000",
          "2018-04-01T00:00:00.000000000",
          "2018-07-01T00:00:00.000000000",
          "2018-10-01T00:00:00.000000000",
          "2019-01-01T00:00:00.000000000",
          "2019-04-01T00:00:00.000000000",
          "2019-07-01T00:00:00.000000000",
          "2019-10-01T00:00:00.000000000",
          "2020-01-01T00:00:00.000000000",
          "2020-04-01T00:00:00.000000000",
          "2020-07-01T00:00:00.000000000",
          "2020-10-01T00:00:00.000000000",
          "2021-01-01T00:00:00.000000000",
          "2021-04-01T00:00:00.000000000",
          "2021-07-01T00:00:00.000000000",
          "2021-10-01T00:00:00.000000000",
          "2022-01-01T00:00:00.000000000",
          "2022-04-01T00:00:00.000000000",
          "2022-07-01T00:00:00.000000000",
          "2022-10-01T00:00:00.000000000",
          "2023-01-01T00:00:00.000000000",
          "2023-04-01T00:00:00.000000000",
          "2023-07-01T00:00:00.000000000",
          "2023-10-01T00:00:00.000000000",
          "2024-01-01T00:00:00.000000000",
          "2024-04-01T00:00:00.000000000",
          "2024-07-01T00:00:00.000000000",
          "2024-10-01T00:00:00.000000000",
          "2025-01-01T00:00:00.000000000"
         ],
         "xaxis": "x7",
         "y": {
          "bdata": "AAAAAAAA+H8AAAAAAAD4fwAAAAAAAPh/AAAAAAAA+H9M6r0Ar2FIQHjaZPDo5DdA+4C9XJldLUBnNxcz2hoIwH5l2vZvkxrAEh1WaQ7OBsAG+PlyWqogwLyYnMmcLhLAwlcxzvyFHcDA3P4U3ygTwCASY0X6CQJA+ncffvjrD0D2Zws7mjATQMDMxH5E7rA/TAXri03y9b8N6mi9L/4NwFMJkZGT8QTAaKd5oW6//7/19r8STI8FwNpgUtHSBxrA7pZtQQ9yGsCaTezjB00UwCczy7FKvyTALOTAjfl6GsCK75YtgUUOwMBr9dNsvQfAmlpimGPeBECkvsCskuwOQBQQY4hZvPs/mMAV+Ax39T8oQl8F4aQJQHznNBY9i/A/nHA78XudAUBY0KcIgdzkP+iwOtNu4OO/CIgdG4NK2b985YdCr8frv2wfOSuNdQdA/DWlSpf39z/Ldg18SRYWQBjxMlhdhR9A5Kk8m1/+GEB6E8nNpPMfQDi5TOcuAiBAzitegHcAHkC2+PWm0dsgQAxrUVQZ8CJAltARyLdsI0AgXSr6uYgjQM2AISUe+ChAtPp6l7pLLEDo9mbeTroqQBZP6e3vYiZAljyoEL/AJEAIjPQ4+ZohQL59Q71cmSNANrnY4U64J0DgSIYqlr8mQGxHjNWs+ipAyD+xQG9ZLECoBiYkm/4sQDVTEra8IiZA12SUzm6FHECzmACdWHoRQMEzzK3f5xlAAF3bWviSJUBkW4zbKI8yQGvhBEg3TzhAQ2ejKTmiNUBGjYW9deIxQAD+Q/5lQSFA",
          "dtype": "f8"
         },
         "yaxis": "y10"
        }
       ],
       "layout": {
        "annotations": [
         {
          "font": {
           "size": 16
          },
          "showarrow": false,
          "text": "Inflacja CPI vs Średnie Ceny Mieszkań (Rynek Pierwotny)",
          "x": 0.215,
          "xanchor": "center",
          "xref": "paper",
          "y": 1,
          "yanchor": "bottom",
          "yref": "paper"
         },
         {
          "font": {
           "size": 16
          },
          "showarrow": false,
          "text": "Analiza Korelacji Przesunięć Czasowych",
          "x": 0.725,
          "xanchor": "center",
          "xref": "paper",
          "y": 1,
          "yanchor": "bottom",
          "yref": "paper"
         },
         {
          "font": {
           "size": 16
          },
          "showarrow": false,
          "text": "Roczne Zmiany: Inflacja vs Ceny Mieszkań",
          "x": 0.215,
          "xanchor": "center",
          "xref": "paper",
          "y": 0.73,
          "yanchor": "bottom",
          "yref": "paper"
         },
         {
          "font": {
           "size": 16
          },
          "showarrow": false,
          "text": "Korelacje Cross-Lag (Wyprzedzanie)",
          "x": 0.725,
          "xanchor": "center",
          "xref": "paper",
          "y": 0.73,
          "yanchor": "bottom",
          "yref": "paper"
         },
         {
          "font": {
           "size": 16
          },
          "showarrow": false,
          "text": "Wpływ COVID-19: Anomalie w Cenach",
          "x": 0.215,
          "xanchor": "center",
          "xref": "paper",
          "y": 0.46,
          "yanchor": "bottom",
          "yref": "paper"
         },
         {
          "font": {
           "size": 16
          },
          "showarrow": false,
          "text": "Analiza Volatility: Inflacja vs Ceny",
          "x": 0.725,
          "xanchor": "center",
          "xref": "paper",
          "y": 0.46,
          "yanchor": "bottom",
          "yref": "paper"
         },
         {
          "font": {
           "size": 16
          },
          "showarrow": false,
          "text": "Porównanie Rynków: Pierwotny vs Wtórny",
          "x": 0.215,
          "xanchor": "center",
          "xref": "paper",
          "y": 0.19,
          "yanchor": "bottom",
          "yref": "paper"
         },
         {
          "font": {
           "size": 16
          },
          "showarrow": false,
          "text": "Heatmapa Korelacji w Czasie",
          "x": 0.725,
          "xanchor": "center",
          "xref": "paper",
          "y": 0.19,
          "yanchor": "bottom",
          "yref": "paper"
         },
         {
          "font": {
           "size": 12
          },
          "showarrow": false,
          "text": "Najwyższa korelacja Cross-Lag:<br>Lag 6 kwartałów<br>r = 0.792",
          "x": 0.5,
          "xref": "x8",
          "y": 0.5,
          "yref": "y8"
         },
         {
          "arrowhead": 2,
          "font": {
           "color": "red",
           "size": 10
          },
          "showarrow": true,
          "text": "Okres COVID-19",
          "x": "2021-01-30T00:00:00",
          "xref": "x",
          "y": 15.569999999999999,
          "yref": "y"
         }
        ],
        "height": 1200,
        "legend": {
         "orientation": "h",
         "x": 0.5,
         "xanchor": "center",
         "y": 1.02,
         "yanchor": "bottom"
        },
        "shapes": [
         {
          "fillcolor": "yellow",
          "layer": "below",
          "line": {
           "width": 0
          },
          "opacity": 0.2,
          "type": "rect",
          "x0": "2020-03-01T00:00:00",
          "x1": "2021-12-31T00:00:00",
          "xref": "x",
          "y0": 0,
          "y1": 1,
          "yref": "y domain"
         }
        ],
        "showlegend": true,
        "template": {
         "data": {
          "bar": [
           {
            "error_x": {
             "color": "#2a3f5f"
            },
            "error_y": {
             "color": "#2a3f5f"
            },
            "marker": {
             "line": {
              "color": "#E5ECF6",
              "width": 0.5
             },
             "pattern": {
              "fillmode": "overlay",
              "size": 10,
              "solidity": 0.2
             }
            },
            "type": "bar"
           }
          ],
          "barpolar": [
           {
            "marker": {
             "line": {
              "color": "#E5ECF6",
              "width": 0.5
             },
             "pattern": {
              "fillmode": "overlay",
              "size": 10,
              "solidity": 0.2
             }
            },
            "type": "barpolar"
           }
          ],
          "carpet": [
           {
            "aaxis": {
             "endlinecolor": "#2a3f5f",
             "gridcolor": "white",
             "linecolor": "white",
             "minorgridcolor": "white",
             "startlinecolor": "#2a3f5f"
            },
            "baxis": {
             "endlinecolor": "#2a3f5f",
             "gridcolor": "white",
             "linecolor": "white",
             "minorgridcolor": "white",
             "startlinecolor": "#2a3f5f"
            },
            "type": "carpet"
           }
          ],
          "choropleth": [
           {
            "colorbar": {
             "outlinewidth": 0,
             "ticks": ""
            },
            "type": "choropleth"
           }
          ],
          "contour": [
           {
            "colorbar": {
             "outlinewidth": 0,
             "ticks": ""
            },
            "colorscale": [
             [
              0,
              "#0d0887"
             ],
             [
              0.1111111111111111,
              "#46039f"
             ],
             [
              0.2222222222222222,
              "#7201a8"
             ],
             [
              0.3333333333333333,
              "#9c179e"
             ],
             [
              0.4444444444444444,
              "#bd3786"
             ],
             [
              0.5555555555555556,
              "#d8576b"
             ],
             [
              0.6666666666666666,
              "#ed7953"
             ],
             [
              0.7777777777777778,
              "#fb9f3a"
             ],
             [
              0.8888888888888888,
              "#fdca26"
             ],
             [
              1,
              "#f0f921"
             ]
            ],
            "type": "contour"
           }
          ],
          "contourcarpet": [
           {
            "colorbar": {
             "outlinewidth": 0,
             "ticks": ""
            },
            "type": "contourcarpet"
           }
          ],
          "heatmap": [
           {
            "colorbar": {
             "outlinewidth": 0,
             "ticks": ""
            },
            "colorscale": [
             [
              0,
              "#0d0887"
             ],
             [
              0.1111111111111111,
              "#46039f"
             ],
             [
              0.2222222222222222,
              "#7201a8"
             ],
             [
              0.3333333333333333,
              "#9c179e"
             ],
             [
              0.4444444444444444,
              "#bd3786"
             ],
             [
              0.5555555555555556,
              "#d8576b"
             ],
             [
              0.6666666666666666,
              "#ed7953"
             ],
             [
              0.7777777777777778,
              "#fb9f3a"
             ],
             [
              0.8888888888888888,
              "#fdca26"
             ],
             [
              1,
              "#f0f921"
             ]
            ],
            "type": "heatmap"
           }
          ],
          "histogram": [
           {
            "marker": {
             "pattern": {
              "fillmode": "overlay",
              "size": 10,
              "solidity": 0.2
             }
            },
            "type": "histogram"
           }
          ],
          "histogram2d": [
           {
            "colorbar": {
             "outlinewidth": 0,
             "ticks": ""
            },
            "colorscale": [
             [
              0,
              "#0d0887"
             ],
             [
              0.1111111111111111,
              "#46039f"
             ],
             [
              0.2222222222222222,
              "#7201a8"
             ],
             [
              0.3333333333333333,
              "#9c179e"
             ],
             [
              0.4444444444444444,
              "#bd3786"
             ],
             [
              0.5555555555555556,
              "#d8576b"
             ],
             [
              0.6666666666666666,
              "#ed7953"
             ],
             [
              0.7777777777777778,
              "#fb9f3a"
             ],
             [
              0.8888888888888888,
              "#fdca26"
             ],
             [
              1,
              "#f0f921"
             ]
            ],
            "type": "histogram2d"
           }
          ],
          "histogram2dcontour": [
           {
            "colorbar": {
             "outlinewidth": 0,
             "ticks": ""
            },
            "colorscale": [
             [
              0,
              "#0d0887"
             ],
             [
              0.1111111111111111,
              "#46039f"
             ],
             [
              0.2222222222222222,
              "#7201a8"
             ],
             [
              0.3333333333333333,
              "#9c179e"
             ],
             [
              0.4444444444444444,
              "#bd3786"
             ],
             [
              0.5555555555555556,
              "#d8576b"
             ],
             [
              0.6666666666666666,
              "#ed7953"
             ],
             [
              0.7777777777777778,
              "#fb9f3a"
             ],
             [
              0.8888888888888888,
              "#fdca26"
             ],
             [
              1,
              "#f0f921"
             ]
            ],
            "type": "histogram2dcontour"
           }
          ],
          "mesh3d": [
           {
            "colorbar": {
             "outlinewidth": 0,
             "ticks": ""
            },
            "type": "mesh3d"
           }
          ],
          "parcoords": [
           {
            "line": {
             "colorbar": {
              "outlinewidth": 0,
              "ticks": ""
             }
            },
            "type": "parcoords"
           }
          ],
          "pie": [
           {
            "automargin": true,
            "type": "pie"
           }
          ],
          "scatter": [
           {
            "fillpattern": {
             "fillmode": "overlay",
             "size": 10,
             "solidity": 0.2
            },
            "type": "scatter"
           }
          ],
          "scatter3d": [
           {
            "line": {
             "colorbar": {
              "outlinewidth": 0,
              "ticks": ""
             }
            },
            "marker": {
             "colorbar": {
              "outlinewidth": 0,
              "ticks": ""
             }
            },
            "type": "scatter3d"
           }
          ],
          "scattercarpet": [
           {
            "marker": {
             "colorbar": {
              "outlinewidth": 0,
              "ticks": ""
             }
            },
            "type": "scattercarpet"
           }
          ],
          "scattergeo": [
           {
            "marker": {
             "colorbar": {
              "outlinewidth": 0,
              "ticks": ""
             }
            },
            "type": "scattergeo"
           }
          ],
          "scattergl": [
           {
            "marker": {
             "colorbar": {
              "outlinewidth": 0,
              "ticks": ""
             }
            },
            "type": "scattergl"
           }
          ],
          "scattermap": [
           {
            "marker": {
             "colorbar": {
              "outlinewidth": 0,
              "ticks": ""
             }
            },
            "type": "scattermap"
           }
          ],
          "scattermapbox": [
           {
            "marker": {
             "colorbar": {
              "outlinewidth": 0,
              "ticks": ""
             }
            },
            "type": "scattermapbox"
           }
          ],
          "scatterpolar": [
           {
            "marker": {
             "colorbar": {
              "outlinewidth": 0,
              "ticks": ""
             }
            },
            "type": "scatterpolar"
           }
          ],
          "scatterpolargl": [
           {
            "marker": {
             "colorbar": {
              "outlinewidth": 0,
              "ticks": ""
             }
            },
            "type": "scatterpolargl"
           }
          ],
          "scatterternary": [
           {
            "marker": {
             "colorbar": {
              "outlinewidth": 0,
              "ticks": ""
             }
            },
            "type": "scatterternary"
           }
          ],
          "surface": [
           {
            "colorbar": {
             "outlinewidth": 0,
             "ticks": ""
            },
            "colorscale": [
             [
              0,
              "#0d0887"
             ],
             [
              0.1111111111111111,
              "#46039f"
             ],
             [
              0.2222222222222222,
              "#7201a8"
             ],
             [
              0.3333333333333333,
              "#9c179e"
             ],
             [
              0.4444444444444444,
              "#bd3786"
             ],
             [
              0.5555555555555556,
              "#d8576b"
             ],
             [
              0.6666666666666666,
              "#ed7953"
             ],
             [
              0.7777777777777778,
              "#fb9f3a"
             ],
             [
              0.8888888888888888,
              "#fdca26"
             ],
             [
              1,
              "#f0f921"
             ]
            ],
            "type": "surface"
           }
          ],
          "table": [
           {
            "cells": {
             "fill": {
              "color": "#EBF0F8"
             },
             "line": {
              "color": "white"
             }
            },
            "header": {
             "fill": {
              "color": "#C8D4E3"
             },
             "line": {
              "color": "white"
             }
            },
            "type": "table"
           }
          ]
         },
         "layout": {
          "annotationdefaults": {
           "arrowcolor": "#2a3f5f",
           "arrowhead": 0,
           "arrowwidth": 1
          },
          "autotypenumbers": "strict",
          "coloraxis": {
           "colorbar": {
            "outlinewidth": 0,
            "ticks": ""
           }
          },
          "colorscale": {
           "diverging": [
            [
             0,
             "#8e0152"
            ],
            [
             0.1,
             "#c51b7d"
            ],
            [
             0.2,
             "#de77ae"
            ],
            [
             0.3,
             "#f1b6da"
            ],
            [
             0.4,
             "#fde0ef"
            ],
            [
             0.5,
             "#f7f7f7"
            ],
            [
             0.6,
             "#e6f5d0"
            ],
            [
             0.7,
             "#b8e186"
            ],
            [
             0.8,
             "#7fbc41"
            ],
            [
             0.9,
             "#4d9221"
            ],
            [
             1,
             "#276419"
            ]
           ],
           "sequential": [
            [
             0,
             "#0d0887"
            ],
            [
             0.1111111111111111,
             "#46039f"
            ],
            [
             0.2222222222222222,
             "#7201a8"
            ],
            [
             0.3333333333333333,
             "#9c179e"
            ],
            [
             0.4444444444444444,
             "#bd3786"
            ],
            [
             0.5555555555555556,
             "#d8576b"
            ],
            [
             0.6666666666666666,
             "#ed7953"
            ],
            [
             0.7777777777777778,
             "#fb9f3a"
            ],
            [
             0.8888888888888888,
             "#fdca26"
            ],
            [
             1,
             "#f0f921"
            ]
           ],
           "sequentialminus": [
            [
             0,
             "#0d0887"
            ],
            [
             0.1111111111111111,
             "#46039f"
            ],
            [
             0.2222222222222222,
             "#7201a8"
            ],
            [
             0.3333333333333333,
             "#9c179e"
            ],
            [
             0.4444444444444444,
             "#bd3786"
            ],
            [
             0.5555555555555556,
             "#d8576b"
            ],
            [
             0.6666666666666666,
             "#ed7953"
            ],
            [
             0.7777777777777778,
             "#fb9f3a"
            ],
            [
             0.8888888888888888,
             "#fdca26"
            ],
            [
             1,
             "#f0f921"
            ]
           ]
          },
          "colorway": [
           "#636efa",
           "#EF553B",
           "#00cc96",
           "#ab63fa",
           "#FFA15A",
           "#19d3f3",
           "#FF6692",
           "#B6E880",
           "#FF97FF",
           "#FECB52"
          ],
          "font": {
           "color": "#2a3f5f"
          },
          "geo": {
           "bgcolor": "white",
           "lakecolor": "white",
           "landcolor": "#E5ECF6",
           "showlakes": true,
           "showland": true,
           "subunitcolor": "white"
          },
          "hoverlabel": {
           "align": "left"
          },
          "hovermode": "closest",
          "mapbox": {
           "style": "light"
          },
          "paper_bgcolor": "white",
          "plot_bgcolor": "#E5ECF6",
          "polar": {
           "angularaxis": {
            "gridcolor": "white",
            "linecolor": "white",
            "ticks": ""
           },
           "bgcolor": "#E5ECF6",
           "radialaxis": {
            "gridcolor": "white",
            "linecolor": "white",
            "ticks": ""
           }
          },
          "scene": {
           "xaxis": {
            "backgroundcolor": "#E5ECF6",
            "gridcolor": "white",
            "gridwidth": 2,
            "linecolor": "white",
            "showbackground": true,
            "ticks": "",
            "zerolinecolor": "white"
           },
           "yaxis": {
            "backgroundcolor": "#E5ECF6",
            "gridcolor": "white",
            "gridwidth": 2,
            "linecolor": "white",
            "showbackground": true,
            "ticks": "",
            "zerolinecolor": "white"
           },
           "zaxis": {
            "backgroundcolor": "#E5ECF6",
            "gridcolor": "white",
            "gridwidth": 2,
            "linecolor": "white",
            "showbackground": true,
            "ticks": "",
            "zerolinecolor": "white"
           }
          },
          "shapedefaults": {
           "line": {
            "color": "#2a3f5f"
           }
          },
          "ternary": {
           "aaxis": {
            "gridcolor": "white",
            "linecolor": "white",
            "ticks": ""
           },
           "baxis": {
            "gridcolor": "white",
            "linecolor": "white",
            "ticks": ""
           },
           "bgcolor": "#E5ECF6",
           "caxis": {
            "gridcolor": "white",
            "linecolor": "white",
            "ticks": ""
           }
          },
          "title": {
           "x": 0.05
          },
          "xaxis": {
           "automargin": true,
           "gridcolor": "white",
           "linecolor": "white",
           "ticks": "",
           "title": {
            "standoff": 15
           },
           "zerolinecolor": "white",
           "zerolinewidth": 2
          },
          "yaxis": {
           "automargin": true,
           "gridcolor": "white",
           "linecolor": "white",
           "ticks": "",
           "title": {
            "standoff": 15
           },
           "zerolinecolor": "white",
           "zerolinewidth": 2
          }
         }
        },
        "title": {
         "text": "Kompleksowa Analiza Dynamiki Inflacji vs Ceny Mieszkań w Polsce",
         "x": 0.5
        },
        "xaxis": {
         "anchor": "y",
         "domain": [
          0,
          0.43
         ]
        },
        "xaxis2": {
         "anchor": "y3",
         "domain": [
          0.51,
          0.94
         ]
        },
        "xaxis3": {
         "anchor": "y4",
         "domain": [
          0,
          0.43
         ]
        },
        "xaxis4": {
         "anchor": "y6",
         "domain": [
          0.51,
          0.94
         ]
        },
        "xaxis5": {
         "anchor": "y7",
         "domain": [
          0,
          0.43
         ]
        },
        "xaxis6": {
         "anchor": "y9",
         "domain": [
          0.51,
          0.94
         ]
        },
        "xaxis7": {
         "anchor": "y10",
         "domain": [
          0,
          0.43
         ]
        },
        "xaxis8": {
         "anchor": "y11",
         "domain": [
          0.51,
          0.94
         ]
        },
        "yaxis": {
         "anchor": "x",
         "domain": [
          0.81,
          1
         ],
         "title": {
          "text": "Inflacja CPI (%)"
         }
        },
        "yaxis10": {
         "anchor": "x7",
         "domain": [
          0,
          0.19
         ],
         "title": {
          "text": "Wzrost Cen Y/Y (%)"
         }
        },
        "yaxis11": {
         "anchor": "x8",
         "domain": [
          0,
          0.19
         ]
        },
        "yaxis2": {
         "anchor": "x",
         "overlaying": "y",
         "side": "right",
         "title": {
          "text": "Cena (PLN/m²)"
         }
        },
        "yaxis3": {
         "anchor": "x2",
         "domain": [
          0.81,
          1
         ],
         "title": {
          "text": "Korelacja"
         }
        },
        "yaxis4": {
         "anchor": "x3",
         "domain": [
          0.54,
          0.73
         ],
         "title": {
          "text": "Inflacja (%)"
         }
        },
        "yaxis5": {
         "anchor": "x3",
         "overlaying": "y4",
         "side": "right",
         "title": {
          "text": "Wzrost Cen (%)"
         }
        },
        "yaxis6": {
         "anchor": "x4",
         "domain": [
          0.54,
          0.73
         ],
         "title": {
          "text": "Korelacja Rolling"
         }
        },
        "yaxis7": {
         "anchor": "x5",
         "domain": [
          0.27,
          0.46
         ],
         "title": {
          "text": "Inflacja (%)"
         }
        },
        "yaxis8": {
         "anchor": "x5",
         "overlaying": "y7",
         "side": "right",
         "title": {
          "text": "Wzrost Cen (%)"
         }
        },
        "yaxis9": {
         "anchor": "x6",
         "domain": [
          0.27,
          0.46
         ],
         "title": {
          "text": "Volatility Inflacji"
         }
        }
       }
      }
     },
     "metadata": {},
     "output_type": "display_data"
    },
    {
     "name": "stdout",
     "output_type": "stream",
     "text": [
      "\n",
      "✅ Analiza zakończona!\n",
      "📊 Najsilniejsza korelacja cross-lag: r = -1.000 przy lag = 0\n"
     ]
    }
   ],
   "source": [
    "# Komórka: Interaktywna analiza dynamiki inflacji vs ceny mieszkań\n",
    "\n",
    "import plotly.graph_objects as go\n",
    "from plotly.subplots import make_subplots\n",
    "import pandas as pd\n",
    "import numpy as np\n",
    "from scipy.stats import pearsonr\n",
    "import plotly.express as px\n",
    "from datetime import datetime\n",
    "\n",
    "def utworz_interaktywna_analiza_inflacja_vs_ceny(rynek_pierwotny_transakcyjne, rynek_wtorny_transakcyjne):\n",
    "    \"\"\"\n",
    "    Tworzy interaktywną wizualizację analizującą dynamikę inflacji vs ceny mieszkań\n",
    "    z możliwością badania wyprzedzania i wpływu COVID-19\n",
    "    \"\"\"\n",
    "    print(\"📊 Tworzenie interaktywnej analizy inflacji vs ceny mieszkań...\")\n",
    "    \n",
    "    # Wybór głównych miast do analizy\n",
    "    miasta_analiza = ['Warszawa', 'Kraków', 'Wrocław', 'Poznań']\n",
    "    \n",
    "    # Przygotowanie danych - rynek pierwotny\n",
    "    df_pierwotny = rynek_pierwotny_transakcyjne.copy()\n",
    "    df_wtorny = rynek_wtorny_transakcyjne.copy()\n",
    "    \n",
    "    # Główna wizualizacja - subplots z możliwością interakcji\n",
    "    fig = make_subplots(\n",
    "        rows=4, cols=2,\n",
    "        subplot_titles=(\n",
    "            'Inflacja CPI vs Średnie Ceny Mieszkań (Rynek Pierwotny)',\n",
    "            'Analiza Korelacji Przesunięć Czasowych',\n",
    "            'Roczne Zmiany: Inflacja vs Ceny Mieszkań',\n",
    "            'Korelacje Cross-Lag (Wyprzedzanie)',\n",
    "            'Wpływ COVID-19: Anomalie w Cenach',\n",
    "            'Analiza Volatility: Inflacja vs Ceny',\n",
    "            'Porównanie Rynków: Pierwotny vs Wtórny',\n",
    "            'Heatmapa Korelacji w Czasie'\n",
    "        ),\n",
    "        specs=[[{\"secondary_y\": True}, {\"secondary_y\": False}],\n",
    "               [{\"secondary_y\": True}, {\"secondary_y\": False}],\n",
    "               [{\"secondary_y\": True}, {\"secondary_y\": False}],\n",
    "               [{\"secondary_y\": False}, {\"secondary_y\": False}]],\n",
    "        vertical_spacing=0.08,\n",
    "        horizontal_spacing=0.08\n",
    "    )\n",
    "    \n",
    "    # Wykres 1: Inflacja vs Średnie Ceny (z zaznaczeniem COVID-19)\n",
    "    # Oblicz średnie ceny dla miast\n",
    "    df_pierwotny['srednia_ceny'] = df_pierwotny[miasta_analiza].mean(axis=1)\n",
    "    \n",
    "    # Dodaj trace dla inflacji\n",
    "    fig.add_trace(\n",
    "        go.Scatter(\n",
    "            x=df_pierwotny['Data'],\n",
    "            y=df_pierwotny['CPI_Y2Y'],\n",
    "            mode='lines+markers',\n",
    "            name='Inflacja CPI Y/Y (%)',\n",
    "            line=dict(color='red', width=2),\n",
    "            marker=dict(size=4),\n",
    "            hovertemplate='Data: %{x}<br>Inflacja: %{y:.1f}%<extra></extra>'\n",
    "        ),\n",
    "        row=1, col=1,\n",
    "        secondary_y=False\n",
    "    )\n",
    "    \n",
    "    # Dodaj trace dla średnich cen\n",
    "    fig.add_trace(\n",
    "        go.Scatter(\n",
    "            x=df_pierwotny['Data'],\n",
    "            y=df_pierwotny['srednia_ceny'],\n",
    "            mode='lines+markers',\n",
    "            name='Średnie Ceny Mieszkań (PLN/m²)',\n",
    "            line=dict(color='blue', width=2),\n",
    "            marker=dict(size=4),\n",
    "            yaxis='y2',\n",
    "            hovertemplate='Data: %{x}<br>Cena: %{y:,.0f} PLN/m²<extra></extra>'\n",
    "        ),\n",
    "        row=1, col=1,\n",
    "        secondary_y=True\n",
    "    )\n",
    "    \n",
    "    # Zaznacz okres COVID-19 (Marzec 2020 - Grudzień 2021)\n",
    "    covid_start = pd.to_datetime('2020-03-01')\n",
    "    covid_end = pd.to_datetime('2021-12-31')\n",
    "    \n",
    "    fig.add_vrect(\n",
    "        x0=covid_start, x1=covid_end,\n",
    "        fillcolor=\"yellow\", opacity=0.2,\n",
    "        layer=\"below\", line_width=0,\n",
    "        row=1, col=1\n",
    "    )\n",
    "    \n",
    "    # Wykres 2: Analiza cross-correlation (wyprzedzania)\n",
    "    # Oblicz korelacje dla różnych przesunięć czasowych (-12 do +12 kwartałów)\n",
    "    lags = range(-12, 13)\n",
    "    correlations = []\n",
    "    \n",
    "    inflacja_data = df_pierwotny['CPI_Y2Y'].dropna()\n",
    "    ceny_data = df_pierwotny['srednia_ceny'].dropna()\n",
    "    \n",
    "    # Wyrównaj długości serii\n",
    "    min_len = min(len(inflacja_data), len(ceny_data))\n",
    "    inflacja_data = inflacja_data.iloc[:min_len]\n",
    "    ceny_data = ceny_data.iloc[:min_len]\n",
    "    \n",
    "    for lag in lags:\n",
    "        if lag == 0:\n",
    "            corr, _ = pearsonr(inflacja_data.to_list(), ceny_data.to_list())\n",
    "        elif lag > 0:\n",
    "            # Inflacja wyprzedza ceny\n",
    "            if len(inflacja_data) > lag:\n",
    "                corr, _ = pearsonr(inflacja_data.iloc[:-lag].to_list(), ceny_data.iloc[lag:].to_list())\n",
    "            else:\n",
    "                corr = 0\n",
    "        else:\n",
    "            # Ceny wyprzedzają inflację\n",
    "            if len(ceny_data) > abs(lag):\n",
    "                corr, _ = pearsonr(inflacja_data.iloc[abs(lag):].to_list(), ceny_data.iloc[:lag].to_list())\n",
    "            else:\n",
    "                corr = 0\n",
    "        correlations.append(corr)\n",
    "    \n",
    "    fig.add_trace(\n",
    "        go.Bar(\n",
    "            x=list(lags),\n",
    "            y=correlations,\n",
    "            name='Korelacja Cross-Lag',\n",
    "            marker_color=['red' if lag > 0 else 'blue' if lag < 0 else 'green' for lag in lags],\n",
    "            hovertemplate='Lag: %{x} kwartałów<br>Korelacja: %{y:.3f}<extra></extra>'\n",
    "        ),\n",
    "        row=1, col=2\n",
    "    )\n",
    "    \n",
    "    # Wykres 3: Roczne zmiany (YoY)\n",
    "    # Oblicz roczne zmiany cen\n",
    "    df_pierwotny['ceny_yoy'] = df_pierwotny['srednia_ceny'].pct_change(4) * 100\n",
    "    \n",
    "    fig.add_trace(\n",
    "        go.Scatter(\n",
    "            x=df_pierwotny['Data'],\n",
    "            y=df_pierwotny['CPI_Y2Y'],\n",
    "            mode='lines+markers',\n",
    "            name='Inflacja CPI Y/Y (%)',\n",
    "            line=dict(color='red', width=2),\n",
    "            hovertemplate='Data: %{x}<br>Inflacja: %{y:.1f}%<extra></extra>'\n",
    "        ),\n",
    "        row=2, col=1,\n",
    "        secondary_y=False\n",
    "    )\n",
    "    \n",
    "    fig.add_trace(\n",
    "        go.Scatter(\n",
    "            x=df_pierwotny['Data'],\n",
    "            y=df_pierwotny['ceny_yoy'],\n",
    "            mode='lines+markers',\n",
    "            name='Wzrost Cen Y/Y (%)',\n",
    "            line=dict(color='blue', width=2),\n",
    "            yaxis='y4',\n",
    "            hovertemplate='Data: %{x}<br>Wzrost cen: %{y:.1f}%<extra></extra>'\n",
    "        ),\n",
    "        row=2, col=1,\n",
    "        secondary_y=True\n",
    "    )\n",
    "    \n",
    "    # Wykres 4: Korelacje rolling (okno 8 kwartałów)\n",
    "    # Przykład do analizy korelacji rolling\n",
    "    window = 8\n",
    "    rolling_corr = []\n",
    "    rolling_dates = []\n",
    "\n",
    "    df_yoy = df_pierwotny[df_pierwotny['ceny_yoy'].notna()]\n",
    "    # Używaj tylko pełnych okien bez NaN\n",
    "    for i in range(window, len(df_yoy)):\n",
    "        window_ceny = df_yoy['ceny_yoy'].iloc[i-window:i]\n",
    "        window_cpi = df_yoy['CPI_Y2Y'].iloc[i-window:i]\n",
    "        if window_ceny.notna().all() and window_cpi.notna().all():\n",
    "            corr = window_ceny.corr(window_cpi)\n",
    "            rolling_corr.append(corr)\n",
    "            rolling_dates.append(df_yoy['Data'].iloc[i])\n",
    "\n",
    "    # Dodaj rolling correlation do wykresu\n",
    "    fig.add_trace(go.Scatter(\n",
    "        x=rolling_dates,\n",
    "        y=rolling_corr,\n",
    "        mode='lines',\n",
    "        name='Rolling correlation (8 kwartałów)',\n",
    "        line=dict(color='purple', dash='dot')\n",
    "    ))\n",
    "    # rolling_window = 8\n",
    "    # rolling_correlations = []\n",
    "    # rolling_dates = []\n",
    "    \n",
    "    # for i in range(rolling_window, len(df_pierwotny)):\n",
    "    #     window_inflacja = df_pierwotny['CPI_Y2Y'].iloc[i-rolling_window:i]\n",
    "    #     window_ceny = df_pierwotny['ceny_yoy'].iloc[i-rolling_window:i]\n",
    "        \n",
    "    #     if window_inflacja.notna().sum() > 4 and window_ceny.notna().sum() > 4:\n",
    "    #         print(window_inflacja.shape)\n",
    "    #         print(window_ceny.shape)\n",
    "    #         corr, _ = pearsonr(window_inflacja.dropna().to_list(), window_ceny.dropna().to_list())\n",
    "    #         rolling_correlations.append(corr)\n",
    "    #         rolling_dates.append(df_pierwotny['Data'].iloc[i])\n",
    "    \n",
    "    # fig.add_trace(\n",
    "    #     go.Scatter(\n",
    "    #         x=rolling_dates,\n",
    "    #         y=rolling_correlations,\n",
    "    #         mode='lines+markers',\n",
    "    #         name='Korelacja Rolling (8Q)',\n",
    "    #         line=dict(color='purple', width=2),\n",
    "    #         hovertemplate='Data: %{x}<br>Korelacja: %{y:.3f}<extra></extra>'\n",
    "    #     ),\n",
    "    #     row=2, col=2\n",
    "    # )\n",
    "    \n",
    "    # Wykres 5: Analiza anomalii COVID-19\n",
    "    # Identyfikuj anomalie jako odchylenia > 2 std od trendu\n",
    "    covid_mask = (df_pierwotny['Data'] >= covid_start) & (df_pierwotny['Data'] <= covid_end)\n",
    "    pre_covid = df_pierwotny[df_pierwotny['Data'] < covid_start]\n",
    "    covid_period = df_pierwotny[covid_mask]\n",
    "    \n",
    "    # Oblicz trend przed COVID\n",
    "    pre_covid_trend_inflacja = pre_covid['CPI_Y2Y'].mean()\n",
    "    pre_covid_std_inflacja = pre_covid['CPI_Y2Y'].std()\n",
    "    \n",
    "    pre_covid_trend_ceny = pre_covid['ceny_yoy'].mean()\n",
    "    pre_covid_std_ceny = pre_covid['ceny_yoy'].std()\n",
    "    \n",
    "    # Identyfikuj anomalie\n",
    "    anomalie_inflacja = covid_period['CPI_Y2Y'] > (pre_covid_trend_inflacja + 2 * pre_covid_std_inflacja)\n",
    "    anomalie_ceny = covid_period['ceny_yoy'] > (pre_covid_trend_ceny + 2 * pre_covid_std_ceny)\n",
    "    \n",
    "    fig.add_trace(\n",
    "        go.Scatter(\n",
    "            x=covid_period['Data'],\n",
    "            y=covid_period['CPI_Y2Y'],\n",
    "            mode='markers',\n",
    "            name='Inflacja COVID',\n",
    "            marker=dict(\n",
    "                color=anomalie_inflacja.map({True: 'red', False: 'orange'}),\n",
    "                size=8,\n",
    "                symbol='circle'\n",
    "            ),\n",
    "            hovertemplate='Data: %{x}<br>Inflacja: %{y:.1f}%<br>Anomalia: %{marker.color}<extra></extra>'\n",
    "        ),\n",
    "        row=3, col=1,\n",
    "        secondary_y=False\n",
    "    )\n",
    "    \n",
    "    fig.add_trace(\n",
    "        go.Scatter(\n",
    "            x=covid_period['Data'],\n",
    "            y=covid_period['ceny_yoy'],\n",
    "            mode='markers',\n",
    "            name='Wzrost Cen COVID',\n",
    "            marker=dict(\n",
    "                color=anomalie_ceny.map({True: 'darkred', False: 'darkblue'}),\n",
    "                size=8,\n",
    "                symbol='diamond'\n",
    "            ),\n",
    "            yaxis='y6',\n",
    "            hovertemplate='Data: %{x}<br>Wzrost cen: %{y:.1f}%<br>Anomalia: %{marker.color}<extra></extra>'\n",
    "        ),\n",
    "        row=3, col=1,\n",
    "        secondary_y=True\n",
    "    )\n",
    "    \n",
    "    # Wykres 6: Volatility analysis\n",
    "    # Oblicz rolling standard deviation\n",
    "    df_pierwotny['inflacja_volatility'] = df_pierwotny['CPI_Y2Y'].rolling(4).std()\n",
    "    df_pierwotny['ceny_volatility'] = df_pierwotny['ceny_yoy'].rolling(4).std()\n",
    "    \n",
    "    fig.add_trace(\n",
    "        go.Scatter(\n",
    "            x=df_pierwotny['Data'],\n",
    "            y=df_pierwotny['inflacja_volatility'],\n",
    "            mode='lines',\n",
    "            name='Volatility Inflacji',\n",
    "            line=dict(color='red', width=2, dash='dash'),\n",
    "            hovertemplate='Data: %{x}<br>Volatility Inflacji: %{y:.2f}<extra></extra>'\n",
    "        ),\n",
    "        row=3, col=2,\n",
    "        secondary_y=False\n",
    "    )\n",
    "    \n",
    "    fig.add_trace(\n",
    "        go.Scatter(\n",
    "            x=df_pierwotny['Data'],\n",
    "            y=df_pierwotny['ceny_volatility'],\n",
    "            mode='lines',\n",
    "            name='Volatility Cen',\n",
    "            line=dict(color='blue', width=2, dash='dash'),\n",
    "            yaxis='y8',\n",
    "            hovertemplate='Data: %{x}<br>Volatility Cen: %{y:.2f}<extra></extra>'\n",
    "        ),\n",
    "        row=3, col=2,\n",
    "        secondary_y=False\n",
    "    )\n",
    "    \n",
    "    # Wykres 7: Porównanie rynków\n",
    "    df_wtorny['srednia_ceny_wtorny'] = df_wtorny[miasta_analiza].mean(axis=1)\n",
    "    df_wtorny['ceny_yoy_wtorny'] = df_wtorny['srednia_ceny_wtorny'].pct_change(4) * 100\n",
    "    \n",
    "    fig.add_trace(\n",
    "        go.Scatter(\n",
    "            x=df_pierwotny['Data'],\n",
    "            y=df_pierwotny['ceny_yoy'],\n",
    "            mode='lines',\n",
    "            name='Rynek Pierwotny',\n",
    "            line=dict(color='blue', width=2),\n",
    "            hovertemplate='Data: %{x}<br>Pierwotny: %{y:.1f}%<extra></extra>'\n",
    "        ),\n",
    "        row=4, col=1,\n",
    "        secondary_y=False\n",
    "    )\n",
    "    \n",
    "    fig.add_trace(\n",
    "        go.Scatter(\n",
    "            x=df_wtorny['Data'],\n",
    "            y=df_wtorny['ceny_yoy_wtorny'],\n",
    "            mode='lines',\n",
    "            name='Rynek Wtórny',\n",
    "            line=dict(color='green', width=2),\n",
    "            hovertemplate='Data: %{x}<br>Wtórny: %{y:.1f}%<extra></extra>'\n",
    "        ),\n",
    "        row=4, col=1,\n",
    "        secondary_y=False\n",
    "    )\n",
    "    \n",
    "    # Wykres 8: Heatmapa korelacji w czasie\n",
    "    # Utwórz macierz korelacji dla różnych okresów\n",
    "    periods = ['Pre-COVID (2019-2020)', 'COVID (2020-2021)', 'Post-COVID (2022-2023)']\n",
    "    variables = ['Inflacja', 'Ceny Pierwotne', 'Ceny Wtórne', 'WIBOR']\n",
    "    \n",
    "    # Przygotuj dane dla każdego okresu\n",
    "    pre_covid_data = df_pierwotny[df_pierwotny['Data'] < covid_start]\n",
    "    covid_data = df_pierwotny[covid_mask]\n",
    "    post_covid_data = df_pierwotny[df_pierwotny['Data'] > covid_end]\n",
    "    \n",
    "    correlation_matrix = np.zeros((len(periods), len(variables), len(variables)))\n",
    "    \n",
    "    for i, (period_name, period_data) in enumerate([\n",
    "        ('Pre-COVID', pre_covid_data),\n",
    "        ('COVID', covid_data), \n",
    "        ('Post-COVID', post_covid_data)\n",
    "    ]):\n",
    "        if len(period_data) > 4:  # Minimum obserwacji\n",
    "            corr_data = period_data[['CPI_Y2Y', 'ceny_yoy', 'WIBOR']].corr()\n",
    "            # Dodaj korelacje z rynkiem wtórnym\n",
    "            period_wtorny = df_wtorny[df_wtorny['Data'].isin(period_data['Data'])]\n",
    "            if len(period_wtorny) > 0:\n",
    "                wtorny_corr = period_wtorny['ceny_yoy_wtorny']\n",
    "                # Wypełnij macierz korelacji (uproszczona wersja)\n",
    "                correlation_matrix[i, 0, 0] = 1.0  # Inflacja vs Inflacja\n",
    "                correlation_matrix[i, 1, 1] = 1.0  # Ceny Pierwotne vs Ceny Pierwotne\n",
    "                correlation_matrix[i, 2, 2] = 1.0  # Ceny Wtórne vs Ceny Wtórne\n",
    "                correlation_matrix[i, 3, 3] = 1.0  # WIBOR vs WIBOR\n",
    "    \n",
    "    # Dla uproszczenia, pokazujemy korelację jako tekst\n",
    "    fig.add_annotation(\n",
    "        x=0.5, y=0.5,\n",
    "        text=f\"Najwyższa korelacja Cross-Lag:<br>Lag {lags[np.argmax(correlations)]} kwartałów<br>r = {max(correlations):.3f}\",\n",
    "        showarrow=False,\n",
    "        font=dict(size=12),\n",
    "        xref=\"x8\", yref=\"y8\",\n",
    "        row=4, col=2\n",
    "    )\n",
    "    \n",
    "    # Aktualizacja layoutu\n",
    "    fig.update_layout(\n",
    "        height=1200,\n",
    "        title_text=\"Kompleksowa Analiza Dynamiki Inflacji vs Ceny Mieszkań w Polsce\",\n",
    "        title_x=0.5,\n",
    "        showlegend=True,\n",
    "        legend=dict(\n",
    "            orientation=\"h\",\n",
    "            yanchor=\"bottom\",\n",
    "            y=1.02,\n",
    "            xanchor=\"center\",\n",
    "            x=0.5\n",
    "        )\n",
    "    )\n",
    "    \n",
    "    # Aktualizacja osi Y dla secondary_y\n",
    "    fig.update_yaxes(title_text=\"Inflacja CPI (%)\", row=1, col=1, secondary_y=False)\n",
    "    fig.update_yaxes(title_text=\"Cena (PLN/m²)\", row=1, col=1, secondary_y=True)\n",
    "    fig.update_yaxes(title_text=\"Korelacja\", row=1, col=2)\n",
    "    fig.update_yaxes(title_text=\"Inflacja (%)\", row=2, col=1, secondary_y=False)\n",
    "    fig.update_yaxes(title_text=\"Wzrost Cen (%)\", row=2, col=1, secondary_y=True)\n",
    "    fig.update_yaxes(title_text=\"Korelacja Rolling\", row=2, col=2)\n",
    "    fig.update_yaxes(title_text=\"Inflacja (%)\", row=3, col=1, secondary_y=False)\n",
    "    fig.update_yaxes(title_text=\"Wzrost Cen (%)\", row=3, col=1, secondary_y=True)\n",
    "    fig.update_yaxes(title_text=\"Volatility Inflacji\", row=3, col=2, secondary_y=False)\n",
    "    fig.update_yaxes(title_text=\"Volatility Cen\", row=3, col=2, secondary_y=True)\n",
    "    fig.update_yaxes(title_text=\"Wzrost Cen Y/Y (%)\", row=4, col=1)\n",
    "    \n",
    "    # Dodaj adnotacje o COVID-19\n",
    "    fig.add_annotation(\n",
    "        x=covid_start + (covid_end - covid_start)/2,\n",
    "        y=df_pierwotny['CPI_Y2Y'].max() * 0.9,\n",
    "        text=\"Okres COVID-19\",\n",
    "        showarrow=True,\n",
    "        arrowhead=2,\n",
    "        font=dict(size=10, color=\"red\"),\n",
    "        row=1, col=1\n",
    "    )\n",
    "    \n",
    "    return fig\n",
    "\n",
    "def analiza_wyprzedzania_statystyki(rynek_pierwotny_transakcyjne):\n",
    "    \"\"\"\n",
    "    Przeprowadza szczegółową analizę statystyczną wyprzedzania\n",
    "    \"\"\"\n",
    "    print(\"🔍 Analiza statystyczna wyprzedzania...\")\n",
    "    \n",
    "    df = rynek_pierwotny_transakcyjne.copy()\n",
    "    miasta_analiza = ['Warszawa', 'Kraków', 'Wrocław', 'Poznań']\n",
    "    df['srednia_ceny'] = df[miasta_analiza].mean(axis=1)\n",
    "    df['ceny_yoy'] = df['srednia_ceny'].pct_change(4) * 100\n",
    "    \n",
    "    # Analiza Granger Causality (uproszczona)\n",
    "    from statsmodels.tsa.stattools import grangercausalitytests\n",
    "    \n",
    "    # Przygotuj dane dla testu Granger\n",
    "    data_for_granger = df[['CPI_Y2Y', 'ceny_yoy']].dropna()\n",
    "    \n",
    "    print(\"\\n📊 Wyniki analizy wyprzedzania:\")\n",
    "    print(\"=\"*50)\n",
    "    \n",
    "    # Test czy inflacja wyprzedza ceny\n",
    "    try:\n",
    "        print(\"Test: Czy inflacja wyprzedza ceny mieszkań?\")\n",
    "        granger_result = grangercausalitytests(data_for_granger[['ceny_yoy', 'CPI_Y2Y']], maxlag=4, verbose=False)\n",
    "        for lag in range(1, 5):\n",
    "            p_value = granger_result[lag][0]['ssr_ftest'][1]\n",
    "            print(f\"  Lag {lag}: p-value = {p_value:.4f} {'(istotne)' if p_value < 0.05 else '(nieistotne)'}\")\n",
    "    except:\n",
    "        print(\"  Nie można przeprowadzić testu Granger (za mało danych)\")\n",
    "    \n",
    "    # Analiza korelacji cross-lag\n",
    "    print(f\"\\n📈 Analiza korelacji cross-lag:\")\n",
    "    max_corr = -1\n",
    "    best_lag = 0\n",
    "    \n",
    "    for lag in range(-8, 9):  # -8 do +8 kwartałów\n",
    "        if lag == 0:\n",
    "            corr, p_val = pearsonr(data_for_granger['CPI_Y2Y'].to_list(), data_for_granger['ceny_yoy'].to_list())\n",
    "        elif lag > 0:\n",
    "            # Inflacja wyprzedza\n",
    "            if len(data_for_granger) > lag:\n",
    "                corr, p_val = pearsonr(\n",
    "                    data_for_granger['CPI_Y2Y'].iloc[:-lag].to_list(), \n",
    "                    data_for_granger['ceny_yoy'].iloc[lag:].to_list()\n",
    "                )\n",
    "            else:\n",
    "                continue\n",
    "        else:\n",
    "            # Ceny wyprzedzają\n",
    "            if len(data_for_granger) > abs(lag):\n",
    "                corr, p_val = pearsonr(\n",
    "                    data_for_granger['CPI_Y2Y'].iloc[abs(lag):].to_list(), \n",
    "                    data_for_granger['ceny_yoy'].iloc[:lag].to_list()\n",
    "                )\n",
    "            else:\n",
    "                continue\n",
    "        \n",
    "        if abs(corr) > abs(max_corr):\n",
    "            max_corr = corr\n",
    "            best_lag = lag\n",
    "        \n",
    "        if abs(corr) > 0.3:  # Pokazuj tylko znaczące korelacje\n",
    "            direction = \"inflacja wyprzedza ceny\" if lag > 0 else \"ceny wyprzedzają inflację\" if lag < 0 else \"równoczesne\"\n",
    "            print(f\"  Lag {lag:2d}: r = {corr:6.3f}, p = {p_val:.4f} ({direction})\")\n",
    "    \n",
    "    print(f\"\\n🎯 Najsilniejsza korelacja:\")\n",
    "    print(f\"  Lag: {best_lag} kwartałów, r = {max_corr:.3f}\")\n",
    "    if best_lag > 0:\n",
    "        print(f\"  ➤ Inflacja wyprzedza ceny mieszkań o {best_lag} kwartałów\")\n",
    "    elif best_lag < 0:\n",
    "        print(f\"  ➤ Ceny mieszkań wyprzedzają inflację o {abs(best_lag)} kwartałów\")\n",
    "    else:\n",
    "        print(f\"  ➤ Zmiany zachodzą równocześnie\")\n",
    "    \n",
    "    return max_corr, best_lag\n",
    "\n",
    "# Wykonanie analizy\n",
    "print(\"🚀 Rozpoczynam kompleksową analizę inflacji vs ceny mieszkań...\")\n",
    "\n",
    "# Główna wizualizacja\n",
    "figura_glowna = utworz_interaktywna_analiza_inflacja_vs_ceny(\n",
    "    rynek_pierwotny_transakcyjne, rynek_wtorny_transakcyjne\n",
    ")\n",
    "\n",
    "# Analiza statystyczna\n",
    "max_corr, best_lag = analiza_wyprzedzania_statystyki(rynek_pierwotny_transakcyjne)\n",
    "\n",
    "# Wyświetl wizualizację\n",
    "figura_glowna.show()\n",
    "\n",
    "print(f\"\\n✅ Analiza zakończona!\")\n",
    "print(f\"📊 Najsilniejsza korelacja cross-lag: r = {max_corr:.3f} przy lag = {best_lag}\")\n"
   ]
  },
  {
   "cell_type": "code",
   "execution_count": 14,
   "id": "597e5546",
   "metadata": {},
   "outputs": [
    {
     "name": "stdout",
     "output_type": "stream",
     "text": [
      "🔄 Przekształcanie danych do formatu długiego...\n",
      "✅ Dane przekształcone: 5,100 rekordów, 17 miast\n",
      "🧹 Sanityzacja danych w formacie długim...\n",
      "📊 Po usunięciu rekordów z brakami: 5,096 rekordów\n",
      "✅ Dane przetworzone. Dodano cechy lagowane, rolling i YoY\n",
      "🔗 Analiza korelacji...\n",
      "\n",
      "Poznań_pierwotny_ofertowa:\n",
      "  Inflacja CPI: r=0.709, p=0.000\n",
      "  WIBOR: r=0.344, p=0.003\n",
      "\n",
      "Poznań_pierwotny_transakcyjna:\n",
      "  Inflacja CPI: r=0.698, p=0.000\n",
      "  WIBOR: r=0.313, p=0.006\n",
      "\n",
      "Poznań_wtórny_ofertowa:\n",
      "  Inflacja CPI: r=0.627, p=0.000\n",
      "  WIBOR: r=0.272, p=0.018\n",
      "\n",
      "Poznań_wtórny_transakcyjna:\n",
      "  Inflacja CPI: r=0.635, p=0.000\n",
      "  WIBOR: r=0.316, p=0.006\n",
      "\n",
      "Warszawa_pierwotny_ofertowa:\n",
      "  Inflacja CPI: r=0.641, p=0.000\n",
      "  WIBOR: r=0.385, p=0.001\n",
      "\n",
      "Warszawa_pierwotny_transakcyjna:\n",
      "  Inflacja CPI: r=0.659, p=0.000\n",
      "  WIBOR: r=0.301, p=0.009\n",
      "\n",
      "Warszawa_wtórny_ofertowa:\n",
      "  Inflacja CPI: r=0.627, p=0.000\n",
      "  WIBOR: r=0.341, p=0.003\n",
      "\n",
      "Warszawa_wtórny_transakcyjna:\n",
      "  Inflacja CPI: r=0.651, p=0.000\n",
      "  WIBOR: r=0.351, p=0.002\n"
     ]
    },
    {
     "data": {
      "image/png": "[encoded data removed]",
      "text/plain": [
       "<Figure size 1000x800 with 2 Axes>"
      ]
     },
     "metadata": {},
     "output_type": "display_data"
    }
   ],
   "source": [
    "# Komórka 5: Analiza statystyczna dla danych w nowym formacie\n",
    "\n",
    "def przeksztalc_dane_do_formatu_dlugiego():\n",
    "    \"\"\"\n",
    "    Przekształca cztery dataframes z miastami jako kolumnami do formatu długiego\n",
    "    \"\"\"\n",
    "    print(\"🔄 Przekształcanie danych do formatu długiego...\")\n",
    "    \n",
    "    miasta = [\n",
    "        'Białystok', 'Bydgoszcz', 'Gdańsk', 'Gdynia', 'Katowice', 'Kielce', 'Kraków', 'Lublin',\n",
    "        'Łódź', 'Olsztyn', 'Opole', 'Poznań', 'Rzeszów', 'Szczecin', 'Warszawa', 'Wrocław', 'Zielona Góra'\n",
    "    ]\n",
    "    \n",
    "    # Przekształcanie do formatu długiego\n",
    "    def melt_cities(df, rynek, typ_ceny, miasta):\n",
    "        # Identyfikuj kolumny niebędące miastami\n",
    "        id_vars = ['Kwartał', 'Data', 'rok', 'kwartal_num', 'indeks_czasowy', 'CPI_Y2Y', 'CPI_Q2Q', 'WIBOR']\n",
    "        # Upewnij się, że wszystkie kolumny id_vars istnieją w df\n",
    "        id_vars = [col for col in id_vars if col in df.columns]\n",
    "        \n",
    "        # Przekształć do formatu długiego\n",
    "        df_long = df.melt(\n",
    "            id_vars=id_vars,\n",
    "            value_vars=[miasto for miasto in miasta if miasto in df.columns],\n",
    "            var_name='miasto',\n",
    "            value_name='cena_m2'\n",
    "        )\n",
    "        \n",
    "        # Dodaj informacje o rynku i typie ceny\n",
    "        df_long['rynek'] = rynek\n",
    "        df_long['typ_ceny'] = typ_ceny\n",
    "        \n",
    "        return df_long\n",
    "    \n",
    "    # Zastosuj do czterech dataframes\n",
    "    df_pierw_of_long = melt_cities(rynek_pierwotny_ofertowe, 'pierwotny', 'ofertowa', miasta)\n",
    "    df_pierw_tr_long = melt_cities(rynek_pierwotny_transakcyjne, 'pierwotny', 'transakcyjna', miasta)\n",
    "    df_wtor_of_long = melt_cities(rynek_wtorny_ofertowe, 'wtórny', 'ofertowa', miasta)\n",
    "    df_wtor_tr_long = melt_cities(rynek_wtorny_transakcyjne, 'wtórny', 'transakcyjna', miasta)\n",
    "    \n",
    "    # Połącz wszystkie dane w jeden DataFrame\n",
    "    df_all = pd.concat([\n",
    "        df_pierw_of_long, df_pierw_tr_long, df_wtor_of_long, df_wtor_tr_long\n",
    "    ], ignore_index=True)\n",
    "    \n",
    "    print(f\"✅ Dane przekształcone: {len(df_all):,} rekordów, {df_all['miasto'].nunique()} miast\")\n",
    "    return df_all\n",
    "\n",
    "def sanityzacja_danych_long(df):\n",
    "    \"\"\"\n",
    "    Oczyszcza dane w formacie długim i dodaje nowe cechy\n",
    "    \"\"\"\n",
    "    print(\"🧹 Sanityzacja danych w formacie długim...\")\n",
    "    \n",
    "    # Usuń rekordy z brakującymi cenami\n",
    "    df = df.dropna(subset=['cena_m2'])\n",
    "    print(f\"📊 Po usunięciu rekordów z brakami: {len(df):,} rekordów\")\n",
    "    \n",
    "    # Konwertuj ceny do typu float, jeśli nie są\n",
    "    df['cena_m2'] = pd.to_numeric(df['cena_m2'], errors='coerce')\n",
    "    df = df.dropna(subset=['cena_m2'])\n",
    "    \n",
    "    # Detekcja outlierów metodą IQR dla każdego miasta, rynku i typu ceny\n",
    "    def process_group(group):\n",
    "        if len(group) <= 5:  # Zbyt mało danych dla wiarygodnej detekcji outlierów\n",
    "            return group\n",
    "        \n",
    "        Q1 = group['cena_m2'].quantile(0.25)\n",
    "        Q3 = group['cena_m2'].quantile(0.75)\n",
    "        IQR = Q3 - Q1\n",
    "        lower_bound = Q1 - 1.5 * IQR\n",
    "        upper_bound = Q3 + 1.5 * IQR\n",
    "        \n",
    "        # Winsoryzacja (ograniczenie wartości skrajnych)\n",
    "        group.loc[group['cena_m2'] < lower_bound, 'cena_m2'] = lower_bound\n",
    "        group.loc[group['cena_m2'] > upper_bound, 'cena_m2'] = upper_bound\n",
    "        \n",
    "        return group\n",
    "    \n",
    "    # Zastosuj sanityzację do każdej grupy miasto-rynek-typ_ceny\n",
    "    df = df.groupby(['miasto', 'rynek', 'typ_ceny']).apply(process_group).reset_index(drop=True)\n",
    "    \n",
    "    # Feature engineering\n",
    "    df = df.sort_values(['miasto', 'rynek', 'typ_ceny', 'Data'])\n",
    "    \n",
    "    # Dodaj zmienne lagowane i rolling\n",
    "    for miasto in df['miasto'].unique():\n",
    "        for rynek in df['rynek'].unique():\n",
    "            for typ in df['typ_ceny'].unique():\n",
    "                mask = (df['miasto'] == miasto) & (df['rynek'] == rynek) & (df['typ_ceny'] == typ)\n",
    "                \n",
    "                # Lagowane wartości cen\n",
    "                df.loc[mask, 'cena_lag1'] = df.loc[mask, 'cena_m2'].shift(1)\n",
    "                df.loc[mask, 'cena_lag4'] = df.loc[mask, 'cena_m2'].shift(4)\n",
    "                \n",
    "                # Średnie kroczące\n",
    "                df.loc[mask, 'cena_ma4'] = df.loc[mask, 'cena_m2'].rolling(4).mean().values\n",
    "                \n",
    "                # Zmiany rok do roku (YoY)\n",
    "                df.loc[mask, 'cena_yoy'] = df.loc[mask, 'cena_m2'].pct_change(periods=4).values * 100\n",
    "    \n",
    "    # Ceny realne (skorygowane o inflację)\n",
    "    if 'CPI_Y2Y' in df.columns:\n",
    "        df['cena_realna'] = df['cena_m2'] / (df['CPI_Y2Y']/100)\n",
    "    \n",
    "    # Trendy kwadratowe\n",
    "    df['rok_kwadrat'] = df['rok'] ** 2\n",
    "    df['indeks_kwadrat'] = df['indeks_czasowy'] ** 2\n",
    "    \n",
    "    print(f\"✅ Dane przetworzone. Dodano cechy lagowane, rolling i YoY\")\n",
    "    return df\n",
    "\n",
    "def analiza_korelacji(df):\n",
    "    \"\"\"\n",
    "    Przeprowadza analizę korelacji między cenami mieszkań a zmiennymi ekonomicznymi\n",
    "    \"\"\"\n",
    "    print(\"🔗 Analiza korelacji...\")\n",
    "    \n",
    "    # Przygotuj dane dla korelacji\n",
    "    rezultaty_korelacji = {}\n",
    "    \n",
    "    for miasto in df['miasto'].unique():\n",
    "        for rynek in df['rynek'].unique():\n",
    "            for typ_ceny in df['typ_ceny'].unique():\n",
    "                mask = (df['miasto'] == miasto) & (df['rynek'] == rynek) & (df['typ_ceny'] == typ_ceny)\n",
    "                dane_segmentu = df[mask].dropna(subset=['cena_m2', 'CPI_Y2Y', 'WIBOR'])\n",
    "                \n",
    "                if len(dane_segmentu) >= 10:  # Minimum 10 obserwacji dla wiarygodnej korelacji\n",
    "                    # Korelacja z inflacją\n",
    "                    corr_inflacja, p_inflacja = pearsonr(dane_segmentu['cena_m2'].to_list(), dane_segmentu['CPI_Y2Y'].to_list())\n",
    "                    \n",
    "                    # Korelacja z WIBOR\n",
    "                    corr_wibor, p_wibor = pearsonr(dane_segmentu['cena_m2'].to_list(), dane_segmentu['WIBOR'].to_list())\n",
    "                    \n",
    "                    klucz = f\"{miasto}_{rynek}_{typ_ceny}\"\n",
    "                    rezultaty_korelacji[klucz] = {\n",
    "                        'inflacja_corr': corr_inflacja,\n",
    "                        'inflacja_p': p_inflacja,\n",
    "                        'wibor_corr': corr_wibor,\n",
    "                        'wibor_p': p_wibor\n",
    "                    }\n",
    "    \n",
    "    # Pokaż wyniki dla wybranych miast\n",
    "    for miasto in ['Poznań', 'Warszawa']:\n",
    "        for rynek in df['rynek'].unique():\n",
    "            for typ_ceny in df['typ_ceny'].unique():\n",
    "                klucz = f\"{miasto}_{rynek}_{typ_ceny}\"\n",
    "                if klucz in rezultaty_korelacji:\n",
    "                    stats = rezultaty_korelacji[klucz]\n",
    "                    print(f\"\\n{klucz}:\")\n",
    "                    print(f\"  Inflacja CPI: r={stats['inflacja_corr']:.3f}, p={stats['inflacja_p']:.3f}\")\n",
    "                    print(f\"  WIBOR: r={stats['wibor_corr']:.3f}, p={stats['wibor_p']:.3f}\")\n",
    "    \n",
    "    # Wizualizacja korelacji dla Warszawy\n",
    "    warsaw_data = df[df['miasto'] == 'Poznań']\n",
    "    \n",
    "    fig, ax = plt.subplots(figsize=(10, 8))\n",
    "    corr_vars = ['cena_m2', 'CPI_Y2Y', 'WIBOR', 'rok']\n",
    "    correlation_matrix = warsaw_data[corr_vars].corr()\n",
    "    \n",
    "    sns.heatmap(correlation_matrix, annot=True, cmap='coolwarm', center=0, \n",
    "               square=True, fmt='.3f', cbar_kws={'shrink': 0.8})\n",
    "    plt.title('Macierz Korelacji - Ceny mieszkań w Poznaniu vs. wskaźniki ekonomiczne')\n",
    "    plt.tight_layout()\n",
    "    plt.show()\n",
    "    \n",
    "    return rezultaty_korelacji\n",
    "\n",
    "# Wykonaj przekształcenie i analizę danych\n",
    "df_mieszkania = przeksztalc_dane_do_formatu_dlugiego()\n",
    "df_mieszkania_clean = sanityzacja_danych_long(df_mieszkania)\n",
    "\n",
    "# Przeprowadź analizy statystyczne\n",
    "korelacje = analiza_korelacji(df_mieszkania_clean)\n"
   ]
  },
  {
   "cell_type": "markdown",
   "id": "e0da5d97",
   "metadata": {},
   "source": [
    "## Komórka 7: Modele uczenia maszynowego dla danych w nowym formacie\n"
   ]
  },
  {
   "cell_type": "code",
   "execution_count": 16,
   "id": "28995775",
   "metadata": {},
   "outputs": [
    {
     "name": "stdout",
     "output_type": "stream",
     "text": [
      "\n",
      "==================================================\n",
      "ANALIZA DLA MIASTA: Warszawa\n",
      "==================================================\n",
      "🤖 Przygotowywanie danych do modelowania dla miasta Warszawa...\n",
      "📊 Przygotowano 142 próbek z 10 cechami\n",
      "📋 Cechy: ['rok', 'kwartal_num', 'indeks_czasowy', 'CPI_Y2Y', 'WIBOR', 'rynek_encoded', 'rok_kwadrat', 'cena_lag1', 'cena_lag4', 'cena_ma4']\n",
      "🏋️ Trenowanie modeli uczenia maszynowego...\n",
      "📊 Dane treningowe: 113 próbek, testowe: 29 próbek\n",
      "🔧 Trenowanie Linear Regression...\n",
      "✅ Linear Regression - R²: 0.8666, RMSE: 362, MAE: 281, MAPE: 2.10%\n",
      "📊 Tworzenie wizualizacji porównania modeli...\n"
     ]
    },
    {
     "data": {
      "application/vnd.plotly.v1+json": {
       "config": {
        "plotlyServerURL": "https://plot.ly"
       },
       "data": [
        {
         "marker": {
          "color": "blue",
          "opacity": 0.7,
          "size": 6
         },
         "mode": "markers",
         "name": "Linear Regression",
         "type": "scatter",
         "x": {
          "bdata": "aPuTNO5+xUB0e1Sf+7HGQBe2+m9NIsdAyul9Ybztx0BDAx7IVC7IQJL8pugW1chA7QtNibQbyEDStibPQjrJQDuc6d5C28hA1X3Qoe9wyUDeDehk+hHJQEACHnKuhslA+Tx/0w8DyUCJDJRbqcrJQEoOtlPdvclAxwturrThykBENqsi5v7KQEQ2qyLm/spA27/s+mSwy0DA92XmluHMQEQ2qyLm/spAwPdl5pbhzEBENqsi5v7KQMD3ZeaW4cxARDarIub+ykDA92XmluHMQEQ2qyLm/spARDarIub+ykDA92XmluHMQA==",
          "dtype": "f8"
         },
         "xaxis": "x",
         "y": {
          "bdata": "nASegZWMxUCUhf5nQVTGQIXuGSTd+8ZAdq2YmHGax0AglFU0Cf3GQLA6AMi8BshANL64/oOZx0CFhIUARUnIQHBLwoPgKshACnRJ1crRyEC5v9yhq4bIQO5nJ68dZ8lAThCRtEm4yEAqwq/R7mXJQLXhxr2GKMlAhq+y5IuyyUDse/YpdHrJQJGOMlmKAMpACzeTtO9SykCK8TCdjnfLQJqBaWOY18pAMadS4xw5zECV3LCaswnLQK8qsS8cmsxAURyFQEvOykCvkMuMeMbMQGea+Oqt1spAfLC4nrE/y0Af98SIDOTMQA==",
          "dtype": "f8"
         },
         "yaxis": "y"
        },
        {
         "line": {
          "color": "gray",
          "dash": "dash"
         },
         "mode": "lines",
         "name": "Idealna predykcja",
         "showlegend": false,
         "type": "scatter",
         "x": [
          10627.729186890541,
          15165.310698862831
         ],
         "xaxis": "x",
         "y": [
          10627.729186890541,
          15165.310698862831
         ],
         "yaxis": "y"
        },
        {
         "name": "R²",
         "showlegend": true,
         "type": "bar",
         "x": [
          "Linear Regression"
         ],
         "xaxis": "x2",
         "y": [
          0.8665785994490326
         ],
         "yaxis": "y2"
        },
        {
         "name": "RMSE",
         "showlegend": true,
         "type": "bar",
         "x": [
          "Linear Regression"
         ],
         "xaxis": "x2",
         "y": [
          361.57439393352746
         ],
         "yaxis": "y2"
        },
        {
         "name": "MAE",
         "showlegend": true,
         "type": "bar",
         "x": [
          "Linear Regression"
         ],
         "xaxis": "x2",
         "y": [
          280.95829576856175
         ],
         "yaxis": "y2"
        },
        {
         "name": "MAPE",
         "showlegend": true,
         "type": "bar",
         "x": [
          "Linear Regression"
         ],
         "xaxis": "x2",
         "y": [
          2.098070688029294
         ],
         "yaxis": "y2"
        },
        {
         "marker": {
          "color": "blue"
         },
         "name": "Linear Regression",
         "showlegend": false,
         "type": "box",
         "xaxis": "x3",
         "y": {
          "bdata": "AGgSFJpOO8AAeH3VjW5nQADJY/AlOFNAABVPObLSZEAw8oY8uRSDQEA82BREy3lAILeJUhFGcECgSSbUuR9+QGAZ6mRLDHZAYDnhkJnkc0CgxGlh2GlxQABSmvbCkE9AwCqLu4exYkDAlxJ5oi5pQKCS5b3SqnJAEMS1m4zygkCApUuLH0eIQGD2FC95y39AAI2YZVTXhUBgY1CThKCGQABV2qDfplNA4BFqYkAPdUAAokwL8Jo1wEBEM62t3mFAgPkME3FNWEAAEWeaWR5LQIDuTdkbHFRAAI5eA98yYMAA+Pr3Eq0TwA==",
          "dtype": "f8"
         },
         "yaxis": "y3"
        }
       ],
       "layout": {
        "annotations": [
         {
          "font": {
           "size": 16
          },
          "showarrow": false,
          "text": "Porównanie Predykcji vs Rzeczywiste",
          "x": 0.225,
          "xanchor": "center",
          "xref": "paper",
          "y": 1,
          "yanchor": "bottom",
          "yref": "paper"
         },
         {
          "font": {
           "size": 16
          },
          "showarrow": false,
          "text": "Metryki Wydajności Modeli",
          "x": 0.775,
          "xanchor": "center",
          "xref": "paper",
          "y": 1,
          "yanchor": "bottom",
          "yref": "paper"
         },
         {
          "font": {
           "size": 16
          },
          "showarrow": false,
          "text": "Błędy Predykcji (Residuals)",
          "x": 0.225,
          "xanchor": "center",
          "xref": "paper",
          "y": 0.375,
          "yanchor": "bottom",
          "yref": "paper"
         },
         {
          "font": {
           "size": 16
          },
          "showarrow": false,
          "text": "Ważność Cech (Random Forest)",
          "x": 0.775,
          "xanchor": "center",
          "xref": "paper",
          "y": 0.375,
          "yanchor": "bottom",
          "yref": "paper"
         }
        ],
        "height": 800,
        "legend": {
         "orientation": "h",
         "x": 0.5,
         "xanchor": "center",
         "y": 1.02,
         "yanchor": "bottom"
        },
        "template": {
         "data": {
          "bar": [
           {
            "error_x": {
             "color": "#2a3f5f"
            },
            "error_y": {
             "color": "#2a3f5f"
            },
            "marker": {
             "line": {
              "color": "#E5ECF6",
              "width": 0.5
             },
             "pattern": {
              "fillmode": "overlay",
              "size": 10,
              "solidity": 0.2
             }
            },
            "type": "bar"
           }
          ],
          "barpolar": [
           {
            "marker": {
             "line": {
              "color": "#E5ECF6",
              "width": 0.5
             },
             "pattern": {
              "fillmode": "overlay",
              "size": 10,
              "solidity": 0.2
             }
            },
            "type": "barpolar"
           }
          ],
          "carpet": [
           {
            "aaxis": {
             "endlinecolor": "#2a3f5f",
             "gridcolor": "white",
             "linecolor": "white",
             "minorgridcolor": "white",
             "startlinecolor": "#2a3f5f"
            },
            "baxis": {
             "endlinecolor": "#2a3f5f",
             "gridcolor": "white",
             "linecolor": "white",
             "minorgridcolor": "white",
             "startlinecolor": "#2a3f5f"
            },
            "type": "carpet"
           }
          ],
          "choropleth": [
           {
            "colorbar": {
             "outlinewidth": 0,
             "ticks": ""
            },
            "type": "choropleth"
           }
          ],
          "contour": [
           {
            "colorbar": {
             "outlinewidth": 0,
             "ticks": ""
            },
            "colorscale": [
             [
              0,
              "#0d0887"
             ],
             [
              0.1111111111111111,
              "#46039f"
             ],
             [
              0.2222222222222222,
              "#7201a8"
             ],
             [
              0.3333333333333333,
              "#9c179e"
             ],
             [
              0.4444444444444444,
              "#bd3786"
             ],
             [
              0.5555555555555556,
              "#d8576b"
             ],
             [
              0.6666666666666666,
              "#ed7953"
             ],
             [
              0.7777777777777778,
              "#fb9f3a"
             ],
             [
              0.8888888888888888,
              "#fdca26"
             ],
             [
              1,
              "#f0f921"
             ]
            ],
            "type": "contour"
           }
          ],
          "contourcarpet": [
           {
            "colorbar": {
             "outlinewidth": 0,
             "ticks": ""
            },
            "type": "contourcarpet"
           }
          ],
          "heatmap": [
           {
            "colorbar": {
             "outlinewidth": 0,
             "ticks": ""
            },
            "colorscale": [
             [
              0,
              "#0d0887"
             ],
             [
              0.1111111111111111,
              "#46039f"
             ],
             [
              0.2222222222222222,
              "#7201a8"
             ],
             [
              0.3333333333333333,
              "#9c179e"
             ],
             [
              0.4444444444444444,
              "#bd3786"
             ],
             [
              0.5555555555555556,
              "#d8576b"
             ],
             [
              0.6666666666666666,
              "#ed7953"
             ],
             [
              0.7777777777777778,
              "#fb9f3a"
             ],
             [
              0.8888888888888888,
              "#fdca26"
             ],
             [
              1,
              "#f0f921"
             ]
            ],
            "type": "heatmap"
           }
          ],
          "histogram": [
           {
            "marker": {
             "pattern": {
              "fillmode": "overlay",
              "size": 10,
              "solidity": 0.2
             }
            },
            "type": "histogram"
           }
          ],
          "histogram2d": [
           {
            "colorbar": {
             "outlinewidth": 0,
             "ticks": ""
            },
            "colorscale": [
             [
              0,
              "#0d0887"
             ],
             [
              0.1111111111111111,
              "#46039f"
             ],
             [
              0.2222222222222222,
              "#7201a8"
             ],
             [
              0.3333333333333333,
              "#9c179e"
             ],
             [
              0.4444444444444444,
              "#bd3786"
             ],
             [
              0.5555555555555556,
              "#d8576b"
             ],
             [
              0.6666666666666666,
              "#ed7953"
             ],
             [
              0.7777777777777778,
              "#fb9f3a"
             ],
             [
              0.8888888888888888,
              "#fdca26"
             ],
             [
              1,
              "#f0f921"
             ]
            ],
            "type": "histogram2d"
           }
          ],
          "histogram2dcontour": [
           {
            "colorbar": {
             "outlinewidth": 0,
             "ticks": ""
            },
            "colorscale": [
             [
              0,
              "#0d0887"
             ],
             [
              0.1111111111111111,
              "#46039f"
             ],
             [
              0.2222222222222222,
              "#7201a8"
             ],
             [
              0.3333333333333333,
              "#9c179e"
             ],
             [
              0.4444444444444444,
              "#bd3786"
             ],
             [
              0.5555555555555556,
              "#d8576b"
             ],
             [
              0.6666666666666666,
              "#ed7953"
             ],
             [
              0.7777777777777778,
              "#fb9f3a"
             ],
             [
              0.8888888888888888,
              "#fdca26"
             ],
             [
              1,
              "#f0f921"
             ]
            ],
            "type": "histogram2dcontour"
           }
          ],
          "mesh3d": [
           {
            "colorbar": {
             "outlinewidth": 0,
             "ticks": ""
            },
            "type": "mesh3d"
           }
          ],
          "parcoords": [
           {
            "line": {
             "colorbar": {
              "outlinewidth": 0,
              "ticks": ""
             }
            },
            "type": "parcoords"
           }
          ],
          "pie": [
           {
            "automargin": true,
            "type": "pie"
           }
          ],
          "scatter": [
           {
            "fillpattern": {
             "fillmode": "overlay",
             "size": 10,
             "solidity": 0.2
            },
            "type": "scatter"
           }
          ],
          "scatter3d": [
           {
            "line": {
             "colorbar": {
              "outlinewidth": 0,
              "ticks": ""
             }
            },
            "marker": {
             "colorbar": {
              "outlinewidth": 0,
              "ticks": ""
             }
            },
            "type": "scatter3d"
           }
          ],
          "scattercarpet": [
           {
            "marker": {
             "colorbar": {
              "outlinewidth": 0,
              "ticks": ""
             }
            },
            "type": "scattercarpet"
           }
          ],
          "scattergeo": [
           {
            "marker": {
             "colorbar": {
              "outlinewidth": 0,
              "ticks": ""
             }
            },
            "type": "scattergeo"
           }
          ],
          "scattergl": [
           {
            "marker": {
             "colorbar": {
              "outlinewidth": 0,
              "ticks": ""
             }
            },
            "type": "scattergl"
           }
          ],
          "scattermap": [
           {
            "marker": {
             "colorbar": {
              "outlinewidth": 0,
              "ticks": ""
             }
            },
            "type": "scattermap"
           }
          ],
          "scattermapbox": [
           {
            "marker": {
             "colorbar": {
              "outlinewidth": 0,
              "ticks": ""
             }
            },
            "type": "scattermapbox"
           }
          ],
          "scatterpolar": [
           {
            "marker": {
             "colorbar": {
              "outlinewidth": 0,
              "ticks": ""
             }
            },
            "type": "scatterpolar"
           }
          ],
          "scatterpolargl": [
           {
            "marker": {
             "colorbar": {
              "outlinewidth": 0,
              "ticks": ""
             }
            },
            "type": "scatterpolargl"
           }
          ],
          "scatterternary": [
           {
            "marker": {
             "colorbar": {
              "outlinewidth": 0,
              "ticks": ""
             }
            },
            "type": "scatterternary"
           }
          ],
          "surface": [
           {
            "colorbar": {
             "outlinewidth": 0,
             "ticks": ""
            },
            "colorscale": [
             [
              0,
              "#0d0887"
             ],
             [
              0.1111111111111111,
              "#46039f"
             ],
             [
              0.2222222222222222,
              "#7201a8"
             ],
             [
              0.3333333333333333,
              "#9c179e"
             ],
             [
              0.4444444444444444,
              "#bd3786"
             ],
             [
              0.5555555555555556,
              "#d8576b"
             ],
             [
              0.6666666666666666,
              "#ed7953"
             ],
             [
              0.7777777777777778,
              "#fb9f3a"
             ],
             [
              0.8888888888888888,
              "#fdca26"
             ],
             [
              1,
              "#f0f921"
             ]
            ],
            "type": "surface"
           }
          ],
          "table": [
           {
            "cells": {
             "fill": {
              "color": "#EBF0F8"
             },
             "line": {
              "color": "white"
             }
            },
            "header": {
             "fill": {
              "color": "#C8D4E3"
             },
             "line": {
              "color": "white"
             }
            },
            "type": "table"
           }
          ]
         },
         "layout": {
          "annotationdefaults": {
           "arrowcolor": "#2a3f5f",
           "arrowhead": 0,
           "arrowwidth": 1
          },
          "autotypenumbers": "strict",
          "coloraxis": {
           "colorbar": {
            "outlinewidth": 0,
            "ticks": ""
           }
          },
          "colorscale": {
           "diverging": [
            [
             0,
             "#8e0152"
            ],
            [
             0.1,
             "#c51b7d"
            ],
            [
             0.2,
             "#de77ae"
            ],
            [
             0.3,
             "#f1b6da"
            ],
            [
             0.4,
             "#fde0ef"
            ],
            [
             0.5,
             "#f7f7f7"
            ],
            [
             0.6,
             "#e6f5d0"
            ],
            [
             0.7,
             "#b8e186"
            ],
            [
             0.8,
             "#7fbc41"
            ],
            [
             0.9,
             "#4d9221"
            ],
            [
             1,
             "#276419"
            ]
           ],
           "sequential": [
            [
             0,
             "#0d0887"
            ],
            [
             0.1111111111111111,
             "#46039f"
            ],
            [
             0.2222222222222222,
             "#7201a8"
            ],
            [
             0.3333333333333333,
             "#9c179e"
            ],
            [
             0.4444444444444444,
             "#bd3786"
            ],
            [
             0.5555555555555556,
             "#d8576b"
            ],
            [
             0.6666666666666666,
             "#ed7953"
            ],
            [
             0.7777777777777778,
             "#fb9f3a"
            ],
            [
             0.8888888888888888,
             "#fdca26"
            ],
            [
             1,
             "#f0f921"
            ]
           ],
           "sequentialminus": [
            [
             0,
             "#0d0887"
            ],
            [
             0.1111111111111111,
             "#46039f"
            ],
            [
             0.2222222222222222,
             "#7201a8"
            ],
            [
             0.3333333333333333,
             "#9c179e"
            ],
            [
             0.4444444444444444,
             "#bd3786"
            ],
            [
             0.5555555555555556,
             "#d8576b"
            ],
            [
             0.6666666666666666,
             "#ed7953"
            ],
            [
             0.7777777777777778,
             "#fb9f3a"
            ],
            [
             0.8888888888888888,
             "#fdca26"
            ],
            [
             1,
             "#f0f921"
            ]
           ]
          },
          "colorway": [
           "#636efa",
           "#EF553B",
           "#00cc96",
           "#ab63fa",
           "#FFA15A",
           "#19d3f3",
           "#FF6692",
           "#B6E880",
           "#FF97FF",
           "#FECB52"
          ],
          "font": {
           "color": "#2a3f5f"
          },
          "geo": {
           "bgcolor": "white",
           "lakecolor": "white",
           "landcolor": "#E5ECF6",
           "showlakes": true,
           "showland": true,
           "subunitcolor": "white"
          },
          "hoverlabel": {
           "align": "left"
          },
          "hovermode": "closest",
          "mapbox": {
           "style": "light"
          },
          "paper_bgcolor": "white",
          "plot_bgcolor": "#E5ECF6",
          "polar": {
           "angularaxis": {
            "gridcolor": "white",
            "linecolor": "white",
            "ticks": ""
           },
           "bgcolor": "#E5ECF6",
           "radialaxis": {
            "gridcolor": "white",
            "linecolor": "white",
            "ticks": ""
           }
          },
          "scene": {
           "xaxis": {
            "backgroundcolor": "#E5ECF6",
            "gridcolor": "white",
            "gridwidth": 2,
            "linecolor": "white",
            "showbackground": true,
            "ticks": "",
            "zerolinecolor": "white"
           },
           "yaxis": {
            "backgroundcolor": "#E5ECF6",
            "gridcolor": "white",
            "gridwidth": 2,
            "linecolor": "white",
            "showbackground": true,
            "ticks": "",
            "zerolinecolor": "white"
           },
           "zaxis": {
            "backgroundcolor": "#E5ECF6",
            "gridcolor": "white",
            "gridwidth": 2,
            "linecolor": "white",
            "showbackground": true,
            "ticks": "",
            "zerolinecolor": "white"
           }
          },
          "shapedefaults": {
           "line": {
            "color": "#2a3f5f"
           }
          },
          "ternary": {
           "aaxis": {
            "gridcolor": "white",
            "linecolor": "white",
            "ticks": ""
           },
           "baxis": {
            "gridcolor": "white",
            "linecolor": "white",
            "ticks": ""
           },
           "bgcolor": "#E5ECF6",
           "caxis": {
            "gridcolor": "white",
            "linecolor": "white",
            "ticks": ""
           }
          },
          "title": {
           "x": 0.05
          },
          "xaxis": {
           "automargin": true,
           "gridcolor": "white",
           "linecolor": "white",
           "ticks": "",
           "title": {
            "standoff": 15
           },
           "zerolinecolor": "white",
           "zerolinewidth": 2
          },
          "yaxis": {
           "automargin": true,
           "gridcolor": "white",
           "linecolor": "white",
           "ticks": "",
           "title": {
            "standoff": 15
           },
           "zerolinecolor": "white",
           "zerolinewidth": 2
          }
         }
        },
        "title": {
         "text": "Porównanie Modeli Predykcyjnych - Ceny Mieszkań w Warszawa",
         "x": 0.5
        },
        "xaxis": {
         "anchor": "y",
         "domain": [
          0,
          0.45
         ],
         "title": {
          "text": "Rzeczywiste ceny (PLN/m²)"
         }
        },
        "xaxis2": {
         "anchor": "y2",
         "domain": [
          0.55,
          1
         ],
         "title": {
          "text": "Model"
         }
        },
        "xaxis3": {
         "anchor": "y3",
         "domain": [
          0,
          0.45
         ],
         "title": {
          "text": "Model"
         }
        },
        "xaxis4": {
         "anchor": "y4",
         "domain": [
          0.55,
          1
         ],
         "title": {
          "text": "Ważność"
         }
        },
        "yaxis": {
         "anchor": "x",
         "domain": [
          0.625,
          1
         ],
         "title": {
          "text": "Predykcje (PLN/m²)"
         }
        },
        "yaxis2": {
         "anchor": "x2",
         "domain": [
          0.625,
          1
         ],
         "title": {
          "text": "Wartość metryki"
         }
        },
        "yaxis3": {
         "anchor": "x3",
         "domain": [
          0,
          0.375
         ],
         "title": {
          "text": "Błąd predykcji (PLN/m²)"
         }
        },
        "yaxis4": {
         "anchor": "x4",
         "domain": [
          0,
          0.375
         ],
         "title": {
          "text": "Cecha"
         }
        }
       }
      }
     },
     "metadata": {},
     "output_type": "display_data"
    },
    {
     "name": "stdout",
     "output_type": "stream",
     "text": [
      "\n",
      "🏆 PODSUMOWANIE WYDAJNOŚCI MODELI dla Warszawa:\n",
      "============================================================\n",
      "Linear Regression    | R²: 0.8666 | RMSE:     362 | MAE:    281 | MAPE:  2.10%\n",
      "\n",
      "==================================================\n",
      "ANALIZA DLA MIASTA: Kraków\n",
      "==================================================\n",
      "🤖 Przygotowywanie danych do modelowania dla miasta Kraków...\n",
      "📊 Przygotowano 142 próbek z 10 cechami\n",
      "📋 Cechy: ['rok', 'kwartal_num', 'indeks_czasowy', 'CPI_Y2Y', 'WIBOR', 'rynek_encoded', 'rok_kwadrat', 'cena_lag1', 'cena_lag4', 'cena_ma4']\n",
      "🏋️ Trenowanie modeli uczenia maszynowego...\n",
      "📊 Dane treningowe: 113 próbek, testowe: 29 próbek\n",
      "🔧 Trenowanie Linear Regression...\n",
      "✅ Linear Regression - R²: 0.8838, RMSE: 244, MAE: 186, MAPE: 1.60%\n",
      "📊 Tworzenie wizualizacji porównania modeli...\n"
     ]
    },
    {
     "data": {
      "application/vnd.plotly.v1+json": {
       "config": {
        "plotlyServerURL": "https://plot.ly"
       },
       "data": [
        {
         "marker": {
          "color": "blue",
          "opacity": 0.7,
          "size": 6
         },
         "mode": "markers",
         "name": "Linear Regression",
         "type": "scatter",
         "x": {
          "bdata": "dPeYEaL/wkDw+juq5CHEQLXfiJ2jh8NAQi7jX5IsxEDnP81PvZTEQODtRJPi/MRAlAa1CtPCxUBCnz3oW5jFQOJPzo6UqMZAnO0rcbynxUCi2ifD0ArHQIi8KY0ShMVAZ4WrVMNxxkCav8oxHdrFQOPE/CnEosZAb+aXaSNqx0Ci2ifD0ArHQKLaJ8PQCsdAJGmMMJj1x0AkaYwwmPXHQKLaJ8PQCsdAJGmMMJj1x0Ci2ifD0ArHQCRpjDCY9cdAotonw9AKx0AkaYwwmPXHQKLaJ8PQCsdAotonw9AKx0AkaYwwmPXHQA==",
          "dtype": "f8"
         },
         "xaxis": "x",
         "y": {
          "bdata": "4yc+nRqcwkDBf9LBUcjDQB+fqo3GhMNAdHZe15szxEBciqgOT6DEQPjBwjcZ0MRAn89odwpsxUCGUQeycVvFQIB6vWweQMZA8sJVX0DlxUDQhOLcWuDGQLWNge7kLsZAjK2cmn5gx0CY68qChvrFQL9XDTtvEcdAOh1rRmUjxkDGNDahirjGQD78/raYisZATJx5XRq/xkCphaArLlbHQEKCvwsgtMZA5T0HCa3cx0BUqh1E7sPGQJryHPsLv8dAsxDj9njOxkDQ0wgqjKHHQFJcrYJZ18ZAYtZYHtnvxkDfTbTFC7rHQA==",
          "dtype": "f8"
         },
         "yaxis": "y"
        },
        {
         "line": {
          "color": "gray",
          "dash": "dash"
         },
         "mode": "lines",
         "name": "Idealna predykcja",
         "showlegend": false,
         "type": "scatter",
         "x": [
          9473.273880079056,
          12521.181263536824
         ],
         "xaxis": "x",
         "y": [
          9473.273880079056,
          12521.181263536824
         ],
         "yaxis": "y"
        },
        {
         "name": "R²",
         "showlegend": true,
         "type": "bar",
         "x": [
          "Linear Regression"
         ],
         "xaxis": "x2",
         "y": [
          0.8838268096885673
         ],
         "yaxis": "y2"
        },
        {
         "name": "RMSE",
         "showlegend": true,
         "type": "bar",
         "x": [
          "Linear Regression"
         ],
         "xaxis": "x2",
         "y": [
          244.35420721582335
         ],
         "yaxis": "y2"
        },
        {
         "name": "MAE",
         "showlegend": true,
         "type": "bar",
         "x": [
          "Linear Regression"
         ],
         "xaxis": "x2",
         "y": [
          185.5642925734124
         ],
         "yaxis": "y2"
        },
        {
         "name": "MAPE",
         "showlegend": true,
         "type": "bar",
         "x": [
          "Linear Regression"
         ],
         "xaxis": "x2",
         "y": [
          1.6002657720480615
         ],
         "yaxis": "y2"
        },
        {
         "marker": {
          "color": "blue"
         },
         "name": "Linear Regression",
         "showlegend": false,
         "type": "box",
         "xaxis": "x3",
         "y": {
          "bdata": "QOSzFt3haEDAy14aumRmQACwBPJ+6BZAAMgg7d0lLMAA6pS2fSM3wAD0FcGtZFZAQL0N0ySyZUAA3iYbG3VeQIBYNYSIHWpAAKvqFPfBXsAA6aoi8zpVQKAl+ipMWnXAoAQlvmjXfcAA/xWAqDRQwAC3JETEqmvAUJPMMuJrhEAAd2l8iJFkQIDMG4UBB3BAgM0sMd1ng0Bgb3ydQO1zQAAYFtotrGVAAD8rhSfrSECAE4zCn7hhQABFu7caRltAgPdkIuYrXkAAVeWgAQNlQAAoPz2gu1lAAEAEz6T3SkCAog1sNcZdQA==",
          "dtype": "f8"
         },
         "yaxis": "y3"
        }
       ],
       "layout": {
        "annotations": [
         {
          "font": {
           "size": 16
          },
          "showarrow": false,
          "text": "Porównanie Predykcji vs Rzeczywiste",
          "x": 0.225,
          "xanchor": "center",
          "xref": "paper",
          "y": 1,
          "yanchor": "bottom",
          "yref": "paper"
         },
         {
          "font": {
           "size": 16
          },
          "showarrow": false,
          "text": "Metryki Wydajności Modeli",
          "x": 0.775,
          "xanchor": "center",
          "xref": "paper",
          "y": 1,
          "yanchor": "bottom",
          "yref": "paper"
         },
         {
          "font": {
           "size": 16
          },
          "showarrow": false,
          "text": "Błędy Predykcji (Residuals)",
          "x": 0.225,
          "xanchor": "center",
          "xref": "paper",
          "y": 0.375,
          "yanchor": "bottom",
          "yref": "paper"
         },
         {
          "font": {
           "size": 16
          },
          "showarrow": false,
          "text": "Ważność Cech (Random Forest)",
          "x": 0.775,
          "xanchor": "center",
          "xref": "paper",
          "y": 0.375,
          "yanchor": "bottom",
          "yref": "paper"
         }
        ],
        "height": 800,
        "legend": {
         "orientation": "h",
         "x": 0.5,
         "xanchor": "center",
         "y": 1.02,
         "yanchor": "bottom"
        },
        "template": {
         "data": {
          "bar": [
           {
            "error_x": {
             "color": "#2a3f5f"
            },
            "error_y": {
             "color": "#2a3f5f"
            },
            "marker": {
             "line": {
              "color": "#E5ECF6",
              "width": 0.5
             },
             "pattern": {
              "fillmode": "overlay",
              "size": 10,
              "solidity": 0.2
             }
            },
            "type": "bar"
           }
          ],
          "barpolar": [
           {
            "marker": {
             "line": {
              "color": "#E5ECF6",
              "width": 0.5
             },
             "pattern": {
              "fillmode": "overlay",
              "size": 10,
              "solidity": 0.2
             }
            },
            "type": "barpolar"
           }
          ],
          "carpet": [
           {
            "aaxis": {
             "endlinecolor": "#2a3f5f",
             "gridcolor": "white",
             "linecolor": "white",
             "minorgridcolor": "white",
             "startlinecolor": "#2a3f5f"
            },
            "baxis": {
             "endlinecolor": "#2a3f5f",
             "gridcolor": "white",
             "linecolor": "white",
             "minorgridcolor": "white",
             "startlinecolor": "#2a3f5f"
            },
            "type": "carpet"
           }
          ],
          "choropleth": [
           {
            "colorbar": {
             "outlinewidth": 0,
             "ticks": ""
            },
            "type": "choropleth"
           }
          ],
          "contour": [
           {
            "colorbar": {
             "outlinewidth": 0,
             "ticks": ""
            },
            "colorscale": [
             [
              0,
              "#0d0887"
             ],
             [
              0.1111111111111111,
              "#46039f"
             ],
             [
              0.2222222222222222,
              "#7201a8"
             ],
             [
              0.3333333333333333,
              "#9c179e"
             ],
             [
              0.4444444444444444,
              "#bd3786"
             ],
             [
              0.5555555555555556,
              "#d8576b"
             ],
             [
              0.6666666666666666,
              "#ed7953"
             ],
             [
              0.7777777777777778,
              "#fb9f3a"
             ],
             [
              0.8888888888888888,
              "#fdca26"
             ],
             [
              1,
              "#f0f921"
             ]
            ],
            "type": "contour"
           }
          ],
          "contourcarpet": [
           {
            "colorbar": {
             "outlinewidth": 0,
             "ticks": ""
            },
            "type": "contourcarpet"
           }
          ],
          "heatmap": [
           {
            "colorbar": {
             "outlinewidth": 0,
             "ticks": ""
            },
            "colorscale": [
             [
              0,
              "#0d0887"
             ],
             [
              0.1111111111111111,
              "#46039f"
             ],
             [
              0.2222222222222222,
              "#7201a8"
             ],
             [
              0.3333333333333333,
              "#9c179e"
             ],
             [
              0.4444444444444444,
              "#bd3786"
             ],
             [
              0.5555555555555556,
              "#d8576b"
             ],
             [
              0.6666666666666666,
              "#ed7953"
             ],
             [
              0.7777777777777778,
              "#fb9f3a"
             ],
             [
              0.8888888888888888,
              "#fdca26"
             ],
             [
              1,
              "#f0f921"
             ]
            ],
            "type": "heatmap"
           }
          ],
          "histogram": [
           {
            "marker": {
             "pattern": {
              "fillmode": "overlay",
              "size": 10,
              "solidity": 0.2
             }
            },
            "type": "histogram"
           }
          ],
          "histogram2d": [
           {
            "colorbar": {
             "outlinewidth": 0,
             "ticks": ""
            },
            "colorscale": [
             [
              0,
              "#0d0887"
             ],
             [
              0.1111111111111111,
              "#46039f"
             ],
             [
              0.2222222222222222,
              "#7201a8"
             ],
             [
              0.3333333333333333,
              "#9c179e"
             ],
             [
              0.4444444444444444,
              "#bd3786"
             ],
             [
              0.5555555555555556,
              "#d8576b"
             ],
             [
              0.6666666666666666,
              "#ed7953"
             ],
             [
              0.7777777777777778,
              "#fb9f3a"
             ],
             [
              0.8888888888888888,
              "#fdca26"
             ],
             [
              1,
              "#f0f921"
             ]
            ],
            "type": "histogram2d"
           }
          ],
          "histogram2dcontour": [
           {
            "colorbar": {
             "outlinewidth": 0,
             "ticks": ""
            },
            "colorscale": [
             [
              0,
              "#0d0887"
             ],
             [
              0.1111111111111111,
              "#46039f"
             ],
             [
              0.2222222222222222,
              "#7201a8"
             ],
             [
              0.3333333333333333,
              "#9c179e"
             ],
             [
              0.4444444444444444,
              "#bd3786"
             ],
             [
              0.5555555555555556,
              "#d8576b"
             ],
             [
              0.6666666666666666,
              "#ed7953"
             ],
             [
              0.7777777777777778,
              "#fb9f3a"
             ],
             [
              0.8888888888888888,
              "#fdca26"
             ],
             [
              1,
              "#f0f921"
             ]
            ],
            "type": "histogram2dcontour"
           }
          ],
          "mesh3d": [
           {
            "colorbar": {
             "outlinewidth": 0,
             "ticks": ""
            },
            "type": "mesh3d"
           }
          ],
          "parcoords": [
           {
            "line": {
             "colorbar": {
              "outlinewidth": 0,
              "ticks": ""
             }
            },
            "type": "parcoords"
           }
          ],
          "pie": [
           {
            "automargin": true,
            "type": "pie"
           }
          ],
          "scatter": [
           {
            "fillpattern": {
             "fillmode": "overlay",
             "size": 10,
             "solidity": 0.2
            },
            "type": "scatter"
           }
          ],
          "scatter3d": [
           {
            "line": {
             "colorbar": {
              "outlinewidth": 0,
              "ticks": ""
             }
            },
            "marker": {
             "colorbar": {
              "outlinewidth": 0,
              "ticks": ""
             }
            },
            "type": "scatter3d"
           }
          ],
          "scattercarpet": [
           {
            "marker": {
             "colorbar": {
              "outlinewidth": 0,
              "ticks": ""
             }
            },
            "type": "scattercarpet"
           }
          ],
          "scattergeo": [
           {
            "marker": {
             "colorbar": {
              "outlinewidth": 0,
              "ticks": ""
             }
            },
            "type": "scattergeo"
           }
          ],
          "scattergl": [
           {
            "marker": {
             "colorbar": {
              "outlinewidth": 0,
              "ticks": ""
             }
            },
            "type": "scattergl"
           }
          ],
          "scattermap": [
           {
            "marker": {
             "colorbar": {
              "outlinewidth": 0,
              "ticks": ""
             }
            },
            "type": "scattermap"
           }
          ],
          "scattermapbox": [
           {
            "marker": {
             "colorbar": {
              "outlinewidth": 0,
              "ticks": ""
             }
            },
            "type": "scattermapbox"
           }
          ],
          "scatterpolar": [
           {
            "marker": {
             "colorbar": {
              "outlinewidth": 0,
              "ticks": ""
             }
            },
            "type": "scatterpolar"
           }
          ],
          "scatterpolargl": [
           {
            "marker": {
             "colorbar": {
              "outlinewidth": 0,
              "ticks": ""
             }
            },
            "type": "scatterpolargl"
           }
          ],
          "scatterternary": [
           {
            "marker": {
             "colorbar": {
              "outlinewidth": 0,
              "ticks": ""
             }
            },
            "type": "scatterternary"
           }
          ],
          "surface": [
           {
            "colorbar": {
             "outlinewidth": 0,
             "ticks": ""
            },
            "colorscale": [
             [
              0,
              "#0d0887"
             ],
             [
              0.1111111111111111,
              "#46039f"
             ],
             [
              0.2222222222222222,
              "#7201a8"
             ],
             [
              0.3333333333333333,
              "#9c179e"
             ],
             [
              0.4444444444444444,
              "#bd3786"
             ],
             [
              0.5555555555555556,
              "#d8576b"
             ],
             [
              0.6666666666666666,
              "#ed7953"
             ],
             [
              0.7777777777777778,
              "#fb9f3a"
             ],
             [
              0.8888888888888888,
              "#fdca26"
             ],
             [
              1,
              "#f0f921"
             ]
            ],
            "type": "surface"
           }
          ],
          "table": [
           {
            "cells": {
             "fill": {
              "color": "#EBF0F8"
             },
             "line": {
              "color": "white"
             }
            },
            "header": {
             "fill": {
              "color": "#C8D4E3"
             },
             "line": {
              "color": "white"
             }
            },
            "type": "table"
           }
          ]
         },
         "layout": {
          "annotationdefaults": {
           "arrowcolor": "#2a3f5f",
           "arrowhead": 0,
           "arrowwidth": 1
          },
          "autotypenumbers": "strict",
          "coloraxis": {
           "colorbar": {
            "outlinewidth": 0,
            "ticks": ""
           }
          },
          "colorscale": {
           "diverging": [
            [
             0,
             "#8e0152"
            ],
            [
             0.1,
             "#c51b7d"
            ],
            [
             0.2,
             "#de77ae"
            ],
            [
             0.3,
             "#f1b6da"
            ],
            [
             0.4,
             "#fde0ef"
            ],
            [
             0.5,
             "#f7f7f7"
            ],
            [
             0.6,
             "#e6f5d0"
            ],
            [
             0.7,
             "#b8e186"
            ],
            [
             0.8,
             "#7fbc41"
            ],
            [
             0.9,
             "#4d9221"
            ],
            [
             1,
             "#276419"
            ]
           ],
           "sequential": [
            [
             0,
             "#0d0887"
            ],
            [
             0.1111111111111111,
             "#46039f"
            ],
            [
             0.2222222222222222,
             "#7201a8"
            ],
            [
             0.3333333333333333,
             "#9c179e"
            ],
            [
             0.4444444444444444,
             "#bd3786"
            ],
            [
             0.5555555555555556,
             "#d8576b"
            ],
            [
             0.6666666666666666,
             "#ed7953"
            ],
            [
             0.7777777777777778,
             "#fb9f3a"
            ],
            [
             0.8888888888888888,
             "#fdca26"
            ],
            [
             1,
             "#f0f921"
            ]
           ],
           "sequentialminus": [
            [
             0,
             "#0d0887"
            ],
            [
             0.1111111111111111,
             "#46039f"
            ],
            [
             0.2222222222222222,
             "#7201a8"
            ],
            [
             0.3333333333333333,
             "#9c179e"
            ],
            [
             0.4444444444444444,
             "#bd3786"
            ],
            [
             0.5555555555555556,
             "#d8576b"
            ],
            [
             0.6666666666666666,
             "#ed7953"
            ],
            [
             0.7777777777777778,
             "#fb9f3a"
            ],
            [
             0.8888888888888888,
             "#fdca26"
            ],
            [
             1,
             "#f0f921"
            ]
           ]
          },
          "colorway": [
           "#636efa",
           "#EF553B",
           "#00cc96",
           "#ab63fa",
           "#FFA15A",
           "#19d3f3",
           "#FF6692",
           "#B6E880",
           "#FF97FF",
           "#FECB52"
          ],
          "font": {
           "color": "#2a3f5f"
          },
          "geo": {
           "bgcolor": "white",
           "lakecolor": "white",
           "landcolor": "#E5ECF6",
           "showlakes": true,
           "showland": true,
           "subunitcolor": "white"
          },
          "hoverlabel": {
           "align": "left"
          },
          "hovermode": "closest",
          "mapbox": {
           "style": "light"
          },
          "paper_bgcolor": "white",
          "plot_bgcolor": "#E5ECF6",
          "polar": {
           "angularaxis": {
            "gridcolor": "white",
            "linecolor": "white",
            "ticks": ""
           },
           "bgcolor": "#E5ECF6",
           "radialaxis": {
            "gridcolor": "white",
            "linecolor": "white",
            "ticks": ""
           }
          },
          "scene": {
           "xaxis": {
            "backgroundcolor": "#E5ECF6",
            "gridcolor": "white",
            "gridwidth": 2,
            "linecolor": "white",
            "showbackground": true,
            "ticks": "",
            "zerolinecolor": "white"
           },
           "yaxis": {
            "backgroundcolor": "#E5ECF6",
            "gridcolor": "white",
            "gridwidth": 2,
            "linecolor": "white",
            "showbackground": true,
            "ticks": "",
            "zerolinecolor": "white"
           },
           "zaxis": {
            "backgroundcolor": "#E5ECF6",
            "gridcolor": "white",
            "gridwidth": 2,
            "linecolor": "white",
            "showbackground": true,
            "ticks": "",
            "zerolinecolor": "white"
           }
          },
          "shapedefaults": {
           "line": {
            "color": "#2a3f5f"
           }
          },
          "ternary": {
           "aaxis": {
            "gridcolor": "white",
            "linecolor": "white",
            "ticks": ""
           },
           "baxis": {
            "gridcolor": "white",
            "linecolor": "white",
            "ticks": ""
           },
           "bgcolor": "#E5ECF6",
           "caxis": {
            "gridcolor": "white",
            "linecolor": "white",
            "ticks": ""
           }
          },
          "title": {
           "x": 0.05
          },
          "xaxis": {
           "automargin": true,
           "gridcolor": "white",
           "linecolor": "white",
           "ticks": "",
           "title": {
            "standoff": 15
           },
           "zerolinecolor": "white",
           "zerolinewidth": 2
          },
          "yaxis": {
           "automargin": true,
           "gridcolor": "white",
           "linecolor": "white",
           "ticks": "",
           "title": {
            "standoff": 15
           },
           "zerolinecolor": "white",
           "zerolinewidth": 2
          }
         }
        },
        "title": {
         "text": "Porównanie Modeli Predykcyjnych - Ceny Mieszkań w Kraków",
         "x": 0.5
        },
        "xaxis": {
         "anchor": "y",
         "domain": [
          0,
          0.45
         ],
         "title": {
          "text": "Rzeczywiste ceny (PLN/m²)"
         }
        },
        "xaxis2": {
         "anchor": "y2",
         "domain": [
          0.55,
          1
         ],
         "title": {
          "text": "Model"
         }
        },
        "xaxis3": {
         "anchor": "y3",
         "domain": [
          0,
          0.45
         ],
         "title": {
          "text": "Model"
         }
        },
        "xaxis4": {
         "anchor": "y4",
         "domain": [
          0.55,
          1
         ],
         "title": {
          "text": "Ważność"
         }
        },
        "yaxis": {
         "anchor": "x",
         "domain": [
          0.625,
          1
         ],
         "title": {
          "text": "Predykcje (PLN/m²)"
         }
        },
        "yaxis2": {
         "anchor": "x2",
         "domain": [
          0.625,
          1
         ],
         "title": {
          "text": "Wartość metryki"
         }
        },
        "yaxis3": {
         "anchor": "x3",
         "domain": [
          0,
          0.375
         ],
         "title": {
          "text": "Błąd predykcji (PLN/m²)"
         }
        },
        "yaxis4": {
         "anchor": "x4",
         "domain": [
          0,
          0.375
         ],
         "title": {
          "text": "Cecha"
         }
        }
       }
      }
     },
     "metadata": {},
     "output_type": "display_data"
    },
    {
     "name": "stdout",
     "output_type": "stream",
     "text": [
      "\n",
      "🏆 PODSUMOWANIE WYDAJNOŚCI MODELI dla Kraków:\n",
      "============================================================\n",
      "Linear Regression    | R²: 0.8838 | RMSE:     244 | MAE:    186 | MAPE:  1.60%\n",
      "\n",
      "==================================================\n",
      "ANALIZA DLA MIASTA: Wrocław\n",
      "==================================================\n",
      "🤖 Przygotowywanie danych do modelowania dla miasta Wrocław...\n",
      "📊 Przygotowano 142 próbek z 10 cechami\n",
      "📋 Cechy: ['rok', 'kwartal_num', 'indeks_czasowy', 'CPI_Y2Y', 'WIBOR', 'rynek_encoded', 'rok_kwadrat', 'cena_lag1', 'cena_lag4', 'cena_ma4']\n",
      "🏋️ Trenowanie modeli uczenia maszynowego...\n",
      "📊 Dane treningowe: 113 próbek, testowe: 29 próbek\n",
      "🔧 Trenowanie Linear Regression...\n",
      "✅ Linear Regression - R²: 0.9096, RMSE: 275, MAE: 243, MAPE: 2.28%\n",
      "📊 Tworzenie wizualizacji porównania modeli...\n"
     ]
    },
    {
     "data": {
      "application/vnd.plotly.v1+json": {
       "config": {
        "plotlyServerURL": "https://plot.ly"
       },
       "data": [
        {
         "marker": {
          "color": "blue",
          "opacity": 0.7,
          "size": 6
         },
         "mode": "markers",
         "name": "Linear Regression",
         "type": "scatter",
         "x": {
          "bdata": "08m9rn5dwUAU0ZTXbZHCQM5x0kqxfMFAnqFHszD5wUALbFPOpJbDQAri6Y8U68JAjHhcy9AwxEBNTX/Ax+DDQHDPVuzBi8RAoULJCfPAw0Dw/d7co2rEQL9U8tAUfsNA1sOl4+SzxUB4k3YIEf3DQJLAwqVHQsZAVil6XLhaxEDobiiRqeDGQGhNwjChWcdAVil6XLhaxEBWKXpcuFrEQGhNwjChWcdAVil6XLhaxEBoTcIwoVnHQFYpely4WsRAaE3CMKFZx0BWKXpcuFrEQGhNwjChWcdAaE3CMKFZx0BWKXpcuFrEQA==",
          "dtype": "f8"
         },
         "xaxis": "x",
         "y": {
          "bdata": "T9ic1+pUwUBWsLkgCfzBQIboNAPUUcFATNuHwdjOwUBSD824+7HCQCKMjTSjRcJAkJBxhKd5w0CW0FmKDPvCQEhjCgDRJsRAG/blJL6Qw0D3V9x3G5fEQPa+ro+S+cNAirjqyoEdxUBye7KcdDXEQEAkZ7pyrMVAGBQM/llWxEDC981XvULGQODngLGIEsdADCgJhUmYxEC8IPepluHEQP4AXP8bgMdAFu4fN6r9xEBbwaqrnMbHQHttbZMhCMVAiPgfVW/qx0B8JLNTYhTFQHSZy7Gk8cdAYK7KM64PyEBoObLVazLFQA==",
          "dtype": "f8"
         },
         "yaxis": "y"
        },
        {
         "line": {
          "color": "gray",
          "dash": "dash"
         },
         "mode": "lines",
         "name": "Idealna predykcja",
         "showlegend": false,
         "type": "scatter",
         "x": [
          8584.562748400804,
          12261.686259788723
         ],
         "xaxis": "x",
         "y": [
          8584.562748400804,
          12261.686259788723
         ],
         "yaxis": "y"
        },
        {
         "name": "R²",
         "showlegend": true,
         "type": "bar",
         "x": [
          "Linear Regression"
         ],
         "xaxis": "x2",
         "y": [
          0.909600724623678
         ],
         "yaxis": "y2"
        },
        {
         "name": "RMSE",
         "showlegend": true,
         "type": "bar",
         "x": [
          "Linear Regression"
         ],
         "xaxis": "x2",
         "y": [
          275.47586274259436
         ],
         "yaxis": "y2"
        },
        {
         "name": "MAE",
         "showlegend": true,
         "type": "bar",
         "x": [
          "Linear Regression"
         ],
         "xaxis": "x2",
         "y": [
          242.60438443054804
         ],
         "yaxis": "y2"
        },
        {
         "name": "MAPE",
         "showlegend": true,
         "type": "bar",
         "x": [
          "Linear Regression"
         ],
         "xaxis": "x2",
         "y": [
          2.284787403802387
         ],
         "yaxis": "y2"
        },
        {
         "marker": {
          "color": "blue"
         },
         "name": "Linear Regression",
         "showlegend": false,
         "type": "box",
         "xaxis": "x3",
         "y": {
          "bdata": "AAjjQa4nMUDAF2TblqxyQACkxM6jblVAACnj3/grVUAgl8uwIpV8QAC9imsrrnRAgP9c3SjldkDglq/EZrd8QAAKGxM7PGlAAEOmcXIaWECAA61+zTtWwMCNGq9v327AgGlhF2PMckAA/fMdyjFcwECKc2udunJAAPhUuHl5IUDA5E4rh71zQABiWdAfxmFAAFt/R5TIXsDA7J6vydtwwADL2UxnPVPAAJi4VDtedMDA/By63j5rwKCEaN4mrXXAAGS1i8QZcsDAZB/nPjV3wICBKSFwAHPAAB8MYaDBdsBAAgInb/Z6wA==",
          "dtype": "f8"
         },
         "yaxis": "y3"
        }
       ],
       "layout": {
        "annotations": [
         {
          "font": {
           "size": 16
          },
          "showarrow": false,
          "text": "Porównanie Predykcji vs Rzeczywiste",
          "x": 0.225,
          "xanchor": "center",
          "xref": "paper",
          "y": 1,
          "yanchor": "bottom",
          "yref": "paper"
         },
         {
          "font": {
           "size": 16
          },
          "showarrow": false,
          "text": "Metryki Wydajności Modeli",
          "x": 0.775,
          "xanchor": "center",
          "xref": "paper",
          "y": 1,
          "yanchor": "bottom",
          "yref": "paper"
         },
         {
          "font": {
           "size": 16
          },
          "showarrow": false,
          "text": "Błędy Predykcji (Residuals)",
          "x": 0.225,
          "xanchor": "center",
          "xref": "paper",
          "y": 0.375,
          "yanchor": "bottom",
          "yref": "paper"
         },
         {
          "font": {
           "size": 16
          },
          "showarrow": false,
          "text": "Ważność Cech (Random Forest)",
          "x": 0.775,
          "xanchor": "center",
          "xref": "paper",
          "y": 0.375,
          "yanchor": "bottom",
          "yref": "paper"
         }
        ],
        "height": 800,
        "legend": {
         "orientation": "h",
         "x": 0.5,
         "xanchor": "center",
         "y": 1.02,
         "yanchor": "bottom"
        },
        "template": {
         "data": {
          "bar": [
           {
            "error_x": {
             "color": "#2a3f5f"
            },
            "error_y": {
             "color": "#2a3f5f"
            },
            "marker": {
             "line": {
              "color": "#E5ECF6",
              "width": 0.5
             },
             "pattern": {
              "fillmode": "overlay",
              "size": 10,
              "solidity": 0.2
             }
            },
            "type": "bar"
           }
          ],
          "barpolar": [
           {
            "marker": {
             "line": {
              "color": "#E5ECF6",
              "width": 0.5
             },
             "pattern": {
              "fillmode": "overlay",
              "size": 10,
              "solidity": 0.2
             }
            },
            "type": "barpolar"
           }
          ],
          "carpet": [
           {
            "aaxis": {
             "endlinecolor": "#2a3f5f",
             "gridcolor": "white",
             "linecolor": "white",
             "minorgridcolor": "white",
             "startlinecolor": "#2a3f5f"
            },
            "baxis": {
             "endlinecolor": "#2a3f5f",
             "gridcolor": "white",
             "linecolor": "white",
             "minorgridcolor": "white",
             "startlinecolor": "#2a3f5f"
            },
            "type": "carpet"
           }
          ],
          "choropleth": [
           {
            "colorbar": {
             "outlinewidth": 0,
             "ticks": ""
            },
            "type": "choropleth"
           }
          ],
          "contour": [
           {
            "colorbar": {
             "outlinewidth": 0,
             "ticks": ""
            },
            "colorscale": [
             [
              0,
              "#0d0887"
             ],
             [
              0.1111111111111111,
              "#46039f"
             ],
             [
              0.2222222222222222,
              "#7201a8"
             ],
             [
              0.3333333333333333,
              "#9c179e"
             ],
             [
              0.4444444444444444,
              "#bd3786"
             ],
             [
              0.5555555555555556,
              "#d8576b"
             ],
             [
              0.6666666666666666,
              "#ed7953"
             ],
             [
              0.7777777777777778,
              "#fb9f3a"
             ],
             [
              0.8888888888888888,
              "#fdca26"
             ],
             [
              1,
              "#f0f921"
             ]
            ],
            "type": "contour"
           }
          ],
          "contourcarpet": [
           {
            "colorbar": {
             "outlinewidth": 0,
             "ticks": ""
            },
            "type": "contourcarpet"
           }
          ],
          "heatmap": [
           {
            "colorbar": {
             "outlinewidth": 0,
             "ticks": ""
            },
            "colorscale": [
             [
              0,
              "#0d0887"
             ],
             [
              0.1111111111111111,
              "#46039f"
             ],
             [
              0.2222222222222222,
              "#7201a8"
             ],
             [
              0.3333333333333333,
              "#9c179e"
             ],
             [
              0.4444444444444444,
              "#bd3786"
             ],
             [
              0.5555555555555556,
              "#d8576b"
             ],
             [
              0.6666666666666666,
              "#ed7953"
             ],
             [
              0.7777777777777778,
              "#fb9f3a"
             ],
             [
              0.8888888888888888,
              "#fdca26"
             ],
             [
              1,
              "#f0f921"
             ]
            ],
            "type": "heatmap"
           }
          ],
          "histogram": [
           {
            "marker": {
             "pattern": {
              "fillmode": "overlay",
              "size": 10,
              "solidity": 0.2
             }
            },
            "type": "histogram"
           }
          ],
          "histogram2d": [
           {
            "colorbar": {
             "outlinewidth": 0,
             "ticks": ""
            },
            "colorscale": [
             [
              0,
              "#0d0887"
             ],
             [
              0.1111111111111111,
              "#46039f"
             ],
             [
              0.2222222222222222,
              "#7201a8"
             ],
             [
              0.3333333333333333,
              "#9c179e"
             ],
             [
              0.4444444444444444,
              "#bd3786"
             ],
             [
              0.5555555555555556,
              "#d8576b"
             ],
             [
              0.6666666666666666,
              "#ed7953"
             ],
             [
              0.7777777777777778,
              "#fb9f3a"
             ],
             [
              0.8888888888888888,
              "#fdca26"
             ],
             [
              1,
              "#f0f921"
             ]
            ],
            "type": "histogram2d"
           }
          ],
          "histogram2dcontour": [
           {
            "colorbar": {
             "outlinewidth": 0,
             "ticks": ""
            },
            "colorscale": [
             [
              0,
              "#0d0887"
             ],
             [
              0.1111111111111111,
              "#46039f"
             ],
             [
              0.2222222222222222,
              "#7201a8"
             ],
             [
              0.3333333333333333,
              "#9c179e"
             ],
             [
              0.4444444444444444,
              "#bd3786"
             ],
             [
              0.5555555555555556,
              "#d8576b"
             ],
             [
              0.6666666666666666,
              "#ed7953"
             ],
             [
              0.7777777777777778,
              "#fb9f3a"
             ],
             [
              0.8888888888888888,
              "#fdca26"
             ],
             [
              1,
              "#f0f921"
             ]
            ],
            "type": "histogram2dcontour"
           }
          ],
          "mesh3d": [
           {
            "colorbar": {
             "outlinewidth": 0,
             "ticks": ""
            },
            "type": "mesh3d"
           }
          ],
          "parcoords": [
           {
            "line": {
             "colorbar": {
              "outlinewidth": 0,
              "ticks": ""
             }
            },
            "type": "parcoords"
           }
          ],
          "pie": [
           {
            "automargin": true,
            "type": "pie"
           }
          ],
          "scatter": [
           {
            "fillpattern": {
             "fillmode": "overlay",
             "size": 10,
             "solidity": 0.2
            },
            "type": "scatter"
           }
          ],
          "scatter3d": [
           {
            "line": {
             "colorbar": {
              "outlinewidth": 0,
              "ticks": ""
             }
            },
            "marker": {
             "colorbar": {
              "outlinewidth": 0,
              "ticks": ""
             }
            },
            "type": "scatter3d"
           }
          ],
          "scattercarpet": [
           {
            "marker": {
             "colorbar": {
              "outlinewidth": 0,
              "ticks": ""
             }
            },
            "type": "scattercarpet"
           }
          ],
          "scattergeo": [
           {
            "marker": {
             "colorbar": {
              "outlinewidth": 0,
              "ticks": ""
             }
            },
            "type": "scattergeo"
           }
          ],
          "scattergl": [
           {
            "marker": {
             "colorbar": {
              "outlinewidth": 0,
              "ticks": ""
             }
            },
            "type": "scattergl"
           }
          ],
          "scattermap": [
           {
            "marker": {
             "colorbar": {
              "outlinewidth": 0,
              "ticks": ""
             }
            },
            "type": "scattermap"
           }
          ],
          "scattermapbox": [
           {
            "marker": {
             "colorbar": {
              "outlinewidth": 0,
              "ticks": ""
             }
            },
            "type": "scattermapbox"
           }
          ],
          "scatterpolar": [
           {
            "marker": {
             "colorbar": {
              "outlinewidth": 0,
              "ticks": ""
             }
            },
            "type": "scatterpolar"
           }
          ],
          "scatterpolargl": [
           {
            "marker": {
             "colorbar": {
              "outlinewidth": 0,
              "ticks": ""
             }
            },
            "type": "scatterpolargl"
           }
          ],
          "scatterternary": [
           {
            "marker": {
             "colorbar": {
              "outlinewidth": 0,
              "ticks": ""
             }
            },
            "type": "scatterternary"
           }
          ],
          "surface": [
           {
            "colorbar": {
             "outlinewidth": 0,
             "ticks": ""
            },
            "colorscale": [
             [
              0,
              "#0d0887"
             ],
             [
              0.1111111111111111,
              "#46039f"
             ],
             [
              0.2222222222222222,
              "#7201a8"
             ],
             [
              0.3333333333333333,
              "#9c179e"
             ],
             [
              0.4444444444444444,
              "#bd3786"
             ],
             [
              0.5555555555555556,
              "#d8576b"
             ],
             [
              0.6666666666666666,
              "#ed7953"
             ],
             [
              0.7777777777777778,
              "#fb9f3a"
             ],
             [
              0.8888888888888888,
              "#fdca26"
             ],
             [
              1,
              "#f0f921"
             ]
            ],
            "type": "surface"
           }
          ],
          "table": [
           {
            "cells": {
             "fill": {
              "color": "#EBF0F8"
             },
             "line": {
              "color": "white"
             }
            },
            "header": {
             "fill": {
              "color": "#C8D4E3"
             },
             "line": {
              "color": "white"
             }
            },
            "type": "table"
           }
          ]
         },
         "layout": {
          "annotationdefaults": {
           "arrowcolor": "#2a3f5f",
           "arrowhead": 0,
           "arrowwidth": 1
          },
          "autotypenumbers": "strict",
          "coloraxis": {
           "colorbar": {
            "outlinewidth": 0,
            "ticks": ""
           }
          },
          "colorscale": {
           "diverging": [
            [
             0,
             "#8e0152"
            ],
            [
             0.1,
             "#c51b7d"
            ],
            [
             0.2,
             "#de77ae"
            ],
            [
             0.3,
             "#f1b6da"
            ],
            [
             0.4,
             "#fde0ef"
            ],
            [
             0.5,
             "#f7f7f7"
            ],
            [
             0.6,
             "#e6f5d0"
            ],
            [
             0.7,
             "#b8e186"
            ],
            [
             0.8,
             "#7fbc41"
            ],
            [
             0.9,
             "#4d9221"
            ],
            [
             1,
             "#276419"
            ]
           ],
           "sequential": [
            [
             0,
             "#0d0887"
            ],
            [
             0.1111111111111111,
             "#46039f"
            ],
            [
             0.2222222222222222,
             "#7201a8"
            ],
            [
             0.3333333333333333,
             "#9c179e"
            ],
            [
             0.4444444444444444,
             "#bd3786"
            ],
            [
             0.5555555555555556,
             "#d8576b"
            ],
            [
             0.6666666666666666,
             "#ed7953"
            ],
            [
             0.7777777777777778,
             "#fb9f3a"
            ],
            [
             0.8888888888888888,
             "#fdca26"
            ],
            [
             1,
             "#f0f921"
            ]
           ],
           "sequentialminus": [
            [
             0,
             "#0d0887"
            ],
            [
             0.1111111111111111,
             "#46039f"
            ],
            [
             0.2222222222222222,
             "#7201a8"
            ],
            [
             0.3333333333333333,
             "#9c179e"
            ],
            [
             0.4444444444444444,
             "#bd3786"
            ],
            [
             0.5555555555555556,
             "#d8576b"
            ],
            [
             0.6666666666666666,
             "#ed7953"
            ],
            [
             0.7777777777777778,
             "#fb9f3a"
            ],
            [
             0.8888888888888888,
             "#fdca26"
            ],
            [
             1,
             "#f0f921"
            ]
           ]
          },
          "colorway": [
           "#636efa",
           "#EF553B",
           "#00cc96",
           "#ab63fa",
           "#FFA15A",
           "#19d3f3",
           "#FF6692",
           "#B6E880",
           "#FF97FF",
           "#FECB52"
          ],
          "font": {
           "color": "#2a3f5f"
          },
          "geo": {
           "bgcolor": "white",
           "lakecolor": "white",
           "landcolor": "#E5ECF6",
           "showlakes": true,
           "showland": true,
           "subunitcolor": "white"
          },
          "hoverlabel": {
           "align": "left"
          },
          "hovermode": "closest",
          "mapbox": {
           "style": "light"
          },
          "paper_bgcolor": "white",
          "plot_bgcolor": "#E5ECF6",
          "polar": {
           "angularaxis": {
            "gridcolor": "white",
            "linecolor": "white",
            "ticks": ""
           },
           "bgcolor": "#E5ECF6",
           "radialaxis": {
            "gridcolor": "white",
            "linecolor": "white",
            "ticks": ""
           }
          },
          "scene": {
           "xaxis": {
            "backgroundcolor": "#E5ECF6",
            "gridcolor": "white",
            "gridwidth": 2,
            "linecolor": "white",
            "showbackground": true,
            "ticks": "",
            "zerolinecolor": "white"
           },
           "yaxis": {
            "backgroundcolor": "#E5ECF6",
            "gridcolor": "white",
            "gridwidth": 2,
            "linecolor": "white",
            "showbackground": true,
            "ticks": "",
            "zerolinecolor": "white"
           },
           "zaxis": {
            "backgroundcolor": "#E5ECF6",
            "gridcolor": "white",
            "gridwidth": 2,
            "linecolor": "white",
            "showbackground": true,
            "ticks": "",
            "zerolinecolor": "white"
           }
          },
          "shapedefaults": {
           "line": {
            "color": "#2a3f5f"
           }
          },
          "ternary": {
           "aaxis": {
            "gridcolor": "white",
            "linecolor": "white",
            "ticks": ""
           },
           "baxis": {
            "gridcolor": "white",
            "linecolor": "white",
            "ticks": ""
           },
           "bgcolor": "#E5ECF6",
           "caxis": {
            "gridcolor": "white",
            "linecolor": "white",
            "ticks": ""
           }
          },
          "title": {
           "x": 0.05
          },
          "xaxis": {
           "automargin": true,
           "gridcolor": "white",
           "linecolor": "white",
           "ticks": "",
           "title": {
            "standoff": 15
           },
           "zerolinecolor": "white",
           "zerolinewidth": 2
          },
          "yaxis": {
           "automargin": true,
           "gridcolor": "white",
           "linecolor": "white",
           "ticks": "",
           "title": {
            "standoff": 15
           },
           "zerolinecolor": "white",
           "zerolinewidth": 2
          }
         }
        },
        "title": {
         "text": "Porównanie Modeli Predykcyjnych - Ceny Mieszkań w Wrocław",
         "x": 0.5
        },
        "xaxis": {
         "anchor": "y",
         "domain": [
          0,
          0.45
         ],
         "title": {
          "text": "Rzeczywiste ceny (PLN/m²)"
         }
        },
        "xaxis2": {
         "anchor": "y2",
         "domain": [
          0.55,
          1
         ],
         "title": {
          "text": "Model"
         }
        },
        "xaxis3": {
         "anchor": "y3",
         "domain": [
          0,
          0.45
         ],
         "title": {
          "text": "Model"
         }
        },
        "xaxis4": {
         "anchor": "y4",
         "domain": [
          0.55,
          1
         ],
         "title": {
          "text": "Ważność"
         }
        },
        "yaxis": {
         "anchor": "x",
         "domain": [
          0.625,
          1
         ],
         "title": {
          "text": "Predykcje (PLN/m²)"
         }
        },
        "yaxis2": {
         "anchor": "x2",
         "domain": [
          0.625,
          1
         ],
         "title": {
          "text": "Wartość metryki"
         }
        },
        "yaxis3": {
         "anchor": "x3",
         "domain": [
          0,
          0.375
         ],
         "title": {
          "text": "Błąd predykcji (PLN/m²)"
         }
        },
        "yaxis4": {
         "anchor": "x4",
         "domain": [
          0,
          0.375
         ],
         "title": {
          "text": "Cecha"
         }
        }
       }
      }
     },
     "metadata": {},
     "output_type": "display_data"
    },
    {
     "name": "stdout",
     "output_type": "stream",
     "text": [
      "\n",
      "🏆 PODSUMOWANIE WYDAJNOŚCI MODELI dla Wrocław:\n",
      "============================================================\n",
      "Linear Regression    | R²: 0.9096 | RMSE:     275 | MAE:    243 | MAPE:  2.28%\n"
     ]
    }
   ],
   "source": [
    "# Komórka 7: Modele uczenia maszynowego dla danych w nowym formacie\n",
    "\n",
    "def przygotuj_dane_do_modelowania(df, miasto_target='Warszawa'):\n",
    "    \"\"\"\n",
    "    Przygotowuje dane do modelowania ML w formacie długim\n",
    "    \"\"\"\n",
    "    print(f\"🤖 Przygotowywanie danych do modelowania dla miasta {miasto_target}...\")\n",
    "    \n",
    "    # Filtrujemy dane dla wybranego miasta i typu ceny (transakcyjne)\n",
    "    dane_miasta = df[(df['miasto'] == miasto_target) & (df['typ_ceny'] == 'transakcyjna')].copy()\n",
    "    \n",
    "    # Sprawdzamy, czy mamy wystarczającą liczbę obserwacji\n",
    "    if len(dane_miasta) < 20:\n",
    "        print(f\"⚠️ Zbyt mało danych dla miasta {miasto_target}: {len(dane_miasta)} obserwacji\")\n",
    "        print(\"Używamy minimum 20 obserwacji dla wiarygodnego modelowania\")\n",
    "        return None, None, None, None\n",
    "    \n",
    "    # Usuwamy rekordy z brakującymi wartościami w kluczowych kolumnach\n",
    "    dane_miasta = dane_miasta.dropna(subset=['cena_m2', 'CPI_Y2Y', 'WIBOR'])\n",
    "    \n",
    "    # Kodowanie zmiennych kategorycznych\n",
    "    le_rynek = LabelEncoder()\n",
    "    dane_miasta['rynek_encoded'] = le_rynek.fit_transform(dane_miasta['rynek'])\n",
    "    \n",
    "    # Wybór cech do modelowania\n",
    "    cechy = [\n",
    "        'rok', 'kwartal_num', 'indeks_czasowy', 'CPI_Y2Y', 'WIBOR', \n",
    "        'rynek_encoded', 'rok_kwadrat'\n",
    "    ]\n",
    "    \n",
    "    # Dodaj cechy lagowane jeśli dostępne\n",
    "    for col in ['cena_lag1', 'cena_lag4', 'cena_ma4']:\n",
    "        if col in dane_miasta.columns and dane_miasta[col].notna().sum() > len(dane_miasta) * 0.8:\n",
    "            cechy.append(col)\n",
    "    \n",
    "    # Usuwamy rekordy z NaN w cechach\n",
    "    dane_kompletne = dane_miasta.dropna(subset=cechy + ['cena_m2'])\n",
    "    \n",
    "    # Sortujemy dane według czasu\n",
    "    dane_kompletne = dane_kompletne.sort_values('Data')\n",
    "    \n",
    "    X = dane_kompletne[cechy]\n",
    "    y = dane_kompletne['cena_m2']\n",
    "    \n",
    "    print(f\"📊 Przygotowano {len(X)} próbek z {len(cechy)} cechami\")\n",
    "    print(f\"📋 Cechy: {cechy}\")\n",
    "    \n",
    "    return X, y, dane_kompletne, le_rynek\n",
    "\n",
    "def trenuj_modele_ml(X, y):\n",
    "    \"\"\"\n",
    "    Trenuje różne modele ML i porównuje ich wydajność\n",
    "    \"\"\"\n",
    "    if X is None or y is None:\n",
    "        print(\"❌ Brak danych do trenowania modeli\")\n",
    "        return None, None, None, None\n",
    "    \n",
    "    print(\"🏋️ Trenowanie modeli uczenia maszynowego...\")\n",
    "    \n",
    "    # Podział danych (uwaga na kolejność czasową)\n",
    "    n_train = int(len(X) * 0.8)\n",
    "    X_train, X_test = X.iloc[:n_train], X.iloc[n_train:]\n",
    "    y_train, y_test = y.iloc[:n_train], y.iloc[n_train:]\n",
    "    \n",
    "    print(f\"📊 Dane treningowe: {len(X_train)} próbek, testowe: {len(X_test)} próbek\")\n",
    "    \n",
    "    # Skalowanie cech\n",
    "    scaler = StandardScaler()\n",
    "    X_train_scaled = scaler.fit_transform(X_train)\n",
    "    X_test_scaled = scaler.transform(X_test)\n",
    "    \n",
    "    # Słownik modeli\n",
    "    modele = {\n",
    "        'Linear Regression': LinearRegression()\n",
    "    }\n",
    "    \n",
    "    # Trenowanie i ewaluacja modeli\n",
    "    wyniki_modeli = {}\n",
    "    \n",
    "    for nazwa_modelu, model in modele.items():\n",
    "        print(f\"🔧 Trenowanie {nazwa_modelu}...\")\n",
    "        \n",
    "        if nazwa_modelu == 'Linear Regression':\n",
    "            # Użyj skalowanych danych dla regresji liniowej\n",
    "            model.fit(X_train_scaled, y_train)\n",
    "            y_pred = model.predict(X_test_scaled)\n",
    "        else:\n",
    "            # Użyj oryginalnych danych dla modeli drzewiastych\n",
    "            model.fit(X_train, y_train)\n",
    "            y_pred = model.predict(X_test)\n",
    "        \n",
    "        # Oblicz metryki\n",
    "        mse = mean_squared_error(y_test, y_pred)\n",
    "        rmse = np.sqrt(mse)\n",
    "        mae = mean_absolute_error(y_test, y_pred)\n",
    "        r2 = r2_score(y_test, y_pred)\n",
    "        \n",
    "        # Oblicz błąd względny (MAPE)\n",
    "        mape = np.mean(np.abs((y_test - y_pred) / y_test)) * 100\n",
    "        \n",
    "        wyniki_modeli[nazwa_modelu] = {\n",
    "            'model': model,\n",
    "            'predictions': y_pred,\n",
    "            'mse': mse,\n",
    "            'rmse': rmse,\n",
    "            'mae': mae,\n",
    "            'r2': r2,\n",
    "            'mape': mape\n",
    "        }\n",
    "        \n",
    "        print(f\"✅ {nazwa_modelu} - R²: {r2:.4f}, RMSE: {rmse:.0f}, MAE: {mae:.0f}, MAPE: {mape:.2f}%\")\n",
    "    \n",
    "    return wyniki_modeli, X_test, y_test, scaler\n",
    "\n",
    "def wizualizacja_porownania_modeli(wyniki_modeli, X_test, y_test, miasto='Warszawa'):\n",
    "    \"\"\"\n",
    "    Tworzy wizualizację porównania modeli\n",
    "    \"\"\"\n",
    "    if wyniki_modeli is None:\n",
    "        print(\"❌ Brak wyników modeli do wizualizacji\")\n",
    "        return None\n",
    "    \n",
    "    print(\"📊 Tworzenie wizualizacji porównania modeli...\")\n",
    "    \n",
    "    fig = make_subplots(\n",
    "        rows=2, cols=2,\n",
    "        subplot_titles=(\n",
    "            'Porównanie Predykcji vs Rzeczywiste',\n",
    "            'Metryki Wydajności Modeli',\n",
    "            'Błędy Predykcji (Residuals)',\n",
    "            'Ważność Cech (Random Forest)'\n",
    "        )\n",
    "    )\n",
    "    \n",
    "    kolory_modeli = ['blue', 'green', 'red']\n",
    "    \n",
    "    # 1. Predykcje vs rzeczywiste wartości\n",
    "    for i, (nazwa, wyniki) in enumerate(wyniki_modeli.items()):\n",
    "        fig.add_trace(\n",
    "            go.Scatter(\n",
    "                x=y_test,\n",
    "                y=wyniki['predictions'],\n",
    "                mode='markers',\n",
    "                name=nazwa,\n",
    "                marker=dict(color=kolory_modeli[i], size=6, opacity=0.7)\n",
    "            ),\n",
    "            row=1, col=1\n",
    "        )\n",
    "    \n",
    "    # Dodaj linię idealną\n",
    "    min_val, max_val = y_test.min(), y_test.max()\n",
    "    buffer = (max_val - min_val) * 0.1\n",
    "    fig.add_trace(\n",
    "        go.Scatter(\n",
    "            x=[min_val - buffer, max_val + buffer],\n",
    "            y=[min_val - buffer, max_val + buffer],\n",
    "            mode='lines',\n",
    "            name='Idealna predykcja',\n",
    "            line=dict(dash='dash', color='gray'),\n",
    "            showlegend=False\n",
    "        ),\n",
    "        row=1, col=1\n",
    "    )\n",
    "    \n",
    "    # 2. Metryki wydajności\n",
    "    metryki = ['R²', 'RMSE', 'MAE', 'MAPE']\n",
    "    nazwy_modeli = list(wyniki_modeli.keys())\n",
    "    \n",
    "    for i, metryka in enumerate(['r2', 'rmse', 'mae', 'mape']):\n",
    "        wartosci = [wyniki_modeli[model][metryka] for model in nazwy_modeli]\n",
    "        fig.add_trace(\n",
    "            go.Bar(\n",
    "                x=nazwy_modeli,\n",
    "                y=wartosci,\n",
    "                name=metryki[i],\n",
    "                showlegend=True\n",
    "            ),\n",
    "            row=1, col=2\n",
    "        )\n",
    "    \n",
    "    # 3. Rozkład błędów\n",
    "    for i, (nazwa, wyniki) in enumerate(wyniki_modeli.items()):\n",
    "        bledy = y_test - wyniki['predictions']\n",
    "        fig.add_trace(\n",
    "            go.Box(\n",
    "                y=bledy,\n",
    "                name=nazwa,\n",
    "                marker_color=kolory_modeli[i],\n",
    "                showlegend=False\n",
    "            ),\n",
    "            row=2, col=1\n",
    "        )\n",
    "    \n",
    "    # 4. Ważność cech (tylko dla Random Forest)\n",
    "    if 'Random Forest' in wyniki_modeli:\n",
    "        rf_model = wyniki_modeli['Random Forest']['model']\n",
    "        waznosci = rf_model.feature_importances_\n",
    "        nazwy_cech = X_test.columns\n",
    "        \n",
    "        # Sortuj według ważności\n",
    "        cecha_waznosc = list(zip(nazwy_cech, waznosci))\n",
    "        cecha_waznosc.sort(key=lambda x: x[1], reverse=True)\n",
    "        \n",
    "        fig.add_trace(\n",
    "            go.Bar(\n",
    "                x=[w for _, w in cecha_waznosc],\n",
    "                y=[c for c, _ in cecha_waznosc],\n",
    "                orientation='h',\n",
    "                marker_color='lightgreen',\n",
    "                showlegend=False\n",
    "            ),\n",
    "            row=2, col=2\n",
    "        )\n",
    "    \n",
    "    # Aktualizacja layoutu\n",
    "    fig.update_layout(\n",
    "        height=800,\n",
    "        title_text=f\"Porównanie Modeli Predykcyjnych - Ceny Mieszkań w {miasto}\",\n",
    "        title_x=0.5,\n",
    "        legend=dict(\n",
    "            orientation=\"h\",\n",
    "            yanchor=\"bottom\",\n",
    "            y=1.02,\n",
    "            xanchor=\"center\",\n",
    "            x=0.5\n",
    "        )\n",
    "    )\n",
    "    \n",
    "    # Aktualizacja etykiet osi\n",
    "    fig.update_xaxes(title_text=\"Rzeczywiste ceny (PLN/m²)\", row=1, col=1)\n",
    "    fig.update_yaxes(title_text=\"Predykcje (PLN/m²)\", row=1, col=1)\n",
    "    \n",
    "    fig.update_xaxes(title_text=\"Model\", row=1, col=2)\n",
    "    fig.update_yaxes(title_text=\"Wartość metryki\", row=1, col=2)\n",
    "    \n",
    "    fig.update_xaxes(title_text=\"Model\", row=2, col=1)\n",
    "    fig.update_yaxes(title_text=\"Błąd predykcji (PLN/m²)\", row=2, col=1)\n",
    "    \n",
    "    fig.update_xaxes(title_text=\"Ważność\", row=2, col=2)\n",
    "    fig.update_yaxes(title_text=\"Cecha\", row=2, col=2)\n",
    "    \n",
    "    return fig\n",
    "\n",
    "# Zdefiniuj listę miast do analizy\n",
    "miasta_do_analizy = ['Warszawa', 'Kraków', 'Wrocław']\n",
    "\n",
    "# Trenowanie modeli i tworzenie prognoz dla wybranych miast\n",
    "for miasto in miasta_do_analizy:\n",
    "    print(f\"\\n{'='*50}\")\n",
    "    print(f\"ANALIZA DLA MIASTA: {miasto}\")\n",
    "    print(f\"{'='*50}\")\n",
    "    \n",
    "    # Przygotuj dane\n",
    "    X, y, dane_kompletne, le_rynek = przygotuj_dane_do_modelowania(df_mieszkania_clean, miasto_target=miasto)\n",
    "    \n",
    "    if X is not None and y is not None:\n",
    "        # Trenuj modele\n",
    "        wyniki_modeli, X_test, y_test, scaler = trenuj_modele_ml(X, y)\n",
    "        \n",
    "        if wyniki_modeli is not None:\n",
    "            # Wizualizacja porównania modeli\n",
    "            wykres_modeli = wizualizacja_porownania_modeli(wyniki_modeli, X_test, y_test, miasto=miasto)\n",
    "            wykres_modeli.show()\n",
    "            \n",
    "            # Podsumowanie wyników\n",
    "            print(f\"\\n🏆 PODSUMOWANIE WYDAJNOŚCI MODELI dla {miasto}:\")\n",
    "            print(\"=\"*60)\n",
    "            for nazwa, wyniki in wyniki_modeli.items():\n",
    "                print(f\"{nazwa:20} | R²: {wyniki['r2']:6.4f} | RMSE: {wyniki['rmse']:7.0f} | MAE: {wyniki['mae']:6.0f} | MAPE: {wyniki['mape']:5.2f}%\")\n"
   ]
  }
 ],
 "metadata": {
  "kernelspec": {
   "display_name": ".venv",
   "language": "python",
   "name": "python3"
  },
  "language_info": {
   "codemirror_mode": {
    "name": "ipython",
    "version": 3
   },
   "file_extension": ".py",
   "mimetype": "text/x-python",
   "name": "python",
   "nbconvert_exporter": "python",
   "pygments_lexer": "ipython3",
   "version": "3.12.8"
  }
 },
 "nbformat": 4,
 "nbformat_minor": 5
}
