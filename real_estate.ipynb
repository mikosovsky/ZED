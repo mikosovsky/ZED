{
 "cells": [
  {
   "cell_type": "markdown",
   "id": "8ec407b2",
   "metadata": {},
   "source": [
    "# Analiza rynku nieruchomości w Polsce"
   ]
  },
  {
   "cell_type": "code",
   "execution_count": 1,
   "id": "e11f7eb8",
   "metadata": {},
   "outputs": [
    {
     "name": "stdout",
     "output_type": "stream",
     "text": [
      "Requirement already satisfied: pandas in ./.venv1/lib/python3.11/site-packages (2.3.0)\n",
      "Requirement already satisfied: numpy in ./.venv1/lib/python3.11/site-packages (2.3.1)\n",
      "Requirement already satisfied: matplotlib in ./.venv1/lib/python3.11/site-packages (3.10.3)\n",
      "Requirement already satisfied: seaborn in ./.venv1/lib/python3.11/site-packages (0.13.2)\n",
      "Requirement already satisfied: plotly in ./.venv1/lib/python3.11/site-packages (6.1.2)\n",
      "Requirement already satisfied: scikit-learn in ./.venv1/lib/python3.11/site-packages (1.7.0)\n",
      "Requirement already satisfied: openpyxl in ./.venv1/lib/python3.11/site-packages (3.1.5)\n",
      "Requirement already satisfied: python-dateutil>=2.8.2 in ./.venv1/lib/python3.11/site-packages (from pandas) (2.9.0.post0)\n",
      "Requirement already satisfied: pytz>=2020.1 in ./.venv1/lib/python3.11/site-packages (from pandas) (2025.2)\n",
      "Requirement already satisfied: tzdata>=2022.7 in ./.venv1/lib/python3.11/site-packages (from pandas) (2025.2)\n",
      "Requirement already satisfied: contourpy>=1.0.1 in ./.venv1/lib/python3.11/site-packages (from matplotlib) (1.3.2)\n",
      "Requirement already satisfied: cycler>=0.10 in ./.venv1/lib/python3.11/site-packages (from matplotlib) (0.12.1)\n",
      "Requirement already satisfied: fonttools>=4.22.0 in ./.venv1/lib/python3.11/site-packages (from matplotlib) (4.58.4)\n",
      "Requirement already satisfied: kiwisolver>=1.3.1 in ./.venv1/lib/python3.11/site-packages (from matplotlib) (1.4.8)\n",
      "Requirement already satisfied: packaging>=20.0 in ./.venv1/lib/python3.11/site-packages (from matplotlib) (25.0)\n",
      "Requirement already satisfied: pillow>=8 in ./.venv1/lib/python3.11/site-packages (from matplotlib) (11.2.1)\n",
      "Requirement already satisfied: pyparsing>=2.3.1 in ./.venv1/lib/python3.11/site-packages (from matplotlib) (3.2.3)\n",
      "Requirement already satisfied: narwhals>=1.15.1 in ./.venv1/lib/python3.11/site-packages (from plotly) (1.44.0)\n",
      "Requirement already satisfied: scipy>=1.8.0 in ./.venv1/lib/python3.11/site-packages (from scikit-learn) (1.15.3)\n",
      "Requirement already satisfied: joblib>=1.2.0 in ./.venv1/lib/python3.11/site-packages (from scikit-learn) (1.5.1)\n",
      "Requirement already satisfied: threadpoolctl>=3.1.0 in ./.venv1/lib/python3.11/site-packages (from scikit-learn) (3.6.0)\n",
      "Requirement already satisfied: et-xmlfile in ./.venv1/lib/python3.11/site-packages (from openpyxl) (2.0.0)\n",
      "Requirement already satisfied: six>=1.5 in ./.venv1/lib/python3.11/site-packages (from python-dateutil>=2.8.2->pandas) (1.17.0)\n",
      "\n",
      "\u001b[1m[\u001b[0m\u001b[34;49mnotice\u001b[0m\u001b[1;39;49m]\u001b[0m\u001b[39;49m A new release of pip is available: \u001b[0m\u001b[31;49m23.1.2\u001b[0m\u001b[39;49m -> \u001b[0m\u001b[32;49m25.1.1\u001b[0m\n",
      "\u001b[1m[\u001b[0m\u001b[34;49mnotice\u001b[0m\u001b[1;39;49m]\u001b[0m\u001b[39;49m To update, run: \u001b[0m\u001b[32;49mpip install --upgrade pip\u001b[0m\n",
      "Requirement already satisfied: statsmodels==0.14.4 in ./.venv1/lib/python3.11/site-packages (0.14.4)\n",
      "Requirement already satisfied: scipy==1.15.3 in ./.venv1/lib/python3.11/site-packages (1.15.3)\n",
      "Requirement already satisfied: yfinance in ./.venv1/lib/python3.11/site-packages (0.2.63)\n",
      "Requirement already satisfied: fredapi in ./.venv1/lib/python3.11/site-packages (0.5.2)\n",
      "Requirement already satisfied: numpy<3,>=1.22.3 in ./.venv1/lib/python3.11/site-packages (from statsmodels==0.14.4) (2.3.1)\n",
      "Requirement already satisfied: pandas!=2.1.0,>=1.4 in ./.venv1/lib/python3.11/site-packages (from statsmodels==0.14.4) (2.3.0)\n",
      "Requirement already satisfied: patsy>=0.5.6 in ./.venv1/lib/python3.11/site-packages (from statsmodels==0.14.4) (1.0.1)\n",
      "Requirement already satisfied: packaging>=21.3 in ./.venv1/lib/python3.11/site-packages (from statsmodels==0.14.4) (25.0)\n",
      "Requirement already satisfied: requests>=2.31 in ./.venv1/lib/python3.11/site-packages (from yfinance) (2.32.4)\n",
      "Requirement already satisfied: multitasking>=0.0.7 in ./.venv1/lib/python3.11/site-packages (from yfinance) (0.0.11)\n",
      "Requirement already satisfied: platformdirs>=2.0.0 in ./.venv1/lib/python3.11/site-packages (from yfinance) (4.3.8)\n",
      "Requirement already satisfied: pytz>=2022.5 in ./.venv1/lib/python3.11/site-packages (from yfinance) (2025.2)\n",
      "Requirement already satisfied: frozendict>=2.3.4 in ./.venv1/lib/python3.11/site-packages (from yfinance) (2.4.6)\n",
      "Requirement already satisfied: peewee>=3.16.2 in ./.venv1/lib/python3.11/site-packages (from yfinance) (3.18.1)\n",
      "Requirement already satisfied: beautifulsoup4>=4.11.1 in ./.venv1/lib/python3.11/site-packages (from yfinance) (4.13.4)\n",
      "Requirement already satisfied: curl_cffi>=0.7 in ./.venv1/lib/python3.11/site-packages (from yfinance) (0.11.4)\n",
      "Requirement already satisfied: protobuf>=3.19.0 in ./.venv1/lib/python3.11/site-packages (from yfinance) (6.31.1)\n",
      "Requirement already satisfied: websockets>=13.0 in ./.venv1/lib/python3.11/site-packages (from yfinance) (15.0.1)\n",
      "Requirement already satisfied: soupsieve>1.2 in ./.venv1/lib/python3.11/site-packages (from beautifulsoup4>=4.11.1->yfinance) (2.7)\n",
      "Requirement already satisfied: typing-extensions>=4.0.0 in ./.venv1/lib/python3.11/site-packages (from beautifulsoup4>=4.11.1->yfinance) (4.14.0)\n",
      "Requirement already satisfied: cffi>=1.12.0 in ./.venv1/lib/python3.11/site-packages (from curl_cffi>=0.7->yfinance) (1.17.1)\n",
      "Requirement already satisfied: certifi>=2024.2.2 in ./.venv1/lib/python3.11/site-packages (from curl_cffi>=0.7->yfinance) (2025.6.15)\n",
      "Requirement already satisfied: python-dateutil>=2.8.2 in ./.venv1/lib/python3.11/site-packages (from pandas!=2.1.0,>=1.4->statsmodels==0.14.4) (2.9.0.post0)\n",
      "Requirement already satisfied: tzdata>=2022.7 in ./.venv1/lib/python3.11/site-packages (from pandas!=2.1.0,>=1.4->statsmodels==0.14.4) (2025.2)\n",
      "Requirement already satisfied: charset_normalizer<4,>=2 in ./.venv1/lib/python3.11/site-packages (from requests>=2.31->yfinance) (3.4.2)\n",
      "Requirement already satisfied: idna<4,>=2.5 in ./.venv1/lib/python3.11/site-packages (from requests>=2.31->yfinance) (3.10)\n",
      "Requirement already satisfied: urllib3<3,>=1.21.1 in ./.venv1/lib/python3.11/site-packages (from requests>=2.31->yfinance) (2.5.0)\n",
      "Requirement already satisfied: pycparser in ./.venv1/lib/python3.11/site-packages (from cffi>=1.12.0->curl_cffi>=0.7->yfinance) (2.22)\n",
      "Requirement already satisfied: six>=1.5 in ./.venv1/lib/python3.11/site-packages (from python-dateutil>=2.8.2->pandas!=2.1.0,>=1.4->statsmodels==0.14.4) (1.17.0)\n",
      "\n",
      "\u001b[1m[\u001b[0m\u001b[34;49mnotice\u001b[0m\u001b[1;39;49m]\u001b[0m\u001b[39;49m A new release of pip is available: \u001b[0m\u001b[31;49m23.1.2\u001b[0m\u001b[39;49m -> \u001b[0m\u001b[32;49m25.1.1\u001b[0m\n",
      "\u001b[1m[\u001b[0m\u001b[34;49mnotice\u001b[0m\u001b[1;39;49m]\u001b[0m\u001b[39;49m To update, run: \u001b[0m\u001b[32;49mpip install --upgrade pip\u001b[0m\n"
     ]
    }
   ],
   "source": [
    "!pip3 install pandas numpy matplotlib seaborn plotly scikit-learn openpyxl\n",
    "!pip3 install \"statsmodels==0.14.4\" \"scipy==1.15.3\" yfinance fredapi"
   ]
  },
  {
   "cell_type": "code",
   "execution_count": 2,
   "id": "7dea46f5",
   "metadata": {},
   "outputs": [
    {
     "name": "stdout",
     "output_type": "stream",
     "text": [
      "✅ Wszystkie biblioteki zostały załadowane pomyślnie!\n"
     ]
    }
   ],
   "source": [
    "# Komórka 2: Import bibliotek i konfiguracja\n",
    "import pandas as pd\n",
    "import numpy as np\n",
    "import matplotlib.pyplot as plt\n",
    "import seaborn as sns\n",
    "import plotly.express as px\n",
    "import plotly.graph_objects as go\n",
    "from plotly.subplots import make_subplots\n",
    "import warnings\n",
    "warnings.filterwarnings('ignore')\n",
    "\n",
    "# Biblioteki do analizy statystycznej\n",
    "from scipy import stats\n",
    "from scipy.stats import pearsonr, spearmanr, normaltest\n",
    "import statsmodels.api as sm\n",
    "from statsmodels.tsa.seasonal import seasonal_decompose\n",
    "from statsmodels.tsa.arima.model import ARIMA\n",
    "\n",
    "# Biblioteki machine learning\n",
    "from sklearn.model_selection import train_test_split\n",
    "from sklearn.linear_model import LinearRegression\n",
    "from sklearn.ensemble import RandomForestRegressor, GradientBoostingRegressor\n",
    "from sklearn.preprocessing import StandardScaler, LabelEncoder\n",
    "from sklearn.metrics import mean_squared_error, r2_score, mean_absolute_error\n",
    "\n",
    "# Konfiguracja wyświetlania\n",
    "plt.rcParams['figure.figsize'] = (12, 8)\n",
    "plt.style.use('seaborn-v0_8')\n",
    "pd.set_option('display.max_columns', None)\n",
    "pd.set_option('display.max_rows', 100)\n",
    "\n",
    "print(\"✅ Wszystkie biblioteki zostały załadowane pomyślnie!\")\n"
   ]
  },
  {
   "cell_type": "code",
   "execution_count": null,
   "id": "62e612a8",
   "metadata": {},
   "outputs": [
    {
     "name": "stdout",
     "output_type": "stream",
     "text": [
      "Primary market – offer prices:\n",
      "6   Kwartał Białystok Bydgoszcz Gdańsk Gdynia** Katowice       Kielce Kraków  \\\n",
      "0  III 2006      3008      2663   3494     4467  3522.59  2834.839339   6816   \n",
      "1   IV 2006      3117      2811   5252     5284  3734.72  3014.090525   7089   \n",
      "2    I 2007      3500      3017   5490     5797  3805.67  3241.415228   7192   \n",
      "3   II 2007      4422      4092   7137     6992  5093.57  3017.729302   7856   \n",
      "4  III 2007      4651      4466   7440     7238  5697.62  4765.978233   8060   \n",
      "\n",
      "6 Lublin  Łódź Olsztyn        Opole       Poznań Rzeszów     Szczecin  \\\n",
      "0   3022  2860    2640  3299.151723  3620.845241    2656  3233.916487   \n",
      "1   3304  3642    2869  3342.843092  4725.658134    3013  3575.024357   \n",
      "2   3309  4209    2960          NaN  6444.721994    3469  3831.400406   \n",
      "3   3503  5403    3318  3307.345458      7242.73    3517  4932.747279   \n",
      "4   4125  5212    3588  4253.276317  5425.817049    4124  5121.045287   \n",
      "\n",
      "6 Warszawa      Wrocław Zielona Góra  \n",
      "0     5605         3211   2499.00893  \n",
      "1     6186         3777  2768.751404  \n",
      "2     7302   7062.85905  2499.814669  \n",
      "3     7523         5289  3258.090803  \n",
      "4     7879  5835.806577  4015.413864  \n"
     ]
    }
   ],
   "source": [
    "import pandas as pd\n",
    "\n",
    "# Load Excel file\n",
    "file_path = \"ceny_mieszkan.xlsx\"\n",
    "sheet_primary = pd.read_excel(file_path, sheet_name=\"Rynek pierwotny\", header=None)\n",
    "sheet_secondary = pd.read_excel(file_path, sheet_name=\"Rynek wtórny\", header=None)\n",
    "\n",
    "# Find the starting row (header) for the data — the row containing 'Kwartał'\n",
    "def find_data_start(df):\n",
    "    return df[df.apply(lambda row: row.astype(str).str.contains(\"Kwartał\", case=False).any(), axis=1)].index[0]\n",
    "\n",
    "# Extract offer and transaction prices from specified columns\n",
    "def split_offer_trans(df, start_row, offer_cols=18, skip_cols=5, trans_cols=18):\n",
    "    df_data = df.iloc[start_row:]\n",
    "    df_data.columns = df_data.iloc[0]  # set headers\n",
    "    df_data = df_data[1:].reset_index(drop=True)\n",
    "\n",
    "    offer_df = df_data.iloc[:, :offer_cols]\n",
    "    trans_df = df_data.iloc[:, offer_cols + skip_cols : offer_cols + skip_cols + trans_cols]\n",
    "    return offer_df, trans_df\n",
    "\n",
    "# Apply to both sheets\n",
    "start_primary = find_data_start(sheet_primary)\n",
    "primary_offer, primary_trans = split_offer_trans(sheet_primary, start_primary)\n",
    "\n",
    "start_secondary = find_data_start(sheet_secondary)\n",
    "secondary_offer, secondary_trans = split_offer_trans(sheet_secondary, start_secondary)"
   ]
  }
 ],
 "metadata": {
  "kernelspec": {
   "display_name": ".venv1",
   "language": "python",
   "name": "python3"
  },
  "language_info": {
   "codemirror_mode": {
    "name": "ipython",
    "version": 3
   },
   "file_extension": ".py",
   "mimetype": "text/x-python",
   "name": "python",
   "nbconvert_exporter": "python",
   "pygments_lexer": "ipython3",
   "version": "3.11.4"
  }
 },
 "nbformat": 4,
 "nbformat_minor": 5
}
