{
 "cells": [
  {
   "cell_type": "markdown",
   "id": "8ec407b2",
   "metadata": {},
   "source": [
    "# Analiza rynku nieruchomości w Polsce"
   ]
  },
  {
   "cell_type": "code",
   "execution_count": null,
   "id": "e11f7eb8",
   "metadata": {},
   "outputs": [
    {
     "name": "stdout",
     "output_type": "stream",
     "text": [
      "Requirement already satisfied: pandas in ./.venv1/lib/python3.11/site-packages (2.3.0)\n",
      "Requirement already satisfied: numpy in ./.venv1/lib/python3.11/site-packages (2.3.1)\n",
      "Requirement already satisfied: matplotlib in ./.venv1/lib/python3.11/site-packages (3.10.3)\n",
      "Requirement already satisfied: seaborn in ./.venv1/lib/python3.11/site-packages (0.13.2)\n",
      "Requirement already satisfied: plotly in ./.venv1/lib/python3.11/site-packages (6.1.2)\n",
      "Requirement already satisfied: scikit-learn in ./.venv1/lib/python3.11/site-packages (1.7.0)\n",
      "Requirement already satisfied: openpyxl in ./.venv1/lib/python3.11/site-packages (3.1.5)\n",
      "Requirement already satisfied: python-dateutil>=2.8.2 in ./.venv1/lib/python3.11/site-packages (from pandas) (2.9.0.post0)\n",
      "Requirement already satisfied: pytz>=2020.1 in ./.venv1/lib/python3.11/site-packages (from pandas) (2025.2)\n",
      "Requirement already satisfied: tzdata>=2022.7 in ./.venv1/lib/python3.11/site-packages (from pandas) (2025.2)\n",
      "Requirement already satisfied: contourpy>=1.0.1 in ./.venv1/lib/python3.11/site-packages (from matplotlib) (1.3.2)\n",
      "Requirement already satisfied: cycler>=0.10 in ./.venv1/lib/python3.11/site-packages (from matplotlib) (0.12.1)\n",
      "Requirement already satisfied: fonttools>=4.22.0 in ./.venv1/lib/python3.11/site-packages (from matplotlib) (4.58.4)\n",
      "Requirement already satisfied: kiwisolver>=1.3.1 in ./.venv1/lib/python3.11/site-packages (from matplotlib) (1.4.8)\n",
      "Requirement already satisfied: packaging>=20.0 in ./.venv1/lib/python3.11/site-packages (from matplotlib) (25.0)\n",
      "Requirement already satisfied: pillow>=8 in ./.venv1/lib/python3.11/site-packages (from matplotlib) (11.2.1)\n",
      "Requirement already satisfied: pyparsing>=2.3.1 in ./.venv1/lib/python3.11/site-packages (from matplotlib) (3.2.3)\n",
      "Requirement already satisfied: narwhals>=1.15.1 in ./.venv1/lib/python3.11/site-packages (from plotly) (1.44.0)\n",
      "Requirement already satisfied: scipy>=1.8.0 in ./.venv1/lib/python3.11/site-packages (from scikit-learn) (1.15.3)\n",
      "Requirement already satisfied: joblib>=1.2.0 in ./.venv1/lib/python3.11/site-packages (from scikit-learn) (1.5.1)\n",
      "Requirement already satisfied: threadpoolctl>=3.1.0 in ./.venv1/lib/python3.11/site-packages (from scikit-learn) (3.6.0)\n",
      "Requirement already satisfied: et-xmlfile in ./.venv1/lib/python3.11/site-packages (from openpyxl) (2.0.0)\n",
      "Requirement already satisfied: six>=1.5 in ./.venv1/lib/python3.11/site-packages (from python-dateutil>=2.8.2->pandas) (1.17.0)\n",
      "\n",
      "\u001b[1m[\u001b[0m\u001b[34;49mnotice\u001b[0m\u001b[1;39;49m]\u001b[0m\u001b[39;49m A new release of pip is available: \u001b[0m\u001b[31;49m23.1.2\u001b[0m\u001b[39;49m -> \u001b[0m\u001b[32;49m25.1.1\u001b[0m\n",
      "\u001b[1m[\u001b[0m\u001b[34;49mnotice\u001b[0m\u001b[1;39;49m]\u001b[0m\u001b[39;49m To update, run: \u001b[0m\u001b[32;49mpip install --upgrade pip\u001b[0m\n",
      "Requirement already satisfied: statsmodels==0.14.4 in ./.venv1/lib/python3.11/site-packages (0.14.4)\n",
      "Requirement already satisfied: scipy==1.15.3 in ./.venv1/lib/python3.11/site-packages (1.15.3)\n",
      "Requirement already satisfied: yfinance in ./.venv1/lib/python3.11/site-packages (0.2.63)\n",
      "Requirement already satisfied: fredapi in ./.venv1/lib/python3.11/site-packages (0.5.2)\n",
      "Requirement already satisfied: numpy<3,>=1.22.3 in ./.venv1/lib/python3.11/site-packages (from statsmodels==0.14.4) (2.3.1)\n",
      "Requirement already satisfied: pandas!=2.1.0,>=1.4 in ./.venv1/lib/python3.11/site-packages (from statsmodels==0.14.4) (2.3.0)\n",
      "Requirement already satisfied: patsy>=0.5.6 in ./.venv1/lib/python3.11/site-packages (from statsmodels==0.14.4) (1.0.1)\n",
      "Requirement already satisfied: packaging>=21.3 in ./.venv1/lib/python3.11/site-packages (from statsmodels==0.14.4) (25.0)\n",
      "Requirement already satisfied: requests>=2.31 in ./.venv1/lib/python3.11/site-packages (from yfinance) (2.32.4)\n",
      "Requirement already satisfied: multitasking>=0.0.7 in ./.venv1/lib/python3.11/site-packages (from yfinance) (0.0.11)\n",
      "Requirement already satisfied: platformdirs>=2.0.0 in ./.venv1/lib/python3.11/site-packages (from yfinance) (4.3.8)\n",
      "Requirement already satisfied: pytz>=2022.5 in ./.venv1/lib/python3.11/site-packages (from yfinance) (2025.2)\n",
      "Requirement already satisfied: frozendict>=2.3.4 in ./.venv1/lib/python3.11/site-packages (from yfinance) (2.4.6)\n",
      "Requirement already satisfied: peewee>=3.16.2 in ./.venv1/lib/python3.11/site-packages (from yfinance) (3.18.1)\n",
      "Requirement already satisfied: beautifulsoup4>=4.11.1 in ./.venv1/lib/python3.11/site-packages (from yfinance) (4.13.4)\n",
      "Requirement already satisfied: curl_cffi>=0.7 in ./.venv1/lib/python3.11/site-packages (from yfinance) (0.11.4)\n",
      "Requirement already satisfied: protobuf>=3.19.0 in ./.venv1/lib/python3.11/site-packages (from yfinance) (6.31.1)\n",
      "Requirement already satisfied: websockets>=13.0 in ./.venv1/lib/python3.11/site-packages (from yfinance) (15.0.1)\n",
      "Requirement already satisfied: soupsieve>1.2 in ./.venv1/lib/python3.11/site-packages (from beautifulsoup4>=4.11.1->yfinance) (2.7)\n",
      "Requirement already satisfied: typing-extensions>=4.0.0 in ./.venv1/lib/python3.11/site-packages (from beautifulsoup4>=4.11.1->yfinance) (4.14.0)\n",
      "Requirement already satisfied: cffi>=1.12.0 in ./.venv1/lib/python3.11/site-packages (from curl_cffi>=0.7->yfinance) (1.17.1)\n",
      "Requirement already satisfied: certifi>=2024.2.2 in ./.venv1/lib/python3.11/site-packages (from curl_cffi>=0.7->yfinance) (2025.6.15)\n",
      "Requirement already satisfied: python-dateutil>=2.8.2 in ./.venv1/lib/python3.11/site-packages (from pandas!=2.1.0,>=1.4->statsmodels==0.14.4) (2.9.0.post0)\n",
      "Requirement already satisfied: tzdata>=2022.7 in ./.venv1/lib/python3.11/site-packages (from pandas!=2.1.0,>=1.4->statsmodels==0.14.4) (2025.2)\n",
      "Requirement already satisfied: charset_normalizer<4,>=2 in ./.venv1/lib/python3.11/site-packages (from requests>=2.31->yfinance) (3.4.2)\n",
      "Requirement already satisfied: idna<4,>=2.5 in ./.venv1/lib/python3.11/site-packages (from requests>=2.31->yfinance) (3.10)\n",
      "Requirement already satisfied: urllib3<3,>=1.21.1 in ./.venv1/lib/python3.11/site-packages (from requests>=2.31->yfinance) (2.5.0)\n",
      "Requirement already satisfied: pycparser in ./.venv1/lib/python3.11/site-packages (from cffi>=1.12.0->curl_cffi>=0.7->yfinance) (2.22)\n",
      "Requirement already satisfied: six>=1.5 in ./.venv1/lib/python3.11/site-packages (from python-dateutil>=2.8.2->pandas!=2.1.0,>=1.4->statsmodels==0.14.4) (1.17.0)\n",
      "\n",
      "\u001b[1m[\u001b[0m\u001b[34;49mnotice\u001b[0m\u001b[1;39;49m]\u001b[0m\u001b[39;49m A new release of pip is available: \u001b[0m\u001b[31;49m23.1.2\u001b[0m\u001b[39;49m -> \u001b[0m\u001b[32;49m25.1.1\u001b[0m\n",
      "\u001b[1m[\u001b[0m\u001b[34;49mnotice\u001b[0m\u001b[1;39;49m]\u001b[0m\u001b[39;49m To update, run: \u001b[0m\u001b[32;49mpip install --upgrade pip\u001b[0m\n"
     ]
    }
   ],
   "source": [
    "!pip3 install pandas numpy matplotlib seaborn plotly scikit-learn openpyxl\n",
    "!pip3 install \"statsmodels==0.14.4\" \"scipy==1.15.3\" yfinance fredapi\n",
    "!pip3 install --upgrade nbformat"
   ]
  },
  {
   "cell_type": "code",
   "execution_count": 1,
   "id": "7dea46f5",
   "metadata": {},
   "outputs": [
    {
     "name": "stdout",
     "output_type": "stream",
     "text": [
      "✅ Wszystkie biblioteki zostały załadowane pomyślnie!\n"
     ]
    }
   ],
   "source": [
    "# Komórka 2: Import bibliotek i konfiguracja\n",
    "import pandas as pd\n",
    "import numpy as np\n",
    "import matplotlib.pyplot as plt\n",
    "import seaborn as sns\n",
    "import plotly.express as px\n",
    "import plotly.graph_objects as go\n",
    "from plotly.subplots import make_subplots\n",
    "import warnings\n",
    "warnings.filterwarnings('ignore')\n",
    "\n",
    "# Biblioteki do analizy statystycznej\n",
    "from scipy import stats\n",
    "from scipy.stats import pearsonr, spearmanr, normaltest\n",
    "import statsmodels.api as sm\n",
    "from statsmodels.tsa.seasonal import seasonal_decompose\n",
    "from statsmodels.tsa.arima.model import ARIMA\n",
    "\n",
    "# Biblioteki machine learning\n",
    "from sklearn.model_selection import train_test_split\n",
    "from sklearn.linear_model import LinearRegression\n",
    "from sklearn.ensemble import RandomForestRegressor, GradientBoostingRegressor\n",
    "from sklearn.preprocessing import StandardScaler, LabelEncoder\n",
    "from sklearn.metrics import mean_squared_error, r2_score, mean_absolute_error\n",
    "\n",
    "# Konfiguracja wyświetlania\n",
    "plt.rcParams['figure.figsize'] = (12, 8)\n",
    "plt.style.use('seaborn-v0_8')\n",
    "pd.set_option('display.max_columns', None)\n",
    "pd.set_option('display.max_rows', 100)\n",
    "\n",
    "print(\"✅ Wszystkie biblioteki zostały załadowane pomyślnie!\")\n"
   ]
  },
  {
   "cell_type": "code",
   "execution_count": 2,
   "id": "62e612a8",
   "metadata": {},
   "outputs": [
    {
     "name": "stdout",
     "output_type": "stream",
     "text": [
      "✅ Dane z NBP zostały załadowane pomyślnie!\n"
     ]
    }
   ],
   "source": [
    "from LoadData.LoadNbpData import load_nbp_data\n",
    "\n",
    "primary_offer, primary_trans, secondary_offer, secondary_trans = load_nbp_data()\n",
    "print(\"✅ Dane z NBP zostały załadowane pomyślnie!\")\n",
    "#print(primary_offer.head())\n",
    "miasta = primary_offer.columns[1:].tolist()"
   ]
  },
  {
   "cell_type": "code",
   "execution_count": 3,
   "id": "86541200",
   "metadata": {},
   "outputs": [
    {
     "name": "stdout",
     "output_type": "stream",
     "text": [
      "✅ Dane o inflacji zostały załadowane pomyślnie!\n"
     ]
    }
   ],
   "source": [
    "from LoadData.LoadInflation import load_inflation_data\n",
    "\n",
    "df_inflacja_raw = load_inflation_data()\n",
    "print(\"✅ Dane o inflacji zostały załadowane pomyślnie!\")\n",
    "\n",
    "#print(df_inflacja.head())"
   ]
  },
  {
   "cell_type": "code",
   "execution_count": 4,
   "id": "7cbb7592",
   "metadata": {},
   "outputs": [
    {
     "name": "stdout",
     "output_type": "stream",
     "text": [
      "✅ Dane WIBOR zostały załadowane pomyślnie!\n"
     ]
    }
   ],
   "source": [
    "from LoadData.LoadWibor import load_wibor\n",
    "\n",
    "df_wibor = load_wibor()\n",
    "print(\"✅ Dane WIBOR zostały załadowane pomyślnie!\")\n",
    "\n",
    "#print(df_wibor.head())"
   ]
  },
  {
   "cell_type": "markdown",
   "id": "66034c63",
   "metadata": {},
   "source": [
    "## Komórka 4: Czyszczenie i feature engineering danych\n"
   ]
  },
  {
   "cell_type": "code",
   "execution_count": 7,
   "id": "13ef4882",
   "metadata": {},
   "outputs": [
    {
     "name": "stdout",
     "output_type": "stream",
     "text": [
      "📅 Przetwarzanie dat i tworzenie zmiennych czasowych...\n"
     ]
    }
   ],
   "source": [
    "from DataProcessing.Preprocess import dodaj_kolumny_daty, polacz_dataframes\n",
    "\n",
    "print(\"📅 Przetwarzanie dat i tworzenie zmiennych czasowych...\")\n",
    "df_inflacja = dodaj_kolumny_daty(df_inflacja_raw)[['CPI_Y2Y', 'CPI_Q2Q', 'Data']]\n",
    "primary_offer = dodaj_kolumny_daty(primary_offer)\n",
    "secondary_offer = dodaj_kolumny_daty(secondary_offer)\n",
    "primary_trans = dodaj_kolumny_daty(primary_trans)\n",
    "secondary_trans = dodaj_kolumny_daty(secondary_trans)\n",
    "#print(df_inflacja.head())"
   ]
  },
  {
   "cell_type": "markdown",
   "id": "b7643151",
   "metadata": {},
   "source": [
    "### Merge dataframes"
   ]
  },
  {
   "cell_type": "code",
   "execution_count": 8,
   "id": "01037137",
   "metadata": {},
   "outputs": [],
   "source": [
    "\n",
    "rynek_pierwotny_ofertowe = polacz_dataframes(primary_offer, df_inflacja, df_wibor, on_col='Data')\n",
    "rynek_pierwotny_transakcyjne = polacz_dataframes(primary_trans, df_inflacja, df_wibor, on_col='Data')\n",
    "rynek_wtorny_ofertowe = polacz_dataframes(secondary_offer, df_inflacja, df_wibor, on_col='Data')\n",
    "rynek_wtorny_transakcyjne = polacz_dataframes(secondary_trans, df_inflacja, df_wibor, on_col='Data')\n",
    "#print(rynek_wtorny_transakcyjne.head())"
   ]
  },
  {
   "cell_type": "markdown",
   "id": "dc6a08ce",
   "metadata": {},
   "source": [
    "## Komórka 5: Analiza statystyczna dla danych w nowym formacie\n"
   ]
  },
  {
   "cell_type": "code",
   "execution_count": 9,
   "id": "ad38409a",
   "metadata": {},
   "outputs": [
    {
     "name": "stdout",
     "output_type": "stream",
     "text": [
      "🔄 Przekształcanie danych do formatu dogodnego dla analizy korelacji...\n",
      "✅ Dane zostały przekształcone pomyślnie\n"
     ]
    }
   ],
   "source": [
    "# Komórka 5a: Przygotowanie danych do analiz korelacyjnych\n",
    "\n",
    "def przeksztalc_dane_do_formatu_dlugiego(rynek_pierwotny_ofertowe, rynek_pierwotny_transakcyjne, \n",
    "                                         rynek_wtorny_ofertowe, rynek_wtorny_transakcyjne):\n",
    "    \"\"\"\n",
    "    Przekształca cztery dataframes w format długi dla łatwiejszej analizy\n",
    "    \"\"\"\n",
    "    print(\"🔄 Przekształcanie danych do formatu dogodnego dla analizy korelacji...\")\n",
    "    \n",
    "    # Interesujące nas miasta\n",
    "    miasta_do_analizy = ['Białystok', 'Bydgoszcz', 'Gdańsk', 'Gdynia', 'Katowice', 'Kielce', 'Kraków', 'Lublin',\n",
    "        'Łódź', 'Olsztyn', 'Opole', 'Poznań', 'Rzeszów', 'Szczecin', 'Warszawa', 'Wrocław', 'Zielona Góra']\n",
    "    \n",
    "    # Obliczenie średnich cen dla wszystkich miast\n",
    "    df_pierwotny_ofertowe = rynek_pierwotny_ofertowe.copy()\n",
    "    df_pierwotny_transakcyjne = rynek_pierwotny_transakcyjne.copy()\n",
    "    df_wtorny_ofertowe = rynek_wtorny_ofertowe.copy()\n",
    "    df_wtorny_transakcyjne = rynek_wtorny_transakcyjne.copy()\n",
    "    \n",
    "    # Dodanie średnich po miastach\n",
    "    for df in [df_pierwotny_ofertowe, df_pierwotny_transakcyjne, df_wtorny_ofertowe, df_wtorny_transakcyjne]:\n",
    "        miasta_cols = [col for col in df.columns if col in miasta_do_analizy]\n",
    "        df['średnia_miast'] = df[miasta_cols].mean(axis=1)\n",
    "    \n",
    "    # Obliczenie rocznych zmian cen (rok do roku)\n",
    "    for df in [df_pierwotny_ofertowe, df_pierwotny_transakcyjne, df_wtorny_ofertowe, df_wtorny_transakcyjne]:\n",
    "        for miasto in miasta_do_analizy + ['średnia_miast']:\n",
    "            if miasto in df.columns:\n",
    "                df[f'{miasto}_roczna_zmiana'] = df[miasto].pct_change(4) * 100  # 4 kwartały\n",
    "\n",
    "    print(\"✅ Dane zostały przekształcone pomyślnie\")\n",
    "    return df_pierwotny_ofertowe, df_pierwotny_transakcyjne, df_wtorny_ofertowe, df_wtorny_transakcyjne\n",
    "\n",
    "# Wywołanie funkcji\n",
    "df_pierwotny_ofertowe, df_pierwotny_transakcyjne, df_wtorny_ofertowe, df_wtorny_transakcyjne = \\\n",
    "    przeksztalc_dane_do_formatu_dlugiego(rynek_pierwotny_ofertowe, rynek_pierwotny_transakcyjne, \n",
    "                                          rynek_wtorny_ofertowe, rynek_wtorny_transakcyjne)\n"
   ]
  },
  {
   "cell_type": "code",
   "execution_count": 11,
   "id": "c0656d58",
   "metadata": {},
   "outputs": [
    {
     "name": "stdout",
     "output_type": "stream",
     "text": [
      "🔍 Analiza korelacji cen między wybranymi miastami...\n"
     ]
    },
    {
     "data": {
      "image/png": "[encoded data removed]",
      "text/plain": [
       "<Figure size 1000x800 with 2 Axes>"
      ]
     },
     "metadata": {},
     "output_type": "display_data"
    },
    {
     "data": {
      "image/png": "[encoded data removed]",
      "text/plain": [
       "<Figure size 1000x800 with 2 Axes>"
      ]
     },
     "metadata": {},
     "output_type": "display_data"
    },
    {
     "name": "stdout",
     "output_type": "stream",
     "text": [
      "\n",
      "📊 Szczegółowe wyniki korelacji dla rynku pierwotnego (ceny transakcyjne):\n",
      "Warszawa vs Poznań: r = 0.984, p-value = 0.0000\n",
      "   ✓ Korelacja jest statystycznie istotna (p < 0.05)\n",
      "Wrocław vs Poznań: r = 0.969, p-value = 0.0000\n",
      "   ✓ Korelacja jest statystycznie istotna (p < 0.05)\n",
      "Wrocław vs Warszawa: r = 0.981, p-value = 0.0000\n",
      "   ✓ Korelacja jest statystycznie istotna (p < 0.05)\n",
      "średnia_miast vs Poznań: r = 0.978, p-value = 0.0000\n",
      "   ✓ Korelacja jest statystycznie istotna (p < 0.05)\n",
      "średnia_miast vs Warszawa: r = 0.993, p-value = 0.0000\n",
      "   ✓ Korelacja jest statystycznie istotna (p < 0.05)\n",
      "średnia_miast vs Wrocław: r = 0.987, p-value = 0.0000\n",
      "   ✓ Korelacja jest statystycznie istotna (p < 0.05)\n",
      "\n",
      "📊 Szczegółowe wyniki korelacji dla rynku wtórnego (ceny transakcyjne):\n",
      "Warszawa vs Poznań: r = 0.988, p-value = 0.0000\n",
      "   ✓ Korelacja jest statystycznie istotna (p < 0.05)\n",
      "Wrocław vs Poznań: r = 0.985, p-value = 0.0000\n",
      "   ✓ Korelacja jest statystycznie istotna (p < 0.05)\n",
      "Wrocław vs Warszawa: r = 0.994, p-value = 0.0000\n",
      "   ✓ Korelacja jest statystycznie istotna (p < 0.05)\n",
      "średnia_miast vs Poznań: r = 0.995, p-value = 0.0000\n",
      "   ✓ Korelacja jest statystycznie istotna (p < 0.05)\n",
      "średnia_miast vs Warszawa: r = 0.991, p-value = 0.0000\n",
      "   ✓ Korelacja jest statystycznie istotna (p < 0.05)\n",
      "średnia_miast vs Wrocław: r = 0.992, p-value = 0.0000\n",
      "   ✓ Korelacja jest statystycznie istotna (p < 0.05)\n"
     ]
    }
   ],
   "source": [
    "# Komórka 5b: Analiza korelacji cen pomiędzy miastami\n",
    "\n",
    "import numpy as np\n",
    "import pandas as pd\n",
    "import matplotlib.pyplot as plt\n",
    "import seaborn as sns\n",
    "from scipy.stats import pearsonr, spearmanr\n",
    "\n",
    "def korelacja_cen_miedzy_miastami(df_pierwotny_trans, df_wtorny_trans):\n",
    "    \"\"\"\n",
    "    Analiza korelacji cen między wybranymi miastami (Poznań, Warszawa, Wrocław)\n",
    "    Wyświetla dolną połówkę macierzy korelacji bez diagonali\n",
    "    \"\"\"\n",
    "    print(\"🔍 Analiza korelacji cen między wybranymi miastami...\")\n",
    "    \n",
    "    # Wybór miast do analizy\n",
    "    miasta_do_korelacji = ['Poznań', 'Warszawa', 'Wrocław', 'średnia_miast']\n",
    "    \n",
    "    # Tworzenie dataframe z cenami wybranych miast\n",
    "    df_pierwotny_miasta = df_pierwotny_trans[miasta_do_korelacji].copy()\n",
    "    df_wtorny_miasta = df_wtorny_trans[miasta_do_korelacji].copy()\n",
    "    \n",
    "    # Obliczenie korelacji Pearsona\n",
    "    corr_pierwotny = df_pierwotny_miasta.corr(method='pearson')\n",
    "    corr_wtorny = df_wtorny_miasta.corr(method='pearson')\n",
    "    \n",
    "    # Tworzenie masek dla dolnej trójkątnej macierzy bez diagonali\n",
    "    mask_pierwotny = np.triu(np.ones_like(corr_pierwotny), k=1)\n",
    "    mask_wtorny = np.triu(np.ones_like(corr_wtorny), k=1)\n",
    "    \n",
    "    # Wizualizacja - rynek pierwotny\n",
    "    plt.figure(figsize=(10, 8))\n",
    "    sns.heatmap(corr_pierwotny, annot=True, fmt='.3f', cmap='coolwarm', \n",
    "                mask=mask_pierwotny, vmin=-1, vmax=1, cbar_kws={'label': 'Współczynnik korelacji Pearsona'})\n",
    "    plt.title('Macierz korelacji cen mieszkań - Rynek pierwotny (ceny transakcyjne)')\n",
    "    plt.tight_layout()\n",
    "    plt.show()\n",
    "    \n",
    "    # Wizualizacja - rynek wtórny\n",
    "    plt.figure(figsize=(10, 8))\n",
    "    sns.heatmap(corr_wtorny, annot=True, fmt='.3f', cmap='coolwarm', \n",
    "                mask=mask_wtorny, vmin=-1, vmax=1, cbar_kws={'label': 'Współczynnik korelacji Pearsona'})\n",
    "    plt.title('Macierz korelacji cen mieszkań - Rynek wtórny (ceny transakcyjne)')\n",
    "    plt.tight_layout()\n",
    "    plt.show()\n",
    "    \n",
    "    # Wypisanie szczegółowych wyników i testów statystycznych\n",
    "    print(\"\\n📊 Szczegółowe wyniki korelacji dla rynku pierwotnego (ceny transakcyjne):\")\n",
    "    for i, miasto1 in enumerate(miasta_do_korelacji):\n",
    "        for j, miasto2 in enumerate(miasta_do_korelacji):\n",
    "            if j < i:  # Tylko dolna część macierzy\n",
    "                corr, p_value = pearsonr(df_pierwotny_miasta[miasto1].dropna().to_list(), df_pierwotny_miasta[miasto2].dropna().to_list())\n",
    "                print(f\"{miasto1} vs {miasto2}: r = {corr:.3f}, p-value = {p_value:.4f}\")\n",
    "                if p_value < 0.05:\n",
    "                    print(\"   ✓ Korelacja jest statystycznie istotna (p < 0.05)\")\n",
    "                else:\n",
    "                    print(\"   ✗ Korelacja nie jest statystycznie istotna\")\n",
    "\n",
    "    print(\"\\n📊 Szczegółowe wyniki korelacji dla rynku wtórnego (ceny transakcyjne):\")\n",
    "    for i, miasto1 in enumerate(miasta_do_korelacji):\n",
    "        for j, miasto2 in enumerate(miasta_do_korelacji):\n",
    "            if j < i:  # Tylko dolna część macierzy\n",
    "                corr, p_value = pearsonr(df_wtorny_miasta[miasto1].dropna().to_list(), df_wtorny_miasta[miasto2].dropna().to_list())\n",
    "                print(f\"{miasto1} vs {miasto2}: r = {corr:.3f}, p-value = {p_value:.4f}\")\n",
    "                if p_value < 0.05:\n",
    "                    print(\"   ✓ Korelacja jest statystycznie istotna (p < 0.05)\")\n",
    "                else:\n",
    "                    print(\"   ✗ Korelacja nie jest statystycznie istotna\")\n",
    "\n",
    "    return corr_pierwotny, corr_wtorny\n",
    "\n",
    "# Wywołanie analizy\n",
    "corr_pierwotny, corr_wtorny = korelacja_cen_miedzy_miastami(df_pierwotny_transakcyjne, df_wtorny_transakcyjne)\n"
   ]
  },
  {
   "cell_type": "code",
   "execution_count": 12,
   "id": "9eddcf1b",
   "metadata": {},
   "outputs": [
    {
     "name": "stdout",
     "output_type": "stream",
     "text": [
      "🔍 Analiza korelacji zmian cen mieszkań ze wskaźnikami ekonomicznymi...\n",
      "\n",
      "📊 Wyniki korelacji zmian cen mieszkań z inflacją (CPI) i stopą WIBOR:\n",
      "           miasto      rynek      typ_ceny  corr_cpi     p_cpi  corr_wibor   p_wibor  istotny_cpi  istotny_wibor\n",
      "0          Poznań  pierwotny  transakcyjne  0.271416  0.022047    0.186157  0.120097         True          False\n",
      "1          Poznań  pierwotny      ofertowe  0.307030  0.009204    0.130512  0.277993         True          False\n",
      "2          Poznań     wtórny  transakcyjne  0.144268  0.230008    0.085232  0.479742        False          False\n",
      "3          Poznań     wtórny      ofertowe  0.136398  0.256701    0.013605  0.910339        False          False\n",
      "4        Warszawa  pierwotny  transakcyjne  0.183823  0.124899    0.034151  0.777381        False          False\n",
      "5        Warszawa  pierwotny      ofertowe  0.222529  0.062147    0.178916  0.135467        False          False\n",
      "6        Warszawa     wtórny  transakcyjne  0.166568  0.165035   -0.023562  0.845359        False          False\n",
      "7        Warszawa     wtórny      ofertowe  0.126067  0.294828    0.030771  0.798922        False          False\n",
      "8         Wrocław  pierwotny  transakcyjne  0.191859  0.108964    0.094741  0.431923        False          False\n",
      "9         Wrocław  pierwotny      ofertowe  0.318058  0.006872   -0.031046  0.797168         True          False\n",
      "10        Wrocław     wtórny  transakcyjne  0.259998  0.028546   -0.072861  0.545950         True          False\n",
      "11        Wrocław     wtórny      ofertowe  0.358895  0.002116    0.038925  0.747234         True          False\n",
      "12  średnia_miast  pierwotny  transakcyjne  0.279473  0.018259    0.091005  0.450384         True          False\n",
      "13  średnia_miast  pierwotny      ofertowe  0.347164  0.003015    0.078326  0.516164         True          False\n",
      "14  średnia_miast     wtórny  transakcyjne  0.171141  0.153576    0.008743  0.942313        False          False\n",
      "15  średnia_miast     wtórny      ofertowe  0.217644  0.068262   -0.005387  0.964436        False          False\n"
     ]
    },
    {
     "data": {
      "image/png": "[encoded data removed]",
      "text/plain": [
       "<Figure size 1400x800 with 1 Axes>"
      ]
     },
     "metadata": {},
     "output_type": "display_data"
    },
    {
     "data": {
      "image/png": "[encoded data removed]",
      "text/plain": [
       "<Figure size 1400x800 with 1 Axes>"
      ]
     },
     "metadata": {},
     "output_type": "display_data"
    }
   ],
   "source": [
    "# Komórka 5c: Analiza korelacji zmian cen mieszkań z inflacją i WIBOR\n",
    "\n",
    "def korelacja_z_wskaznikami_ekonomicznymi(df_pierwotny_of, df_pierwotny_tr, df_wtorny_of, df_wtorny_tr):\n",
    "    \"\"\"\n",
    "    Bada korelacje między rocznymi zmianami cen mieszkań a inflacją i stopami WIBOR\n",
    "    \"\"\"\n",
    "    print(\"🔍 Analiza korelacji zmian cen mieszkań ze wskaźnikami ekonomicznymi...\")\n",
    "    \n",
    "    # Wybór miast do analizy\n",
    "    miasta_do_korelacji = ['Poznań', 'Warszawa', 'Wrocław', 'średnia_miast']\n",
    "    \n",
    "    # Przygotowanie danych do analizy\n",
    "    data = []\n",
    "    \n",
    "    # Zbieranie danych o rocznych zmianach cen dla każdego miasta i rodzaju rynku\n",
    "    for miasto in miasta_do_korelacji:\n",
    "        zmiana_kolumny = f'{miasto}_roczna_zmiana'\n",
    "        \n",
    "        # Zbieranie danych tylko gdy kolumna istnieje\n",
    "        if zmiana_kolumny in df_pierwotny_tr.columns and zmiana_kolumny in df_wtorny_tr.columns:\n",
    "            # Łączenie danych o zmianach cen z danymi o inflacji i WIBOR\n",
    "            df_prim_tr = df_pierwotny_tr[[zmiana_kolumny, 'CPI_Y2Y', 'WIBOR']].copy().dropna()\n",
    "            df_prim_of = df_pierwotny_of[[zmiana_kolumny, 'CPI_Y2Y', 'WIBOR']].copy().dropna()\n",
    "            df_sec_tr = df_wtorny_tr[[zmiana_kolumny, 'CPI_Y2Y', 'WIBOR']].copy().dropna()\n",
    "            df_sec_of = df_wtorny_of[[zmiana_kolumny, 'CPI_Y2Y', 'WIBOR']].copy().dropna()\n",
    "            \n",
    "            # Obliczanie korelacji i p-value\n",
    "            for df, rynek, typ_ceny in [\n",
    "                (df_prim_tr, 'pierwotny', 'transakcyjne'),\n",
    "                (df_prim_of, 'pierwotny', 'ofertowe'),\n",
    "                (df_sec_tr, 'wtórny', 'transakcyjne'),\n",
    "                (df_sec_of, 'wtórny', 'ofertowe')\n",
    "            ]:\n",
    "                if not df.empty:\n",
    "                    # Korelacja z inflacją\n",
    "                    corr_cpi, p_cpi = pearsonr(df[zmiana_kolumny].to_list(), df['CPI_Y2Y'].to_list())\n",
    "                    # Korelacja z WIBOR\n",
    "                    corr_wibor, p_wibor = pearsonr(df[zmiana_kolumny].to_list(), df['WIBOR'].to_list())\n",
    "                    \n",
    "                    data.append({\n",
    "                        'miasto': miasto,\n",
    "                        'rynek': rynek,\n",
    "                        'typ_ceny': typ_ceny,\n",
    "                        'corr_cpi': corr_cpi,\n",
    "                        'p_cpi': p_cpi,\n",
    "                        'corr_wibor': corr_wibor,\n",
    "                        'p_wibor': p_wibor,\n",
    "                        'istotny_cpi': p_cpi < 0.05,\n",
    "                        'istotny_wibor': p_wibor < 0.05\n",
    "                    })\n",
    "    \n",
    "    # Tworzenie DataFrame z wynikami\n",
    "    results_df = pd.DataFrame(data)\n",
    "    \n",
    "    # Wyświetlenie wyników\n",
    "    print(\"\\n📊 Wyniki korelacji zmian cen mieszkań z inflacją (CPI) i stopą WIBOR:\")\n",
    "    pd.set_option('display.max_columns', None)\n",
    "    pd.set_option('display.width', 1000)\n",
    "    print(results_df[['miasto', 'rynek', 'typ_ceny', 'corr_cpi', 'p_cpi', 'corr_wibor', 'p_wibor', \n",
    "                      'istotny_cpi', 'istotny_wibor']])\n",
    "    \n",
    "    # Wizualizacja wyników dla miast i typów rynku\n",
    "    plt.figure(figsize=(14, 8))\n",
    "    \n",
    "    # Filtrowanie tylko transakcyjnych cen\n",
    "    df_trans = results_df[results_df['typ_ceny'] == 'transakcyjne']\n",
    "    \n",
    "    # Tworzenie barplotów dla korelacji z CPI i WIBOR\n",
    "    sns.barplot(x='miasto', y='corr_cpi', hue='rynek', data=df_trans, palette='Set1')\n",
    "    plt.title('Korelacja rocznych zmian cen mieszkań z inflacją CPI')\n",
    "    plt.xlabel('Miasto')\n",
    "    plt.ylabel('Współczynnik korelacji Pearsona')\n",
    "    plt.xticks(rotation=45)\n",
    "    plt.tight_layout()\n",
    "    plt.show()\n",
    "    \n",
    "    plt.figure(figsize=(14, 8))\n",
    "    sns.barplot(x='miasto', y='corr_wibor', hue='rynek', data=df_trans, palette='Set1')\n",
    "    plt.title('Korelacja rocznych zmian cen mieszkań z indeksem WIBOR')\n",
    "    plt.xlabel('Miasto')\n",
    "    plt.ylabel('Współczynnik korelacji Pearsona')\n",
    "    plt.xticks(rotation=45)\n",
    "    plt.tight_layout()\n",
    "    plt.show()\n",
    "    \n",
    "    return results_df\n",
    "\n",
    "# Wywołanie analizy\n",
    "wyniki_korelacji = korelacja_z_wskaznikami_ekonomicznymi(\n",
    "    df_pierwotny_ofertowe, df_pierwotny_transakcyjne, df_wtorny_ofertowe, df_wtorny_transakcyjne)\n"
   ]
  },
  {
   "cell_type": "code",
   "execution_count": 13,
   "id": "eda77653",
   "metadata": {},
   "outputs": [
    {
     "name": "stdout",
     "output_type": "stream",
     "text": [
      "🔍 Analiza korelacji zmian cen między rynkiem pierwotnym a wtórnym...\n",
      "\n",
      "📊 Korelacje zmian cen pomiędzy rynkiem pierwotnym a wtórnym:\n",
      "          miasto      typ_ceny  korelacja       p_value  istotna  liczba_obserwacji\n",
      "0         Poznań  transakcyjne   0.860054  7.559948e-22     True                 71\n",
      "1         Poznań      ofertowe   0.872580  3.699666e-23     True                 71\n",
      "2       Warszawa  transakcyjne   0.841855  3.731781e-20     True                 71\n",
      "3       Warszawa      ofertowe   0.711360  3.594620e-12     True                 71\n",
      "4        Wrocław  transakcyjne   0.807636  1.750380e-17     True                 71\n",
      "5        Wrocław      ofertowe   0.640204  1.837119e-09     True                 71\n",
      "6  średnia_miast  transakcyjne   0.962532  7.772995e-41     True                 71\n",
      "7  średnia_miast      ofertowe   0.960495  4.665865e-40     True                 71\n"
     ]
    },
    {
     "data": {
      "image/png": "[encoded data removed]",
      "text/plain": [
       "<Figure size 1200x600 with 1 Axes>"
      ]
     },
     "metadata": {},
     "output_type": "display_data"
    },
    {
     "data": {
      "image/png": "[encoded data removed]",
      "text/plain": [
       "<Figure size 1000x600 with 1 Axes>"
      ]
     },
     "metadata": {},
     "output_type": "display_data"
    }
   ],
   "source": [
    "# Komórka 5d: Korelacja zmian cen na rynku wtórnym i pierwotnym\n",
    "\n",
    "def korelacja_rynek_pierwotny_wtorny(df_pierwotny_of, df_pierwotny_tr, df_wtorny_of, df_wtorny_tr):\n",
    "    \"\"\"\n",
    "    Analiza korelacji zmian cen między rynkiem pierwotnym a wtórnym\n",
    "    \"\"\"\n",
    "    print(\"🔍 Analiza korelacji zmian cen między rynkiem pierwotnym a wtórnym...\")\n",
    "    \n",
    "    # Wybór miast do analizy\n",
    "    miasta_do_korelacji = ['Poznań', 'Warszawa', 'Wrocław', 'średnia_miast']\n",
    "    \n",
    "    # Przygotowanie danych\n",
    "    wyniki = []\n",
    "    \n",
    "    for miasto in miasta_do_korelacji:\n",
    "        zmiana_kolumna = f'{miasto}_roczna_zmiana'\n",
    "        \n",
    "        # Korelacja dla cen transakcyjnych\n",
    "        if zmiana_kolumna in df_pierwotny_tr.columns and zmiana_kolumna in df_wtorny_tr.columns:\n",
    "            # Łączenie danych z obu rynków\n",
    "            df_tr = pd.merge(\n",
    "                df_pierwotny_tr[['Data', zmiana_kolumna]].rename(columns={zmiana_kolumna: 'pierwotny'}),\n",
    "                df_wtorny_tr[['Data', zmiana_kolumna]].rename(columns={zmiana_kolumna: 'wtórny'}),\n",
    "                on='Data', how='inner'\n",
    "            ).dropna()\n",
    "            \n",
    "            if len(df_tr) > 5:  # Minimum obserwacji dla wiarygodnej korelacji\n",
    "                corr_tr, p_tr = pearsonr(df_tr['pierwotny'].to_list(), df_tr['wtórny'].to_list())\n",
    "                \n",
    "                wyniki.append({\n",
    "                    'miasto': miasto,\n",
    "                    'typ_ceny': 'transakcyjne',\n",
    "                    'korelacja': corr_tr,\n",
    "                    'p_value': p_tr,\n",
    "                    'istotna': p_tr < 0.05,\n",
    "                    'liczba_obserwacji': len(df_tr)\n",
    "                })\n",
    "        \n",
    "        # Korelacja dla cen ofertowych\n",
    "        if zmiana_kolumna in df_pierwotny_of.columns and zmiana_kolumna in df_wtorny_of.columns:\n",
    "            # Łączenie danych z obu rynków\n",
    "            df_of = pd.merge(\n",
    "                df_pierwotny_of[['Data', zmiana_kolumna]].rename(columns={zmiana_kolumna: 'pierwotny'}),\n",
    "                df_wtorny_of[['Data', zmiana_kolumna]].rename(columns={zmiana_kolumna: 'wtórny'}),\n",
    "                on='Data', how='inner'\n",
    "            ).dropna()\n",
    "            \n",
    "            if len(df_of) > 5:  # Minimum obserwacji dla wiarygodnej korelacji\n",
    "                corr_of, p_of = pearsonr(df_of['pierwotny'].to_list(), df_of['wtórny'].to_list())\n",
    "                \n",
    "                wyniki.append({\n",
    "                    'miasto': miasto,\n",
    "                    'typ_ceny': 'ofertowe',\n",
    "                    'korelacja': corr_of,\n",
    "                    'p_value': p_of,\n",
    "                    'istotna': p_of < 0.05,\n",
    "                    'liczba_obserwacji': len(df_of)\n",
    "                })\n",
    "    \n",
    "    # Tworzenie DataFrame z wynikami\n",
    "    results_df = pd.DataFrame(wyniki)\n",
    "    \n",
    "    # Wyświetlenie wyników\n",
    "    print(\"\\n📊 Korelacje zmian cen pomiędzy rynkiem pierwotnym a wtórnym:\")\n",
    "    print(results_df)\n",
    "    \n",
    "    # Wizualizacja wyników\n",
    "    plt.figure(figsize=(12, 6))\n",
    "    sns.barplot(x='miasto', y='korelacja', hue='typ_ceny', data=results_df, palette='Set1')\n",
    "    plt.title('Korelacja zmian cen między rynkiem pierwotnym a wtórnym')\n",
    "    plt.xlabel('Miasto')\n",
    "    plt.ylabel('Współczynnik korelacji Pearsona')\n",
    "    plt.xticks(rotation=45)\n",
    "    plt.axhline(y=0, color='black', linestyle='-', alpha=0.3)\n",
    "    plt.tight_layout()\n",
    "    plt.show()\n",
    "    \n",
    "    # Scatter ploty dla wybranych miast\n",
    "    for miasto in ['Warszawa']:\n",
    "        zmiana_kolumna = f'{miasto}_roczna_zmiana'\n",
    "        \n",
    "        # Dla cen transakcyjnych\n",
    "        if zmiana_kolumna in df_pierwotny_tr.columns and zmiana_kolumna in df_wtorny_tr.columns:\n",
    "            df_tr = pd.merge(\n",
    "                df_pierwotny_tr[['Data', zmiana_kolumna]].rename(columns={zmiana_kolumna: 'pierwotny'}),\n",
    "                df_wtorny_tr[['Data', zmiana_kolumna]].rename(columns={zmiana_kolumna: 'wtórny'}),\n",
    "                on='Data', how='inner'\n",
    "            ).dropna()\n",
    "            \n",
    "            if not df_tr.empty:\n",
    "                plt.figure(figsize=(10, 6))\n",
    "                sns.regplot(x='pierwotny', y='wtórny', data=df_tr, scatter_kws={'alpha':0.7}, line_kws={'color':'red'})\n",
    "                plt.title(f'Korelacja zmian cen: rynek pierwotny vs wtórny - {miasto} (ceny transakcyjne)')\n",
    "                plt.xlabel('Zmiana cen r/r (%) - rynek pierwotny')\n",
    "                plt.ylabel('Zmiana cen r/r (%) - rynek wtórny')\n",
    "                plt.grid(True, alpha=0.3)\n",
    "                plt.tight_layout()\n",
    "                plt.show()\n",
    "    \n",
    "    return results_df\n",
    "\n",
    "# Wywołanie analizy\n",
    "wyniki_korelacji_rynkow = korelacja_rynek_pierwotny_wtorny(\n",
    "    df_pierwotny_ofertowe, df_pierwotny_transakcyjne, df_wtorny_ofertowe, df_wtorny_transakcyjne)\n"
   ]
  },
  {
   "cell_type": "code",
   "execution_count": 18,
   "id": "66b0fb75",
   "metadata": {},
   "outputs": [
    {
     "name": "stdout",
     "output_type": "stream",
     "text": [
      "🧪 Przeprowadzanie testów statystycznych...\n"
     ]
    },
    {
     "ename": "AttributeError",
     "evalue": "'float' object has no attribute 'shape'",
     "output_type": "error",
     "traceback": [
      "\u001b[31m---------------------------------------------------------------------------\u001b[39m",
      "\u001b[31mAttributeError\u001b[39m                            Traceback (most recent call last)",
      "\u001b[36mCell\u001b[39m\u001b[36m \u001b[39m\u001b[32mIn[18]\u001b[39m\u001b[32m, line 98\u001b[39m\n\u001b[32m     95\u001b[39m     \u001b[38;5;28;01mreturn\u001b[39;00m wyniki_df\n\u001b[32m     97\u001b[39m \u001b[38;5;66;03m# Wywołanie testów statystycznych\u001b[39;00m\n\u001b[32m---> \u001b[39m\u001b[32m98\u001b[39m wyniki_testow = \u001b[43mprzeprowadz_testy_statystyczne\u001b[49m\u001b[43m(\u001b[49m\u001b[43mdf_pierwotny_transakcyjne\u001b[49m\u001b[43m,\u001b[49m\u001b[43m \u001b[49m\u001b[43mdf_wtorny_transakcyjne\u001b[49m\u001b[43m)\u001b[49m\n",
      "\u001b[36mCell\u001b[39m\u001b[36m \u001b[39m\u001b[32mIn[18]\u001b[39m\u001b[32m, line 31\u001b[39m, in \u001b[36mprzeprowadz_testy_statystyczne\u001b[39m\u001b[34m(df_pierwotny_tr, df_wtorny_tr)\u001b[39m\n\u001b[32m     29\u001b[39m \u001b[38;5;66;03m# Dane dla rynku pierwotnego\u001b[39;00m\n\u001b[32m     30\u001b[39m x_prim = np.arange(\u001b[38;5;28mlen\u001b[39m(ceny_pierwotny))\n\u001b[32m---> \u001b[39m\u001b[32m31\u001b[39m slope_prim, intercept_prim, r_prim, p_prim, std_err_prim = \u001b[43mlinregress\u001b[49m\u001b[43m(\u001b[49m\u001b[43mx_prim\u001b[49m\u001b[43m,\u001b[49m\u001b[43m \u001b[49m\u001b[43mceny_pierwotny\u001b[49m\u001b[43m)\u001b[49m\n\u001b[32m     33\u001b[39m \u001b[38;5;66;03m# Dane dla rynku wtórnego\u001b[39;00m\n\u001b[32m     34\u001b[39m x_sec = np.arange(\u001b[38;5;28mlen\u001b[39m(ceny_wtorny))\n",
      "\u001b[36mFile \u001b[39m\u001b[32m~/Studia_Projekty/ZED/ZED/.venv1/lib/python3.11/site-packages/scipy/stats/_stats_py.py:10715\u001b[39m, in \u001b[36mlinregress\u001b[39m\u001b[34m(x, y, alternative)\u001b[39m\n\u001b[32m  10710\u001b[39m ymean = np.mean(y, \u001b[38;5;28;01mNone\u001b[39;00m)\n\u001b[32m  10712\u001b[39m \u001b[38;5;66;03m# Average sums of square differences from the mean\u001b[39;00m\n\u001b[32m  10713\u001b[39m \u001b[38;5;66;03m#   ssxm = mean( (x-mean(x))^2 )\u001b[39;00m\n\u001b[32m  10714\u001b[39m \u001b[38;5;66;03m#   ssxym = mean( (x-mean(x)) * (y-mean(y)) )\u001b[39;00m\n\u001b[32m> \u001b[39m\u001b[32m10715\u001b[39m ssxm, ssxym, _, ssym = \u001b[43mnp\u001b[49m\u001b[43m.\u001b[49m\u001b[43mcov\u001b[49m\u001b[43m(\u001b[49m\u001b[43mx\u001b[49m\u001b[43m,\u001b[49m\u001b[43m \u001b[49m\u001b[43my\u001b[49m\u001b[43m,\u001b[49m\u001b[43m \u001b[49m\u001b[43mbias\u001b[49m\u001b[43m=\u001b[49m\u001b[32;43m1\u001b[39;49m\u001b[43m)\u001b[49m.flat\n\u001b[32m  10717\u001b[39m \u001b[38;5;66;03m# R-value\u001b[39;00m\n\u001b[32m  10718\u001b[39m \u001b[38;5;66;03m#   r = ssxym / sqrt( ssxm * ssym )\u001b[39;00m\n\u001b[32m  10719\u001b[39m \u001b[38;5;28;01mif\u001b[39;00m ssxm == \u001b[32m0.0\u001b[39m \u001b[38;5;129;01mor\u001b[39;00m ssym == \u001b[32m0.0\u001b[39m:\n\u001b[32m  10720\u001b[39m     \u001b[38;5;66;03m# If the denominator was going to be 0\u001b[39;00m\n",
      "\u001b[36mFile \u001b[39m\u001b[32m~/Studia_Projekty/ZED/ZED/.venv1/lib/python3.11/site-packages/numpy/lib/_function_base_impl.py:2890\u001b[39m, in \u001b[36mcov\u001b[39m\u001b[34m(m, y, rowvar, bias, ddof, fweights, aweights, dtype)\u001b[39m\n\u001b[32m   2887\u001b[39m     \u001b[38;5;28;01melse\u001b[39;00m:\n\u001b[32m   2888\u001b[39m         w *= aweights\n\u001b[32m-> \u001b[39m\u001b[32m2890\u001b[39m avg, w_sum = \u001b[43maverage\u001b[49m\u001b[43m(\u001b[49m\u001b[43mX\u001b[49m\u001b[43m,\u001b[49m\u001b[43m \u001b[49m\u001b[43maxis\u001b[49m\u001b[43m=\u001b[49m\u001b[32;43m1\u001b[39;49m\u001b[43m,\u001b[49m\u001b[43m \u001b[49m\u001b[43mweights\u001b[49m\u001b[43m=\u001b[49m\u001b[43mw\u001b[49m\u001b[43m,\u001b[49m\u001b[43m \u001b[49m\u001b[43mreturned\u001b[49m\u001b[43m=\u001b[49m\u001b[38;5;28;43;01mTrue\u001b[39;49;00m\u001b[43m)\u001b[49m\n\u001b[32m   2891\u001b[39m w_sum = w_sum[\u001b[32m0\u001b[39m]\n\u001b[32m   2893\u001b[39m \u001b[38;5;66;03m# Determine the normalization\u001b[39;00m\n",
      "\u001b[36mFile \u001b[39m\u001b[32m~/Studia_Projekty/ZED/ZED/.venv1/lib/python3.11/site-packages/numpy/lib/_function_base_impl.py:591\u001b[39m, in \u001b[36maverage\u001b[39m\u001b[34m(a, axis, weights, returned, keepdims)\u001b[39m\n\u001b[32m    587\u001b[39m     avg = avg_as_array = np.multiply(a, wgt,\n\u001b[32m    588\u001b[39m                       dtype=result_dtype).sum(axis, **keepdims_kw) / scl\n\u001b[32m    590\u001b[39m \u001b[38;5;28;01mif\u001b[39;00m returned:\n\u001b[32m--> \u001b[39m\u001b[32m591\u001b[39m     \u001b[38;5;28;01mif\u001b[39;00m \u001b[43mscl\u001b[49m\u001b[43m.\u001b[49m\u001b[43mshape\u001b[49m != avg_as_array.shape:\n\u001b[32m    592\u001b[39m         scl = np.broadcast_to(scl, avg_as_array.shape).copy()\n\u001b[32m    593\u001b[39m     \u001b[38;5;28;01mreturn\u001b[39;00m avg, scl\n",
      "\u001b[31mAttributeError\u001b[39m: 'float' object has no attribute 'shape'"
     ]
    }
   ],
   "source": [
    "# Komórka 5e: Standardowe testy statystyczne\n",
    "\n",
    "def przeprowadz_testy_statystyczne(df_pierwotny_tr, df_wtorny_tr):\n",
    "    \"\"\"\n",
    "    Przeprowadzenie standardowych testów statystycznych dla danych cenowych\n",
    "    \"\"\"\n",
    "    print(\"🧪 Przeprowadzanie testów statystycznych...\")\n",
    "    \n",
    "    # Wybór miast do analizy\n",
    "    miasta_do_testow = ['Poznań', 'Warszawa', 'Wrocław', 'średnia_miast']\n",
    "    \n",
    "    wyniki_testow = []\n",
    "    \n",
    "    for miasto in miasta_do_testow:\n",
    "        # Test t dla średnich\n",
    "        from scipy.stats import ttest_ind\n",
    "        \n",
    "        # Pobieranie danych cenowych\n",
    "        if miasto in df_pierwotny_tr.columns and miasto in df_wtorny_tr.columns:\n",
    "            ceny_pierwotny = df_pierwotny_tr[miasto].dropna()\n",
    "            ceny_wtorny = df_wtorny_tr[miasto].dropna()\n",
    "            \n",
    "            # Test t - porównanie średnich cen między rynkiem pierwotnym i wtórnym\n",
    "            t_stat, p_value = ttest_ind(ceny_pierwotny.to_list(), ceny_wtorny.to_list(), equal_var=False)\n",
    "            \n",
    "            # Test trendu - regresja liniowa względem czasu\n",
    "            from scipy.stats import linregress\n",
    "            \n",
    "            # Dane dla rynku pierwotnego\n",
    "            x_prim = np.arange(len(ceny_pierwotny))\n",
    "            slope_prim, intercept_prim, r_prim, p_prim, std_err_prim = linregress(x_prim, ceny_pierwotny)\n",
    "            \n",
    "            # Dane dla rynku wtórnego\n",
    "            x_sec = np.arange(len(ceny_wtorny))\n",
    "            slope_sec, intercept_sec, r_sec, p_sec, std_err_sec = linregress(x_sec, ceny_wtorny)\n",
    "            \n",
    "            # Zapisanie wyników\n",
    "            wyniki_testow.append({\n",
    "                'miasto': miasto,\n",
    "                'test_t_stat': t_stat,\n",
    "                'test_t_p_value': p_value,\n",
    "                'test_t_istotny': p_value < 0.05,\n",
    "                'trend_pierwotny_slope': slope_prim,\n",
    "                'trend_pierwotny_p': p_prim,\n",
    "                'trend_pierwotny_istotny': p_prim < 0.05,\n",
    "                'trend_wtorny_slope': slope_sec,\n",
    "                'trend_wtorny_p': p_sec,\n",
    "                'trend_wtorny_istotny': p_sec < 0.05\n",
    "            })\n",
    "    \n",
    "    # Tworzenie DataFrame z wynikami\n",
    "    wyniki_df = pd.DataFrame(wyniki_testow)\n",
    "    \n",
    "    print(\"\\n📋 Wyniki testów statystycznych:\")\n",
    "    pd.set_option('display.max_columns', None)\n",
    "    pd.set_option('display.width', 1000)\n",
    "    print(wyniki_df)\n",
    "    \n",
    "    # Wizualizacja trendów dla wybranych miast\n",
    "    for miasto in ['Warszawa', 'Poznań', 'Wrocław']:\n",
    "        if miasto in df_pierwotny_tr.columns and miasto in df_wtorny_tr.columns:\n",
    "            plt.figure(figsize=(12, 6))\n",
    "            \n",
    "            # Dane dla rynku pierwotnego\n",
    "            ceny_pierwotny = df_pierwotny_tr[miasto].dropna()\n",
    "            x_prim = range(len(ceny_pierwotny))\n",
    "            \n",
    "            # Dane dla rynku wtórnego\n",
    "            ceny_wtorny = df_wtorny_tr[miasto].dropna()\n",
    "            x_sec = range(len(ceny_wtorny))\n",
    "            \n",
    "            # Wizualizacja cen i trendów\n",
    "            plt.plot(df_pierwotny_tr['Data'].iloc[:len(ceny_pierwotny)], ceny_pierwotny, 'b-', label='Rynek pierwotny')\n",
    "            plt.plot(df_wtorny_tr['Data'].iloc[:len(ceny_wtorny)], ceny_wtorny, 'r-', label='Rynek wtórny')\n",
    "            \n",
    "            # Linie trendu\n",
    "            coef_prim = np.polyfit(x_prim, ceny_pierwotny, 1)\n",
    "            coef_sec = np.polyfit(x_sec, ceny_wtorny, 1)\n",
    "            \n",
    "            poly1d_prim = np.poly1d(coef_prim)\n",
    "            poly1d_sec = np.poly1d(coef_sec)\n",
    "            \n",
    "            plt.plot(df_pierwotny_tr['Data'].iloc[:len(ceny_pierwotny)], poly1d_prim(x_prim), 'b--', alpha=0.7)\n",
    "            plt.plot(df_wtorny_tr['Data'].iloc[:len(ceny_wtorny)], poly1d_sec(x_sec), 'r--', alpha=0.7)\n",
    "            \n",
    "            plt.title(f'Ceny mieszkań i trendy liniowe - {miasto}')\n",
    "            plt.xlabel('Data')\n",
    "            plt.ylabel('Cena (PLN/m²)')\n",
    "            plt.legend()\n",
    "            plt.grid(True, alpha=0.3)\n",
    "            plt.xticks(rotation=45)\n",
    "            plt.tight_layout()\n",
    "            plt.show()\n",
    "    \n",
    "    return wyniki_df\n",
    "\n",
    "# Wywołanie testów statystycznych\n",
    "wyniki_testow = przeprowadz_testy_statystyczne(df_pierwotny_transakcyjne, df_wtorny_transakcyjne)\n"
   ]
  },
  {
   "cell_type": "code",
   "execution_count": 7,
   "id": "597e5546",
   "metadata": {},
   "outputs": [
    {
     "name": "stdout",
     "output_type": "stream",
     "text": [
      "🔄 Przekształcanie danych do formatu długiego...\n",
      "✅ Dane przekształcone: 5,100 rekordów, 17 miast\n",
      "🧹 Sanityzacja danych w formacie długim...\n",
      "📊 Po usunięciu rekordów z brakami: 5,096 rekordów\n",
      "✅ Dane przetworzone. Dodano cechy lagowane, rolling i YoY\n",
      "🔗 Analiza korelacji...\n",
      "\n",
      "Poznań_pierwotny_ofertowa:\n",
      "  Inflacja CPI: r=0.709, p=0.000\n",
      "  WIBOR: r=0.344, p=0.003\n",
      "\n",
      "Poznań_pierwotny_transakcyjna:\n",
      "  Inflacja CPI: r=0.698, p=0.000\n",
      "  WIBOR: r=0.313, p=0.006\n",
      "\n",
      "Poznań_wtórny_ofertowa:\n",
      "  Inflacja CPI: r=0.627, p=0.000\n",
      "  WIBOR: r=0.272, p=0.018\n",
      "\n",
      "Poznań_wtórny_transakcyjna:\n",
      "  Inflacja CPI: r=0.635, p=0.000\n",
      "  WIBOR: r=0.316, p=0.006\n",
      "\n",
      "Warszawa_pierwotny_ofertowa:\n",
      "  Inflacja CPI: r=0.641, p=0.000\n",
      "  WIBOR: r=0.385, p=0.001\n",
      "\n",
      "Warszawa_pierwotny_transakcyjna:\n",
      "  Inflacja CPI: r=0.659, p=0.000\n",
      "  WIBOR: r=0.301, p=0.009\n",
      "\n",
      "Warszawa_wtórny_ofertowa:\n",
      "  Inflacja CPI: r=0.627, p=0.000\n",
      "  WIBOR: r=0.341, p=0.003\n",
      "\n",
      "Warszawa_wtórny_transakcyjna:\n",
      "  Inflacja CPI: r=0.651, p=0.000\n",
      "  WIBOR: r=0.351, p=0.002\n"
     ]
    },
    {
     "data": {
      "image/png": "[encoded data removed]",
      "text/plain": [
       "<Figure size 1000x800 with 2 Axes>"
      ]
     },
     "metadata": {},
     "output_type": "display_data"
    },
    {
     "name": "stdout",
     "output_type": "stream",
     "text": [
      "🧪 Testy statystyczne...\n",
      "\n",
      "Poznań_pierwotny_ofertowa:\n",
      "  Test normalności (Shapiro-Wilk): stat=0.8337, p=0.0000\n",
      "    ❌ Rozkład NIE jest normalny\n",
      "  Trend czasowy: slope=46.06 PLN/m²/kw, p=0.0000, R²=0.548\n",
      "    📈 Trend jest statystycznie istotny\n",
      "\n",
      "Poznań_pierwotny_transakcyjna:\n",
      "  Test normalności (Shapiro-Wilk): stat=0.8604, p=0.0000\n",
      "    ❌ Rozkład NIE jest normalny\n",
      "  Trend czasowy: slope=46.77 PLN/m²/kw, p=0.0000, R²=0.607\n",
      "    📈 Trend jest statystycznie istotny\n",
      "\n",
      "Poznań_wtórny_ofertowa:\n",
      "  Test normalności (Shapiro-Wilk): stat=0.8287, p=0.0000\n",
      "    ❌ Rozkład NIE jest normalny\n",
      "  Trend czasowy: slope=65.81 PLN/m²/kw, p=0.0000, R²=0.681\n",
      "    📈 Trend jest statystycznie istotny\n",
      "\n",
      "Poznań_wtórny_transakcyjna:\n",
      "  Test normalności (Shapiro-Wilk): stat=0.8433, p=0.0000\n",
      "    ❌ Rozkład NIE jest normalny\n",
      "  Trend czasowy: slope=59.61 PLN/m²/kw, p=0.0000, R²=0.643\n",
      "    📈 Trend jest statystycznie istotny\n",
      "\n",
      "Warszawa_pierwotny_ofertowa:\n",
      "  Test normalności (Shapiro-Wilk): stat=0.8463, p=0.0000\n",
      "    ❌ Rozkład NIE jest normalny\n",
      "  Trend czasowy: slope=79.96 PLN/m²/kw, p=0.0000, R²=0.537\n",
      "    📈 Trend jest statystycznie istotny\n",
      "\n",
      "Warszawa_pierwotny_transakcyjna:\n",
      "  Test normalności (Shapiro-Wilk): stat=0.8126, p=0.0000\n",
      "    ❌ Rozkład NIE jest normalny\n",
      "  Trend czasowy: slope=84.71 PLN/m²/kw, p=0.0000, R²=0.654\n",
      "    📈 Trend jest statystycznie istotny\n",
      "\n",
      "Warszawa_wtórny_ofertowa:\n",
      "  Test normalności (Shapiro-Wilk): stat=0.8206, p=0.0000\n",
      "    ❌ Rozkład NIE jest normalny\n",
      "  Trend czasowy: slope=79.61 PLN/m²/kw, p=0.0000, R²=0.561\n",
      "    📈 Trend jest statystycznie istotny\n",
      "\n",
      "Warszawa_wtórny_transakcyjna:\n",
      "  Test normalności (Shapiro-Wilk): stat=0.8329, p=0.0000\n",
      "    ❌ Rozkład NIE jest normalny\n",
      "  Trend czasowy: slope=82.11 PLN/m²/kw, p=0.0000, R²=0.563\n",
      "    📈 Trend jest statystycznie istotny\n"
     ]
    }
   ],
   "source": [
    "# Komórka 5: Analiza statystyczna dla danych w nowym formacie\n",
    "\n",
    "def przeksztalc_dane_do_formatu_dlugiego():\n",
    "    \"\"\"\n",
    "    Przekształca cztery dataframes z miastami jako kolumnami do formatu długiego\n",
    "    \"\"\"\n",
    "    print(\"🔄 Przekształcanie danych do formatu długiego...\")\n",
    "    \n",
    "    miasta = [\n",
    "        'Białystok', 'Bydgoszcz', 'Gdańsk', 'Gdynia', 'Katowice', 'Kielce', 'Kraków', 'Lublin',\n",
    "        'Łódź', 'Olsztyn', 'Opole', 'Poznań', 'Rzeszów', 'Szczecin', 'Warszawa', 'Wrocław', 'Zielona Góra'\n",
    "    ]\n",
    "    \n",
    "    # Przekształcanie do formatu długiego\n",
    "    def melt_cities(df, rynek, typ_ceny, miasta):\n",
    "        # Identyfikuj kolumny niebędące miastami\n",
    "        id_vars = ['Kwartał', 'Data', 'rok', 'kwartal_num', 'indeks_czasowy', 'CPI_Y2Y', 'CPI_Q2Q', 'WIBOR']\n",
    "        # Upewnij się, że wszystkie kolumny id_vars istnieją w df\n",
    "        id_vars = [col for col in id_vars if col in df.columns]\n",
    "        \n",
    "        # Przekształć do formatu długiego\n",
    "        df_long = df.melt(\n",
    "            id_vars=id_vars,\n",
    "            value_vars=[miasto for miasto in miasta if miasto in df.columns],\n",
    "            var_name='miasto',\n",
    "            value_name='cena_m2'\n",
    "        )\n",
    "        \n",
    "        # Dodaj informacje o rynku i typie ceny\n",
    "        df_long['rynek'] = rynek\n",
    "        df_long['typ_ceny'] = typ_ceny\n",
    "        \n",
    "        return df_long\n",
    "    \n",
    "    # Zastosuj do czterech dataframes\n",
    "    df_pierw_of_long = melt_cities(rynek_pierwotny_ofertowe, 'pierwotny', 'ofertowa', miasta)\n",
    "    df_pierw_tr_long = melt_cities(rynek_pierwotny_transakcyjne, 'pierwotny', 'transakcyjna', miasta)\n",
    "    df_wtor_of_long = melt_cities(rynek_wtorny_ofertowe, 'wtórny', 'ofertowa', miasta)\n",
    "    df_wtor_tr_long = melt_cities(rynek_wtorny_transakcyjne, 'wtórny', 'transakcyjna', miasta)\n",
    "    \n",
    "    # Połącz wszystkie dane w jeden DataFrame\n",
    "    df_all = pd.concat([\n",
    "        df_pierw_of_long, df_pierw_tr_long, df_wtor_of_long, df_wtor_tr_long\n",
    "    ], ignore_index=True)\n",
    "    \n",
    "    print(f\"✅ Dane przekształcone: {len(df_all):,} rekordów, {df_all['miasto'].nunique()} miast\")\n",
    "    return df_all\n",
    "\n",
    "def sanityzacja_danych_long(df):\n",
    "    \"\"\"\n",
    "    Oczyszcza dane w formacie długim i dodaje nowe cechy\n",
    "    \"\"\"\n",
    "    print(\"🧹 Sanityzacja danych w formacie długim...\")\n",
    "    \n",
    "    # Usuń rekordy z brakującymi cenami\n",
    "    df = df.dropna(subset=['cena_m2'])\n",
    "    print(f\"📊 Po usunięciu rekordów z brakami: {len(df):,} rekordów\")\n",
    "    \n",
    "    # Konwertuj ceny do typu float, jeśli nie są\n",
    "    df['cena_m2'] = pd.to_numeric(df['cena_m2'], errors='coerce')\n",
    "    df = df.dropna(subset=['cena_m2'])\n",
    "    \n",
    "    # Detekcja outlierów metodą IQR dla każdego miasta, rynku i typu ceny\n",
    "    def process_group(group):\n",
    "        if len(group) <= 5:  # Zbyt mało danych dla wiarygodnej detekcji outlierów\n",
    "            return group\n",
    "        \n",
    "        Q1 = group['cena_m2'].quantile(0.25)\n",
    "        Q3 = group['cena_m2'].quantile(0.75)\n",
    "        IQR = Q3 - Q1\n",
    "        lower_bound = Q1 - 1.5 * IQR\n",
    "        upper_bound = Q3 + 1.5 * IQR\n",
    "        \n",
    "        # Winsoryzacja (ograniczenie wartości skrajnych)\n",
    "        group.loc[group['cena_m2'] < lower_bound, 'cena_m2'] = lower_bound\n",
    "        group.loc[group['cena_m2'] > upper_bound, 'cena_m2'] = upper_bound\n",
    "        \n",
    "        return group\n",
    "    \n",
    "    # Zastosuj sanityzację do każdej grupy miasto-rynek-typ_ceny\n",
    "    df = df.groupby(['miasto', 'rynek', 'typ_ceny']).apply(process_group).reset_index(drop=True)\n",
    "    \n",
    "    # Feature engineering\n",
    "    df = df.sort_values(['miasto', 'rynek', 'typ_ceny', 'Data'])\n",
    "    \n",
    "    # Dodaj zmienne lagowane i rolling\n",
    "    for miasto in df['miasto'].unique():\n",
    "        for rynek in df['rynek'].unique():\n",
    "            for typ in df['typ_ceny'].unique():\n",
    "                mask = (df['miasto'] == miasto) & (df['rynek'] == rynek) & (df['typ_ceny'] == typ)\n",
    "                \n",
    "                # Lagowane wartości cen\n",
    "                df.loc[mask, 'cena_lag1'] = df.loc[mask, 'cena_m2'].shift(1)\n",
    "                df.loc[mask, 'cena_lag4'] = df.loc[mask, 'cena_m2'].shift(4)\n",
    "                \n",
    "                # Średnie kroczące\n",
    "                df.loc[mask, 'cena_ma4'] = df.loc[mask, 'cena_m2'].rolling(4).mean().values\n",
    "                \n",
    "                # Zmiany rok do roku (YoY)\n",
    "                df.loc[mask, 'cena_yoy'] = df.loc[mask, 'cena_m2'].pct_change(periods=4).values * 100\n",
    "    \n",
    "    # Ceny realne (skorygowane o inflację)\n",
    "    if 'CPI_Y2Y' in df.columns:\n",
    "        df['cena_realna'] = df['cena_m2'] / (df['CPI_Y2Y']/100)\n",
    "    \n",
    "    # Trendy kwadratowe\n",
    "    df['rok_kwadrat'] = df['rok'] ** 2\n",
    "    df['indeks_kwadrat'] = df['indeks_czasowy'] ** 2\n",
    "    \n",
    "    print(f\"✅ Dane przetworzone. Dodano cechy lagowane, rolling i YoY\")\n",
    "    return df\n",
    "\n",
    "def analiza_korelacji(df):\n",
    "    \"\"\"\n",
    "    Przeprowadza analizę korelacji między cenami mieszkań a zmiennymi ekonomicznymi\n",
    "    \"\"\"\n",
    "    print(\"🔗 Analiza korelacji...\")\n",
    "    \n",
    "    # Przygotuj dane dla korelacji\n",
    "    rezultaty_korelacji = {}\n",
    "    \n",
    "    for miasto in df['miasto'].unique():\n",
    "        for rynek in df['rynek'].unique():\n",
    "            for typ_ceny in df['typ_ceny'].unique():\n",
    "                mask = (df['miasto'] == miasto) & (df['rynek'] == rynek) & (df['typ_ceny'] == typ_ceny)\n",
    "                dane_segmentu = df[mask].dropna(subset=['cena_m2', 'CPI_Y2Y', 'WIBOR'])\n",
    "                \n",
    "                if len(dane_segmentu) >= 10:  # Minimum 10 obserwacji dla wiarygodnej korelacji\n",
    "                    # Korelacja z inflacją\n",
    "                    corr_inflacja, p_inflacja = pearsonr(dane_segmentu['cena_m2'].to_list(), dane_segmentu['CPI_Y2Y'].to_list())\n",
    "                    \n",
    "                    # Korelacja z WIBOR\n",
    "                    corr_wibor, p_wibor = pearsonr(dane_segmentu['cena_m2'].to_list(), dane_segmentu['WIBOR'].to_list())\n",
    "                    \n",
    "                    klucz = f\"{miasto}_{rynek}_{typ_ceny}\"\n",
    "                    rezultaty_korelacji[klucz] = {\n",
    "                        'inflacja_corr': corr_inflacja,\n",
    "                        'inflacja_p': p_inflacja,\n",
    "                        'wibor_corr': corr_wibor,\n",
    "                        'wibor_p': p_wibor\n",
    "                    }\n",
    "    \n",
    "    # Pokaż wyniki dla wybranych miast\n",
    "    for miasto in ['Poznań', 'Warszawa']:\n",
    "        for rynek in df['rynek'].unique():\n",
    "            for typ_ceny in df['typ_ceny'].unique():\n",
    "                klucz = f\"{miasto}_{rynek}_{typ_ceny}\"\n",
    "                if klucz in rezultaty_korelacji:\n",
    "                    stats = rezultaty_korelacji[klucz]\n",
    "                    print(f\"\\n{klucz}:\")\n",
    "                    print(f\"  Inflacja CPI: r={stats['inflacja_corr']:.3f}, p={stats['inflacja_p']:.3f}\")\n",
    "                    print(f\"  WIBOR: r={stats['wibor_corr']:.3f}, p={stats['wibor_p']:.3f}\")\n",
    "    \n",
    "    # Wizualizacja korelacji dla Warszawy\n",
    "    warsaw_data = df[df['miasto'] == 'Poznań']\n",
    "    \n",
    "    fig, ax = plt.subplots(figsize=(10, 8))\n",
    "    corr_vars = ['cena_m2', 'CPI_Y2Y', 'WIBOR', 'rok']\n",
    "    correlation_matrix = warsaw_data[corr_vars].corr()\n",
    "    \n",
    "    sns.heatmap(correlation_matrix, annot=True, cmap='coolwarm', center=0, \n",
    "               square=True, fmt='.3f', cbar_kws={'shrink': 0.8})\n",
    "    plt.title('Macierz Korelacji - Ceny mieszkań w Poznaniu vs. wskaźniki ekonomiczne')\n",
    "    plt.tight_layout()\n",
    "    plt.show()\n",
    "    \n",
    "    return rezultaty_korelacji\n",
    "\n",
    "def testy_statystyczne(df):\n",
    "    \"\"\"\n",
    "    Przeprowadza testy statystyczne\n",
    "    \"\"\"\n",
    "    print(\"🧪 Testy statystyczne...\")\n",
    "    \n",
    "    rezultaty_testow = {}\n",
    "    \n",
    "    for miasto in ['Poznań', 'Warszawa', 'Wrocław', '', 'Gdańsk']:\n",
    "        for rynek in df['rynek'].unique():\n",
    "            for typ_ceny in df['typ_ceny'].unique():\n",
    "                mask = (df['miasto'] == miasto) & (df['rynek'] == rynek) & (df['typ_ceny'] == typ_ceny)\n",
    "                dane_segmentu = df[mask].sort_values('Data')\n",
    "                \n",
    "                if len(dane_segmentu) >= 10:  # Minimum 10 obserwacji dla wiarygodności\n",
    "                    ceny = dane_segmentu['cena_m2'].dropna()\n",
    "                    \n",
    "                    try:\n",
    "                        # Test normalności Shapiro-Wilka\n",
    "                        stat_shapiro, p_shapiro = stats.shapiro(ceny)\n",
    "                        \n",
    "                        # Test trendu czasowego\n",
    "                        indeksy = dane_segmentu['indeks_czasowy'].values\n",
    "                        slope, intercept, r_value, p_trend, std_err = stats.linregress(indeksy, ceny)\n",
    "                        \n",
    "                        klucz = f\"{miasto}_{rynek}_{typ_ceny}\"\n",
    "                        rezultaty_testow[klucz] = {\n",
    "                            'shapiro_stat': stat_shapiro,\n",
    "                            'shapiro_p': p_shapiro,\n",
    "                            'trend_slope': slope,\n",
    "                            'trend_p': p_trend,\n",
    "                            'trend_r2': r_value**2\n",
    "                        }\n",
    "                    except:\n",
    "                        # Ignoruj błędy (np. gdy wszystkie wartości są identyczne)\n",
    "                        pass\n",
    "    \n",
    "    # Wyświetl wyniki dla głównych miast\n",
    "    for miasto in ['Poznań', 'Warszawa']:\n",
    "        for rynek in df['rynek'].unique():\n",
    "            for typ_ceny in df['typ_ceny'].unique():\n",
    "                klucz = f\"{miasto}_{rynek}_{typ_ceny}\"\n",
    "                if klucz in rezultaty_testow:\n",
    "                    stats_data = rezultaty_testow[klucz]\n",
    "                    print(f\"\\n{klucz}:\")\n",
    "                    \n",
    "                    # Test normalności\n",
    "                    print(f\"  Test normalności (Shapiro-Wilk): stat={stats_data['shapiro_stat']:.4f}, p={stats_data['shapiro_p']:.4f}\")\n",
    "                    if stats_data['shapiro_p'] < 0.05:\n",
    "                        print(\"    ❌ Rozkład NIE jest normalny\")\n",
    "                    else:\n",
    "                        print(\"    ✅ Rozkład jest normalny\")\n",
    "                    \n",
    "                    # Test trendu\n",
    "                    print(f\"  Trend czasowy: slope={stats_data['trend_slope']:.2f} PLN/m²/kw, p={stats_data['trend_p']:.4f}, R²={stats_data['trend_r2']:.3f}\")\n",
    "                    if stats_data['trend_p'] < 0.05:\n",
    "                        print(\"    📈 Trend jest statystycznie istotny\")\n",
    "                    else:\n",
    "                        print(\"    ➡️ Brak istotnego trendu\")\n",
    "    \n",
    "    return rezultaty_testow\n",
    "\n",
    "# Wykonaj przekształcenie i analizę danych\n",
    "df_mieszkania = przeksztalc_dane_do_formatu_dlugiego()\n",
    "df_mieszkania_clean = sanityzacja_danych_long(df_mieszkania)\n",
    "\n",
    "# Przeprowadź analizy statystyczne\n",
    "korelacje = analiza_korelacji(df_mieszkania_clean)\n",
    "testy = testy_statystyczne(df_mieszkania_clean)\n"
   ]
  },
  {
   "cell_type": "markdown",
   "id": "6d93f46e",
   "metadata": {},
   "source": [
    "## Komórka 6: Interaktywne wizualizacje dla danych w nowym formacie\n"
   ]
  },
  {
   "cell_type": "code",
   "execution_count": 8,
   "id": "b0df19bd",
   "metadata": {},
   "outputs": [
    {
     "name": "stdout",
     "output_type": "stream",
     "text": [
      "📊 Tworzenie interaktywnego wykresu czasowego...\n"
     ]
    },
    {
     "data": {
      "application/vnd.plotly.v1+json": {
       "config": {
        "plotlyServerURL": "https://plot.ly"
       },
       "data": [
        {
         "hovertemplate": "<b>%{fullData.name}</b><br>Data: %{x}<br>Cena: %{y:,.0f} PLN/m²<extra></extra>",
         "line": {
          "color": "#E41A1C",
          "dash": "solid",
          "width": 2
         },
         "marker": {
          "size": 5
         },
         "mode": "lines+markers",
         "name": "Warszawa - pierwotny",
         "type": "scatter",
         "x": [
          "2006-07-01T00:00:00.000000000",
          "2006-10-01T00:00:00.000000000",
          "2007-01-01T00:00:00.000000000",
          "2007-04-01T00:00:00.000000000",
          "2007-07-01T00:00:00.000000000",
          "2007-10-01T00:00:00.000000000",
          "2008-01-01T00:00:00.000000000",
          "2008-04-01T00:00:00.000000000",
          "2008-07-01T00:00:00.000000000",
          "2008-10-01T00:00:00.000000000",
          "2009-01-01T00:00:00.000000000",
          "2009-04-01T00:00:00.000000000",
          "2009-07-01T00:00:00.000000000",
          "2009-10-01T00:00:00.000000000",
          "2010-01-01T00:00:00.000000000",
          "2010-04-01T00:00:00.000000000",
          "2010-07-01T00:00:00.000000000",
          "2010-10-01T00:00:00.000000000",
          "2011-01-01T00:00:00.000000000",
          "2011-04-01T00:00:00.000000000",
          "2011-07-01T00:00:00.000000000",
          "2011-10-01T00:00:00.000000000",
          "2012-01-01T00:00:00.000000000",
          "2012-04-01T00:00:00.000000000",
          "2012-07-01T00:00:00.000000000",
          "2012-10-01T00:00:00.000000000",
          "2013-01-01T00:00:00.000000000",
          "2013-04-01T00:00:00.000000000",
          "2013-07-01T00:00:00.000000000",
          "2013-10-01T00:00:00.000000000",
          "2014-01-01T00:00:00.000000000",
          "2014-04-01T00:00:00.000000000",
          "2014-07-01T00:00:00.000000000",
          "2014-10-01T00:00:00.000000000",
          "2015-01-01T00:00:00.000000000",
          "2015-04-01T00:00:00.000000000",
          "2015-07-01T00:00:00.000000000",
          "2015-10-01T00:00:00.000000000",
          "2016-01-01T00:00:00.000000000",
          "2016-04-01T00:00:00.000000000",
          "2016-07-01T00:00:00.000000000",
          "2016-10-01T00:00:00.000000000",
          "2017-01-01T00:00:00.000000000",
          "2017-04-01T00:00:00.000000000",
          "2017-07-01T00:00:00.000000000",
          "2017-10-01T00:00:00.000000000",
          "2018-01-01T00:00:00.000000000",
          "2018-04-01T00:00:00.000000000",
          "2018-07-01T00:00:00.000000000",
          "2018-10-01T00:00:00.000000000",
          "2019-01-01T00:00:00.000000000",
          "2019-04-01T00:00:00.000000000",
          "2019-07-01T00:00:00.000000000",
          "2019-10-01T00:00:00.000000000",
          "2020-01-01T00:00:00.000000000",
          "2020-04-01T00:00:00.000000000",
          "2020-07-01T00:00:00.000000000",
          "2020-10-01T00:00:00.000000000",
          "2021-01-01T00:00:00.000000000",
          "2021-04-01T00:00:00.000000000",
          "2021-07-01T00:00:00.000000000",
          "2021-10-01T00:00:00.000000000",
          "2022-01-01T00:00:00.000000000",
          "2022-04-01T00:00:00.000000000",
          "2022-07-01T00:00:00.000000000",
          "2022-10-01T00:00:00.000000000",
          "2023-01-01T00:00:00.000000000",
          "2023-04-01T00:00:00.000000000",
          "2023-07-01T00:00:00.000000000",
          "2023-10-01T00:00:00.000000000",
          "2024-01-01T00:00:00.000000000",
          "2024-04-01T00:00:00.000000000",
          "2024-07-01T00:00:00.000000000",
          "2024-10-01T00:00:00.000000000",
          "2025-01-01T00:00:00.000000000"
         ],
         "xaxis": "x",
         "y": {
          "bdata": "AAAAAADltUAAAAAAACq4QAAAAAAAhrxAAAAAAABjvUAAAAAAAMe+QAAAAACAvcBAAAAAAICrwEAAAAAAgNHAQAAAAACAQsBAAAAAAADVv0AAAAAAAHe9QAAAAAAAJb1AxHqjVjyhvUAVxEDXlv+9QOwtcyc37b9AO0LrYuQlv0AJIx7SNAS/QBiKx4eOEL1AAAAAAABlv0BdXA7qxWa9QOUeGf6+/rxAyMcKhK45vEA79xUZxTa7QC3D4YvxgrtABXl5yrVkukAW91JCB0K5QL/ZdeyjTbtAblParhhqu0C06O2YvQS8QNhUyrp+A71AbODauFGCvEDBjyZTnZO8QAraaPWGFb1Aj1eMG7mSvEBMpkrImOO8QBv8nuznVb1AlzHlHBuFvUCIQt4r7CW9QI7A5Fxj171AXrpJDOKevUCu/+/kIBC+QKpd+ogABr5AOhEjXh2KvUDXGPpgkwK+QDsVpx/bi75AwKBwWeFGvkCtcm1z5By/QLJiv0A29r9ArtEWn+mswEDi84ILSrrAQJtDH8CTIcFAyPzOTQZywUBa4FtqOfLBQCq/on3qgcJAu49hDE0tw0BWq3wEcm/CQEsQ+lhg48NAJK0l2cP/w0BcheZD79TEQL5eq6LC48RAaPuTNO5+xUB0e1Sf+7HGQEMDHshULshA7QtNibQbyEA7nOneQtvIQN4N6GT6EclA+Tx/0w8DyUBKDrZT3b3JQEQ2qyLm/spARDarIub+ykBENqsi5v7KQEQ2qyLm/spARDarIub+ykBENqsi5v7KQEQ2qyLm/spA",
          "dtype": "f8"
         },
         "yaxis": "y"
        },
        {
         "hovertemplate": "<b>%{fullData.name}</b><br>Data: %{x}<br>Cena: %{y:,.0f} PLN/m²<extra></extra>",
         "line": {
          "color": "#E41A1C",
          "dash": "dash",
          "width": 2
         },
         "marker": {
          "size": 5
         },
         "mode": "lines+markers",
         "name": "Warszawa - wtórny",
         "type": "scatter",
         "x": [
          "2006-07-01T00:00:00.000000000",
          "2006-10-01T00:00:00.000000000",
          "2007-01-01T00:00:00.000000000",
          "2007-04-01T00:00:00.000000000",
          "2007-07-01T00:00:00.000000000",
          "2007-10-01T00:00:00.000000000",
          "2008-01-01T00:00:00.000000000",
          "2008-04-01T00:00:00.000000000",
          "2008-07-01T00:00:00.000000000",
          "2008-10-01T00:00:00.000000000",
          "2009-01-01T00:00:00.000000000",
          "2009-04-01T00:00:00.000000000",
          "2009-07-01T00:00:00.000000000",
          "2009-10-01T00:00:00.000000000",
          "2010-01-01T00:00:00.000000000",
          "2010-04-01T00:00:00.000000000",
          "2010-07-01T00:00:00.000000000",
          "2010-10-01T00:00:00.000000000",
          "2011-01-01T00:00:00.000000000",
          "2011-04-01T00:00:00.000000000",
          "2011-07-01T00:00:00.000000000",
          "2011-10-01T00:00:00.000000000",
          "2012-01-01T00:00:00.000000000",
          "2012-04-01T00:00:00.000000000",
          "2012-07-01T00:00:00.000000000",
          "2012-10-01T00:00:00.000000000",
          "2013-01-01T00:00:00.000000000",
          "2013-04-01T00:00:00.000000000",
          "2013-07-01T00:00:00.000000000",
          "2013-10-01T00:00:00.000000000",
          "2014-01-01T00:00:00.000000000",
          "2014-04-01T00:00:00.000000000",
          "2014-07-01T00:00:00.000000000",
          "2014-10-01T00:00:00.000000000",
          "2015-01-01T00:00:00.000000000",
          "2015-04-01T00:00:00.000000000",
          "2015-07-01T00:00:00.000000000",
          "2015-10-01T00:00:00.000000000",
          "2016-01-01T00:00:00.000000000",
          "2016-04-01T00:00:00.000000000",
          "2016-07-01T00:00:00.000000000",
          "2016-10-01T00:00:00.000000000",
          "2017-01-01T00:00:00.000000000",
          "2017-04-01T00:00:00.000000000",
          "2017-07-01T00:00:00.000000000",
          "2017-10-01T00:00:00.000000000",
          "2018-01-01T00:00:00.000000000",
          "2018-04-01T00:00:00.000000000",
          "2018-07-01T00:00:00.000000000",
          "2018-10-01T00:00:00.000000000",
          "2019-01-01T00:00:00.000000000",
          "2019-04-01T00:00:00.000000000",
          "2019-07-01T00:00:00.000000000",
          "2019-10-01T00:00:00.000000000",
          "2020-01-01T00:00:00.000000000",
          "2020-04-01T00:00:00.000000000",
          "2020-07-01T00:00:00.000000000",
          "2020-10-01T00:00:00.000000000",
          "2021-01-01T00:00:00.000000000",
          "2021-04-01T00:00:00.000000000",
          "2021-07-01T00:00:00.000000000",
          "2021-10-01T00:00:00.000000000",
          "2022-01-01T00:00:00.000000000",
          "2022-04-01T00:00:00.000000000",
          "2022-07-01T00:00:00.000000000",
          "2022-10-01T00:00:00.000000000",
          "2023-01-01T00:00:00.000000000",
          "2023-04-01T00:00:00.000000000",
          "2023-07-01T00:00:00.000000000",
          "2023-10-01T00:00:00.000000000",
          "2024-01-01T00:00:00.000000000",
          "2024-04-01T00:00:00.000000000",
          "2024-07-01T00:00:00.000000000",
          "2024-10-01T00:00:00.000000000",
          "2025-01-01T00:00:00.000000000"
         ],
         "xaxis": "x",
         "y": {
          "bdata": "AAAAAABYuEAAAAAAAOe7QAAAAAAAMr5AAAAAAAD8wEAAAAAAgNjBQAAAAAAApcFAAAAAAIBswUAAAAAAALHAQAAAAAAAqMBAAAAAAACrwUAAAAAAAGvAQAAAAAAAa8BARE5fz+8Mv0DWrDO+bZjAQOIj8kHa1cBAvR7et2hywUA6ha2eWZbAQLwqItONV79AAAAAAADrvkAGgnRAP/C+QNltvDyU775A9jBZLvLQvkD5kdYYELG9QIxlj99ZYr1Asmeho21PvEDzVaTu5kW8QJYda7zMHrpAIMQrb7TSukAUZUatDTu7QGlVAEyRFLxAw0Xur9EBvEA5B1MNgqO8QJ3LtWxMxbxAziMz5bjavEAqHpSoyaa8QOgwmlp5jLxAElHweWMXvUCkAFEwG+m8QHUQd/G/Cb1AeBH5hWK7vECWBmQdnIy8QHtcWXXhg71AAiuHFtkEvUBcj8L16Iy+QMuhRbbzU79AyXa+n9p1v0DCKG68Im+/QI0kmP7/ZMBAsJCttdHNwEACv8v57RzBQO1x7eFSjMFAaSdgGmUNwkCVLLSCUXjCQG9iys5BKsNACI1jV7qJw0BRydpKGhjEQCWa4kAcc8RAlrqbFpXXxECNdusybj/FQA94lc/C6MVASvxbaFOgxkAXtvpvTSLHQMrpfWG87cdAkvym6BbVyEDStibPQjrJQNV90KHvcMlAQAIecq6GyUCJDJRbqcrJQMcLbq604cpA27/s+mSwy0DA92XmluHMQMD3ZeaW4cxAwPdl5pbhzEDA92XmluHMQMD3ZeaW4cxA",
          "dtype": "f8"
         },
         "yaxis": "y"
        },
        {
         "hovertemplate": "<b>%{fullData.name}</b><br>Data: %{x}<br>Cena: %{y:,.0f} PLN/m²<extra></extra>",
         "line": {
          "color": "#377EB8",
          "dash": "solid",
          "width": 2
         },
         "marker": {
          "size": 5
         },
         "mode": "lines+markers",
         "name": "Kraków - pierwotny",
         "type": "scatter",
         "x": [
          "2006-07-01T00:00:00.000000000",
          "2006-10-01T00:00:00.000000000",
          "2007-01-01T00:00:00.000000000",
          "2007-04-01T00:00:00.000000000",
          "2007-07-01T00:00:00.000000000",
          "2007-10-01T00:00:00.000000000",
          "2008-01-01T00:00:00.000000000",
          "2008-04-01T00:00:00.000000000",
          "2008-07-01T00:00:00.000000000",
          "2008-10-01T00:00:00.000000000",
          "2009-01-01T00:00:00.000000000",
          "2009-04-01T00:00:00.000000000",
          "2009-07-01T00:00:00.000000000",
          "2009-10-01T00:00:00.000000000",
          "2010-01-01T00:00:00.000000000",
          "2010-04-01T00:00:00.000000000",
          "2010-07-01T00:00:00.000000000",
          "2010-10-01T00:00:00.000000000",
          "2011-01-01T00:00:00.000000000",
          "2011-04-01T00:00:00.000000000",
          "2011-07-01T00:00:00.000000000",
          "2011-10-01T00:00:00.000000000",
          "2012-01-01T00:00:00.000000000",
          "2012-04-01T00:00:00.000000000",
          "2012-07-01T00:00:00.000000000",
          "2012-10-01T00:00:00.000000000",
          "2013-01-01T00:00:00.000000000",
          "2013-04-01T00:00:00.000000000",
          "2013-07-01T00:00:00.000000000",
          "2013-10-01T00:00:00.000000000",
          "2014-01-01T00:00:00.000000000",
          "2014-04-01T00:00:00.000000000",
          "2014-07-01T00:00:00.000000000",
          "2014-10-01T00:00:00.000000000",
          "2015-01-01T00:00:00.000000000",
          "2015-04-01T00:00:00.000000000",
          "2015-07-01T00:00:00.000000000",
          "2015-10-01T00:00:00.000000000",
          "2016-01-01T00:00:00.000000000",
          "2016-04-01T00:00:00.000000000",
          "2016-07-01T00:00:00.000000000",
          "2016-10-01T00:00:00.000000000",
          "2017-01-01T00:00:00.000000000",
          "2017-04-01T00:00:00.000000000",
          "2017-07-01T00:00:00.000000000",
          "2017-10-01T00:00:00.000000000",
          "2018-01-01T00:00:00.000000000",
          "2018-04-01T00:00:00.000000000",
          "2018-07-01T00:00:00.000000000",
          "2018-10-01T00:00:00.000000000",
          "2019-01-01T00:00:00.000000000",
          "2019-04-01T00:00:00.000000000",
          "2019-07-01T00:00:00.000000000",
          "2019-10-01T00:00:00.000000000",
          "2020-01-01T00:00:00.000000000",
          "2020-04-01T00:00:00.000000000",
          "2020-07-01T00:00:00.000000000",
          "2020-10-01T00:00:00.000000000",
          "2021-01-01T00:00:00.000000000",
          "2021-04-01T00:00:00.000000000",
          "2021-07-01T00:00:00.000000000",
          "2021-10-01T00:00:00.000000000",
          "2022-01-01T00:00:00.000000000",
          "2022-04-01T00:00:00.000000000",
          "2022-07-01T00:00:00.000000000",
          "2022-10-01T00:00:00.000000000",
          "2023-01-01T00:00:00.000000000",
          "2023-04-01T00:00:00.000000000",
          "2023-07-01T00:00:00.000000000",
          "2023-10-01T00:00:00.000000000",
          "2024-01-01T00:00:00.000000000",
          "2024-04-01T00:00:00.000000000",
          "2024-07-01T00:00:00.000000000",
          "2024-10-01T00:00:00.000000000",
          "2025-01-01T00:00:00.000000000"
         ],
         "xaxis": "x",
         "y": {
          "bdata": "AAAAAACgukAAAAAAALG7QAAAAAAAGLxAAAAAAACwvkAAAAAAAHy/QAAAAAAAMb9AAAAAAABAv0AAAAAAAFu/QAAAAAAAhr5AAAAAAABevUAAAAAAAM28QAAAAAAAAbxAAAAAAADSukAAAAAAAEW7QAAAAAAASbtAAAAAAAAIu0AAAAAAALK6QAAAAAAAhbpAAAAAAADmukAAAAAAAKq7QAAAAAAALrtAAAAAAAA3ukDVk3xyAO25QErxFHJi2LlAZ554BIY2ukA3LRNr0BC5QGMuQltVJrdA8FdpJqaauEDn575cTAe3QASEC3N0lrZADxYyc/Fvt0CgH7CtAhy4QBpW3JI1UrdA1Reu9ytatkC/6zOtreS2QAAAAAAACLdASewUjoCnuECWUv53RNW4QAAAAAAAX7hAu6COFfHGuECKy8YXNZq4QAAAAAAAM7lAGBXwDNPkuEDXgFDFfbe5QMAlGWI/mrpA/zIPQAtjukDtPj3oiIu6QNMVa75ferpAdrr3meMgu0CmvQ2TwR68QC/MYSaUAb1AXs7hoTU7vkDR4JPXomu+QLZMYVQXF8BA9jA3jHw5wEDqgb3+StLAQGSJKPJgasFAbwI04bgUwUBF8yExB1HBQO+Mz0p8UMJAdPeYEaL/wkDw+juq5CHEQOc/zU+9lMRAlAa1CtPCxUDiT86OlKjGQKLaJ8PQCsdAZ4WrVMNxxkDjxPwpxKLGQKLaJ8PQCsdAotonw9AKx0Ci2ifD0ArHQKLaJ8PQCsdAotonw9AKx0Ci2ifD0ArHQKLaJ8PQCsdA",
          "dtype": "f8"
         },
         "yaxis": "y"
        },
        {
         "hovertemplate": "<b>%{fullData.name}</b><br>Data: %{x}<br>Cena: %{y:,.0f} PLN/m²<extra></extra>",
         "line": {
          "color": "#377EB8",
          "dash": "dash",
          "width": 2
         },
         "marker": {
          "size": 5
         },
         "mode": "lines+markers",
         "name": "Kraków - wtórny",
         "type": "scatter",
         "x": [
          "2006-07-01T00:00:00.000000000",
          "2006-10-01T00:00:00.000000000",
          "2007-01-01T00:00:00.000000000",
          "2007-04-01T00:00:00.000000000",
          "2007-07-01T00:00:00.000000000",
          "2007-10-01T00:00:00.000000000",
          "2008-01-01T00:00:00.000000000",
          "2008-04-01T00:00:00.000000000",
          "2008-07-01T00:00:00.000000000",
          "2008-10-01T00:00:00.000000000",
          "2009-01-01T00:00:00.000000000",
          "2009-04-01T00:00:00.000000000",
          "2009-07-01T00:00:00.000000000",
          "2009-10-01T00:00:00.000000000",
          "2010-01-01T00:00:00.000000000",
          "2010-04-01T00:00:00.000000000",
          "2010-07-01T00:00:00.000000000",
          "2010-10-01T00:00:00.000000000",
          "2011-01-01T00:00:00.000000000",
          "2011-04-01T00:00:00.000000000",
          "2011-07-01T00:00:00.000000000",
          "2011-10-01T00:00:00.000000000",
          "2012-01-01T00:00:00.000000000",
          "2012-04-01T00:00:00.000000000",
          "2012-07-01T00:00:00.000000000",
          "2012-10-01T00:00:00.000000000",
          "2013-01-01T00:00:00.000000000",
          "2013-04-01T00:00:00.000000000",
          "2013-07-01T00:00:00.000000000",
          "2013-10-01T00:00:00.000000000",
          "2014-01-01T00:00:00.000000000",
          "2014-04-01T00:00:00.000000000",
          "2014-07-01T00:00:00.000000000",
          "2014-10-01T00:00:00.000000000",
          "2015-01-01T00:00:00.000000000",
          "2015-04-01T00:00:00.000000000",
          "2015-07-01T00:00:00.000000000",
          "2015-10-01T00:00:00.000000000",
          "2016-01-01T00:00:00.000000000",
          "2016-04-01T00:00:00.000000000",
          "2016-07-01T00:00:00.000000000",
          "2016-10-01T00:00:00.000000000",
          "2017-01-01T00:00:00.000000000",
          "2017-04-01T00:00:00.000000000",
          "2017-07-01T00:00:00.000000000",
          "2017-10-01T00:00:00.000000000",
          "2018-01-01T00:00:00.000000000",
          "2018-04-01T00:00:00.000000000",
          "2018-07-01T00:00:00.000000000",
          "2018-10-01T00:00:00.000000000",
          "2019-01-01T00:00:00.000000000",
          "2019-04-01T00:00:00.000000000",
          "2019-07-01T00:00:00.000000000",
          "2019-10-01T00:00:00.000000000",
          "2020-01-01T00:00:00.000000000",
          "2020-04-01T00:00:00.000000000",
          "2020-07-01T00:00:00.000000000",
          "2020-10-01T00:00:00.000000000",
          "2021-01-01T00:00:00.000000000",
          "2021-04-01T00:00:00.000000000",
          "2021-07-01T00:00:00.000000000",
          "2021-10-01T00:00:00.000000000",
          "2022-01-01T00:00:00.000000000",
          "2022-04-01T00:00:00.000000000",
          "2022-07-01T00:00:00.000000000",
          "2022-10-01T00:00:00.000000000",
          "2023-01-01T00:00:00.000000000",
          "2023-04-01T00:00:00.000000000",
          "2023-07-01T00:00:00.000000000",
          "2023-10-01T00:00:00.000000000",
          "2024-01-01T00:00:00.000000000",
          "2024-04-01T00:00:00.000000000",
          "2024-07-01T00:00:00.000000000",
          "2024-10-01T00:00:00.000000000",
          "2025-01-01T00:00:00.000000000"
         ],
         "xaxis": "x",
         "y": {
          "bdata": "AAAAAABJtEAAAAAAAM24QAAAAAAAe7hAAAAAAACNvEAAAAAAABm8QAAAAAAAO7pAAAAAAAB5ukAAAAAAAOW5QAAAAAAAlrhAAAAAAACCuUAAAAAAAN63QAAAAAAAsbdAAAAAAABXt0AAAAAAAAu4QAAAAAAAJrhAAAAAAADjt0AAAAAAAJi4QAAAAAAAjLhAAAAAAAD6uEAAAAAAAE65QAAAAAAA4bhAAAAAAABQuEB42C6RaFm5QM2mWmPXerdAHyhgqmnQt0DvgYrwUuO3QAAAAAAAK7dA8Iq+RuovtkAAAAAAAPy2QAAAAAAAw7ZATMAPt4NitkAAAAAAADG3QCBB8WOcKbdAyde6d9LJtkAAAAAAADW4QK/NeS4xDbhAGXaIUyjPt0CYFLlD5zK3QNuto90e/LZAdAGC+0BstkDp6fBB4bu2QNEHToNAP7dAcCXddShbt0AtsSJKB5a3QGtaIOlgy7hA0rsxE8SDuEB0iX/4YNW4QJsDdjkBaLlAvf7W/cWCukAbw/FdXOy6QA85ZvQOALtAdGfF7jh2vECmfqZkiuu8QOY8A0Ut6b1AUZ2sj93pv0AaSqB52Y3AQArHRcYS3cBAjImAbZhIwUDY+zKZm3jBQGPy2hn0UMJAz+ltJcTvwkC134ido4fDQEIu41+SLMRA4O1Ek+L8xEBCnz3oW5jFQJztK3G8p8VAiLwpjRKExUCav8oxHdrFQG/ml2kjasdAJGmMMJj1x0AkaYwwmPXHQCRpjDCY9cdAJGmMMJj1x0AkaYwwmPXHQCRpjDCY9cdA",
          "dtype": "f8"
         },
         "yaxis": "y"
        },
        {
         "hovertemplate": "<b>%{fullData.name}</b><br>Data: %{x}<br>Cena: %{y:,.0f} PLN/m²<extra></extra>",
         "line": {
          "color": "#4DAF4A",
          "dash": "solid",
          "width": 2
         },
         "marker": {
          "size": 5
         },
         "mode": "lines+markers",
         "name": "Wrocław - pierwotny",
         "type": "scatter",
         "x": [
          "2006-07-01T00:00:00.000000000",
          "2006-10-01T00:00:00.000000000",
          "2007-01-01T00:00:00.000000000",
          "2007-04-01T00:00:00.000000000",
          "2007-07-01T00:00:00.000000000",
          "2007-10-01T00:00:00.000000000",
          "2008-01-01T00:00:00.000000000",
          "2008-04-01T00:00:00.000000000",
          "2008-07-01T00:00:00.000000000",
          "2008-10-01T00:00:00.000000000",
          "2009-01-01T00:00:00.000000000",
          "2009-04-01T00:00:00.000000000",
          "2009-07-01T00:00:00.000000000",
          "2009-10-01T00:00:00.000000000",
          "2010-01-01T00:00:00.000000000",
          "2010-04-01T00:00:00.000000000",
          "2010-07-01T00:00:00.000000000",
          "2010-10-01T00:00:00.000000000",
          "2011-01-01T00:00:00.000000000",
          "2011-04-01T00:00:00.000000000",
          "2011-07-01T00:00:00.000000000",
          "2011-10-01T00:00:00.000000000",
          "2012-01-01T00:00:00.000000000",
          "2012-04-01T00:00:00.000000000",
          "2012-07-01T00:00:00.000000000",
          "2012-10-01T00:00:00.000000000",
          "2013-01-01T00:00:00.000000000",
          "2013-04-01T00:00:00.000000000",
          "2013-07-01T00:00:00.000000000",
          "2013-10-01T00:00:00.000000000",
          "2014-01-01T00:00:00.000000000",
          "2014-04-01T00:00:00.000000000",
          "2014-07-01T00:00:00.000000000",
          "2014-10-01T00:00:00.000000000",
          "2015-01-01T00:00:00.000000000",
          "2015-04-01T00:00:00.000000000",
          "2015-07-01T00:00:00.000000000",
          "2015-10-01T00:00:00.000000000",
          "2016-01-01T00:00:00.000000000",
          "2016-04-01T00:00:00.000000000",
          "2016-07-01T00:00:00.000000000",
          "2016-10-01T00:00:00.000000000",
          "2017-01-01T00:00:00.000000000",
          "2017-04-01T00:00:00.000000000",
          "2017-07-01T00:00:00.000000000",
          "2017-10-01T00:00:00.000000000",
          "2018-01-01T00:00:00.000000000",
          "2018-04-01T00:00:00.000000000",
          "2018-07-01T00:00:00.000000000",
          "2018-10-01T00:00:00.000000000",
          "2019-01-01T00:00:00.000000000",
          "2019-04-01T00:00:00.000000000",
          "2019-07-01T00:00:00.000000000",
          "2019-10-01T00:00:00.000000000",
          "2020-01-01T00:00:00.000000000",
          "2020-04-01T00:00:00.000000000",
          "2020-07-01T00:00:00.000000000",
          "2020-10-01T00:00:00.000000000",
          "2021-01-01T00:00:00.000000000",
          "2021-04-01T00:00:00.000000000",
          "2021-07-01T00:00:00.000000000",
          "2021-10-01T00:00:00.000000000",
          "2022-01-01T00:00:00.000000000",
          "2022-04-01T00:00:00.000000000",
          "2022-07-01T00:00:00.000000000",
          "2022-10-01T00:00:00.000000000",
          "2023-01-01T00:00:00.000000000",
          "2023-04-01T00:00:00.000000000",
          "2023-07-01T00:00:00.000000000",
          "2023-10-01T00:00:00.000000000",
          "2024-01-01T00:00:00.000000000",
          "2024-04-01T00:00:00.000000000",
          "2024-07-01T00:00:00.000000000",
          "2024-10-01T00:00:00.000000000",
          "2025-01-01T00:00:00.000000000"
         ],
         "xaxis": "x",
         "y": {
          "bdata": "AAAAAAAWqUAAAAAAAIKtQAZKtOrblrtAAAAAAACptEBoWdt7zsu2QAAAAAAA+bVAAAAAAACUtEAAAAAAAOW0QAAAAAAAA7dAAAAAAACJtUAAAAAAAGK0QAAAAAAA57NAAAAAAADxs0AAAAAAAGC1QAAAAAAA/LVAAAAAAAAyt0AAAAAAAO61QAAAAAAAZ7ZAAAAAAAARt0AAAAAAAD23QAAAAAAA0rdAAAAAAABYtkAAAAAAAOa1QAAAAAAAsLZAAAAAAACRtUAAAAAAANm1QAAAAAAANrVAAAAAAADjtUAAAAAAAOW1QAAAAAAAPbZAAAAAAAAktkAAAAAAAOS2QAAAAAAAIbdAAAAAAAChtkAAAAAAAGS3QAAAAAAAtLdAAAAAAACct0AAAAAAAN23QAAAAAAAabdAAAAAAABKuEAAAAAAABK4QAAAAAAAE7hAAAAAAAD4t0AAAAAAAKq4QAAAAAAAIblAAAAAAAD1uEAAAAAAAGy5QAAAAAAA+7lAAAAAAABeukAAAAAAAPm6QAAAAAAAeLtAAAAAAAALvUAAAAAAAO29QIyIuO8R0r1ArN8WAgpRwEBWlAnbl2i/QAe6w2//rL9Ati1TomcUwECZJoEft3PAQII58lPMwMBA08m9rn5dwUAU0ZTXbZHCQAtsU86klsNAjHhcy9AwxEBwz1bswYvEQPD93tyjasRA1sOl4+SzxUCSwMKlR0LGQOhuKJGp4MZAaE3CMKFZx0BoTcIwoVnHQGhNwjChWcdAaE3CMKFZx0BoTcIwoVnHQGhNwjChWcdA",
          "dtype": "f8"
         },
         "yaxis": "y"
        },
        {
         "hovertemplate": "<b>%{fullData.name}</b><br>Data: %{x}<br>Cena: %{y:,.0f} PLN/m²<extra></extra>",
         "line": {
          "color": "#4DAF4A",
          "dash": "dash",
          "width": 2
         },
         "marker": {
          "size": 5
         },
         "mode": "lines+markers",
         "name": "Wrocław - wtórny",
         "type": "scatter",
         "x": [
          "2006-07-01T00:00:00.000000000",
          "2006-10-01T00:00:00.000000000",
          "2007-01-01T00:00:00.000000000",
          "2007-04-01T00:00:00.000000000",
          "2007-07-01T00:00:00.000000000",
          "2007-10-01T00:00:00.000000000",
          "2008-01-01T00:00:00.000000000",
          "2008-04-01T00:00:00.000000000",
          "2008-07-01T00:00:00.000000000",
          "2008-10-01T00:00:00.000000000",
          "2009-01-01T00:00:00.000000000",
          "2009-04-01T00:00:00.000000000",
          "2009-07-01T00:00:00.000000000",
          "2009-10-01T00:00:00.000000000",
          "2010-01-01T00:00:00.000000000",
          "2010-04-01T00:00:00.000000000",
          "2010-07-01T00:00:00.000000000",
          "2010-10-01T00:00:00.000000000",
          "2011-01-01T00:00:00.000000000",
          "2011-04-01T00:00:00.000000000",
          "2011-07-01T00:00:00.000000000",
          "2011-10-01T00:00:00.000000000",
          "2012-01-01T00:00:00.000000000",
          "2012-04-01T00:00:00.000000000",
          "2012-07-01T00:00:00.000000000",
          "2012-10-01T00:00:00.000000000",
          "2013-01-01T00:00:00.000000000",
          "2013-04-01T00:00:00.000000000",
          "2013-07-01T00:00:00.000000000",
          "2013-10-01T00:00:00.000000000",
          "2014-01-01T00:00:00.000000000",
          "2014-04-01T00:00:00.000000000",
          "2014-07-01T00:00:00.000000000",
          "2014-10-01T00:00:00.000000000",
          "2015-01-01T00:00:00.000000000",
          "2015-04-01T00:00:00.000000000",
          "2015-07-01T00:00:00.000000000",
          "2015-10-01T00:00:00.000000000",
          "2016-01-01T00:00:00.000000000",
          "2016-04-01T00:00:00.000000000",
          "2016-07-01T00:00:00.000000000",
          "2016-10-01T00:00:00.000000000",
          "2017-01-01T00:00:00.000000000",
          "2017-04-01T00:00:00.000000000",
          "2017-07-01T00:00:00.000000000",
          "2017-10-01T00:00:00.000000000",
          "2018-01-01T00:00:00.000000000",
          "2018-04-01T00:00:00.000000000",
          "2018-07-01T00:00:00.000000000",
          "2018-10-01T00:00:00.000000000",
          "2019-01-01T00:00:00.000000000",
          "2019-04-01T00:00:00.000000000",
          "2019-07-01T00:00:00.000000000",
          "2019-10-01T00:00:00.000000000",
          "2020-01-01T00:00:00.000000000",
          "2020-04-01T00:00:00.000000000",
          "2020-07-01T00:00:00.000000000",
          "2020-10-01T00:00:00.000000000",
          "2021-01-01T00:00:00.000000000",
          "2021-04-01T00:00:00.000000000",
          "2021-07-01T00:00:00.000000000",
          "2021-10-01T00:00:00.000000000",
          "2022-01-01T00:00:00.000000000",
          "2022-04-01T00:00:00.000000000",
          "2022-07-01T00:00:00.000000000",
          "2022-10-01T00:00:00.000000000",
          "2023-01-01T00:00:00.000000000",
          "2023-04-01T00:00:00.000000000",
          "2023-07-01T00:00:00.000000000",
          "2023-10-01T00:00:00.000000000",
          "2024-01-01T00:00:00.000000000",
          "2024-04-01T00:00:00.000000000",
          "2024-07-01T00:00:00.000000000",
          "2024-10-01T00:00:00.000000000",
          "2025-01-01T00:00:00.000000000"
         ],
         "xaxis": "x",
         "y": {
          "bdata": "0UUXXXR+skDbtm3b1kOzQPkuHEQPZLZAavjbFCNJuECKoiiKos26QE+zgsMXTbdAtCABNbt9tkCV39hm1AK3QBQ7sRO72LdAxlpFdErrtkD8+PHjx3i2QLPrRdZW77VATIZgHS0nt0Dg7jsuXnm2QAAAAAAA77ZAAAAAAADWt0AAAAAAAGa3QAAAAAAAordAAAAAAAD7tkAAAAAAAHS3QAAAAAAAHrdAAAAAAABgtkAAAAAAAJ21QAAAAAAA7bRAAAAAAABltUAAAAAAABm1QAAAAAAAh7NAAAAAAABzs0AAAAAAAOazQAAAAAAArbNAAAAAAADss0AAAAAAAN+zQAAAAAAA7LNAAAAAAABKtEAAAAAAAH20QAAAAAAA/LNAAAAAAACPtEAAAAAAADm0QAAAAAAAYLRAAAAAAABRtEAAAAAAANS0QAAAAAAAaLVAAAAAAAAOtUAAAAAAAEW1QAAAAAAAhLZAAAAAAAASt0AAAAAAANG2QAAAAAAAvbdAAAAAAAAPuEAAAAAAAC+4QAAAAAAAe7hAAAAAAABSuUAAAAAAAMq6QAAAAAAAlLxAQW1j23yTvECKqPaTwEe9QJmiKV/QhLxAgx0uyGYlv0AbDgX6K3m/QOaOcxD3nsBAKAKjMJO5wEDOcdJKsXzBQJ6hR7Mw+cFACuLpjxTrwkBNTX/Ax+DDQKFCyQnzwMNAv1Ty0BR+w0B4k3YIEf3DQFYpely4WsRAVil6XLhaxEBWKXpcuFrEQFYpely4WsRAVil6XLhaxEBWKXpcuFrEQFYpely4WsRA",
          "dtype": "f8"
         },
         "yaxis": "y"
        },
        {
         "hovertemplate": "<b>%{fullData.name}</b><br>Data: %{x}<br>Cena: %{y:,.0f} PLN/m²<extra></extra>",
         "line": {
          "color": "#984EA3",
          "dash": "solid",
          "width": 2
         },
         "marker": {
          "size": 5
         },
         "mode": "lines+markers",
         "name": "Poznań - pierwotny",
         "type": "scatter",
         "x": [
          "2006-07-01T00:00:00.000000000",
          "2006-10-01T00:00:00.000000000",
          "2007-01-01T00:00:00.000000000",
          "2007-04-01T00:00:00.000000000",
          "2007-07-01T00:00:00.000000000",
          "2007-10-01T00:00:00.000000000",
          "2008-01-01T00:00:00.000000000",
          "2008-04-01T00:00:00.000000000",
          "2008-07-01T00:00:00.000000000",
          "2008-10-01T00:00:00.000000000",
          "2009-01-01T00:00:00.000000000",
          "2009-04-01T00:00:00.000000000",
          "2009-07-01T00:00:00.000000000",
          "2009-10-01T00:00:00.000000000",
          "2010-01-01T00:00:00.000000000",
          "2010-04-01T00:00:00.000000000",
          "2010-07-01T00:00:00.000000000",
          "2010-10-01T00:00:00.000000000",
          "2011-01-01T00:00:00.000000000",
          "2011-04-01T00:00:00.000000000",
          "2011-07-01T00:00:00.000000000",
          "2011-10-01T00:00:00.000000000",
          "2012-01-01T00:00:00.000000000",
          "2012-04-01T00:00:00.000000000",
          "2012-07-01T00:00:00.000000000",
          "2012-10-01T00:00:00.000000000",
          "2013-01-01T00:00:00.000000000",
          "2013-04-01T00:00:00.000000000",
          "2013-07-01T00:00:00.000000000",
          "2013-10-01T00:00:00.000000000",
          "2014-01-01T00:00:00.000000000",
          "2014-04-01T00:00:00.000000000",
          "2014-07-01T00:00:00.000000000",
          "2014-10-01T00:00:00.000000000",
          "2015-01-01T00:00:00.000000000",
          "2015-04-01T00:00:00.000000000",
          "2015-07-01T00:00:00.000000000",
          "2015-10-01T00:00:00.000000000",
          "2016-01-01T00:00:00.000000000",
          "2016-04-01T00:00:00.000000000",
          "2016-07-01T00:00:00.000000000",
          "2016-10-01T00:00:00.000000000",
          "2017-01-01T00:00:00.000000000",
          "2017-04-01T00:00:00.000000000",
          "2017-07-01T00:00:00.000000000",
          "2017-10-01T00:00:00.000000000",
          "2018-01-01T00:00:00.000000000",
          "2018-04-01T00:00:00.000000000",
          "2018-07-01T00:00:00.000000000",
          "2018-10-01T00:00:00.000000000",
          "2019-01-01T00:00:00.000000000",
          "2019-04-01T00:00:00.000000000",
          "2019-07-01T00:00:00.000000000",
          "2019-10-01T00:00:00.000000000",
          "2020-01-01T00:00:00.000000000",
          "2020-04-01T00:00:00.000000000",
          "2020-07-01T00:00:00.000000000",
          "2020-10-01T00:00:00.000000000",
          "2021-01-01T00:00:00.000000000",
          "2021-04-01T00:00:00.000000000",
          "2021-07-01T00:00:00.000000000",
          "2021-10-01T00:00:00.000000000",
          "2022-01-01T00:00:00.000000000",
          "2022-04-01T00:00:00.000000000",
          "2022-07-01T00:00:00.000000000",
          "2022-10-01T00:00:00.000000000",
          "2023-01-01T00:00:00.000000000",
          "2023-04-01T00:00:00.000000000",
          "2023-07-01T00:00:00.000000000",
          "2023-10-01T00:00:00.000000000",
          "2024-01-01T00:00:00.000000000",
          "2024-04-01T00:00:00.000000000",
          "2024-07-01T00:00:00.000000000",
          "2024-10-01T00:00:00.000000000",
          "2025-01-01T00:00:00.000000000"
         ],
         "xaxis": "x",
         "y": {
          "bdata": "xm1+HOSSsEA7UnN7qHWyQMtrldS4LLlAFK5H4bpKvEC7lCIq0TG1QCsmrWIS0bpAIyIiIoKtvUBo5VPdcJ67QCnumeJexrpAaAQSM/pvukA2Qhm91dy4QIe3rYjui7hAb8s/EfcBuED+z+1El/G3QH9zefZnJLlAv4K5N5LnuUCpEODn2J+4QI1eb+5Kv7lAkycgOp93uED3obiSoYe5QBFKZkgkC7hAkypjWOxKuEDq4cd5jyu3QOEbnogi+LZA2EiixGVat0Crzt1/7Nq0QFeEeLsSA7hAWLN5Dp5tt0AWhlbVbhm3QARE9sTa67ZAC0Jji4YBuEAW9cbydeS3QEn1u+QNhrdASPvk9yNRuEBApYfaz6K4QB97XKkcQbhAGf8bUCdUuEADTF9QaFq4QI9Qdmz5ZbhA3GSqh56ZuEBaOOnfLTO4QNlLUE3fn7hAOtVXzDl3uEDFrZXodHS4QJ5u1gOy6rhAZmZmZmbuuEAkbDgs7h25QOOV86N2T7pAV74g25LAukAXbP1p/Gi7QCmfZLy4j7tA91PSDouuu0BJSozXkb27QMQLlST+47xAdrsoyXT/vEDxteLc7Qa9QKlfHxCyIr1AJw7LZV7UvUDpaX+mmhi/QKYyhrya+b5ANYZ1xINZv0DJyLKWhM7AQKLBnbG+LcFAgbK7+RSNwkD9EsE+nY3CQP0SwT6djcJA/RLBPp2NwkD9EsE+nY3CQP0SwT6djcJA/RLBPp2NwkD9EsE+nY3CQP0SwT6djcJA/RLBPp2NwkD9EsE+nY3CQP0SwT6djcJA",
          "dtype": "f8"
         },
         "yaxis": "y"
        },
        {
         "hovertemplate": "<b>%{fullData.name}</b><br>Data: %{x}<br>Cena: %{y:,.0f} PLN/m²<extra></extra>",
         "line": {
          "color": "#984EA3",
          "dash": "dash",
          "width": 2
         },
         "marker": {
          "size": 5
         },
         "mode": "lines+markers",
         "name": "Poznań - wtórny",
         "type": "scatter",
         "x": [
          "2006-07-01T00:00:00.000000000",
          "2006-10-01T00:00:00.000000000",
          "2007-01-01T00:00:00.000000000",
          "2007-04-01T00:00:00.000000000",
          "2007-07-01T00:00:00.000000000",
          "2007-10-01T00:00:00.000000000",
          "2008-01-01T00:00:00.000000000",
          "2008-04-01T00:00:00.000000000",
          "2008-07-01T00:00:00.000000000",
          "2008-10-01T00:00:00.000000000",
          "2009-01-01T00:00:00.000000000",
          "2009-04-01T00:00:00.000000000",
          "2009-07-01T00:00:00.000000000",
          "2009-10-01T00:00:00.000000000",
          "2010-01-01T00:00:00.000000000",
          "2010-04-01T00:00:00.000000000",
          "2010-07-01T00:00:00.000000000",
          "2010-10-01T00:00:00.000000000",
          "2011-01-01T00:00:00.000000000",
          "2011-04-01T00:00:00.000000000",
          "2011-07-01T00:00:00.000000000",
          "2011-10-01T00:00:00.000000000",
          "2012-01-01T00:00:00.000000000",
          "2012-04-01T00:00:00.000000000",
          "2012-07-01T00:00:00.000000000",
          "2012-10-01T00:00:00.000000000",
          "2013-01-01T00:00:00.000000000",
          "2013-04-01T00:00:00.000000000",
          "2013-07-01T00:00:00.000000000",
          "2013-10-01T00:00:00.000000000",
          "2014-01-01T00:00:00.000000000",
          "2014-04-01T00:00:00.000000000",
          "2014-07-01T00:00:00.000000000",
          "2014-10-01T00:00:00.000000000",
          "2015-01-01T00:00:00.000000000",
          "2015-04-01T00:00:00.000000000",
          "2015-07-01T00:00:00.000000000",
          "2015-10-01T00:00:00.000000000",
          "2016-01-01T00:00:00.000000000",
          "2016-04-01T00:00:00.000000000",
          "2016-07-01T00:00:00.000000000",
          "2016-10-01T00:00:00.000000000",
          "2017-01-01T00:00:00.000000000",
          "2017-04-01T00:00:00.000000000",
          "2017-07-01T00:00:00.000000000",
          "2017-10-01T00:00:00.000000000",
          "2018-01-01T00:00:00.000000000",
          "2018-04-01T00:00:00.000000000",
          "2018-07-01T00:00:00.000000000",
          "2018-10-01T00:00:00.000000000",
          "2019-01-01T00:00:00.000000000",
          "2019-04-01T00:00:00.000000000",
          "2019-07-01T00:00:00.000000000",
          "2019-10-01T00:00:00.000000000",
          "2020-01-01T00:00:00.000000000",
          "2020-04-01T00:00:00.000000000",
          "2020-07-01T00:00:00.000000000",
          "2020-10-01T00:00:00.000000000",
          "2021-01-01T00:00:00.000000000",
          "2021-04-01T00:00:00.000000000",
          "2021-07-01T00:00:00.000000000",
          "2021-10-01T00:00:00.000000000",
          "2022-01-01T00:00:00.000000000",
          "2022-04-01T00:00:00.000000000",
          "2022-07-01T00:00:00.000000000",
          "2022-10-01T00:00:00.000000000",
          "2023-01-01T00:00:00.000000000",
          "2023-04-01T00:00:00.000000000",
          "2023-07-01T00:00:00.000000000",
          "2023-10-01T00:00:00.000000000",
          "2024-01-01T00:00:00.000000000",
          "2024-04-01T00:00:00.000000000",
          "2024-07-01T00:00:00.000000000",
          "2024-10-01T00:00:00.000000000",
          "2025-01-01T00:00:00.000000000"
         ],
         "xaxis": "x",
         "y": {
          "bdata": "WO9yGhwIqkAPS20Umn6uQF8wF4mQqrFAUMsel8mhtUDK9rmSjKy2QJnnIzDvO7dAZLWEiLbUuEDhUrJGqOG2QNSIQrvz/rdAKZNq6DI2tUB7FK5HIWq0QIo0mNhV7bVAdXgbEplktEAAA8AqDD20QOxbk1AVFbVArkfhelTHtUChW8Ag0Xe1QDSFxvOjfbRAZNmOWTOQtUCJCXDT8ci0QECrPhcVBLVAMJNzdDiGtEBhaVAXyxO1QClE2coGJ7RAtf5y9y/Ss0CSBQzhTcuzQMEeJvIPx7JAk5sBuIRDs0Dqj8FNzbGzQAy0B38PxrNAT6jvhXmQs0BWumHYtmmzQPBroBx9grNAjzh8di6Ss0CnL9jRkWmzQMRExMm8eLNA+mlIxtzqs0A5QNQSbcSzQH3On7/8yLNAyou4CqM4tEChj0wDZnS0QNDbD++vobRA3hNymFkitEC51a/keVm1QHyEddftOLVAgmLOo52ttUDVg0vJI/S1QH4VBu0EkbZAsIb9q0gst0Agt6wQiuG3QHN6ZwcnB7hAQdK7V0LDuEDV2Ariqi+5QEK5SeibB7pAp7IqbwKwukCArGNd82S7QHk75a8y4btANfYKv90yvEDf24xUq3S8QCigziXPA71A1L4h8Sn9vUBc6/K0ore+QB7wM9Wpvr9AzjnGM8K6wEBryZjtkjTBQJKyiolLBMFA0w7ArdX4wEDyPhf8QmXBQJNDsNGGIMJAgm4gUJH8wkD4TxGjU3DDQPhPEaNTcMNA+E8Ro1Nww0D4TxGjU3DDQPhPEaNTcMNA",
          "dtype": "f8"
         },
         "yaxis": "y"
        },
        {
         "hovertemplate": "<b>%{fullData.name}</b><br>Data: %{x}<br>Cena: %{y:,.0f} PLN/m²<extra></extra>",
         "line": {
          "color": "#FF7F00",
          "dash": "solid",
          "width": 2
         },
         "marker": {
          "size": 5
         },
         "mode": "lines+markers",
         "name": "Gdańsk - pierwotny",
         "type": "scatter",
         "x": [
          "2006-07-01T00:00:00.000000000",
          "2006-10-01T00:00:00.000000000",
          "2007-01-01T00:00:00.000000000",
          "2007-04-01T00:00:00.000000000",
          "2007-07-01T00:00:00.000000000",
          "2007-10-01T00:00:00.000000000",
          "2008-01-01T00:00:00.000000000",
          "2008-04-01T00:00:00.000000000",
          "2008-07-01T00:00:00.000000000",
          "2008-10-01T00:00:00.000000000",
          "2009-01-01T00:00:00.000000000",
          "2009-04-01T00:00:00.000000000",
          "2009-07-01T00:00:00.000000000",
          "2009-10-01T00:00:00.000000000",
          "2010-01-01T00:00:00.000000000",
          "2010-04-01T00:00:00.000000000",
          "2010-07-01T00:00:00.000000000",
          "2010-10-01T00:00:00.000000000",
          "2011-01-01T00:00:00.000000000",
          "2011-04-01T00:00:00.000000000",
          "2011-07-01T00:00:00.000000000",
          "2011-10-01T00:00:00.000000000",
          "2012-01-01T00:00:00.000000000",
          "2012-04-01T00:00:00.000000000",
          "2012-07-01T00:00:00.000000000",
          "2012-10-01T00:00:00.000000000",
          "2013-01-01T00:00:00.000000000",
          "2013-04-01T00:00:00.000000000",
          "2013-07-01T00:00:00.000000000",
          "2013-10-01T00:00:00.000000000",
          "2014-01-01T00:00:00.000000000",
          "2014-04-01T00:00:00.000000000",
          "2014-07-01T00:00:00.000000000",
          "2014-10-01T00:00:00.000000000",
          "2015-01-01T00:00:00.000000000",
          "2015-04-01T00:00:00.000000000",
          "2015-07-01T00:00:00.000000000",
          "2015-10-01T00:00:00.000000000",
          "2016-01-01T00:00:00.000000000",
          "2016-04-01T00:00:00.000000000",
          "2016-07-01T00:00:00.000000000",
          "2016-10-01T00:00:00.000000000",
          "2017-01-01T00:00:00.000000000",
          "2017-04-01T00:00:00.000000000",
          "2017-07-01T00:00:00.000000000",
          "2017-10-01T00:00:00.000000000",
          "2018-01-01T00:00:00.000000000",
          "2018-04-01T00:00:00.000000000",
          "2018-07-01T00:00:00.000000000",
          "2018-10-01T00:00:00.000000000",
          "2019-01-01T00:00:00.000000000",
          "2019-04-01T00:00:00.000000000",
          "2019-07-01T00:00:00.000000000",
          "2019-10-01T00:00:00.000000000",
          "2020-01-01T00:00:00.000000000",
          "2020-04-01T00:00:00.000000000",
          "2020-07-01T00:00:00.000000000",
          "2020-10-01T00:00:00.000000000",
          "2021-01-01T00:00:00.000000000",
          "2021-04-01T00:00:00.000000000",
          "2021-07-01T00:00:00.000000000",
          "2021-10-01T00:00:00.000000000",
          "2022-01-01T00:00:00.000000000",
          "2022-04-01T00:00:00.000000000",
          "2022-07-01T00:00:00.000000000",
          "2022-10-01T00:00:00.000000000",
          "2023-01-01T00:00:00.000000000",
          "2023-04-01T00:00:00.000000000",
          "2023-07-01T00:00:00.000000000",
          "2023-10-01T00:00:00.000000000",
          "2024-01-01T00:00:00.000000000",
          "2024-04-01T00:00:00.000000000",
          "2024-07-01T00:00:00.000000000",
          "2024-10-01T00:00:00.000000000",
          "2025-01-01T00:00:00.000000000"
         ],
         "xaxis": "x",
         "y": {
          "bdata": "AAAAAABMq0AAAAAAAIS0QAAAAAAAcrVAAAAAAADhu0AAAAAAABC9QAAAAAAAlrhAAAAAAABJuUAAAAAAADy+QAAAAAAAgrtAAAAAAAAxuEAAAAAAAL20QAAAAAAAE7dAAAAAAACstkAAAAAAAGS1QLxwNRJ0z7ZA+pNr/I8ttkD66PWjDJi0QAAAAAAAYLRAAAAAAAA8tkAAAAAAAB22QAAAAAAAZ7VAAAAAAACCtUAAAAAAANq1QDHsnIxk5LVABIpT7pOytUBWUcVn3Ne0QPFjVXD5q7RAAAAAAAAytkDnXpaaY6K2QIGVlNfYCrhAoNHbqSl9tUAAAAAAAFm3QAAAAAAArbZAAxKPIyqZtkDpZ0yW7D63QGICp7cEdbZAz8JmHgbJt0AglADz3I63QHq52aDwM7lAiYTbojspuEAmHpsCd4u4QHXGnkowUblAfStx22QeuUAfRxy4oGS5QJvnQs5CoLpA5odH8HytukBtVfkK41a8QIvnjgB6d71AzwD/pdRYvED4Z7/xhuq+QEDBcaYuI8BAH4aiYC8wwEDfwS7C8qrAQNUAe+ycxMBAf/hD4K8SwUBjKRnABTPBQKHQqsQroMFAPlvuAxdcwkAZL8KU6SDDQNXJTnX9CcRAjegL8YCdw0B4tlwrPlnFQPm6cqMf48VAT/wDrBdlxUBI41MOjt3GQOTYYulm+sRA8WZ2xjltxUCu+C6geXHGQBqN29Re0sZA4xt674UhyEAABDA1MzDIQEfpsJrkiMhA701uKIs8yEDY3CcJkG/JQKfcipUb3MlA",
          "dtype": "f8"
         },
         "yaxis": "y"
        },
        {
         "hovertemplate": "<b>%{fullData.name}</b><br>Data: %{x}<br>Cena: %{y:,.0f} PLN/m²<extra></extra>",
         "line": {
          "color": "#FF7F00",
          "dash": "dash",
          "width": 2
         },
         "marker": {
          "size": 5
         },
         "mode": "lines+markers",
         "name": "Gdańsk - wtórny",
         "type": "scatter",
         "x": [
          "2006-07-01T00:00:00.000000000",
          "2006-10-01T00:00:00.000000000",
          "2007-01-01T00:00:00.000000000",
          "2007-04-01T00:00:00.000000000",
          "2007-07-01T00:00:00.000000000",
          "2007-10-01T00:00:00.000000000",
          "2008-01-01T00:00:00.000000000",
          "2008-04-01T00:00:00.000000000",
          "2008-07-01T00:00:00.000000000",
          "2008-10-01T00:00:00.000000000",
          "2009-01-01T00:00:00.000000000",
          "2009-04-01T00:00:00.000000000",
          "2009-07-01T00:00:00.000000000",
          "2009-10-01T00:00:00.000000000",
          "2010-01-01T00:00:00.000000000",
          "2010-04-01T00:00:00.000000000",
          "2010-07-01T00:00:00.000000000",
          "2010-10-01T00:00:00.000000000",
          "2011-01-01T00:00:00.000000000",
          "2011-04-01T00:00:00.000000000",
          "2011-07-01T00:00:00.000000000",
          "2011-10-01T00:00:00.000000000",
          "2012-01-01T00:00:00.000000000",
          "2012-04-01T00:00:00.000000000",
          "2012-07-01T00:00:00.000000000",
          "2012-10-01T00:00:00.000000000",
          "2013-01-01T00:00:00.000000000",
          "2013-04-01T00:00:00.000000000",
          "2013-07-01T00:00:00.000000000",
          "2013-10-01T00:00:00.000000000",
          "2014-01-01T00:00:00.000000000",
          "2014-04-01T00:00:00.000000000",
          "2014-07-01T00:00:00.000000000",
          "2014-10-01T00:00:00.000000000",
          "2015-01-01T00:00:00.000000000",
          "2015-04-01T00:00:00.000000000",
          "2015-07-01T00:00:00.000000000",
          "2015-10-01T00:00:00.000000000",
          "2016-01-01T00:00:00.000000000",
          "2016-04-01T00:00:00.000000000",
          "2016-07-01T00:00:00.000000000",
          "2016-10-01T00:00:00.000000000",
          "2017-01-01T00:00:00.000000000",
          "2017-04-01T00:00:00.000000000",
          "2017-07-01T00:00:00.000000000",
          "2017-10-01T00:00:00.000000000",
          "2018-01-01T00:00:00.000000000",
          "2018-04-01T00:00:00.000000000",
          "2018-07-01T00:00:00.000000000",
          "2018-10-01T00:00:00.000000000",
          "2019-01-01T00:00:00.000000000",
          "2019-04-01T00:00:00.000000000",
          "2019-07-01T00:00:00.000000000",
          "2019-10-01T00:00:00.000000000",
          "2020-01-01T00:00:00.000000000",
          "2020-04-01T00:00:00.000000000",
          "2020-07-01T00:00:00.000000000",
          "2020-10-01T00:00:00.000000000",
          "2021-01-01T00:00:00.000000000",
          "2021-04-01T00:00:00.000000000",
          "2021-07-01T00:00:00.000000000",
          "2021-10-01T00:00:00.000000000",
          "2022-01-01T00:00:00.000000000",
          "2022-04-01T00:00:00.000000000",
          "2022-07-01T00:00:00.000000000",
          "2022-10-01T00:00:00.000000000",
          "2023-01-01T00:00:00.000000000",
          "2023-04-01T00:00:00.000000000",
          "2023-07-01T00:00:00.000000000",
          "2023-10-01T00:00:00.000000000",
          "2024-01-01T00:00:00.000000000",
          "2024-04-01T00:00:00.000000000",
          "2024-07-01T00:00:00.000000000",
          "2024-10-01T00:00:00.000000000",
          "2025-01-01T00:00:00.000000000"
         ],
         "xaxis": "x",
         "y": {
          "bdata": "AAAAAACsrkAAAAAAANCvQAAAAAAAs7JAAAAAAACutkAAAAAAAKu3QAAAAAAAe7hAAAAAAAC6t0AAAAAAAMe3QAAAAAAAQLdAAAAAAACgt0AAAAAAABa4QAAAAAAAE7ZAAAAAAADCtUAAAAAAABW2QHHL++pgpLdAuVxdleultkAAAAAAAMu1QFMAmxC8OLVAAAAAAAAHtUAAAAAAACe2QAAAAAAArLVAgHYl1T7EtEAAAAAAAK+0QLHl66Y4+bNAjBJs+J+UtECzy23KrCazQDHhJqmRm7NAUGwECAhPs0CbCBFqDQezQAAAAAAAvrJAAAAAAAC3skAAAAAAAJ2zQAAAAAAAn7NAAAAAAACQs0B44zWQai60QKp63Cmy+LNAAAAAAAD6s0CkcD0KV0G1QAAAAAAA9LRAAAAAAACRtUCamZmZWbO1QFK4HoWr6bVAmhMNZX6StkDQiHpLeI63QOF6FK5HsbdAFf9ymh/BuEC+AP9gk1S5QIzcqi2s4LlA95ReR/rsu0DvTnzKbVS9QNxdmi+3trxAPmbocRCPvkBq6frrwVa+QNau6fkNVsBAh8Gw17VhwEDktSTG1JvAQN3Exfdlc8FAwu1TaXquwUC6YuWBbDHCQCjGmCdvUcJAYVlZHG4Vw0D8shVIqxHEQO04iZM5MMRA1Tz87bcJxUB6Kw0CoFLGQKLDz+HKBsZA5qNRR+9sxUAw9HqhapbFQPFPkGR3tsZAoEYwzBQYx0CiVEwv7OjHQJIFl++1A8lAeqjkF9BHyUDlnXVCB7PJQOfMaK6/+8dA",
          "dtype": "f8"
         },
         "yaxis": "y"
        },
        {
         "hovertemplate": "<b>%{fullData.name}</b><br>Data: %{x}<br>Cena: %{y:,.0f} PLN/m²<extra></extra>",
         "line": {
          "color": "#FFFF33",
          "dash": "solid",
          "width": 2
         },
         "marker": {
          "size": 5
         },
         "mode": "lines+markers",
         "name": "Łódź - pierwotny",
         "type": "scatter",
         "x": [
          "2006-07-01T00:00:00.000000000",
          "2006-10-01T00:00:00.000000000",
          "2007-01-01T00:00:00.000000000",
          "2007-04-01T00:00:00.000000000",
          "2007-07-01T00:00:00.000000000",
          "2007-10-01T00:00:00.000000000",
          "2008-01-01T00:00:00.000000000",
          "2008-04-01T00:00:00.000000000",
          "2008-07-01T00:00:00.000000000",
          "2008-10-01T00:00:00.000000000",
          "2009-01-01T00:00:00.000000000",
          "2009-04-01T00:00:00.000000000",
          "2009-07-01T00:00:00.000000000",
          "2009-10-01T00:00:00.000000000",
          "2010-01-01T00:00:00.000000000",
          "2010-04-01T00:00:00.000000000",
          "2010-07-01T00:00:00.000000000",
          "2010-10-01T00:00:00.000000000",
          "2011-01-01T00:00:00.000000000",
          "2011-04-01T00:00:00.000000000",
          "2011-07-01T00:00:00.000000000",
          "2011-10-01T00:00:00.000000000",
          "2012-01-01T00:00:00.000000000",
          "2012-04-01T00:00:00.000000000",
          "2012-07-01T00:00:00.000000000",
          "2012-10-01T00:00:00.000000000",
          "2013-01-01T00:00:00.000000000",
          "2013-04-01T00:00:00.000000000",
          "2013-07-01T00:00:00.000000000",
          "2013-10-01T00:00:00.000000000",
          "2014-01-01T00:00:00.000000000",
          "2014-04-01T00:00:00.000000000",
          "2014-07-01T00:00:00.000000000",
          "2014-10-01T00:00:00.000000000",
          "2015-01-01T00:00:00.000000000",
          "2015-04-01T00:00:00.000000000",
          "2015-07-01T00:00:00.000000000",
          "2015-10-01T00:00:00.000000000",
          "2016-01-01T00:00:00.000000000",
          "2016-04-01T00:00:00.000000000",
          "2016-07-01T00:00:00.000000000",
          "2016-10-01T00:00:00.000000000",
          "2017-01-01T00:00:00.000000000",
          "2017-04-01T00:00:00.000000000",
          "2017-07-01T00:00:00.000000000",
          "2017-10-01T00:00:00.000000000",
          "2018-01-01T00:00:00.000000000",
          "2018-04-01T00:00:00.000000000",
          "2018-07-01T00:00:00.000000000",
          "2018-10-01T00:00:00.000000000",
          "2019-01-01T00:00:00.000000000",
          "2019-04-01T00:00:00.000000000",
          "2019-07-01T00:00:00.000000000",
          "2019-10-01T00:00:00.000000000",
          "2020-01-01T00:00:00.000000000",
          "2020-04-01T00:00:00.000000000",
          "2020-07-01T00:00:00.000000000",
          "2020-10-01T00:00:00.000000000",
          "2021-01-01T00:00:00.000000000",
          "2021-04-01T00:00:00.000000000",
          "2021-07-01T00:00:00.000000000",
          "2021-10-01T00:00:00.000000000",
          "2022-01-01T00:00:00.000000000",
          "2022-04-01T00:00:00.000000000",
          "2022-07-01T00:00:00.000000000",
          "2022-10-01T00:00:00.000000000",
          "2023-01-01T00:00:00.000000000",
          "2023-04-01T00:00:00.000000000",
          "2023-07-01T00:00:00.000000000",
          "2023-10-01T00:00:00.000000000",
          "2024-01-01T00:00:00.000000000",
          "2024-04-01T00:00:00.000000000",
          "2024-07-01T00:00:00.000000000",
          "2024-10-01T00:00:00.000000000",
          "2025-01-01T00:00:00.000000000"
         ],
         "xaxis": "x",
         "y": {
          "bdata": "AAAAAABYpkAAAAAAAHSsQAAAAAAAcbBAAAAAAAAbtUAAAAAAAFy0QAAAAAAA1LNAAAAAAADvs0AAAAAAALGzQAAAAAAAXrRAAAAAAACmtUAAAAAAAIqyQAAAAAAA7bNAAAAAAACTskAAAAAAAJu0QAAAAAAAnLNAAAAAAADuskAAAAAAAEizQAAAAAAAKbNAAAAAAADKs0AAAAAAAAO0QAAAAAAAK7NAAAAAAAC5skAAAAAAAAKyQAAAAAAAPLJAAAAAAAB5sUAAAAAAALixQAAAAAAAFbJAAAAAAACzsUAAAAAAACSxQAAAAAAAR7FAAAAAAABRsUAAAAAAALWxQAAAAAAANbJAAAAAAAAwskAAAAAAAOKxQAAAAAAAT7JAAAAAAABEskAAAAAAAFmyQAAAAAAAgrJAAAAAAAAmskAAAAAAAHeyQAAAAAAA8rJAAAAAAAC4skAAAAAAAEyzQAAAAAAAL7NAAAAAAAActEAAAAAAAFu0QAAAAAAAVrRAAAAAAADstEAAAAAAAIO1QAAAAAAA/7VAAAAAAADdtkAAAAAAAPm2QAAAAAAAirdAAAAAAABpuEDeciyKQcC3QO3W6h5TBrlAwu1NkDnguUCCu/gKa2S5QAjyy/CBE7pAs+XUm7MavUBm4jO1k2e9QK17hN/oJb5AhxaqsPT4vkD/8V9Wmo3AQNB+p8InpMBA5XY9JmeBwEBUxlLzkybBQIXrUbieDcFAVMZS85MmwUBUxlLzkybBQFTGUvOTJsFAVMZS85MmwUBUxlLzkybBQFTGUvOTJsFA",
          "dtype": "f8"
         },
         "yaxis": "y"
        },
        {
         "hovertemplate": "<b>%{fullData.name}</b><br>Data: %{x}<br>Cena: %{y:,.0f} PLN/m²<extra></extra>",
         "line": {
          "color": "#FFFF33",
          "dash": "dash",
          "width": 2
         },
         "marker": {
          "size": 5
         },
         "mode": "lines+markers",
         "name": "Łódź - wtórny",
         "type": "scatter",
         "x": [
          "2006-07-01T00:00:00.000000000",
          "2006-10-01T00:00:00.000000000",
          "2007-01-01T00:00:00.000000000",
          "2007-04-01T00:00:00.000000000",
          "2007-07-01T00:00:00.000000000",
          "2007-10-01T00:00:00.000000000",
          "2008-01-01T00:00:00.000000000",
          "2008-04-01T00:00:00.000000000",
          "2008-07-01T00:00:00.000000000",
          "2008-10-01T00:00:00.000000000",
          "2009-01-01T00:00:00.000000000",
          "2009-04-01T00:00:00.000000000",
          "2009-07-01T00:00:00.000000000",
          "2009-10-01T00:00:00.000000000",
          "2010-01-01T00:00:00.000000000",
          "2010-04-01T00:00:00.000000000",
          "2010-07-01T00:00:00.000000000",
          "2010-10-01T00:00:00.000000000",
          "2011-01-01T00:00:00.000000000",
          "2011-04-01T00:00:00.000000000",
          "2011-07-01T00:00:00.000000000",
          "2011-10-01T00:00:00.000000000",
          "2012-01-01T00:00:00.000000000",
          "2012-04-01T00:00:00.000000000",
          "2012-07-01T00:00:00.000000000",
          "2012-10-01T00:00:00.000000000",
          "2013-01-01T00:00:00.000000000",
          "2013-04-01T00:00:00.000000000",
          "2013-07-01T00:00:00.000000000",
          "2013-10-01T00:00:00.000000000",
          "2014-01-01T00:00:00.000000000",
          "2014-04-01T00:00:00.000000000",
          "2014-07-01T00:00:00.000000000",
          "2014-10-01T00:00:00.000000000",
          "2015-01-01T00:00:00.000000000",
          "2015-04-01T00:00:00.000000000",
          "2015-07-01T00:00:00.000000000",
          "2015-10-01T00:00:00.000000000",
          "2016-01-01T00:00:00.000000000",
          "2016-04-01T00:00:00.000000000",
          "2016-07-01T00:00:00.000000000",
          "2016-10-01T00:00:00.000000000",
          "2017-01-01T00:00:00.000000000",
          "2017-04-01T00:00:00.000000000",
          "2017-07-01T00:00:00.000000000",
          "2017-10-01T00:00:00.000000000",
          "2018-01-01T00:00:00.000000000",
          "2018-04-01T00:00:00.000000000",
          "2018-07-01T00:00:00.000000000",
          "2018-10-01T00:00:00.000000000",
          "2019-01-01T00:00:00.000000000",
          "2019-04-01T00:00:00.000000000",
          "2019-07-01T00:00:00.000000000",
          "2019-10-01T00:00:00.000000000",
          "2020-01-01T00:00:00.000000000",
          "2020-04-01T00:00:00.000000000",
          "2020-07-01T00:00:00.000000000",
          "2020-10-01T00:00:00.000000000",
          "2021-01-01T00:00:00.000000000",
          "2021-04-01T00:00:00.000000000",
          "2021-07-01T00:00:00.000000000",
          "2021-10-01T00:00:00.000000000",
          "2022-01-01T00:00:00.000000000",
          "2022-04-01T00:00:00.000000000",
          "2022-07-01T00:00:00.000000000",
          "2022-10-01T00:00:00.000000000",
          "2023-01-01T00:00:00.000000000",
          "2023-04-01T00:00:00.000000000",
          "2023-07-01T00:00:00.000000000",
          "2023-10-01T00:00:00.000000000",
          "2024-01-01T00:00:00.000000000",
          "2024-04-01T00:00:00.000000000",
          "2024-07-01T00:00:00.000000000",
          "2024-10-01T00:00:00.000000000",
          "2025-01-01T00:00:00.000000000"
         ],
         "xaxis": "x",
         "y": {
          "bdata": "AAAAAADEnUAAAAAAAOCgQAAAAAAAQKpAAAAAAABKrUAAAAAAABqvQAAAAAAAjq9AAAAAAABAsEAAAAAAAPKuQAAAAAAAiK1AAAAAAABor0AAAAAAAESuQAAAAAAAPK5AAAAAAAC6rEAAAAAAAGisQAAAAAAAuq5AAAAAAAAKrkAAAAAAAESuQAAAAAAAqK5AAAAAAAA0rUAAAAAAAAauQAAAAAAArK1AAAAAAADGrkAAAAAAAH6sQAAAAAAABqxAAAAAAAC0qkAAAAAAABqqQAAAAAAAvKpAAAAAAABAqkAAAAAAABqrQAAAAAAAkKpAAAAAAAAQq0AAAAAAALqqQAAAAAAAQqpAAAAAAABEq0AAAAAAAByqQAAAAAAA5KpAAAAAAABgqkAAAAAAABqqQAAAAAAAmqlAAAAAAAAmqkAAAAAAAKipQAAAAAAAsqpAAAAAAABqq0AAAAAAAAisQAAAAAAAZK1AAAAAAACQrUAAAAAAAGyvQAAAAAAA7q5AAAAAAACgsEAAAAAAAHGxQAAAAAAACLJAAAAAAAD0sUAAAAAAAGSyQAAAAAAABrNAAAAAAACTs0Bki25GFn20QL22xEj87LVAKmIcu9ORtUAnsF2bRzm1QDMh/XsEqLZAmv2z0726t0AtEbxNTQ64QNC9Ox4/RrhAIu852DL8uUDEBBIZw+a6QKixUBsW8LhAtDKxyCizuUA1qnf14t24QMP1KFxPcLpAnJAiSOlKu0CF61G4nke9QEapXj9qsr1AcIlpfQ1Yv0CHICdDD6i9QOF6FK5Hd75A",
          "dtype": "f8"
         },
         "yaxis": "y"
        },
        {
         "line": {
          "color": "red",
          "width": 2
         },
         "marker": {
          "size": 4
         },
         "mode": "lines+markers",
         "name": "Inflacja CPI (Y/Y %)",
         "type": "scatter",
         "x": [
          "2006-07-01T00:00:00.000000000",
          "2006-10-01T00:00:00.000000000",
          "2007-01-01T00:00:00.000000000",
          "2007-04-01T00:00:00.000000000",
          "2007-07-01T00:00:00.000000000",
          "2007-10-01T00:00:00.000000000",
          "2008-01-01T00:00:00.000000000",
          "2008-04-01T00:00:00.000000000",
          "2008-07-01T00:00:00.000000000",
          "2008-10-01T00:00:00.000000000",
          "2009-01-01T00:00:00.000000000",
          "2009-04-01T00:00:00.000000000",
          "2009-07-01T00:00:00.000000000",
          "2009-10-01T00:00:00.000000000",
          "2010-01-01T00:00:00.000000000",
          "2010-04-01T00:00:00.000000000",
          "2010-07-01T00:00:00.000000000",
          "2010-10-01T00:00:00.000000000",
          "2011-01-01T00:00:00.000000000",
          "2011-04-01T00:00:00.000000000",
          "2011-07-01T00:00:00.000000000",
          "2011-10-01T00:00:00.000000000",
          "2012-01-01T00:00:00.000000000",
          "2012-04-01T00:00:00.000000000",
          "2012-07-01T00:00:00.000000000",
          "2012-10-01T00:00:00.000000000",
          "2013-01-01T00:00:00.000000000",
          "2013-04-01T00:00:00.000000000",
          "2013-07-01T00:00:00.000000000",
          "2013-10-01T00:00:00.000000000",
          "2014-01-01T00:00:00.000000000",
          "2014-04-01T00:00:00.000000000",
          "2014-07-01T00:00:00.000000000",
          "2014-10-01T00:00:00.000000000",
          "2015-01-01T00:00:00.000000000",
          "2015-04-01T00:00:00.000000000",
          "2015-07-01T00:00:00.000000000",
          "2015-10-01T00:00:00.000000000",
          "2016-01-01T00:00:00.000000000",
          "2016-04-01T00:00:00.000000000",
          "2016-07-01T00:00:00.000000000",
          "2016-10-01T00:00:00.000000000",
          "2017-01-01T00:00:00.000000000",
          "2017-04-01T00:00:00.000000000",
          "2017-07-01T00:00:00.000000000",
          "2017-10-01T00:00:00.000000000",
          "2018-01-01T00:00:00.000000000",
          "2018-04-01T00:00:00.000000000",
          "2018-07-01T00:00:00.000000000",
          "2018-10-01T00:00:00.000000000",
          "2019-01-01T00:00:00.000000000",
          "2019-04-01T00:00:00.000000000",
          "2019-07-01T00:00:00.000000000",
          "2019-10-01T00:00:00.000000000",
          "2020-01-01T00:00:00.000000000",
          "2020-04-01T00:00:00.000000000",
          "2020-07-01T00:00:00.000000000",
          "2020-10-01T00:00:00.000000000",
          "2021-01-01T00:00:00.000000000",
          "2021-04-01T00:00:00.000000000",
          "2021-07-01T00:00:00.000000000",
          "2021-10-01T00:00:00.000000000",
          "2022-01-01T00:00:00.000000000",
          "2022-04-01T00:00:00.000000000",
          "2022-07-01T00:00:00.000000000",
          "2022-10-01T00:00:00.000000000",
          "2023-01-01T00:00:00.000000000",
          "2023-04-01T00:00:00.000000000",
          "2023-07-01T00:00:00.000000000",
          "2023-10-01T00:00:00.000000000",
          "2024-01-01T00:00:00.000000000",
          "2024-04-01T00:00:00.000000000",
          "2024-07-01T00:00:00.000000000",
          "2024-10-01T00:00:00.000000000",
          "2025-01-01T00:00:00.000000000"
         ],
         "xaxis": "x2",
         "y": [
          101.4,
          101.3,
          102,
          102.4,
          102,
          103.5,
          104.1,
          104.3,
          104.7,
          103.8,
          103.3,
          103.7,
          103.5,
          103.3,
          103,
          102.3,
          102.2,
          102.9,
          103.8,
          104.6,
          104.1,
          104.6,
          104.1,
          104,
          103.9,
          102.9,
          101.3,
          100.5,
          101.1,
          100.7,
          100.6,
          100.3,
          99.7,
          99.3,
          98.5,
          99.1,
          99.3,
          99.4,
          99.1,
          99.1,
          99.2,
          100.2,
          102,
          101.8,
          101.9,
          102.2,
          101.5,
          101.7,
          102,
          101.4,
          101.2,
          102.4,
          102.8,
          102.8,
          104.5,
          103.2,
          103,
          102.8,
          102.7,
          104.5,
          105.4,
          107.7,
          109.7,
          113.9,
          116.3,
          117.3,
          117,
          113.1,
          109.7,
          106.4,
          102.8,
          102.5,
          104.5,
          104.8,
          104.9
         ],
         "yaxis": "y2"
        },
        {
         "line": {
          "color": "blue",
          "width": 2
         },
         "marker": {
          "size": 4
         },
         "mode": "lines+markers",
         "name": "WIBOR 3M (%)",
         "type": "scatter",
         "x": [
          "2006-07-01T00:00:00.000000000",
          "2006-10-01T00:00:00.000000000",
          "2007-01-01T00:00:00.000000000",
          "2007-04-01T00:00:00.000000000",
          "2007-07-01T00:00:00.000000000",
          "2007-10-01T00:00:00.000000000",
          "2008-01-01T00:00:00.000000000",
          "2008-04-01T00:00:00.000000000",
          "2008-07-01T00:00:00.000000000",
          "2008-10-01T00:00:00.000000000",
          "2009-01-01T00:00:00.000000000",
          "2009-04-01T00:00:00.000000000",
          "2009-07-01T00:00:00.000000000",
          "2009-10-01T00:00:00.000000000",
          "2010-01-01T00:00:00.000000000",
          "2010-04-01T00:00:00.000000000",
          "2010-07-01T00:00:00.000000000",
          "2010-10-01T00:00:00.000000000",
          "2011-01-01T00:00:00.000000000",
          "2011-04-01T00:00:00.000000000",
          "2011-07-01T00:00:00.000000000",
          "2011-10-01T00:00:00.000000000",
          "2012-01-01T00:00:00.000000000",
          "2012-04-01T00:00:00.000000000",
          "2012-07-01T00:00:00.000000000",
          "2012-10-01T00:00:00.000000000",
          "2013-01-01T00:00:00.000000000",
          "2013-04-01T00:00:00.000000000",
          "2013-07-01T00:00:00.000000000",
          "2013-10-01T00:00:00.000000000",
          "2014-01-01T00:00:00.000000000",
          "2014-04-01T00:00:00.000000000",
          "2014-07-01T00:00:00.000000000",
          "2014-10-01T00:00:00.000000000",
          "2015-01-01T00:00:00.000000000",
          "2015-04-01T00:00:00.000000000",
          "2015-07-01T00:00:00.000000000",
          "2015-10-01T00:00:00.000000000",
          "2016-01-01T00:00:00.000000000",
          "2016-04-01T00:00:00.000000000",
          "2016-07-01T00:00:00.000000000",
          "2016-10-01T00:00:00.000000000",
          "2017-01-01T00:00:00.000000000",
          "2017-04-01T00:00:00.000000000",
          "2017-07-01T00:00:00.000000000",
          "2017-10-01T00:00:00.000000000",
          "2018-01-01T00:00:00.000000000",
          "2018-04-01T00:00:00.000000000",
          "2018-07-01T00:00:00.000000000",
          "2018-10-01T00:00:00.000000000",
          "2019-01-01T00:00:00.000000000",
          "2019-04-01T00:00:00.000000000",
          "2019-07-01T00:00:00.000000000",
          "2019-10-01T00:00:00.000000000",
          "2020-01-01T00:00:00.000000000",
          "2020-04-01T00:00:00.000000000",
          "2020-07-01T00:00:00.000000000",
          "2020-10-01T00:00:00.000000000",
          "2021-01-01T00:00:00.000000000",
          "2021-04-01T00:00:00.000000000",
          "2021-07-01T00:00:00.000000000",
          "2021-10-01T00:00:00.000000000",
          "2022-01-01T00:00:00.000000000",
          "2022-04-01T00:00:00.000000000",
          "2022-07-01T00:00:00.000000000",
          "2022-10-01T00:00:00.000000000",
          "2023-01-01T00:00:00.000000000",
          "2023-04-01T00:00:00.000000000",
          "2023-07-01T00:00:00.000000000",
          "2023-10-01T00:00:00.000000000",
          "2024-01-01T00:00:00.000000000",
          "2024-04-01T00:00:00.000000000",
          "2024-07-01T00:00:00.000000000",
          "2024-10-01T00:00:00.000000000",
          "2025-01-01T00:00:00.000000000"
         ],
         "xaxis": "x2",
         "y": {
          "bdata": "16NwPQrXEEDhehSuR+EQQM3MzMzMzBBA9ihcj8L1EEDXo3A9CtcSQGZmZmZmZhRAzczMzMzMFkCamZmZmZkYQJqZmZmZmRpAhetRuB6FGkCF61G4HoUXQK5H4XoUrhBAw/UoXI/CEUC4HoXrUbgQQBSuR+F6FBFAZmZmZmZmEED2KFyPwvUOQLgehetRuA5AmpmZmZmZD0DD9Shcj8IQQMP1KFyPwhJACtejcD0KE0D2KFyPwvUTQMP1KFyPwhNAhetRuB6FFECuR+F6FK4TQHE9CtejcBBAH4XrUbgeC0DXo3A9CtcFQFyPwvUoXAVArkfhehSuBUCuR+F6FK4FQHE9CtejcAVAPQrXo3A9AkB7FK5H4XoAQGZmZmZmZvo/hetRuB6F+z+uR+F6FK77P4XrUbgehfs/uB6F61G4+j9cj8L1KFz7P1yPwvUoXPs/rkfhehSu+z+uR+F6FK77P65H4XoUrvs/rkfhehSu+z+F61G4HoX7PzMzMzMzM/s/MzMzMzMz+z+F61G4HoX7P4XrUbgehfs/hetRuB6F+z+F61G4HoX7P4XrUbgehfs/XI/C9Shc+z+4HoXrUbjyP6RwPQrXo9A/KVyPwvUozD/hehSuR+HKP+F6FK5H4co/4XoUrkfhyj9xPQrXo3DNP1K4HoXrUQRAFK5H4XoUE0AzMzMzMzMcQNejcD0K1xxAFK5H4XoUHECPwvUoXI8bQJqZmZmZmRtAFK5H4XoUF0CF61G4HoUXQIXrUbgehRdAZmZmZmZmF0BmZmZmZmYXQFyPwvUoXBdA",
          "dtype": "f8"
         },
         "yaxis": "y3"
        },
        {
         "hovertemplate": "<b>%{fullData.name}</b><br>Data: %{x}<br>Zmiana: %{y:.1f}%<extra></extra>",
         "line": {
          "color": "#E41A1C",
          "width": 2
         },
         "marker": {
          "size": 4
         },
         "mode": "lines+markers",
         "name": "Warszawa - YoY %",
         "type": "scatter",
         "x": [
          "2007-07-01T00:00:00.000000000",
          "2007-10-01T00:00:00.000000000",
          "2008-01-01T00:00:00.000000000",
          "2008-04-01T00:00:00.000000000",
          "2008-07-01T00:00:00.000000000",
          "2008-10-01T00:00:00.000000000",
          "2009-01-01T00:00:00.000000000",
          "2009-04-01T00:00:00.000000000",
          "2009-07-01T00:00:00.000000000",
          "2009-10-01T00:00:00.000000000",
          "2010-01-01T00:00:00.000000000",
          "2010-04-01T00:00:00.000000000",
          "2010-07-01T00:00:00.000000000",
          "2010-10-01T00:00:00.000000000",
          "2011-01-01T00:00:00.000000000",
          "2011-04-01T00:00:00.000000000",
          "2011-07-01T00:00:00.000000000",
          "2011-10-01T00:00:00.000000000",
          "2012-01-01T00:00:00.000000000",
          "2012-04-01T00:00:00.000000000",
          "2012-07-01T00:00:00.000000000",
          "2012-10-01T00:00:00.000000000",
          "2013-01-01T00:00:00.000000000",
          "2013-04-01T00:00:00.000000000",
          "2013-07-01T00:00:00.000000000",
          "2013-10-01T00:00:00.000000000",
          "2014-01-01T00:00:00.000000000",
          "2014-04-01T00:00:00.000000000",
          "2014-07-01T00:00:00.000000000",
          "2014-10-01T00:00:00.000000000",
          "2015-01-01T00:00:00.000000000",
          "2015-04-01T00:00:00.000000000",
          "2015-07-01T00:00:00.000000000",
          "2015-10-01T00:00:00.000000000",
          "2016-01-01T00:00:00.000000000",
          "2016-04-01T00:00:00.000000000",
          "2016-07-01T00:00:00.000000000",
          "2016-10-01T00:00:00.000000000",
          "2017-01-01T00:00:00.000000000",
          "2017-04-01T00:00:00.000000000",
          "2017-07-01T00:00:00.000000000",
          "2017-10-01T00:00:00.000000000",
          "2018-01-01T00:00:00.000000000",
          "2018-04-01T00:00:00.000000000",
          "2018-07-01T00:00:00.000000000",
          "2018-10-01T00:00:00.000000000",
          "2019-01-01T00:00:00.000000000",
          "2019-04-01T00:00:00.000000000",
          "2019-07-01T00:00:00.000000000",
          "2019-10-01T00:00:00.000000000",
          "2020-01-01T00:00:00.000000000",
          "2020-04-01T00:00:00.000000000",
          "2020-07-01T00:00:00.000000000",
          "2020-10-01T00:00:00.000000000",
          "2021-01-01T00:00:00.000000000",
          "2021-04-01T00:00:00.000000000",
          "2021-07-01T00:00:00.000000000",
          "2021-10-01T00:00:00.000000000",
          "2022-01-01T00:00:00.000000000",
          "2022-04-01T00:00:00.000000000",
          "2022-07-01T00:00:00.000000000",
          "2022-10-01T00:00:00.000000000",
          "2023-01-01T00:00:00.000000000",
          "2023-04-01T00:00:00.000000000",
          "2023-07-01T00:00:00.000000000",
          "2023-10-01T00:00:00.000000000",
          "2024-01-01T00:00:00.000000000",
          "2024-04-01T00:00:00.000000000",
          "2024-07-01T00:00:00.000000000",
          "2024-10-01T00:00:00.000000000",
          "2025-01-01T00:00:00.000000000"
         ],
         "xaxis": "x3",
         "y": {
          "bdata": "bZwz3hNJREAJaHu5A0dDQKS7hMnC4jBAf1s1oLTsLEBaXfi8eKQWQIR94tO+sRPAqO9GddY+J8ANwosBxLUqwDSRoVqpxSHA/R+RupgKF8AAYMy6vrUgQEI2tqVKfxtAlzWaVxK4EkD/9Ks6iuYIwHovYu9sqvq/sxYLsdxtFsD7IOabXhEawLw9vs5lGgfAhuFKiPChKsBoG+6JY7YZwGoRrpYg8iHASGxTjccGJcCgtSkhhALVP5jF/bAvlNa/b+7goBGhGEAE3K1PML0tQBVvRlk5qhFAz/X68gr1EEA+W5gywGwOQIAgSjv5Svi/0L6XRXZT9T/kiGXQKz8FQEQfasxE+vc/yn9lslYZAECkW5xbG18KQHgOlnWGGO8/PKoGCh1v/T/QbuPkFgYIQE4OCXQoL/C/1NZjRgoJ9T8o7HQL+Lj5P3iR7mPvAus/1GtMVBZOFUA/RgM4lQMaQC0gI17bXCJAnM4tHAz/JEBiIKMg0j4kQBh9HOwWVCJAkM9Gg197HkC27dcKk0clQMnWIW9I4idApOb1wZmyFkCITj2xeaQlQEwNsLFtHiBAHL+NMidCIUCp5qyca6AqQB6IA8itKiBA4aKx1X72KkBfQYGlzxMwQBj9RUmI0C5Aec7ExaFEL0DZ1kt46O0kQCKHQvbyfQtATiT/WQkaG0B6tUCLZTYhQMbYADWkuB5Af8SzSIK5H0DZShPrjnwTQAAAAAAAAAAAAAAAAAAAAAAAAAAAAAAAAA==",
          "dtype": "f8"
         },
         "yaxis": "y4"
        },
        {
         "hovertemplate": "<b>%{fullData.name}</b><br>Data: %{x}<br>Zmiana: %{y:.1f}%<extra></extra>",
         "line": {
          "color": "#377EB8",
          "width": 2
         },
         "marker": {
          "size": 4
         },
         "mode": "lines+markers",
         "name": "Kraków - YoY %",
         "type": "scatter",
         "x": [
          "2007-07-01T00:00:00.000000000",
          "2007-10-01T00:00:00.000000000",
          "2008-01-01T00:00:00.000000000",
          "2008-04-01T00:00:00.000000000",
          "2008-07-01T00:00:00.000000000",
          "2008-10-01T00:00:00.000000000",
          "2009-01-01T00:00:00.000000000",
          "2009-04-01T00:00:00.000000000",
          "2009-07-01T00:00:00.000000000",
          "2009-10-01T00:00:00.000000000",
          "2010-01-01T00:00:00.000000000",
          "2010-04-01T00:00:00.000000000",
          "2010-07-01T00:00:00.000000000",
          "2010-10-01T00:00:00.000000000",
          "2011-01-01T00:00:00.000000000",
          "2011-04-01T00:00:00.000000000",
          "2011-07-01T00:00:00.000000000",
          "2011-10-01T00:00:00.000000000",
          "2012-01-01T00:00:00.000000000",
          "2012-04-01T00:00:00.000000000",
          "2012-07-01T00:00:00.000000000",
          "2012-10-01T00:00:00.000000000",
          "2013-01-01T00:00:00.000000000",
          "2013-04-01T00:00:00.000000000",
          "2013-07-01T00:00:00.000000000",
          "2013-10-01T00:00:00.000000000",
          "2014-01-01T00:00:00.000000000",
          "2014-04-01T00:00:00.000000000",
          "2014-07-01T00:00:00.000000000",
          "2014-10-01T00:00:00.000000000",
          "2015-01-01T00:00:00.000000000",
          "2015-04-01T00:00:00.000000000",
          "2015-07-01T00:00:00.000000000",
          "2015-10-01T00:00:00.000000000",
          "2016-01-01T00:00:00.000000000",
          "2016-04-01T00:00:00.000000000",
          "2016-07-01T00:00:00.000000000",
          "2016-10-01T00:00:00.000000000",
          "2017-01-01T00:00:00.000000000",
          "2017-04-01T00:00:00.000000000",
          "2017-07-01T00:00:00.000000000",
          "2017-10-01T00:00:00.000000000",
          "2018-01-01T00:00:00.000000000",
          "2018-04-01T00:00:00.000000000",
          "2018-07-01T00:00:00.000000000",
          "2018-10-01T00:00:00.000000000",
          "2019-01-01T00:00:00.000000000",
          "2019-04-01T00:00:00.000000000",
          "2019-07-01T00:00:00.000000000",
          "2019-10-01T00:00:00.000000000",
          "2020-01-01T00:00:00.000000000",
          "2020-04-01T00:00:00.000000000",
          "2020-07-01T00:00:00.000000000",
          "2020-10-01T00:00:00.000000000",
          "2021-01-01T00:00:00.000000000",
          "2021-04-01T00:00:00.000000000",
          "2021-07-01T00:00:00.000000000",
          "2021-10-01T00:00:00.000000000",
          "2022-01-01T00:00:00.000000000",
          "2022-04-01T00:00:00.000000000",
          "2022-07-01T00:00:00.000000000",
          "2022-10-01T00:00:00.000000000",
          "2023-01-01T00:00:00.000000000",
          "2023-04-01T00:00:00.000000000",
          "2023-07-01T00:00:00.000000000",
          "2023-10-01T00:00:00.000000000",
          "2024-01-01T00:00:00.000000000",
          "2024-04-01T00:00:00.000000000",
          "2024-07-01T00:00:00.000000000",
          "2024-10-01T00:00:00.000000000",
          "2025-01-01T00:00:00.000000000"
         ],
         "xaxis": "x3",
         "y": {
          "bdata": "Ym2R60xAMkBuo0NfUkcpQBwwnUgreCZAsln8VNdpAUAtl+Y3uGoIwOoJ6jzUZBfAlpmZmZlZH8Cuav3CumAlwOUNZMOeQyjAIUmSJEmSHMDnNDwivgwVwMsdvxhLyQvAAIIU5QDU3b8jU9T6qAAGwL7VarVarfa/MOsFbHO6AkBo1gsyBAj9P5b0Ii33YfK/heeDKZXtDMCmSM1cbEwawJcwzfwodAzAgupaFtiIEcAmU3HgU2olwALQdtOBNRPA5dnM2gJMKMBEq5iCk8UjwLBHoy6O3/M/dk9FK6QVAMDg8A1Tv1T0PzwzEVgnrvC/eGirZJ2RAsCxfpUhTOMRwDcyrAHM3RZAjB/Ofp0yJkD/cGKlLdIZQNNRmWJaUh5A8NCqZV72yr/cjOTTNJf3PwYpG9TjKAFAMOVrcdRWDkCvirXmhkIgQIyJR3c+2hJAt0h1/jSIGkDaqcf8bq4HQIhN0SL3of8/FcDHlEBGGkBeBQ8o+ooiQFKzhIKbWSxAVpMH7gFFKEC6uidxwOAsQGBgPAdKvSdA86wBtfaRJkD6m1ZYb/8sQH62ABI7oRhAsArRdNDrGkCc5YaZG8AhQEDU0oDwLSJAelN8/FjdMUAwzHYpGNoyQJTbvde70TJA4rCwVqxDM0DB3lkVPOgsQJAJAJWRGyJAI3voJGIUEECQlf/evRj7PwAAAAAAAAAA2mGxd1lPBUCQtnrqqbr8PwAAAAAAAAAAAAAAAAAAAAAAAAAAAAAAAA==",
          "dtype": "f8"
         },
         "yaxis": "y4"
        },
        {
         "hovertemplate": "<b>%{fullData.name}</b><br>Data: %{x}<br>Zmiana: %{y:.1f}%<extra></extra>",
         "line": {
          "color": "#4DAF4A",
          "width": 2
         },
         "marker": {
          "size": 4
         },
         "mode": "lines+markers",
         "name": "Wrocław - YoY %",
         "type": "scatter",
         "x": [
          "2007-07-01T00:00:00.000000000",
          "2007-10-01T00:00:00.000000000",
          "2008-01-01T00:00:00.000000000",
          "2008-04-01T00:00:00.000000000",
          "2008-07-01T00:00:00.000000000",
          "2008-10-01T00:00:00.000000000",
          "2009-01-01T00:00:00.000000000",
          "2009-04-01T00:00:00.000000000",
          "2009-07-01T00:00:00.000000000",
          "2009-10-01T00:00:00.000000000",
          "2010-01-01T00:00:00.000000000",
          "2010-04-01T00:00:00.000000000",
          "2010-07-01T00:00:00.000000000",
          "2010-10-01T00:00:00.000000000",
          "2011-01-01T00:00:00.000000000",
          "2011-04-01T00:00:00.000000000",
          "2011-07-01T00:00:00.000000000",
          "2011-10-01T00:00:00.000000000",
          "2012-01-01T00:00:00.000000000",
          "2012-04-01T00:00:00.000000000",
          "2012-07-01T00:00:00.000000000",
          "2012-10-01T00:00:00.000000000",
          "2013-01-01T00:00:00.000000000",
          "2013-04-01T00:00:00.000000000",
          "2013-07-01T00:00:00.000000000",
          "2013-10-01T00:00:00.000000000",
          "2014-01-01T00:00:00.000000000",
          "2014-04-01T00:00:00.000000000",
          "2014-07-01T00:00:00.000000000",
          "2014-10-01T00:00:00.000000000",
          "2015-01-01T00:00:00.000000000",
          "2015-04-01T00:00:00.000000000",
          "2015-07-01T00:00:00.000000000",
          "2015-10-01T00:00:00.000000000",
          "2016-01-01T00:00:00.000000000",
          "2016-04-01T00:00:00.000000000",
          "2016-07-01T00:00:00.000000000",
          "2016-10-01T00:00:00.000000000",
          "2017-01-01T00:00:00.000000000",
          "2017-04-01T00:00:00.000000000",
          "2017-07-01T00:00:00.000000000",
          "2017-10-01T00:00:00.000000000",
          "2018-01-01T00:00:00.000000000",
          "2018-04-01T00:00:00.000000000",
          "2018-07-01T00:00:00.000000000",
          "2018-10-01T00:00:00.000000000",
          "2019-01-01T00:00:00.000000000",
          "2019-04-01T00:00:00.000000000",
          "2019-07-01T00:00:00.000000000",
          "2019-10-01T00:00:00.000000000",
          "2020-01-01T00:00:00.000000000",
          "2020-04-01T00:00:00.000000000",
          "2020-07-01T00:00:00.000000000",
          "2020-10-01T00:00:00.000000000",
          "2021-01-01T00:00:00.000000000",
          "2021-04-01T00:00:00.000000000",
          "2021-07-01T00:00:00.000000000",
          "2021-10-01T00:00:00.000000000",
          "2022-01-01T00:00:00.000000000",
          "2022-04-01T00:00:00.000000000",
          "2022-07-01T00:00:00.000000000",
          "2022-10-01T00:00:00.000000000",
          "2023-01-01T00:00:00.000000000",
          "2023-04-01T00:00:00.000000000",
          "2023-07-01T00:00:00.000000000",
          "2023-10-01T00:00:00.000000000",
          "2024-01-01T00:00:00.000000000",
          "2024-04-01T00:00:00.000000000",
          "2024-07-01T00:00:00.000000000",
          "2024-10-01T00:00:00.000000000",
          "2025-01-01T00:00:00.000000000"
         ],
         "xaxis": "x3",
         "y": {
          "bdata": "K2k8IqFvVEC+4+CKv3ZIQLE7lN+iaTnARImlBKAm8j+I5uORw0PuP4LKDlOX2/+/3GaDLD9f7r+QBA0whP4SwG6z9U5NryrAQJOgDl3M57/5xlSg/m0fQAjRQJquizBAPKeJt/TwI0Cey2guozkTQLmVt3HxrxNAIDvaJTG2xz8GAuaKGz4hQIh/vxJEvdC/6uw3lgdBFMDmpcU7D/YCwDSMatOa7CLAWJaUAyLDAcB4nDW3rh0JwLtPbW+mPAzAEEw2HepX+D+QA8ekcJv8PxJRLB5AiBFAoUj5kOlYEkAlRu2RIY0WQAj3PfbMGvw/VGmxWjqVFkDAp0D+WWUMQKwHrZ5qngBAJNjFo8bRFUBApL0jR2C1P1qgMqSfxgNANPuDw9I8/z/AqjooQEnsPwQF05TEFgNAPGYBg9Wz+D+aw94PeZcRQNxUotQbVg1AryZ0XBVAGEAppLsecVkVQHHh4E37tRNAuQx6chsnIEAk9d4VbxogQMFA6o5NkydA4W9TjBr+KkAQ/I5q/h0lQAGxCMIGzTJAUh0NXVNKIECDFchLHmQXQJOocYs5Xx9AoMLG2LGQ6j9w/ncv8LYaQNb6Cfl5SSNApBEM91TzLkBhAu1BbRAzQDuyu5XbhDRAlsojcQtRMkCClLh8CekjQJCDpeg3liVAYNpjhaN8JEBCsnPGcbImQBXJA3urvCxA4gTNvfRcHkDdIptYApwTQNrbXTkShgBAAAAAAAAAAAAAAAAAAAAAAA==",
          "dtype": "f8"
         },
         "yaxis": "y4"
        },
        {
         "line": {
          "color": "black",
          "dash": "dot",
          "width": 1
         },
         "mode": "lines",
         "showlegend": false,
         "type": "scatter",
         "x": [
          "2006-07-01T00:00:00",
          "2025-01-01T00:00:00"
         ],
         "xaxis": "x3",
         "y": [
          0,
          0
         ],
         "yaxis": "y4"
        }
       ],
       "layout": {
        "annotations": [
         {
          "font": {
           "size": 16
          },
          "showarrow": false,
          "text": "Ceny Mieszkań w Głównych Miastach Polski",
          "x": 0.47,
          "xanchor": "center",
          "xref": "paper",
          "y": 1,
          "yanchor": "bottom",
          "yref": "paper"
         },
         {
          "font": {
           "size": 16
          },
          "showarrow": false,
          "text": "Wskaźniki Ekonomiczne",
          "x": 0.47,
          "xanchor": "center",
          "xref": "paper",
          "y": 0.6399999999999999,
          "yanchor": "bottom",
          "yref": "paper"
         },
         {
          "font": {
           "size": 16
          },
          "showarrow": false,
          "text": "Dynamika Zmian Cen (%) rok do roku",
          "x": 0.47,
          "xanchor": "center",
          "xref": "paper",
          "y": 0.27999999999999997,
          "yanchor": "bottom",
          "yref": "paper"
         }
        ],
        "height": 900,
        "hovermode": "x unified",
        "legend": {
         "orientation": "h",
         "x": 0.5,
         "xanchor": "center",
         "y": 1.02,
         "yanchor": "bottom"
        },
        "template": {
         "data": {
          "bar": [
           {
            "error_x": {
             "color": "#2a3f5f"
            },
            "error_y": {
             "color": "#2a3f5f"
            },
            "marker": {
             "line": {
              "color": "#E5ECF6",
              "width": 0.5
             },
             "pattern": {
              "fillmode": "overlay",
              "size": 10,
              "solidity": 0.2
             }
            },
            "type": "bar"
           }
          ],
          "barpolar": [
           {
            "marker": {
             "line": {
              "color": "#E5ECF6",
              "width": 0.5
             },
             "pattern": {
              "fillmode": "overlay",
              "size": 10,
              "solidity": 0.2
             }
            },
            "type": "barpolar"
           }
          ],
          "carpet": [
           {
            "aaxis": {
             "endlinecolor": "#2a3f5f",
             "gridcolor": "white",
             "linecolor": "white",
             "minorgridcolor": "white",
             "startlinecolor": "#2a3f5f"
            },
            "baxis": {
             "endlinecolor": "#2a3f5f",
             "gridcolor": "white",
             "linecolor": "white",
             "minorgridcolor": "white",
             "startlinecolor": "#2a3f5f"
            },
            "type": "carpet"
           }
          ],
          "choropleth": [
           {
            "colorbar": {
             "outlinewidth": 0,
             "ticks": ""
            },
            "type": "choropleth"
           }
          ],
          "contour": [
           {
            "colorbar": {
             "outlinewidth": 0,
             "ticks": ""
            },
            "colorscale": [
             [
              0,
              "#0d0887"
             ],
             [
              0.1111111111111111,
              "#46039f"
             ],
             [
              0.2222222222222222,
              "#7201a8"
             ],
             [
              0.3333333333333333,
              "#9c179e"
             ],
             [
              0.4444444444444444,
              "#bd3786"
             ],
             [
              0.5555555555555556,
              "#d8576b"
             ],
             [
              0.6666666666666666,
              "#ed7953"
             ],
             [
              0.7777777777777778,
              "#fb9f3a"
             ],
             [
              0.8888888888888888,
              "#fdca26"
             ],
             [
              1,
              "#f0f921"
             ]
            ],
            "type": "contour"
           }
          ],
          "contourcarpet": [
           {
            "colorbar": {
             "outlinewidth": 0,
             "ticks": ""
            },
            "type": "contourcarpet"
           }
          ],
          "heatmap": [
           {
            "colorbar": {
             "outlinewidth": 0,
             "ticks": ""
            },
            "colorscale": [
             [
              0,
              "#0d0887"
             ],
             [
              0.1111111111111111,
              "#46039f"
             ],
             [
              0.2222222222222222,
              "#7201a8"
             ],
             [
              0.3333333333333333,
              "#9c179e"
             ],
             [
              0.4444444444444444,
              "#bd3786"
             ],
             [
              0.5555555555555556,
              "#d8576b"
             ],
             [
              0.6666666666666666,
              "#ed7953"
             ],
             [
              0.7777777777777778,
              "#fb9f3a"
             ],
             [
              0.8888888888888888,
              "#fdca26"
             ],
             [
              1,
              "#f0f921"
             ]
            ],
            "type": "heatmap"
           }
          ],
          "histogram": [
           {
            "marker": {
             "pattern": {
              "fillmode": "overlay",
              "size": 10,
              "solidity": 0.2
             }
            },
            "type": "histogram"
           }
          ],
          "histogram2d": [
           {
            "colorbar": {
             "outlinewidth": 0,
             "ticks": ""
            },
            "colorscale": [
             [
              0,
              "#0d0887"
             ],
             [
              0.1111111111111111,
              "#46039f"
             ],
             [
              0.2222222222222222,
              "#7201a8"
             ],
             [
              0.3333333333333333,
              "#9c179e"
             ],
             [
              0.4444444444444444,
              "#bd3786"
             ],
             [
              0.5555555555555556,
              "#d8576b"
             ],
             [
              0.6666666666666666,
              "#ed7953"
             ],
             [
              0.7777777777777778,
              "#fb9f3a"
             ],
             [
              0.8888888888888888,
              "#fdca26"
             ],
             [
              1,
              "#f0f921"
             ]
            ],
            "type": "histogram2d"
           }
          ],
          "histogram2dcontour": [
           {
            "colorbar": {
             "outlinewidth": 0,
             "ticks": ""
            },
            "colorscale": [
             [
              0,
              "#0d0887"
             ],
             [
              0.1111111111111111,
              "#46039f"
             ],
             [
              0.2222222222222222,
              "#7201a8"
             ],
             [
              0.3333333333333333,
              "#9c179e"
             ],
             [
              0.4444444444444444,
              "#bd3786"
             ],
             [
              0.5555555555555556,
              "#d8576b"
             ],
             [
              0.6666666666666666,
              "#ed7953"
             ],
             [
              0.7777777777777778,
              "#fb9f3a"
             ],
             [
              0.8888888888888888,
              "#fdca26"
             ],
             [
              1,
              "#f0f921"
             ]
            ],
            "type": "histogram2dcontour"
           }
          ],
          "mesh3d": [
           {
            "colorbar": {
             "outlinewidth": 0,
             "ticks": ""
            },
            "type": "mesh3d"
           }
          ],
          "parcoords": [
           {
            "line": {
             "colorbar": {
              "outlinewidth": 0,
              "ticks": ""
             }
            },
            "type": "parcoords"
           }
          ],
          "pie": [
           {
            "automargin": true,
            "type": "pie"
           }
          ],
          "scatter": [
           {
            "fillpattern": {
             "fillmode": "overlay",
             "size": 10,
             "solidity": 0.2
            },
            "type": "scatter"
           }
          ],
          "scatter3d": [
           {
            "line": {
             "colorbar": {
              "outlinewidth": 0,
              "ticks": ""
             }
            },
            "marker": {
             "colorbar": {
              "outlinewidth": 0,
              "ticks": ""
             }
            },
            "type": "scatter3d"
           }
          ],
          "scattercarpet": [
           {
            "marker": {
             "colorbar": {
              "outlinewidth": 0,
              "ticks": ""
             }
            },
            "type": "scattercarpet"
           }
          ],
          "scattergeo": [
           {
            "marker": {
             "colorbar": {
              "outlinewidth": 0,
              "ticks": ""
             }
            },
            "type": "scattergeo"
           }
          ],
          "scattergl": [
           {
            "marker": {
             "colorbar": {
              "outlinewidth": 0,
              "ticks": ""
             }
            },
            "type": "scattergl"
           }
          ],
          "scattermap": [
           {
            "marker": {
             "colorbar": {
              "outlinewidth": 0,
              "ticks": ""
             }
            },
            "type": "scattermap"
           }
          ],
          "scattermapbox": [
           {
            "marker": {
             "colorbar": {
              "outlinewidth": 0,
              "ticks": ""
             }
            },
            "type": "scattermapbox"
           }
          ],
          "scatterpolar": [
           {
            "marker": {
             "colorbar": {
              "outlinewidth": 0,
              "ticks": ""
             }
            },
            "type": "scatterpolar"
           }
          ],
          "scatterpolargl": [
           {
            "marker": {
             "colorbar": {
              "outlinewidth": 0,
              "ticks": ""
             }
            },
            "type": "scatterpolargl"
           }
          ],
          "scatterternary": [
           {
            "marker": {
             "colorbar": {
              "outlinewidth": 0,
              "ticks": ""
             }
            },
            "type": "scatterternary"
           }
          ],
          "surface": [
           {
            "colorbar": {
             "outlinewidth": 0,
             "ticks": ""
            },
            "colorscale": [
             [
              0,
              "#0d0887"
             ],
             [
              0.1111111111111111,
              "#46039f"
             ],
             [
              0.2222222222222222,
              "#7201a8"
             ],
             [
              0.3333333333333333,
              "#9c179e"
             ],
             [
              0.4444444444444444,
              "#bd3786"
             ],
             [
              0.5555555555555556,
              "#d8576b"
             ],
             [
              0.6666666666666666,
              "#ed7953"
             ],
             [
              0.7777777777777778,
              "#fb9f3a"
             ],
             [
              0.8888888888888888,
              "#fdca26"
             ],
             [
              1,
              "#f0f921"
             ]
            ],
            "type": "surface"
           }
          ],
          "table": [
           {
            "cells": {
             "fill": {
              "color": "#EBF0F8"
             },
             "line": {
              "color": "white"
             }
            },
            "header": {
             "fill": {
              "color": "#C8D4E3"
             },
             "line": {
              "color": "white"
             }
            },
            "type": "table"
           }
          ]
         },
         "layout": {
          "annotationdefaults": {
           "arrowcolor": "#2a3f5f",
           "arrowhead": 0,
           "arrowwidth": 1
          },
          "autotypenumbers": "strict",
          "coloraxis": {
           "colorbar": {
            "outlinewidth": 0,
            "ticks": ""
           }
          },
          "colorscale": {
           "diverging": [
            [
             0,
             "#8e0152"
            ],
            [
             0.1,
             "#c51b7d"
            ],
            [
             0.2,
             "#de77ae"
            ],
            [
             0.3,
             "#f1b6da"
            ],
            [
             0.4,
             "#fde0ef"
            ],
            [
             0.5,
             "#f7f7f7"
            ],
            [
             0.6,
             "#e6f5d0"
            ],
            [
             0.7,
             "#b8e186"
            ],
            [
             0.8,
             "#7fbc41"
            ],
            [
             0.9,
             "#4d9221"
            ],
            [
             1,
             "#276419"
            ]
           ],
           "sequential": [
            [
             0,
             "#0d0887"
            ],
            [
             0.1111111111111111,
             "#46039f"
            ],
            [
             0.2222222222222222,
             "#7201a8"
            ],
            [
             0.3333333333333333,
             "#9c179e"
            ],
            [
             0.4444444444444444,
             "#bd3786"
            ],
            [
             0.5555555555555556,
             "#d8576b"
            ],
            [
             0.6666666666666666,
             "#ed7953"
            ],
            [
             0.7777777777777778,
             "#fb9f3a"
            ],
            [
             0.8888888888888888,
             "#fdca26"
            ],
            [
             1,
             "#f0f921"
            ]
           ],
           "sequentialminus": [
            [
             0,
             "#0d0887"
            ],
            [
             0.1111111111111111,
             "#46039f"
            ],
            [
             0.2222222222222222,
             "#7201a8"
            ],
            [
             0.3333333333333333,
             "#9c179e"
            ],
            [
             0.4444444444444444,
             "#bd3786"
            ],
            [
             0.5555555555555556,
             "#d8576b"
            ],
            [
             0.6666666666666666,
             "#ed7953"
            ],
            [
             0.7777777777777778,
             "#fb9f3a"
            ],
            [
             0.8888888888888888,
             "#fdca26"
            ],
            [
             1,
             "#f0f921"
            ]
           ]
          },
          "colorway": [
           "#636efa",
           "#EF553B",
           "#00cc96",
           "#ab63fa",
           "#FFA15A",
           "#19d3f3",
           "#FF6692",
           "#B6E880",
           "#FF97FF",
           "#FECB52"
          ],
          "font": {
           "color": "#2a3f5f"
          },
          "geo": {
           "bgcolor": "white",
           "lakecolor": "white",
           "landcolor": "#E5ECF6",
           "showlakes": true,
           "showland": true,
           "subunitcolor": "white"
          },
          "hoverlabel": {
           "align": "left"
          },
          "hovermode": "closest",
          "mapbox": {
           "style": "light"
          },
          "paper_bgcolor": "white",
          "plot_bgcolor": "#E5ECF6",
          "polar": {
           "angularaxis": {
            "gridcolor": "white",
            "linecolor": "white",
            "ticks": ""
           },
           "bgcolor": "#E5ECF6",
           "radialaxis": {
            "gridcolor": "white",
            "linecolor": "white",
            "ticks": ""
           }
          },
          "scene": {
           "xaxis": {
            "backgroundcolor": "#E5ECF6",
            "gridcolor": "white",
            "gridwidth": 2,
            "linecolor": "white",
            "showbackground": true,
            "ticks": "",
            "zerolinecolor": "white"
           },
           "yaxis": {
            "backgroundcolor": "#E5ECF6",
            "gridcolor": "white",
            "gridwidth": 2,
            "linecolor": "white",
            "showbackground": true,
            "ticks": "",
            "zerolinecolor": "white"
           },
           "zaxis": {
            "backgroundcolor": "#E5ECF6",
            "gridcolor": "white",
            "gridwidth": 2,
            "linecolor": "white",
            "showbackground": true,
            "ticks": "",
            "zerolinecolor": "white"
           }
          },
          "shapedefaults": {
           "line": {
            "color": "#2a3f5f"
           }
          },
          "ternary": {
           "aaxis": {
            "gridcolor": "white",
            "linecolor": "white",
            "ticks": ""
           },
           "baxis": {
            "gridcolor": "white",
            "linecolor": "white",
            "ticks": ""
           },
           "bgcolor": "#E5ECF6",
           "caxis": {
            "gridcolor": "white",
            "linecolor": "white",
            "ticks": ""
           }
          },
          "title": {
           "x": 0.05
          },
          "xaxis": {
           "automargin": true,
           "gridcolor": "white",
           "linecolor": "white",
           "ticks": "",
           "title": {
            "standoff": 15
           },
           "zerolinecolor": "white",
           "zerolinewidth": 2
          },
          "yaxis": {
           "automargin": true,
           "gridcolor": "white",
           "linecolor": "white",
           "ticks": "",
           "title": {
            "standoff": 15
           },
           "zerolinecolor": "white",
           "zerolinewidth": 2
          }
         }
        },
        "title": {
         "text": "Analiza Polskiego Rynku Nieruchomości",
         "x": 0.5
        },
        "xaxis": {
         "anchor": "y",
         "domain": [
          0,
          0.94
         ],
         "rangeselector": {
          "buttons": [
           {
            "count": 1,
            "label": "1y",
            "step": "year",
            "stepmode": "backward"
           },
           {
            "count": 3,
            "label": "3y",
            "step": "year",
            "stepmode": "backward"
           },
           {
            "count": 5,
            "label": "5y",
            "step": "year",
            "stepmode": "backward"
           },
           {
            "step": "all"
           }
          ]
         },
         "rangeslider": {
          "visible": true
         },
         "type": "date"
        },
        "xaxis2": {
         "anchor": "y2",
         "domain": [
          0,
          0.94
         ]
        },
        "xaxis3": {
         "anchor": "y4",
         "domain": [
          0,
          0.94
         ],
         "title": {
          "text": "Data"
         }
        },
        "yaxis": {
         "anchor": "x",
         "domain": [
          0.72,
          1
         ],
         "title": {
          "text": "Cena PLN/m²"
         }
        },
        "yaxis2": {
         "anchor": "x2",
         "domain": [
          0.36,
          0.6399999999999999
         ],
         "title": {
          "text": "Inflacja CPI (%)"
         }
        },
        "yaxis3": {
         "anchor": "x2",
         "overlaying": "y2",
         "side": "right",
         "title": {
          "text": "WIBOR 3M (%)"
         }
        },
        "yaxis4": {
         "anchor": "x3",
         "domain": [
          0,
          0.27999999999999997
         ],
         "title": {
          "text": "Zmiana rok do roku (%)"
         }
        }
       }
      }
     },
     "metadata": {},
     "output_type": "display_data"
    },
    {
     "name": "stdout",
     "output_type": "stream",
     "text": [
      "📊 Tworzenie dashboardu analitycznego...\n"
     ]
    },
    {
     "data": {
      "application/vnd.plotly.v1+json": {
       "config": {
        "plotlyServerURL": "https://plot.ly"
       },
       "data": [
        {
         "hovertemplate": "Data: %{text}<br>Warszawa: %{x:,.0f} PLN/m²<br>Kraków: %{y:,.0f} PLN/m²<extra></extra>",
         "marker": {
          "color": [
           1151712000000000000,
           1159660800000000000,
           1167609600000000000,
           1175385600000000000,
           1183248000000000000,
           1191196800000000000,
           1199145600000000000,
           1207008000000000000,
           1214870400000000000,
           1222819200000000000,
           1230768000000000000,
           1238544000000000000,
           1246406400000000000,
           1254355200000000000,
           1262304000000000000,
           1270080000000000000,
           1277942400000000000,
           1285891200000000000,
           1293840000000000000,
           1301616000000000000,
           1309478400000000000,
           1317427200000000000,
           1325376000000000000,
           1333238400000000000,
           1341100800000000000,
           1349049600000000000,
           1356998400000000000,
           1364774400000000000,
           1372636800000000000,
           1380585600000000000,
           1388534400000000000,
           1396310400000000000,
           1404172800000000000,
           1412121600000000000,
           1420070400000000000,
           1427846400000000000,
           1435708800000000000,
           1443657600000000000,
           1451606400000000000,
           1459468800000000000,
           1467331200000000000,
           1475280000000000000,
           1483228800000000000,
           1491004800000000000,
           1498867200000000000,
           1506816000000000000,
           1514764800000000000,
           1522540800000000000,
           1530403200000000000,
           1538352000000000000,
           1546300800000000000,
           1554076800000000000,
           1561939200000000000,
           1569888000000000000,
           1577836800000000000,
           1585699200000000000,
           1593561600000000000,
           1601510400000000000,
           1609459200000000000,
           1617235200000000000,
           1625097600000000000,
           1633046400000000000,
           1640995200000000000,
           1648771200000000000,
           1656633600000000000,
           1664582400000000000,
           1672531200000000000,
           1680307200000000000,
           1688169600000000000,
           1696118400000000000,
           1704067200000000000,
           1711929600000000000,
           1719792000000000000,
           1727740800000000000,
           1735689600000000000
          ],
          "colorbar": {
           "title": {
            "text": "Data"
           }
          },
          "colorscale": [
           [
            0,
            "#440154"
           ],
           [
            0.1111111111111111,
            "#482878"
           ],
           [
            0.2222222222222222,
            "#3e4989"
           ],
           [
            0.3333333333333333,
            "#31688e"
           ],
           [
            0.4444444444444444,
            "#26828e"
           ],
           [
            0.5555555555555556,
            "#1f9e89"
           ],
           [
            0.6666666666666666,
            "#35b779"
           ],
           [
            0.7777777777777778,
            "#6ece58"
           ],
           [
            0.8888888888888888,
            "#b5de2b"
           ],
           [
            1,
            "#fde725"
           ]
          ],
          "opacity": 0.7,
          "showscale": true,
          "size": 8
         },
         "mode": "markers",
         "name": "Rynek pierwotny",
         "text": [
          "2006-07",
          "2006-10",
          "2007-01",
          "2007-04",
          "2007-07",
          "2007-10",
          "2008-01",
          "2008-04",
          "2008-07",
          "2008-10",
          "2009-01",
          "2009-04",
          "2009-07",
          "2009-10",
          "2010-01",
          "2010-04",
          "2010-07",
          "2010-10",
          "2011-01",
          "2011-04",
          "2011-07",
          "2011-10",
          "2012-01",
          "2012-04",
          "2012-07",
          "2012-10",
          "2013-01",
          "2013-04",
          "2013-07",
          "2013-10",
          "2014-01",
          "2014-04",
          "2014-07",
          "2014-10",
          "2015-01",
          "2015-04",
          "2015-07",
          "2015-10",
          "2016-01",
          "2016-04",
          "2016-07",
          "2016-10",
          "2017-01",
          "2017-04",
          "2017-07",
          "2017-10",
          "2018-01",
          "2018-04",
          "2018-07",
          "2018-10",
          "2019-01",
          "2019-04",
          "2019-07",
          "2019-10",
          "2020-01",
          "2020-04",
          "2020-07",
          "2020-10",
          "2021-01",
          "2021-04",
          "2021-07",
          "2021-10",
          "2022-01",
          "2022-04",
          "2022-07",
          "2022-10",
          "2023-01",
          "2023-04",
          "2023-07",
          "2023-10",
          "2024-01",
          "2024-04",
          "2024-07",
          "2024-10",
          "2025-01"
         ],
         "type": "scatter",
         "x": {
          "bdata": "AAAAAADltUAAAAAAACq4QAAAAAAAhrxAAAAAAABjvUAAAAAAAMe+QAAAAACAvcBAAAAAAICrwEAAAAAAgNHAQAAAAACAQsBAAAAAAADVv0AAAAAAAHe9QAAAAAAAJb1AxHqjVjyhvUAVxEDXlv+9QOwtcyc37b9AO0LrYuQlv0AJIx7SNAS/QBiKx4eOEL1AAAAAAABlv0BdXA7qxWa9QOUeGf6+/rxAyMcKhK45vEA79xUZxTa7QC3D4YvxgrtABXl5yrVkukAW91JCB0K5QL/ZdeyjTbtAblParhhqu0C06O2YvQS8QNhUyrp+A71AbODauFGCvEDBjyZTnZO8QAraaPWGFb1Aj1eMG7mSvEBMpkrImOO8QBv8nuznVb1AlzHlHBuFvUCIQt4r7CW9QI7A5Fxj171AXrpJDOKevUCu/+/kIBC+QKpd+ogABr5AOhEjXh2KvUDXGPpgkwK+QDsVpx/bi75AwKBwWeFGvkCtcm1z5By/QLJiv0A29r9ArtEWn+mswEDi84ILSrrAQJtDH8CTIcFAyPzOTQZywUBa4FtqOfLBQCq/on3qgcJAu49hDE0tw0BWq3wEcm/CQEsQ+lhg48NAJK0l2cP/w0BcheZD79TEQL5eq6LC48RAaPuTNO5+xUB0e1Sf+7HGQEMDHshULshA7QtNibQbyEA7nOneQtvIQN4N6GT6EclA+Tx/0w8DyUBKDrZT3b3JQEQ2qyLm/spARDarIub+ykBENqsi5v7KQEQ2qyLm/spARDarIub+ykBENqsi5v7KQEQ2qyLm/spA",
          "dtype": "f8"
         },
         "xaxis": "x",
         "y": {
          "bdata": "AAAAAACgukAAAAAAALG7QAAAAAAAGLxAAAAAAACwvkAAAAAAAHy/QAAAAAAAMb9AAAAAAABAv0AAAAAAAFu/QAAAAAAAhr5AAAAAAABevUAAAAAAAM28QAAAAAAAAbxAAAAAAADSukAAAAAAAEW7QAAAAAAASbtAAAAAAAAIu0AAAAAAALK6QAAAAAAAhbpAAAAAAADmukAAAAAAAKq7QAAAAAAALrtAAAAAAAA3ukDVk3xyAO25QErxFHJi2LlAZ554BIY2ukA3LRNr0BC5QGMuQltVJrdA8FdpJqaauEDn575cTAe3QASEC3N0lrZADxYyc/Fvt0CgH7CtAhy4QBpW3JI1UrdA1Reu9ytatkC/6zOtreS2QAAAAAAACLdASewUjoCnuECWUv53RNW4QAAAAAAAX7hAu6COFfHGuECKy8YXNZq4QAAAAAAAM7lAGBXwDNPkuEDXgFDFfbe5QMAlGWI/mrpA/zIPQAtjukDtPj3oiIu6QNMVa75ferpAdrr3meMgu0CmvQ2TwR68QC/MYSaUAb1AXs7hoTU7vkDR4JPXomu+QLZMYVQXF8BA9jA3jHw5wEDqgb3+StLAQGSJKPJgasFAbwI04bgUwUBF8yExB1HBQO+Mz0p8UMJAdPeYEaL/wkDw+juq5CHEQOc/zU+9lMRAlAa1CtPCxUDiT86OlKjGQKLaJ8PQCsdAZ4WrVMNxxkDjxPwpxKLGQKLaJ8PQCsdAotonw9AKx0Ci2ifD0ArHQKLaJ8PQCsdAotonw9AKx0Ci2ifD0ArHQKLaJ8PQCsdA",
          "dtype": "f8"
         },
         "yaxis": "y"
        },
        {
         "hovertemplate": "Data: %{text}<br>Warszawa: %{x:,.0f} PLN/m²<br>Kraków: %{y:,.0f} PLN/m²<extra></extra>",
         "marker": {
          "color": [
           1151712000000000000,
           1159660800000000000,
           1167609600000000000,
           1175385600000000000,
           1183248000000000000,
           1191196800000000000,
           1199145600000000000,
           1207008000000000000,
           1214870400000000000,
           1222819200000000000,
           1230768000000000000,
           1238544000000000000,
           1246406400000000000,
           1254355200000000000,
           1262304000000000000,
           1270080000000000000,
           1277942400000000000,
           1285891200000000000,
           1293840000000000000,
           1301616000000000000,
           1309478400000000000,
           1317427200000000000,
           1325376000000000000,
           1333238400000000000,
           1341100800000000000,
           1349049600000000000,
           1356998400000000000,
           1364774400000000000,
           1372636800000000000,
           1380585600000000000,
           1388534400000000000,
           1396310400000000000,
           1404172800000000000,
           1412121600000000000,
           1420070400000000000,
           1427846400000000000,
           1435708800000000000,
           1443657600000000000,
           1451606400000000000,
           1459468800000000000,
           1467331200000000000,
           1475280000000000000,
           1483228800000000000,
           1491004800000000000,
           1498867200000000000,
           1506816000000000000,
           1514764800000000000,
           1522540800000000000,
           1530403200000000000,
           1538352000000000000,
           1546300800000000000,
           1554076800000000000,
           1561939200000000000,
           1569888000000000000,
           1577836800000000000,
           1585699200000000000,
           1593561600000000000,
           1601510400000000000,
           1609459200000000000,
           1617235200000000000,
           1625097600000000000,
           1633046400000000000,
           1640995200000000000,
           1648771200000000000,
           1656633600000000000,
           1664582400000000000,
           1672531200000000000,
           1680307200000000000,
           1688169600000000000,
           1696118400000000000,
           1704067200000000000,
           1711929600000000000,
           1719792000000000000,
           1727740800000000000,
           1735689600000000000
          ],
          "colorbar": {
           "title": {
            "text": "Data"
           }
          },
          "colorscale": [
           [
            0,
            "#440154"
           ],
           [
            0.1111111111111111,
            "#482878"
           ],
           [
            0.2222222222222222,
            "#3e4989"
           ],
           [
            0.3333333333333333,
            "#31688e"
           ],
           [
            0.4444444444444444,
            "#26828e"
           ],
           [
            0.5555555555555556,
            "#1f9e89"
           ],
           [
            0.6666666666666666,
            "#35b779"
           ],
           [
            0.7777777777777778,
            "#6ece58"
           ],
           [
            0.8888888888888888,
            "#b5de2b"
           ],
           [
            1,
            "#fde725"
           ]
          ],
          "opacity": 0.7,
          "showscale": true,
          "size": 8
         },
         "mode": "markers",
         "name": "Rynek wtórny",
         "text": [
          "2006-07",
          "2006-10",
          "2007-01",
          "2007-04",
          "2007-07",
          "2007-10",
          "2008-01",
          "2008-04",
          "2008-07",
          "2008-10",
          "2009-01",
          "2009-04",
          "2009-07",
          "2009-10",
          "2010-01",
          "2010-04",
          "2010-07",
          "2010-10",
          "2011-01",
          "2011-04",
          "2011-07",
          "2011-10",
          "2012-01",
          "2012-04",
          "2012-07",
          "2012-10",
          "2013-01",
          "2013-04",
          "2013-07",
          "2013-10",
          "2014-01",
          "2014-04",
          "2014-07",
          "2014-10",
          "2015-01",
          "2015-04",
          "2015-07",
          "2015-10",
          "2016-01",
          "2016-04",
          "2016-07",
          "2016-10",
          "2017-01",
          "2017-04",
          "2017-07",
          "2017-10",
          "2018-01",
          "2018-04",
          "2018-07",
          "2018-10",
          "2019-01",
          "2019-04",
          "2019-07",
          "2019-10",
          "2020-01",
          "2020-04",
          "2020-07",
          "2020-10",
          "2021-01",
          "2021-04",
          "2021-07",
          "2021-10",
          "2022-01",
          "2022-04",
          "2022-07",
          "2022-10",
          "2023-01",
          "2023-04",
          "2023-07",
          "2023-10",
          "2024-01",
          "2024-04",
          "2024-07",
          "2024-10",
          "2025-01"
         ],
         "type": "scatter",
         "x": {
          "bdata": "AAAAAABYuEAAAAAAAOe7QAAAAAAAMr5AAAAAAAD8wEAAAAAAgNjBQAAAAAAApcFAAAAAAIBswUAAAAAAALHAQAAAAAAAqMBAAAAAAACrwUAAAAAAAGvAQAAAAAAAa8BARE5fz+8Mv0DWrDO+bZjAQOIj8kHa1cBAvR7et2hywUA6ha2eWZbAQLwqItONV79AAAAAAADrvkAGgnRAP/C+QNltvDyU775A9jBZLvLQvkD5kdYYELG9QIxlj99ZYr1Asmeho21PvEDzVaTu5kW8QJYda7zMHrpAIMQrb7TSukAUZUatDTu7QGlVAEyRFLxAw0Xur9EBvEA5B1MNgqO8QJ3LtWxMxbxAziMz5bjavEAqHpSoyaa8QOgwmlp5jLxAElHweWMXvUCkAFEwG+m8QHUQd/G/Cb1AeBH5hWK7vECWBmQdnIy8QHtcWXXhg71AAiuHFtkEvUBcj8L16Iy+QMuhRbbzU79AyXa+n9p1v0DCKG68Im+/QI0kmP7/ZMBAsJCttdHNwEACv8v57RzBQO1x7eFSjMFAaSdgGmUNwkCVLLSCUXjCQG9iys5BKsNACI1jV7qJw0BRydpKGhjEQCWa4kAcc8RAlrqbFpXXxECNdusybj/FQA94lc/C6MVASvxbaFOgxkAXtvpvTSLHQMrpfWG87cdAkvym6BbVyEDStibPQjrJQNV90KHvcMlAQAIecq6GyUCJDJRbqcrJQMcLbq604cpA27/s+mSwy0DA92XmluHMQMD3ZeaW4cxAwPdl5pbhzEDA92XmluHMQMD3ZeaW4cxA",
          "dtype": "f8"
         },
         "xaxis": "x",
         "y": {
          "bdata": "AAAAAABJtEAAAAAAAM24QAAAAAAAe7hAAAAAAACNvEAAAAAAABm8QAAAAAAAO7pAAAAAAAB5ukAAAAAAAOW5QAAAAAAAlrhAAAAAAACCuUAAAAAAAN63QAAAAAAAsbdAAAAAAABXt0AAAAAAAAu4QAAAAAAAJrhAAAAAAADjt0AAAAAAAJi4QAAAAAAAjLhAAAAAAAD6uEAAAAAAAE65QAAAAAAA4bhAAAAAAABQuEB42C6RaFm5QM2mWmPXerdAHyhgqmnQt0DvgYrwUuO3QAAAAAAAK7dA8Iq+RuovtkAAAAAAAPy2QAAAAAAAw7ZATMAPt4NitkAAAAAAADG3QCBB8WOcKbdAyde6d9LJtkAAAAAAADW4QK/NeS4xDbhAGXaIUyjPt0CYFLlD5zK3QNuto90e/LZAdAGC+0BstkDp6fBB4bu2QNEHToNAP7dAcCXddShbt0AtsSJKB5a3QGtaIOlgy7hA0rsxE8SDuEB0iX/4YNW4QJsDdjkBaLlAvf7W/cWCukAbw/FdXOy6QA85ZvQOALtAdGfF7jh2vECmfqZkiuu8QOY8A0Ut6b1AUZ2sj93pv0AaSqB52Y3AQArHRcYS3cBAjImAbZhIwUDY+zKZm3jBQGPy2hn0UMJAz+ltJcTvwkC134ido4fDQEIu41+SLMRA4O1Ek+L8xEBCnz3oW5jFQJztK3G8p8VAiLwpjRKExUCav8oxHdrFQG/ml2kjasdAJGmMMJj1x0AkaYwwmPXHQCRpjDCY9cdAJGmMMJj1x0AkaYwwmPXHQCRpjDCY9cdA",
          "dtype": "f8"
         },
         "yaxis": "y"
        },
        {
         "line": {
          "color": "gray",
          "dash": "dash"
         },
         "mode": "lines",
         "name": "y = x",
         "showlegend": false,
         "type": "scatter",
         "x": [
          1905,
          16015.81065523575
         ],
         "xaxis": "x",
         "y": [
          1905,
          16015.81065523575
         ],
         "yaxis": "y"
        },
        {
         "name": "Warszawa",
         "nbinsx": 20,
         "opacity": 0.7,
         "type": "histogram",
         "x": {
          "bdata": "AAAAAADltUAAAAAAACq4QAAAAAAAhrxAAAAAAABjvUAAAAAAAMe+QAAAAACAvcBAAAAAAICrwEAAAAAAgNHAQAAAAACAQsBAAAAAAADVv0AAAAAAAHe9QAAAAAAAJb1AxHqjVjyhvUAVxEDXlv+9QOwtcyc37b9AO0LrYuQlv0AJIx7SNAS/QBiKx4eOEL1AAAAAAABlv0BdXA7qxWa9QOUeGf6+/rxAyMcKhK45vEA79xUZxTa7QC3D4YvxgrtABXl5yrVkukAW91JCB0K5QL/ZdeyjTbtAblParhhqu0C06O2YvQS8QNhUyrp+A71AbODauFGCvEDBjyZTnZO8QAraaPWGFb1Aj1eMG7mSvEBMpkrImOO8QBv8nuznVb1AlzHlHBuFvUCIQt4r7CW9QI7A5Fxj171AXrpJDOKevUCu/+/kIBC+QKpd+ogABr5AOhEjXh2KvUDXGPpgkwK+QDsVpx/bi75AwKBwWeFGvkCtcm1z5By/QLJiv0A29r9ArtEWn+mswEDi84ILSrrAQJtDH8CTIcFAyPzOTQZywUBa4FtqOfLBQCq/on3qgcJAu49hDE0tw0BWq3wEcm/CQEsQ+lhg48NAJK0l2cP/w0BcheZD79TEQL5eq6LC48RAaPuTNO5+xUB0e1Sf+7HGQEMDHshULshA7QtNibQbyEA7nOneQtvIQN4N6GT6EclA+Tx/0w8DyUBKDrZT3b3JQEQ2qyLm/spARDarIub+ykBENqsi5v7KQEQ2qyLm/spARDarIub+ykBENqsi5v7KQEQ2qyLm/spA",
          "dtype": "f8"
         },
         "xaxis": "x2",
         "yaxis": "y2"
        },
        {
         "name": "Kraków",
         "nbinsx": 20,
         "opacity": 0.7,
         "type": "histogram",
         "x": {
          "bdata": "AAAAAACgukAAAAAAALG7QAAAAAAAGLxAAAAAAACwvkAAAAAAAHy/QAAAAAAAMb9AAAAAAABAv0AAAAAAAFu/QAAAAAAAhr5AAAAAAABevUAAAAAAAM28QAAAAAAAAbxAAAAAAADSukAAAAAAAEW7QAAAAAAASbtAAAAAAAAIu0AAAAAAALK6QAAAAAAAhbpAAAAAAADmukAAAAAAAKq7QAAAAAAALrtAAAAAAAA3ukDVk3xyAO25QErxFHJi2LlAZ554BIY2ukA3LRNr0BC5QGMuQltVJrdA8FdpJqaauEDn575cTAe3QASEC3N0lrZADxYyc/Fvt0CgH7CtAhy4QBpW3JI1UrdA1Reu9ytatkC/6zOtreS2QAAAAAAACLdASewUjoCnuECWUv53RNW4QAAAAAAAX7hAu6COFfHGuECKy8YXNZq4QAAAAAAAM7lAGBXwDNPkuEDXgFDFfbe5QMAlGWI/mrpA/zIPQAtjukDtPj3oiIu6QNMVa75ferpAdrr3meMgu0CmvQ2TwR68QC/MYSaUAb1AXs7hoTU7vkDR4JPXomu+QLZMYVQXF8BA9jA3jHw5wEDqgb3+StLAQGSJKPJgasFAbwI04bgUwUBF8yExB1HBQO+Mz0p8UMJAdPeYEaL/wkDw+juq5CHEQOc/zU+9lMRAlAa1CtPCxUDiT86OlKjGQKLaJ8PQCsdAZ4WrVMNxxkDjxPwpxKLGQKLaJ8PQCsdAotonw9AKx0Ci2ifD0ArHQKLaJ8PQCsdAotonw9AKx0Ci2ifD0ArHQKLaJ8PQCsdA",
          "dtype": "f8"
         },
         "xaxis": "x2",
         "yaxis": "y2"
        },
        {
         "name": "Wrocław",
         "nbinsx": 20,
         "opacity": 0.7,
         "type": "histogram",
         "x": {
          "bdata": "AAAAAAAWqUAAAAAAAIKtQAZKtOrblrtAAAAAAACptEBoWdt7zsu2QAAAAAAA+bVAAAAAAACUtEAAAAAAAOW0QAAAAAAAA7dAAAAAAACJtUAAAAAAAGK0QAAAAAAA57NAAAAAAADxs0AAAAAAAGC1QAAAAAAA/LVAAAAAAAAyt0AAAAAAAO61QAAAAAAAZ7ZAAAAAAAARt0AAAAAAAD23QAAAAAAA0rdAAAAAAABYtkAAAAAAAOa1QAAAAAAAsLZAAAAAAACRtUAAAAAAANm1QAAAAAAANrVAAAAAAADjtUAAAAAAAOW1QAAAAAAAPbZAAAAAAAAktkAAAAAAAOS2QAAAAAAAIbdAAAAAAAChtkAAAAAAAGS3QAAAAAAAtLdAAAAAAACct0AAAAAAAN23QAAAAAAAabdAAAAAAABKuEAAAAAAABK4QAAAAAAAE7hAAAAAAAD4t0AAAAAAAKq4QAAAAAAAIblAAAAAAAD1uEAAAAAAAGy5QAAAAAAA+7lAAAAAAABeukAAAAAAAPm6QAAAAAAAeLtAAAAAAAALvUAAAAAAAO29QIyIuO8R0r1ArN8WAgpRwEBWlAnbl2i/QAe6w2//rL9Ati1TomcUwECZJoEft3PAQII58lPMwMBA08m9rn5dwUAU0ZTXbZHCQAtsU86klsNAjHhcy9AwxEBwz1bswYvEQPD93tyjasRA1sOl4+SzxUCSwMKlR0LGQOhuKJGp4MZAaE3CMKFZx0BoTcIwoVnHQGhNwjChWcdAaE3CMKFZx0BoTcIwoVnHQGhNwjChWcdA",
          "dtype": "f8"
         },
         "xaxis": "x2",
         "yaxis": "y2"
        },
        {
         "name": "Poznań",
         "nbinsx": 20,
         "opacity": 0.7,
         "type": "histogram",
         "x": {
          "bdata": "xm1+HOSSsEA7UnN7qHWyQMtrldS4LLlAFK5H4bpKvEC7lCIq0TG1QCsmrWIS0bpAIyIiIoKtvUBo5VPdcJ67QCnumeJexrpAaAQSM/pvukA2Qhm91dy4QIe3rYjui7hAb8s/EfcBuED+z+1El/G3QH9zefZnJLlAv4K5N5LnuUCpEODn2J+4QI1eb+5Kv7lAkycgOp93uED3obiSoYe5QBFKZkgkC7hAkypjWOxKuEDq4cd5jyu3QOEbnogi+LZA2EiixGVat0Crzt1/7Nq0QFeEeLsSA7hAWLN5Dp5tt0AWhlbVbhm3QARE9sTa67ZAC0Jji4YBuEAW9cbydeS3QEn1u+QNhrdASPvk9yNRuEBApYfaz6K4QB97XKkcQbhAGf8bUCdUuEADTF9QaFq4QI9Qdmz5ZbhA3GSqh56ZuEBaOOnfLTO4QNlLUE3fn7hAOtVXzDl3uEDFrZXodHS4QJ5u1gOy6rhAZmZmZmbuuEAkbDgs7h25QOOV86N2T7pAV74g25LAukAXbP1p/Gi7QCmfZLy4j7tA91PSDouuu0BJSozXkb27QMQLlST+47xAdrsoyXT/vEDxteLc7Qa9QKlfHxCyIr1AJw7LZV7UvUDpaX+mmhi/QKYyhrya+b5ANYZ1xINZv0DJyLKWhM7AQKLBnbG+LcFAgbK7+RSNwkD9EsE+nY3CQP0SwT6djcJA/RLBPp2NwkD9EsE+nY3CQP0SwT6djcJA/RLBPp2NwkD9EsE+nY3CQP0SwT6djcJA/RLBPp2NwkD9EsE+nY3CQP0SwT6djcJA",
          "dtype": "f8"
         },
         "xaxis": "x2",
         "yaxis": "y2"
        },
        {
         "hovertemplate": "Data: %{text}<br>Inflacja: %{x:.1f}%<br>Cena: %{y:,.0f} PLN/m²<extra></extra>",
         "marker": {
          "color": {
           "bdata": "1gcAANYHAADXBwAA1wcAANcHAADXBwAA2AcAANgHAADYBwAA2AcAANkHAADZBwAA2QcAANkHAADaBwAA2gcAANoHAADaBwAA2wcAANsHAADbBwAA2wcAANwHAADcBwAA3AcAANwHAADdBwAA3QcAAN0HAADdBwAA3gcAAN4HAADeBwAA3gcAAN8HAADfBwAA3wcAAN8HAADgBwAA4AcAAOAHAADgBwAA4QcAAOEHAADhBwAA4QcAAOIHAADiBwAA4gcAAOIHAADjBwAA4wcAAOMHAADjBwAA5AcAAOQHAADkBwAA5AcAAOUHAADlBwAA5QcAAOUHAADmBwAA5gcAAOYHAADmBwAA5wcAAOcHAADnBwAA5wcAAOgHAADoBwAA6AcAAOgHAADpBwAA",
           "dtype": "i4"
          },
          "colorscale": [
           [
            0,
            "#440154"
           ],
           [
            0.1111111111111111,
            "#482878"
           ],
           [
            0.2222222222222222,
            "#3e4989"
           ],
           [
            0.3333333333333333,
            "#31688e"
           ],
           [
            0.4444444444444444,
            "#26828e"
           ],
           [
            0.5555555555555556,
            "#1f9e89"
           ],
           [
            0.6666666666666666,
            "#35b779"
           ],
           [
            0.7777777777777778,
            "#6ece58"
           ],
           [
            0.8888888888888888,
            "#b5de2b"
           ],
           [
            1,
            "#fde725"
           ]
          ],
          "opacity": 0.7,
          "size": 8
         },
         "mode": "markers",
         "name": "Warszawa vs CPI",
         "text": [
          "2006-07",
          "2006-10",
          "2007-01",
          "2007-04",
          "2007-07",
          "2007-10",
          "2008-01",
          "2008-04",
          "2008-07",
          "2008-10",
          "2009-01",
          "2009-04",
          "2009-07",
          "2009-10",
          "2010-01",
          "2010-04",
          "2010-07",
          "2010-10",
          "2011-01",
          "2011-04",
          "2011-07",
          "2011-10",
          "2012-01",
          "2012-04",
          "2012-07",
          "2012-10",
          "2013-01",
          "2013-04",
          "2013-07",
          "2013-10",
          "2014-01",
          "2014-04",
          "2014-07",
          "2014-10",
          "2015-01",
          "2015-04",
          "2015-07",
          "2015-10",
          "2016-01",
          "2016-04",
          "2016-07",
          "2016-10",
          "2017-01",
          "2017-04",
          "2017-07",
          "2017-10",
          "2018-01",
          "2018-04",
          "2018-07",
          "2018-10",
          "2019-01",
          "2019-04",
          "2019-07",
          "2019-10",
          "2020-01",
          "2020-04",
          "2020-07",
          "2020-10",
          "2021-01",
          "2021-04",
          "2021-07",
          "2021-10",
          "2022-01",
          "2022-04",
          "2022-07",
          "2022-10",
          "2023-01",
          "2023-04",
          "2023-07",
          "2023-10",
          "2024-01",
          "2024-04",
          "2024-07",
          "2024-10",
          "2025-01"
         ],
         "type": "scatter",
         "x": [
          101.4,
          101.3,
          102,
          102.4,
          102,
          103.5,
          104.1,
          104.3,
          104.7,
          103.8,
          103.3,
          103.7,
          103.5,
          103.3,
          103,
          102.3,
          102.2,
          102.9,
          103.8,
          104.6,
          104.1,
          104.6,
          104.1,
          104,
          103.9,
          102.9,
          101.3,
          100.5,
          101.1,
          100.7,
          100.6,
          100.3,
          99.7,
          99.3,
          98.5,
          99.1,
          99.3,
          99.4,
          99.1,
          99.1,
          99.2,
          100.2,
          102,
          101.8,
          101.9,
          102.2,
          101.5,
          101.7,
          102,
          101.4,
          101.2,
          102.4,
          102.8,
          102.8,
          104.5,
          103.2,
          103,
          102.8,
          102.7,
          104.5,
          105.4,
          107.7,
          109.7,
          113.9,
          116.3,
          117.3,
          117,
          113.1,
          109.7,
          106.4,
          102.8,
          102.5,
          104.5,
          104.8,
          104.9
         ],
         "xaxis": "x3",
         "y": {
          "bdata": "AAAAAADltUAAAAAAACq4QAAAAAAAhrxAAAAAAABjvUAAAAAAAMe+QAAAAACAvcBAAAAAAICrwEAAAAAAgNHAQAAAAACAQsBAAAAAAADVv0AAAAAAAHe9QAAAAAAAJb1AxHqjVjyhvUAVxEDXlv+9QOwtcyc37b9AO0LrYuQlv0AJIx7SNAS/QBiKx4eOEL1AAAAAAABlv0BdXA7qxWa9QOUeGf6+/rxAyMcKhK45vEA79xUZxTa7QC3D4YvxgrtABXl5yrVkukAW91JCB0K5QL/ZdeyjTbtAblParhhqu0C06O2YvQS8QNhUyrp+A71AbODauFGCvEDBjyZTnZO8QAraaPWGFb1Aj1eMG7mSvEBMpkrImOO8QBv8nuznVb1AlzHlHBuFvUCIQt4r7CW9QI7A5Fxj171AXrpJDOKevUCu/+/kIBC+QKpd+ogABr5AOhEjXh2KvUDXGPpgkwK+QDsVpx/bi75AwKBwWeFGvkCtcm1z5By/QLJiv0A29r9ArtEWn+mswEDi84ILSrrAQJtDH8CTIcFAyPzOTQZywUBa4FtqOfLBQCq/on3qgcJAu49hDE0tw0BWq3wEcm/CQEsQ+lhg48NAJK0l2cP/w0BcheZD79TEQL5eq6LC48RAaPuTNO5+xUB0e1Sf+7HGQEMDHshULshA7QtNibQbyEA7nOneQtvIQN4N6GT6EclA+Tx/0w8DyUBKDrZT3b3JQEQ2qyLm/spARDarIub+ykBENqsi5v7KQEQ2qyLm/spARDarIub+ykBENqsi5v7KQEQ2qyLm/spA",
          "dtype": "f8"
         },
         "yaxis": "y3"
        },
        {
         "hovertemplate": "Data: %{text}<br>WIBOR: %{x:.1f}%<br>Cena: %{y:,.0f} PLN/m²<extra></extra>",
         "marker": {
          "color": {
           "bdata": "1gcAANYHAADXBwAA1wcAANcHAADXBwAA2AcAANgHAADYBwAA2AcAANkHAADZBwAA2QcAANkHAADaBwAA2gcAANoHAADaBwAA2wcAANsHAADbBwAA2wcAANwHAADcBwAA3AcAANwHAADdBwAA3QcAAN0HAADdBwAA3gcAAN4HAADeBwAA3gcAAN8HAADfBwAA3wcAAN8HAADgBwAA4AcAAOAHAADgBwAA4QcAAOEHAADhBwAA4QcAAOIHAADiBwAA4gcAAOIHAADjBwAA4wcAAOMHAADjBwAA5AcAAOQHAADkBwAA5AcAAOUHAADlBwAA5QcAAOUHAADmBwAA5gcAAOYHAADmBwAA5wcAAOcHAADnBwAA5wcAAOgHAADoBwAA6AcAAOgHAADpBwAA",
           "dtype": "i4"
          },
          "colorscale": [
           [
            0,
            "#0d0887"
           ],
           [
            0.1111111111111111,
            "#46039f"
           ],
           [
            0.2222222222222222,
            "#7201a8"
           ],
           [
            0.3333333333333333,
            "#9c179e"
           ],
           [
            0.4444444444444444,
            "#bd3786"
           ],
           [
            0.5555555555555556,
            "#d8576b"
           ],
           [
            0.6666666666666666,
            "#ed7953"
           ],
           [
            0.7777777777777778,
            "#fb9f3a"
           ],
           [
            0.8888888888888888,
            "#fdca26"
           ],
           [
            1,
            "#f0f921"
           ]
          ],
          "opacity": 0.7,
          "size": 8
         },
         "mode": "markers",
         "name": "Warszawa vs WIBOR",
         "text": [
          "2006-07",
          "2006-10",
          "2007-01",
          "2007-04",
          "2007-07",
          "2007-10",
          "2008-01",
          "2008-04",
          "2008-07",
          "2008-10",
          "2009-01",
          "2009-04",
          "2009-07",
          "2009-10",
          "2010-01",
          "2010-04",
          "2010-07",
          "2010-10",
          "2011-01",
          "2011-04",
          "2011-07",
          "2011-10",
          "2012-01",
          "2012-04",
          "2012-07",
          "2012-10",
          "2013-01",
          "2013-04",
          "2013-07",
          "2013-10",
          "2014-01",
          "2014-04",
          "2014-07",
          "2014-10",
          "2015-01",
          "2015-04",
          "2015-07",
          "2015-10",
          "2016-01",
          "2016-04",
          "2016-07",
          "2016-10",
          "2017-01",
          "2017-04",
          "2017-07",
          "2017-10",
          "2018-01",
          "2018-04",
          "2018-07",
          "2018-10",
          "2019-01",
          "2019-04",
          "2019-07",
          "2019-10",
          "2020-01",
          "2020-04",
          "2020-07",
          "2020-10",
          "2021-01",
          "2021-04",
          "2021-07",
          "2021-10",
          "2022-01",
          "2022-04",
          "2022-07",
          "2022-10",
          "2023-01",
          "2023-04",
          "2023-07",
          "2023-10",
          "2024-01",
          "2024-04",
          "2024-07",
          "2024-10",
          "2025-01"
         ],
         "type": "scatter",
         "x": {
          "bdata": "16NwPQrXEEDhehSuR+EQQM3MzMzMzBBA9ihcj8L1EEDXo3A9CtcSQGZmZmZmZhRAzczMzMzMFkCamZmZmZkYQJqZmZmZmRpAhetRuB6FGkCF61G4HoUXQK5H4XoUrhBAw/UoXI/CEUC4HoXrUbgQQBSuR+F6FBFAZmZmZmZmEED2KFyPwvUOQLgehetRuA5AmpmZmZmZD0DD9Shcj8IQQMP1KFyPwhJACtejcD0KE0D2KFyPwvUTQMP1KFyPwhNAhetRuB6FFECuR+F6FK4TQHE9CtejcBBAH4XrUbgeC0DXo3A9CtcFQFyPwvUoXAVArkfhehSuBUCuR+F6FK4FQHE9CtejcAVAPQrXo3A9AkB7FK5H4XoAQGZmZmZmZvo/hetRuB6F+z+uR+F6FK77P4XrUbgehfs/uB6F61G4+j9cj8L1KFz7P1yPwvUoXPs/rkfhehSu+z+uR+F6FK77P65H4XoUrvs/rkfhehSu+z+F61G4HoX7PzMzMzMzM/s/MzMzMzMz+z+F61G4HoX7P4XrUbgehfs/hetRuB6F+z+F61G4HoX7P4XrUbgehfs/XI/C9Shc+z+4HoXrUbjyP6RwPQrXo9A/KVyPwvUozD/hehSuR+HKP+F6FK5H4co/4XoUrkfhyj9xPQrXo3DNP1K4HoXrUQRAFK5H4XoUE0AzMzMzMzMcQNejcD0K1xxAFK5H4XoUHECPwvUoXI8bQJqZmZmZmRtAFK5H4XoUF0CF61G4HoUXQIXrUbgehRdAZmZmZmZmF0BmZmZmZmYXQFyPwvUoXBdA",
          "dtype": "f8"
         },
         "xaxis": "x4",
         "y": {
          "bdata": "AAAAAADltUAAAAAAACq4QAAAAAAAhrxAAAAAAABjvUAAAAAAAMe+QAAAAACAvcBAAAAAAICrwEAAAAAAgNHAQAAAAACAQsBAAAAAAADVv0AAAAAAAHe9QAAAAAAAJb1AxHqjVjyhvUAVxEDXlv+9QOwtcyc37b9AO0LrYuQlv0AJIx7SNAS/QBiKx4eOEL1AAAAAAABlv0BdXA7qxWa9QOUeGf6+/rxAyMcKhK45vEA79xUZxTa7QC3D4YvxgrtABXl5yrVkukAW91JCB0K5QL/ZdeyjTbtAblParhhqu0C06O2YvQS8QNhUyrp+A71AbODauFGCvEDBjyZTnZO8QAraaPWGFb1Aj1eMG7mSvEBMpkrImOO8QBv8nuznVb1AlzHlHBuFvUCIQt4r7CW9QI7A5Fxj171AXrpJDOKevUCu/+/kIBC+QKpd+ogABr5AOhEjXh2KvUDXGPpgkwK+QDsVpx/bi75AwKBwWeFGvkCtcm1z5By/QLJiv0A29r9ArtEWn+mswEDi84ILSrrAQJtDH8CTIcFAyPzOTQZywUBa4FtqOfLBQCq/on3qgcJAu49hDE0tw0BWq3wEcm/CQEsQ+lhg48NAJK0l2cP/w0BcheZD79TEQL5eq6LC48RAaPuTNO5+xUB0e1Sf+7HGQEMDHshULshA7QtNibQbyEA7nOneQtvIQN4N6GT6EclA+Tx/0w8DyUBKDrZT3b3JQEQ2qyLm/spARDarIub+ykBENqsi5v7KQEQ2qyLm/spARDarIub+ykBENqsi5v7KQEQ2qyLm/spA",
          "dtype": "f8"
         },
         "yaxis": "y4"
        }
       ],
       "layout": {
        "annotations": [
         {
          "font": {
           "size": 16
          },
          "showarrow": false,
          "text": "Porównanie Cen: Warszawa vs Kraków",
          "x": 0.225,
          "xanchor": "center",
          "xref": "paper",
          "y": 1,
          "yanchor": "bottom",
          "yref": "paper"
         },
         {
          "font": {
           "size": 16
          },
          "showarrow": false,
          "text": "Rozkład Cen Mieszkań w Głównych Miastach",
          "x": 0.775,
          "xanchor": "center",
          "xref": "paper",
          "y": 1,
          "yanchor": "bottom",
          "yref": "paper"
         },
         {
          "font": {
           "size": 16
          },
          "showarrow": false,
          "text": "Ceny vs Inflacja CPI",
          "x": 0.225,
          "xanchor": "center",
          "xref": "paper",
          "y": 0.375,
          "yanchor": "bottom",
          "yref": "paper"
         },
         {
          "font": {
           "size": 16
          },
          "showarrow": false,
          "text": "Ceny vs WIBOR 3M",
          "x": 0.775,
          "xanchor": "center",
          "xref": "paper",
          "y": 0.375,
          "yanchor": "bottom",
          "yref": "paper"
         }
        ],
        "height": 800,
        "legend": {
         "orientation": "h",
         "x": 0.5,
         "xanchor": "center",
         "y": 1.02,
         "yanchor": "bottom"
        },
        "showlegend": true,
        "template": {
         "data": {
          "bar": [
           {
            "error_x": {
             "color": "#2a3f5f"
            },
            "error_y": {
             "color": "#2a3f5f"
            },
            "marker": {
             "line": {
              "color": "#E5ECF6",
              "width": 0.5
             },
             "pattern": {
              "fillmode": "overlay",
              "size": 10,
              "solidity": 0.2
             }
            },
            "type": "bar"
           }
          ],
          "barpolar": [
           {
            "marker": {
             "line": {
              "color": "#E5ECF6",
              "width": 0.5
             },
             "pattern": {
              "fillmode": "overlay",
              "size": 10,
              "solidity": 0.2
             }
            },
            "type": "barpolar"
           }
          ],
          "carpet": [
           {
            "aaxis": {
             "endlinecolor": "#2a3f5f",
             "gridcolor": "white",
             "linecolor": "white",
             "minorgridcolor": "white",
             "startlinecolor": "#2a3f5f"
            },
            "baxis": {
             "endlinecolor": "#2a3f5f",
             "gridcolor": "white",
             "linecolor": "white",
             "minorgridcolor": "white",
             "startlinecolor": "#2a3f5f"
            },
            "type": "carpet"
           }
          ],
          "choropleth": [
           {
            "colorbar": {
             "outlinewidth": 0,
             "ticks": ""
            },
            "type": "choropleth"
           }
          ],
          "contour": [
           {
            "colorbar": {
             "outlinewidth": 0,
             "ticks": ""
            },
            "colorscale": [
             [
              0,
              "#0d0887"
             ],
             [
              0.1111111111111111,
              "#46039f"
             ],
             [
              0.2222222222222222,
              "#7201a8"
             ],
             [
              0.3333333333333333,
              "#9c179e"
             ],
             [
              0.4444444444444444,
              "#bd3786"
             ],
             [
              0.5555555555555556,
              "#d8576b"
             ],
             [
              0.6666666666666666,
              "#ed7953"
             ],
             [
              0.7777777777777778,
              "#fb9f3a"
             ],
             [
              0.8888888888888888,
              "#fdca26"
             ],
             [
              1,
              "#f0f921"
             ]
            ],
            "type": "contour"
           }
          ],
          "contourcarpet": [
           {
            "colorbar": {
             "outlinewidth": 0,
             "ticks": ""
            },
            "type": "contourcarpet"
           }
          ],
          "heatmap": [
           {
            "colorbar": {
             "outlinewidth": 0,
             "ticks": ""
            },
            "colorscale": [
             [
              0,
              "#0d0887"
             ],
             [
              0.1111111111111111,
              "#46039f"
             ],
             [
              0.2222222222222222,
              "#7201a8"
             ],
             [
              0.3333333333333333,
              "#9c179e"
             ],
             [
              0.4444444444444444,
              "#bd3786"
             ],
             [
              0.5555555555555556,
              "#d8576b"
             ],
             [
              0.6666666666666666,
              "#ed7953"
             ],
             [
              0.7777777777777778,
              "#fb9f3a"
             ],
             [
              0.8888888888888888,
              "#fdca26"
             ],
             [
              1,
              "#f0f921"
             ]
            ],
            "type": "heatmap"
           }
          ],
          "histogram": [
           {
            "marker": {
             "pattern": {
              "fillmode": "overlay",
              "size": 10,
              "solidity": 0.2
             }
            },
            "type": "histogram"
           }
          ],
          "histogram2d": [
           {
            "colorbar": {
             "outlinewidth": 0,
             "ticks": ""
            },
            "colorscale": [
             [
              0,
              "#0d0887"
             ],
             [
              0.1111111111111111,
              "#46039f"
             ],
             [
              0.2222222222222222,
              "#7201a8"
             ],
             [
              0.3333333333333333,
              "#9c179e"
             ],
             [
              0.4444444444444444,
              "#bd3786"
             ],
             [
              0.5555555555555556,
              "#d8576b"
             ],
             [
              0.6666666666666666,
              "#ed7953"
             ],
             [
              0.7777777777777778,
              "#fb9f3a"
             ],
             [
              0.8888888888888888,
              "#fdca26"
             ],
             [
              1,
              "#f0f921"
             ]
            ],
            "type": "histogram2d"
           }
          ],
          "histogram2dcontour": [
           {
            "colorbar": {
             "outlinewidth": 0,
             "ticks": ""
            },
            "colorscale": [
             [
              0,
              "#0d0887"
             ],
             [
              0.1111111111111111,
              "#46039f"
             ],
             [
              0.2222222222222222,
              "#7201a8"
             ],
             [
              0.3333333333333333,
              "#9c179e"
             ],
             [
              0.4444444444444444,
              "#bd3786"
             ],
             [
              0.5555555555555556,
              "#d8576b"
             ],
             [
              0.6666666666666666,
              "#ed7953"
             ],
             [
              0.7777777777777778,
              "#fb9f3a"
             ],
             [
              0.8888888888888888,
              "#fdca26"
             ],
             [
              1,
              "#f0f921"
             ]
            ],
            "type": "histogram2dcontour"
           }
          ],
          "mesh3d": [
           {
            "colorbar": {
             "outlinewidth": 0,
             "ticks": ""
            },
            "type": "mesh3d"
           }
          ],
          "parcoords": [
           {
            "line": {
             "colorbar": {
              "outlinewidth": 0,
              "ticks": ""
             }
            },
            "type": "parcoords"
           }
          ],
          "pie": [
           {
            "automargin": true,
            "type": "pie"
           }
          ],
          "scatter": [
           {
            "fillpattern": {
             "fillmode": "overlay",
             "size": 10,
             "solidity": 0.2
            },
            "type": "scatter"
           }
          ],
          "scatter3d": [
           {
            "line": {
             "colorbar": {
              "outlinewidth": 0,
              "ticks": ""
             }
            },
            "marker": {
             "colorbar": {
              "outlinewidth": 0,
              "ticks": ""
             }
            },
            "type": "scatter3d"
           }
          ],
          "scattercarpet": [
           {
            "marker": {
             "colorbar": {
              "outlinewidth": 0,
              "ticks": ""
             }
            },
            "type": "scattercarpet"
           }
          ],
          "scattergeo": [
           {
            "marker": {
             "colorbar": {
              "outlinewidth": 0,
              "ticks": ""
             }
            },
            "type": "scattergeo"
           }
          ],
          "scattergl": [
           {
            "marker": {
             "colorbar": {
              "outlinewidth": 0,
              "ticks": ""
             }
            },
            "type": "scattergl"
           }
          ],
          "scattermap": [
           {
            "marker": {
             "colorbar": {
              "outlinewidth": 0,
              "ticks": ""
             }
            },
            "type": "scattermap"
           }
          ],
          "scattermapbox": [
           {
            "marker": {
             "colorbar": {
              "outlinewidth": 0,
              "ticks": ""
             }
            },
            "type": "scattermapbox"
           }
          ],
          "scatterpolar": [
           {
            "marker": {
             "colorbar": {
              "outlinewidth": 0,
              "ticks": ""
             }
            },
            "type": "scatterpolar"
           }
          ],
          "scatterpolargl": [
           {
            "marker": {
             "colorbar": {
              "outlinewidth": 0,
              "ticks": ""
             }
            },
            "type": "scatterpolargl"
           }
          ],
          "scatterternary": [
           {
            "marker": {
             "colorbar": {
              "outlinewidth": 0,
              "ticks": ""
             }
            },
            "type": "scatterternary"
           }
          ],
          "surface": [
           {
            "colorbar": {
             "outlinewidth": 0,
             "ticks": ""
            },
            "colorscale": [
             [
              0,
              "#0d0887"
             ],
             [
              0.1111111111111111,
              "#46039f"
             ],
             [
              0.2222222222222222,
              "#7201a8"
             ],
             [
              0.3333333333333333,
              "#9c179e"
             ],
             [
              0.4444444444444444,
              "#bd3786"
             ],
             [
              0.5555555555555556,
              "#d8576b"
             ],
             [
              0.6666666666666666,
              "#ed7953"
             ],
             [
              0.7777777777777778,
              "#fb9f3a"
             ],
             [
              0.8888888888888888,
              "#fdca26"
             ],
             [
              1,
              "#f0f921"
             ]
            ],
            "type": "surface"
           }
          ],
          "table": [
           {
            "cells": {
             "fill": {
              "color": "#EBF0F8"
             },
             "line": {
              "color": "white"
             }
            },
            "header": {
             "fill": {
              "color": "#C8D4E3"
             },
             "line": {
              "color": "white"
             }
            },
            "type": "table"
           }
          ]
         },
         "layout": {
          "annotationdefaults": {
           "arrowcolor": "#2a3f5f",
           "arrowhead": 0,
           "arrowwidth": 1
          },
          "autotypenumbers": "strict",
          "coloraxis": {
           "colorbar": {
            "outlinewidth": 0,
            "ticks": ""
           }
          },
          "colorscale": {
           "diverging": [
            [
             0,
             "#8e0152"
            ],
            [
             0.1,
             "#c51b7d"
            ],
            [
             0.2,
             "#de77ae"
            ],
            [
             0.3,
             "#f1b6da"
            ],
            [
             0.4,
             "#fde0ef"
            ],
            [
             0.5,
             "#f7f7f7"
            ],
            [
             0.6,
             "#e6f5d0"
            ],
            [
             0.7,
             "#b8e186"
            ],
            [
             0.8,
             "#7fbc41"
            ],
            [
             0.9,
             "#4d9221"
            ],
            [
             1,
             "#276419"
            ]
           ],
           "sequential": [
            [
             0,
             "#0d0887"
            ],
            [
             0.1111111111111111,
             "#46039f"
            ],
            [
             0.2222222222222222,
             "#7201a8"
            ],
            [
             0.3333333333333333,
             "#9c179e"
            ],
            [
             0.4444444444444444,
             "#bd3786"
            ],
            [
             0.5555555555555556,
             "#d8576b"
            ],
            [
             0.6666666666666666,
             "#ed7953"
            ],
            [
             0.7777777777777778,
             "#fb9f3a"
            ],
            [
             0.8888888888888888,
             "#fdca26"
            ],
            [
             1,
             "#f0f921"
            ]
           ],
           "sequentialminus": [
            [
             0,
             "#0d0887"
            ],
            [
             0.1111111111111111,
             "#46039f"
            ],
            [
             0.2222222222222222,
             "#7201a8"
            ],
            [
             0.3333333333333333,
             "#9c179e"
            ],
            [
             0.4444444444444444,
             "#bd3786"
            ],
            [
             0.5555555555555556,
             "#d8576b"
            ],
            [
             0.6666666666666666,
             "#ed7953"
            ],
            [
             0.7777777777777778,
             "#fb9f3a"
            ],
            [
             0.8888888888888888,
             "#fdca26"
            ],
            [
             1,
             "#f0f921"
            ]
           ]
          },
          "colorway": [
           "#636efa",
           "#EF553B",
           "#00cc96",
           "#ab63fa",
           "#FFA15A",
           "#19d3f3",
           "#FF6692",
           "#B6E880",
           "#FF97FF",
           "#FECB52"
          ],
          "font": {
           "color": "#2a3f5f"
          },
          "geo": {
           "bgcolor": "white",
           "lakecolor": "white",
           "landcolor": "#E5ECF6",
           "showlakes": true,
           "showland": true,
           "subunitcolor": "white"
          },
          "hoverlabel": {
           "align": "left"
          },
          "hovermode": "closest",
          "mapbox": {
           "style": "light"
          },
          "paper_bgcolor": "white",
          "plot_bgcolor": "#E5ECF6",
          "polar": {
           "angularaxis": {
            "gridcolor": "white",
            "linecolor": "white",
            "ticks": ""
           },
           "bgcolor": "#E5ECF6",
           "radialaxis": {
            "gridcolor": "white",
            "linecolor": "white",
            "ticks": ""
           }
          },
          "scene": {
           "xaxis": {
            "backgroundcolor": "#E5ECF6",
            "gridcolor": "white",
            "gridwidth": 2,
            "linecolor": "white",
            "showbackground": true,
            "ticks": "",
            "zerolinecolor": "white"
           },
           "yaxis": {
            "backgroundcolor": "#E5ECF6",
            "gridcolor": "white",
            "gridwidth": 2,
            "linecolor": "white",
            "showbackground": true,
            "ticks": "",
            "zerolinecolor": "white"
           },
           "zaxis": {
            "backgroundcolor": "#E5ECF6",
            "gridcolor": "white",
            "gridwidth": 2,
            "linecolor": "white",
            "showbackground": true,
            "ticks": "",
            "zerolinecolor": "white"
           }
          },
          "shapedefaults": {
           "line": {
            "color": "#2a3f5f"
           }
          },
          "ternary": {
           "aaxis": {
            "gridcolor": "white",
            "linecolor": "white",
            "ticks": ""
           },
           "baxis": {
            "gridcolor": "white",
            "linecolor": "white",
            "ticks": ""
           },
           "bgcolor": "#E5ECF6",
           "caxis": {
            "gridcolor": "white",
            "linecolor": "white",
            "ticks": ""
           }
          },
          "title": {
           "x": 0.05
          },
          "xaxis": {
           "automargin": true,
           "gridcolor": "white",
           "linecolor": "white",
           "ticks": "",
           "title": {
            "standoff": 15
           },
           "zerolinecolor": "white",
           "zerolinewidth": 2
          },
          "yaxis": {
           "automargin": true,
           "gridcolor": "white",
           "linecolor": "white",
           "ticks": "",
           "title": {
            "standoff": 15
           },
           "zerolinecolor": "white",
           "zerolinewidth": 2
          }
         }
        },
        "title": {
         "text": "Dashboard Analityczny - Polski Rynek Nieruchomości",
         "x": 0.5
        },
        "xaxis": {
         "anchor": "y",
         "domain": [
          0,
          0.45
         ],
         "title": {
          "text": "Cena Warszawa (PLN/m²)"
         }
        },
        "xaxis2": {
         "anchor": "y2",
         "domain": [
          0.55,
          1
         ],
         "title": {
          "text": "Cena (PLN/m²)"
         }
        },
        "xaxis3": {
         "anchor": "y3",
         "domain": [
          0,
          0.45
         ],
         "title": {
          "text": "Inflacja CPI (%)"
         }
        },
        "xaxis4": {
         "anchor": "y4",
         "domain": [
          0.55,
          1
         ],
         "title": {
          "text": "WIBOR 3M (%)"
         }
        },
        "yaxis": {
         "anchor": "x",
         "domain": [
          0.625,
          1
         ],
         "title": {
          "text": "Cena Kraków (PLN/m²)"
         }
        },
        "yaxis2": {
         "anchor": "x2",
         "domain": [
          0.625,
          1
         ],
         "title": {
          "text": "Częstość"
         }
        },
        "yaxis3": {
         "anchor": "x3",
         "domain": [
          0,
          0.375
         ],
         "title": {
          "text": "Cena (PLN/m²)"
         }
        },
        "yaxis4": {
         "anchor": "x4",
         "domain": [
          0,
          0.375
         ],
         "title": {
          "text": "Cena (PLN/m²)"
         }
        }
       }
      }
     },
     "metadata": {},
     "output_type": "display_data"
    },
    {
     "name": "stdout",
     "output_type": "stream",
     "text": [
      "🗺️ Tworzenie porównania cen w miastach...\n"
     ]
    },
    {
     "data": {
      "application/vnd.plotly.v1+json": {
       "config": {
        "plotlyServerURL": "https://plot.ly"
       },
       "data": [
        {
         "hovertemplate": "Miasto=%{x}<br>Cena PLN/m²=%{marker.color}<extra></extra>",
         "legendgroup": "",
         "marker": {
          "color": {
           "bdata": "RDarIub+ykCn3IqVG9zJQGhNwjChWcdAotonw9AKx0DWA9jWT3XGQCHgxPAODsRA9LOKNahnw0D9EsE+nY3CQAAAAABA1sFAH4XrUUjCwUAAAAAAwKvBQFTGUvOTJsFA0HR4HizXwED/////nwXAQED2FBE5Ab5ABsvrBPocvEAM7XIVq2G7QA==",
           "dtype": "f8"
          },
          "coloraxis": "coloraxis",
          "pattern": {
           "shape": ""
          }
         },
         "name": "",
         "orientation": "v",
         "showlegend": false,
         "textposition": "outside",
         "texttemplate": "%{text:,.0f} PLN",
         "type": "bar",
         "x": [
          "Warszawa",
          "Gdańsk",
          "Wrocław",
          "Kraków",
          "Gdynia",
          "Szczecin",
          "Katowice",
          "Poznań",
          "Bydgoszcz",
          "Olsztyn",
          "Rzeszów",
          "Łódź",
          "Opole",
          "Lublin",
          "Białystok",
          "Kielce",
          "Zielona Góra"
         ],
         "xaxis": "x",
         "y": {
          "bdata": "RDarIub+ykCn3IqVG9zJQGhNwjChWcdAotonw9AKx0DWA9jWT3XGQCHgxPAODsRA9LOKNahnw0D9EsE+nY3CQAAAAABA1sFAH4XrUUjCwUAAAAAAwKvBQFTGUvOTJsFA0HR4HizXwED/////nwXAQED2FBE5Ab5ABsvrBPocvEAM7XIVq2G7QA==",
          "dtype": "f8"
         },
         "yaxis": "y"
        }
       ],
       "layout": {
        "barmode": "relative",
        "coloraxis": {
         "colorbar": {
          "title": {
           "text": "Cena PLN/m²"
          }
         },
         "colorscale": [
          [
           0,
           "#440154"
          ],
          [
           0.1111111111111111,
           "#482878"
          ],
          [
           0.2222222222222222,
           "#3e4989"
          ],
          [
           0.3333333333333333,
           "#31688e"
          ],
          [
           0.4444444444444444,
           "#26828e"
          ],
          [
           0.5555555555555556,
           "#1f9e89"
          ],
          [
           0.6666666666666666,
           "#35b779"
          ],
          [
           0.7777777777777778,
           "#6ece58"
          ],
          [
           0.8888888888888888,
           "#b5de2b"
          ],
          [
           1,
           "#fde725"
          ]
         ]
        },
        "height": 500,
        "legend": {
         "tracegroupgap": 0
        },
        "template": {
         "data": {
          "bar": [
           {
            "error_x": {
             "color": "#2a3f5f"
            },
            "error_y": {
             "color": "#2a3f5f"
            },
            "marker": {
             "line": {
              "color": "#E5ECF6",
              "width": 0.5
             },
             "pattern": {
              "fillmode": "overlay",
              "size": 10,
              "solidity": 0.2
             }
            },
            "type": "bar"
           }
          ],
          "barpolar": [
           {
            "marker": {
             "line": {
              "color": "#E5ECF6",
              "width": 0.5
             },
             "pattern": {
              "fillmode": "overlay",
              "size": 10,
              "solidity": 0.2
             }
            },
            "type": "barpolar"
           }
          ],
          "carpet": [
           {
            "aaxis": {
             "endlinecolor": "#2a3f5f",
             "gridcolor": "white",
             "linecolor": "white",
             "minorgridcolor": "white",
             "startlinecolor": "#2a3f5f"
            },
            "baxis": {
             "endlinecolor": "#2a3f5f",
             "gridcolor": "white",
             "linecolor": "white",
             "minorgridcolor": "white",
             "startlinecolor": "#2a3f5f"
            },
            "type": "carpet"
           }
          ],
          "choropleth": [
           {
            "colorbar": {
             "outlinewidth": 0,
             "ticks": ""
            },
            "type": "choropleth"
           }
          ],
          "contour": [
           {
            "colorbar": {
             "outlinewidth": 0,
             "ticks": ""
            },
            "colorscale": [
             [
              0,
              "#0d0887"
             ],
             [
              0.1111111111111111,
              "#46039f"
             ],
             [
              0.2222222222222222,
              "#7201a8"
             ],
             [
              0.3333333333333333,
              "#9c179e"
             ],
             [
              0.4444444444444444,
              "#bd3786"
             ],
             [
              0.5555555555555556,
              "#d8576b"
             ],
             [
              0.6666666666666666,
              "#ed7953"
             ],
             [
              0.7777777777777778,
              "#fb9f3a"
             ],
             [
              0.8888888888888888,
              "#fdca26"
             ],
             [
              1,
              "#f0f921"
             ]
            ],
            "type": "contour"
           }
          ],
          "contourcarpet": [
           {
            "colorbar": {
             "outlinewidth": 0,
             "ticks": ""
            },
            "type": "contourcarpet"
           }
          ],
          "heatmap": [
           {
            "colorbar": {
             "outlinewidth": 0,
             "ticks": ""
            },
            "colorscale": [
             [
              0,
              "#0d0887"
             ],
             [
              0.1111111111111111,
              "#46039f"
             ],
             [
              0.2222222222222222,
              "#7201a8"
             ],
             [
              0.3333333333333333,
              "#9c179e"
             ],
             [
              0.4444444444444444,
              "#bd3786"
             ],
             [
              0.5555555555555556,
              "#d8576b"
             ],
             [
              0.6666666666666666,
              "#ed7953"
             ],
             [
              0.7777777777777778,
              "#fb9f3a"
             ],
             [
              0.8888888888888888,
              "#fdca26"
             ],
             [
              1,
              "#f0f921"
             ]
            ],
            "type": "heatmap"
           }
          ],
          "histogram": [
           {
            "marker": {
             "pattern": {
              "fillmode": "overlay",
              "size": 10,
              "solidity": 0.2
             }
            },
            "type": "histogram"
           }
          ],
          "histogram2d": [
           {
            "colorbar": {
             "outlinewidth": 0,
             "ticks": ""
            },
            "colorscale": [
             [
              0,
              "#0d0887"
             ],
             [
              0.1111111111111111,
              "#46039f"
             ],
             [
              0.2222222222222222,
              "#7201a8"
             ],
             [
              0.3333333333333333,
              "#9c179e"
             ],
             [
              0.4444444444444444,
              "#bd3786"
             ],
             [
              0.5555555555555556,
              "#d8576b"
             ],
             [
              0.6666666666666666,
              "#ed7953"
             ],
             [
              0.7777777777777778,
              "#fb9f3a"
             ],
             [
              0.8888888888888888,
              "#fdca26"
             ],
             [
              1,
              "#f0f921"
             ]
            ],
            "type": "histogram2d"
           }
          ],
          "histogram2dcontour": [
           {
            "colorbar": {
             "outlinewidth": 0,
             "ticks": ""
            },
            "colorscale": [
             [
              0,
              "#0d0887"
             ],
             [
              0.1111111111111111,
              "#46039f"
             ],
             [
              0.2222222222222222,
              "#7201a8"
             ],
             [
              0.3333333333333333,
              "#9c179e"
             ],
             [
              0.4444444444444444,
              "#bd3786"
             ],
             [
              0.5555555555555556,
              "#d8576b"
             ],
             [
              0.6666666666666666,
              "#ed7953"
             ],
             [
              0.7777777777777778,
              "#fb9f3a"
             ],
             [
              0.8888888888888888,
              "#fdca26"
             ],
             [
              1,
              "#f0f921"
             ]
            ],
            "type": "histogram2dcontour"
           }
          ],
          "mesh3d": [
           {
            "colorbar": {
             "outlinewidth": 0,
             "ticks": ""
            },
            "type": "mesh3d"
           }
          ],
          "parcoords": [
           {
            "line": {
             "colorbar": {
              "outlinewidth": 0,
              "ticks": ""
             }
            },
            "type": "parcoords"
           }
          ],
          "pie": [
           {
            "automargin": true,
            "type": "pie"
           }
          ],
          "scatter": [
           {
            "fillpattern": {
             "fillmode": "overlay",
             "size": 10,
             "solidity": 0.2
            },
            "type": "scatter"
           }
          ],
          "scatter3d": [
           {
            "line": {
             "colorbar": {
              "outlinewidth": 0,
              "ticks": ""
             }
            },
            "marker": {
             "colorbar": {
              "outlinewidth": 0,
              "ticks": ""
             }
            },
            "type": "scatter3d"
           }
          ],
          "scattercarpet": [
           {
            "marker": {
             "colorbar": {
              "outlinewidth": 0,
              "ticks": ""
             }
            },
            "type": "scattercarpet"
           }
          ],
          "scattergeo": [
           {
            "marker": {
             "colorbar": {
              "outlinewidth": 0,
              "ticks": ""
             }
            },
            "type": "scattergeo"
           }
          ],
          "scattergl": [
           {
            "marker": {
             "colorbar": {
              "outlinewidth": 0,
              "ticks": ""
             }
            },
            "type": "scattergl"
           }
          ],
          "scattermap": [
           {
            "marker": {
             "colorbar": {
              "outlinewidth": 0,
              "ticks": ""
             }
            },
            "type": "scattermap"
           }
          ],
          "scattermapbox": [
           {
            "marker": {
             "colorbar": {
              "outlinewidth": 0,
              "ticks": ""
             }
            },
            "type": "scattermapbox"
           }
          ],
          "scatterpolar": [
           {
            "marker": {
             "colorbar": {
              "outlinewidth": 0,
              "ticks": ""
             }
            },
            "type": "scatterpolar"
           }
          ],
          "scatterpolargl": [
           {
            "marker": {
             "colorbar": {
              "outlinewidth": 0,
              "ticks": ""
             }
            },
            "type": "scatterpolargl"
           }
          ],
          "scatterternary": [
           {
            "marker": {
             "colorbar": {
              "outlinewidth": 0,
              "ticks": ""
             }
            },
            "type": "scatterternary"
           }
          ],
          "surface": [
           {
            "colorbar": {
             "outlinewidth": 0,
             "ticks": ""
            },
            "colorscale": [
             [
              0,
              "#0d0887"
             ],
             [
              0.1111111111111111,
              "#46039f"
             ],
             [
              0.2222222222222222,
              "#7201a8"
             ],
             [
              0.3333333333333333,
              "#9c179e"
             ],
             [
              0.4444444444444444,
              "#bd3786"
             ],
             [
              0.5555555555555556,
              "#d8576b"
             ],
             [
              0.6666666666666666,
              "#ed7953"
             ],
             [
              0.7777777777777778,
              "#fb9f3a"
             ],
             [
              0.8888888888888888,
              "#fdca26"
             ],
             [
              1,
              "#f0f921"
             ]
            ],
            "type": "surface"
           }
          ],
          "table": [
           {
            "cells": {
             "fill": {
              "color": "#EBF0F8"
             },
             "line": {
              "color": "white"
             }
            },
            "header": {
             "fill": {
              "color": "#C8D4E3"
             },
             "line": {
              "color": "white"
             }
            },
            "type": "table"
           }
          ]
         },
         "layout": {
          "annotationdefaults": {
           "arrowcolor": "#2a3f5f",
           "arrowhead": 0,
           "arrowwidth": 1
          },
          "autotypenumbers": "strict",
          "coloraxis": {
           "colorbar": {
            "outlinewidth": 0,
            "ticks": ""
           }
          },
          "colorscale": {
           "diverging": [
            [
             0,
             "#8e0152"
            ],
            [
             0.1,
             "#c51b7d"
            ],
            [
             0.2,
             "#de77ae"
            ],
            [
             0.3,
             "#f1b6da"
            ],
            [
             0.4,
             "#fde0ef"
            ],
            [
             0.5,
             "#f7f7f7"
            ],
            [
             0.6,
             "#e6f5d0"
            ],
            [
             0.7,
             "#b8e186"
            ],
            [
             0.8,
             "#7fbc41"
            ],
            [
             0.9,
             "#4d9221"
            ],
            [
             1,
             "#276419"
            ]
           ],
           "sequential": [
            [
             0,
             "#0d0887"
            ],
            [
             0.1111111111111111,
             "#46039f"
            ],
            [
             0.2222222222222222,
             "#7201a8"
            ],
            [
             0.3333333333333333,
             "#9c179e"
            ],
            [
             0.4444444444444444,
             "#bd3786"
            ],
            [
             0.5555555555555556,
             "#d8576b"
            ],
            [
             0.6666666666666666,
             "#ed7953"
            ],
            [
             0.7777777777777778,
             "#fb9f3a"
            ],
            [
             0.8888888888888888,
             "#fdca26"
            ],
            [
             1,
             "#f0f921"
            ]
           ],
           "sequentialminus": [
            [
             0,
             "#0d0887"
            ],
            [
             0.1111111111111111,
             "#46039f"
            ],
            [
             0.2222222222222222,
             "#7201a8"
            ],
            [
             0.3333333333333333,
             "#9c179e"
            ],
            [
             0.4444444444444444,
             "#bd3786"
            ],
            [
             0.5555555555555556,
             "#d8576b"
            ],
            [
             0.6666666666666666,
             "#ed7953"
            ],
            [
             0.7777777777777778,
             "#fb9f3a"
            ],
            [
             0.8888888888888888,
             "#fdca26"
            ],
            [
             1,
             "#f0f921"
            ]
           ]
          },
          "colorway": [
           "#636efa",
           "#EF553B",
           "#00cc96",
           "#ab63fa",
           "#FFA15A",
           "#19d3f3",
           "#FF6692",
           "#B6E880",
           "#FF97FF",
           "#FECB52"
          ],
          "font": {
           "color": "#2a3f5f"
          },
          "geo": {
           "bgcolor": "white",
           "lakecolor": "white",
           "landcolor": "#E5ECF6",
           "showlakes": true,
           "showland": true,
           "subunitcolor": "white"
          },
          "hoverlabel": {
           "align": "left"
          },
          "hovermode": "closest",
          "mapbox": {
           "style": "light"
          },
          "paper_bgcolor": "white",
          "plot_bgcolor": "#E5ECF6",
          "polar": {
           "angularaxis": {
            "gridcolor": "white",
            "linecolor": "white",
            "ticks": ""
           },
           "bgcolor": "#E5ECF6",
           "radialaxis": {
            "gridcolor": "white",
            "linecolor": "white",
            "ticks": ""
           }
          },
          "scene": {
           "xaxis": {
            "backgroundcolor": "#E5ECF6",
            "gridcolor": "white",
            "gridwidth": 2,
            "linecolor": "white",
            "showbackground": true,
            "ticks": "",
            "zerolinecolor": "white"
           },
           "yaxis": {
            "backgroundcolor": "#E5ECF6",
            "gridcolor": "white",
            "gridwidth": 2,
            "linecolor": "white",
            "showbackground": true,
            "ticks": "",
            "zerolinecolor": "white"
           },
           "zaxis": {
            "backgroundcolor": "#E5ECF6",
            "gridcolor": "white",
            "gridwidth": 2,
            "linecolor": "white",
            "showbackground": true,
            "ticks": "",
            "zerolinecolor": "white"
           }
          },
          "shapedefaults": {
           "line": {
            "color": "#2a3f5f"
           }
          },
          "ternary": {
           "aaxis": {
            "gridcolor": "white",
            "linecolor": "white",
            "ticks": ""
           },
           "baxis": {
            "gridcolor": "white",
            "linecolor": "white",
            "ticks": ""
           },
           "bgcolor": "#E5ECF6",
           "caxis": {
            "gridcolor": "white",
            "linecolor": "white",
            "ticks": ""
           }
          },
          "title": {
           "x": 0.05
          },
          "xaxis": {
           "automargin": true,
           "gridcolor": "white",
           "linecolor": "white",
           "ticks": "",
           "title": {
            "standoff": 15
           },
           "zerolinecolor": "white",
           "zerolinewidth": 2
          },
          "yaxis": {
           "automargin": true,
           "gridcolor": "white",
           "linecolor": "white",
           "ticks": "",
           "title": {
            "standoff": 15
           },
           "zerolinecolor": "white",
           "zerolinewidth": 2
          }
         }
        },
        "title": {
         "text": "Porównanie cen mieszkań w miastach Polski (rynek pierwotny, transakcyjne) - 2025 Qq"
        },
        "xaxis": {
         "anchor": "y",
         "domain": [
          0,
          1
         ],
         "tickangle": -45,
         "title": {
          "text": "Miasto"
         }
        },
        "yaxis": {
         "anchor": "x",
         "domain": [
          0,
          1
         ],
         "title": {
          "text": "Cena PLN/m²"
         }
        }
       }
      }
     },
     "metadata": {},
     "output_type": "display_data"
    }
   ],
   "source": [
    "# Komórka 6: Interaktywne wizualizacje dla danych w nowym formacie\n",
    "\n",
    "def utworz_wykres_czasowy_interaktywny(df):\n",
    "    \"\"\"\n",
    "    Tworzy interaktywny wykres czasowy cen mieszkań\n",
    "    \"\"\"\n",
    "    print(\"📊 Tworzenie interaktywnego wykresu czasowego...\")\n",
    "    \n",
    "    fig = make_subplots(\n",
    "        rows=3, cols=1,\n",
    "        subplot_titles=(\n",
    "            'Ceny Mieszkań w Głównych Miastach Polski',\n",
    "            'Wskaźniki Ekonomiczne',\n",
    "            'Dynamika Zmian Cen (%) rok do roku'\n",
    "        ),\n",
    "        vertical_spacing=0.08,\n",
    "        specs=[[{\"secondary_y\": False}],\n",
    "               [{\"secondary_y\": True}],\n",
    "               [{\"secondary_y\": False}]]\n",
    "    )\n",
    "    \n",
    "    # Kolory dla różnych miast\n",
    "    kolory_miast = {\n",
    "        'Warszawa': '#E41A1C',\n",
    "        'Kraków': '#377EB8',\n",
    "        'Wrocław': '#4DAF4A',\n",
    "        'Poznań': '#984EA3', \n",
    "        'Gdańsk': '#FF7F00',\n",
    "        'Łódź': '#FFFF33'\n",
    "    }\n",
    "    \n",
    "    # 1. Dodaj linie cen mieszkań dla głównych miast (wykres 1)\n",
    "    glowne_miasta = ['Warszawa', 'Kraków', 'Wrocław', 'Poznań', 'Gdańsk', 'Łódź']\n",
    "    \n",
    "    # Filtruj dane tylko dla transakcyjnych cen (mniej linii = czytelniejszy wykres)\n",
    "    for miasto in glowne_miasta:\n",
    "        for rynek in ['pierwotny', 'wtórny']:\n",
    "            # Używamy tylko cen transakcyjnych dla przejrzystości\n",
    "            mask = (df['miasto'] == miasto) & (df['rynek'] == rynek) & (df['typ_ceny'] == 'transakcyjna')\n",
    "            dane_segmentu = df[mask].sort_values('Data')\n",
    "            \n",
    "            if len(dane_segmentu) > 5:  # Minimum 5 punktów dla sensownej linii\n",
    "                kolor = kolory_miast.get(miasto, '#333333')\n",
    "                dash = 'solid' if rynek == 'pierwotny' else 'dash'\n",
    "                \n",
    "                fig.add_trace(\n",
    "                    go.Scatter(\n",
    "                        x=dane_segmentu['Data'],\n",
    "                        y=dane_segmentu['cena_m2'],\n",
    "                        mode='lines+markers',\n",
    "                        name=f'{miasto} - {rynek}',\n",
    "                        line=dict(color=kolor, width=2, dash=dash),\n",
    "                        marker=dict(size=5),\n",
    "                        hovertemplate='<b>%{fullData.name}</b><br>' +\n",
    "                                     'Data: %{x}<br>' +\n",
    "                                     'Cena: %{y:,.0f} PLN/m²<extra></extra>'\n",
    "                    ),\n",
    "                    row=1, col=1\n",
    "                )\n",
    "    \n",
    "    # 2. Dodaj wskaźniki ekonomiczne (wykres 2)\n",
    "    # Usuń duplikaty dat dla wskaźników ekonomicznych\n",
    "    dane_ekonomiczne = df.drop_duplicates('Data').sort_values('Data')\n",
    "    \n",
    "    fig.add_trace(\n",
    "        go.Scatter(\n",
    "            x=dane_ekonomiczne['Data'],\n",
    "            y=dane_ekonomiczne['CPI_Y2Y'],\n",
    "            mode='lines+markers',\n",
    "            name='Inflacja CPI (Y/Y %)',\n",
    "            line=dict(color='red', width=2),\n",
    "            marker=dict(size=4)\n",
    "        ),\n",
    "        row=2, col=1\n",
    "    )\n",
    "    \n",
    "    fig.add_trace(\n",
    "        go.Scatter(\n",
    "            x=dane_ekonomiczne['Data'],\n",
    "            y=dane_ekonomiczne['WIBOR'],\n",
    "            mode='lines+markers', \n",
    "            name='WIBOR 3M (%)',\n",
    "            line=dict(color='blue', width=2),\n",
    "            marker=dict(size=4)\n",
    "        ),\n",
    "        row=2, col=1,\n",
    "        secondary_y=True\n",
    "    )\n",
    "    \n",
    "    # 3. Dodaj dynamikę zmian YoY (wykres 3)\n",
    "    for miasto in ['Warszawa', 'Kraków', 'Wrocław']:\n",
    "        # Tylko dla rynku pierwotnego, transakcyjne\n",
    "        mask = (df['miasto'] == miasto) & (df['rynek'] == 'pierwotny') & (df['typ_ceny'] == 'transakcyjna')\n",
    "        dane_segmentu = df[mask].dropna(subset=['cena_yoy']).sort_values('Data')\n",
    "        \n",
    "        if len(dane_segmentu) > 5:\n",
    "            fig.add_trace(\n",
    "                go.Scatter(\n",
    "                    x=dane_segmentu['Data'],\n",
    "                    y=dane_segmentu['cena_yoy'],\n",
    "                    mode='lines+markers',\n",
    "                    name=f'{miasto} - YoY %',\n",
    "                    line=dict(color=kolory_miast[miasto], width=2),\n",
    "                    marker=dict(size=4),\n",
    "                    hovertemplate='<b>%{fullData.name}</b><br>' +\n",
    "                                 'Data: %{x}<br>' +\n",
    "                                 'Zmiana: %{y:.1f}%<extra></extra>'\n",
    "                ),\n",
    "                row=3, col=1\n",
    "            )\n",
    "    \n",
    "    # Dodaj linię zero dla zmian YoY\n",
    "    min_date = df['Data'].min()\n",
    "    max_date = df['Data'].max()\n",
    "    fig.add_trace(\n",
    "        go.Scatter(\n",
    "            x=[min_date, max_date],\n",
    "            y=[0, 0],\n",
    "            mode='lines',\n",
    "            line=dict(color='black', width=1, dash='dot'),\n",
    "            showlegend=False\n",
    "        ),\n",
    "        row=3, col=1\n",
    "    )\n",
    "    \n",
    "    # Aktualizacja layoutu\n",
    "    fig.update_layout(\n",
    "        height=900,\n",
    "        title_text=\"Analiza Polskiego Rynku Nieruchomości\",\n",
    "        title_x=0.5,\n",
    "        legend=dict(\n",
    "            orientation=\"h\",\n",
    "            yanchor=\"bottom\",\n",
    "            y=1.02,\n",
    "            xanchor=\"center\",\n",
    "            x=0.5\n",
    "        ),\n",
    "        hovermode='x unified'\n",
    "    )\n",
    "    \n",
    "    # Aktualizacja osi Y\n",
    "    fig.update_yaxes(title_text=\"Cena PLN/m²\", row=1, col=1)\n",
    "    fig.update_yaxes(title_text=\"Inflacja CPI (%)\", row=2, col=1)\n",
    "    fig.update_yaxes(title_text=\"WIBOR 3M (%)\", secondary_y=True, row=2, col=1)\n",
    "    fig.update_yaxes(title_text=\"Zmiana rok do roku (%)\", row=3, col=1)\n",
    "    \n",
    "    # Aktualizacja osi X\n",
    "    fig.update_xaxes(title_text=\"Data\", row=3, col=1)\n",
    "    \n",
    "    # Dodaj selektor zakresu dat\n",
    "    fig.update_layout(\n",
    "        xaxis=dict(\n",
    "            rangeselector=dict(\n",
    "                buttons=list([\n",
    "                    dict(count=1, label=\"1y\", step=\"year\", stepmode=\"backward\"),\n",
    "                    dict(count=3, label=\"3y\", step=\"year\", stepmode=\"backward\"),\n",
    "                    dict(count=5, label=\"5y\", step=\"year\", stepmode=\"backward\"),\n",
    "                    dict(step=\"all\")\n",
    "                ])\n",
    "            ),\n",
    "            rangeslider=dict(visible=True),\n",
    "            type=\"date\"\n",
    "        )\n",
    "    )\n",
    "    \n",
    "    return fig\n",
    "\n",
    "def utworz_dashboard_analityczny(df):\n",
    "    \"\"\"\n",
    "    Tworzy dashboard z wieloma wykresami analitycznymi\n",
    "    \"\"\"\n",
    "    print(\"📊 Tworzenie dashboardu analitycznego...\")\n",
    "    \n",
    "    fig = make_subplots(\n",
    "        rows=2, cols=2,\n",
    "        subplot_titles=(\n",
    "            'Porównanie Cen: Warszawa vs Kraków',\n",
    "            'Rozkład Cen Mieszkań w Głównych Miastach',\n",
    "            'Ceny vs Inflacja CPI',\n",
    "            'Ceny vs WIBOR 3M'\n",
    "        ),\n",
    "        specs=[[{\"type\": \"scatter\"}, {\"type\": \"histogram\"}],\n",
    "               [{\"type\": \"scatter\"}, {\"type\": \"scatter\"}]]\n",
    "    )\n",
    "    \n",
    "    # 1. Porównanie Warszawa vs Kraków (dla różnych rynków)\n",
    "    for rynek in ['pierwotny', 'wtórny']:\n",
    "        for typ_ceny in ['transakcyjna']:\n",
    "            warszawa = df[(df['miasto'] == 'Warszawa') & (df['rynek'] == rynek) & (df['typ_ceny'] == typ_ceny)]\n",
    "            krakow = df[(df['miasto'] == 'Kraków') & (df['rynek'] == rynek) & (df['typ_ceny'] == typ_ceny)]\n",
    "            \n",
    "            # Połącz dane Warszawy i Krakowa po dacie\n",
    "            if len(warszawa) > 0 and len(krakow) > 0:\n",
    "                porownanie = pd.merge(\n",
    "                    warszawa[['Data', 'cena_m2']].rename(columns={'cena_m2': 'cena_warszawa'}),\n",
    "                    krakow[['Data', 'cena_m2']].rename(columns={'cena_m2': 'cena_krakow'}),\n",
    "                    on='Data', how='inner'\n",
    "                )\n",
    "                \n",
    "                if len(porownanie) > 0:\n",
    "                    fig.add_trace(\n",
    "                        go.Scatter(\n",
    "                            x=porownanie['cena_warszawa'],\n",
    "                            y=porownanie['cena_krakow'],\n",
    "                            mode='markers',\n",
    "                            name=f'Rynek {rynek}',\n",
    "                            marker=dict(\n",
    "                                size=8, \n",
    "                                opacity=0.7,\n",
    "                                color=porownanie['Data'].astype(int),\n",
    "                                colorscale='Viridis',\n",
    "                                showscale=True,\n",
    "                                colorbar=dict(title=\"Data\")\n",
    "                            ),\n",
    "                            text=porownanie['Data'].dt.strftime('%Y-%m'),\n",
    "                            hovertemplate='Data: %{text}<br>Warszawa: %{x:,.0f} PLN/m²<br>Kraków: %{y:,.0f} PLN/m²<extra></extra>'\n",
    "                        ),\n",
    "                        row=1, col=1\n",
    "                    )\n",
    "    \n",
    "    # Dodaj linię y=x dla porównania\n",
    "    min_cena = df['cena_m2'].min()\n",
    "    max_cena = df['cena_m2'].max()\n",
    "    fig.add_trace(\n",
    "        go.Scatter(\n",
    "            x=[min_cena, max_cena],\n",
    "            y=[min_cena, max_cena],\n",
    "            mode='lines',\n",
    "            name='y = x',\n",
    "            line=dict(dash='dash', color='gray'),\n",
    "            showlegend=False\n",
    "        ),\n",
    "        row=1, col=1\n",
    "    )\n",
    "    \n",
    "    # 2. Histogram rozkładu cen dla głównych miast\n",
    "    for miasto in ['Warszawa', 'Kraków', 'Wrocław', 'Poznań']:\n",
    "        # Filtruj tylko transakcyjne ceny na rynku pierwotnym dla czytelności\n",
    "        dane_miasta = df[(df['miasto'] == miasto) & (df['rynek'] == 'pierwotny') & (df['typ_ceny'] == 'transakcyjna')]['cena_m2']\n",
    "        \n",
    "        if len(dane_miasta) > 0:\n",
    "            fig.add_trace(\n",
    "                go.Histogram(\n",
    "                    x=dane_miasta,\n",
    "                    name=miasto,\n",
    "                    opacity=0.7,\n",
    "                    nbinsx=20\n",
    "                ),\n",
    "                row=1, col=2\n",
    "            )\n",
    "    \n",
    "    # 3. Ceny vs Inflacja\n",
    "    # Użyj tylko Warszawy dla przejrzystości i jednego typu cen\n",
    "    warszawa_ceny = df[(df['miasto'] == 'Warszawa') & (df['rynek'] == 'pierwotny') & (df['typ_ceny'] == 'transakcyjna')]\n",
    "    \n",
    "    fig.add_trace(\n",
    "        go.Scatter(\n",
    "            x=warszawa_ceny['CPI_Y2Y'],\n",
    "            y=warszawa_ceny['cena_m2'],\n",
    "            mode='markers',\n",
    "            name='Warszawa vs CPI',\n",
    "            marker=dict(\n",
    "                color=warszawa_ceny['rok'], \n",
    "                colorscale='Viridis',\n",
    "                size=8,\n",
    "                opacity=0.7\n",
    "            ),\n",
    "            text=warszawa_ceny['Data'].dt.strftime('%Y-%m'),\n",
    "            hovertemplate='Data: %{text}<br>Inflacja: %{x:.1f}%<br>Cena: %{y:,.0f} PLN/m²<extra></extra>'\n",
    "        ),\n",
    "        row=2, col=1\n",
    "    )\n",
    "    \n",
    "    # 4. Ceny vs WIBOR\n",
    "    fig.add_trace(\n",
    "        go.Scatter(\n",
    "            x=warszawa_ceny['WIBOR'],\n",
    "            y=warszawa_ceny['cena_m2'],\n",
    "            mode='markers',\n",
    "            name='Warszawa vs WIBOR',\n",
    "            marker=dict(\n",
    "                color=warszawa_ceny['rok'], \n",
    "                colorscale='Plasma',\n",
    "                size=8,\n",
    "                opacity=0.7\n",
    "            ),\n",
    "            text=warszawa_ceny['Data'].dt.strftime('%Y-%m'),\n",
    "            hovertemplate='Data: %{text}<br>WIBOR: %{x:.1f}%<br>Cena: %{y:,.0f} PLN/m²<extra></extra>'\n",
    "        ),\n",
    "        row=2, col=2\n",
    "    )\n",
    "    \n",
    "    # Aktualizacja layoutu\n",
    "    fig.update_layout(\n",
    "        height=800,\n",
    "        title_text=\"Dashboard Analityczny - Polski Rynek Nieruchomości\",\n",
    "        title_x=0.5,\n",
    "        showlegend=True,\n",
    "        legend=dict(\n",
    "            orientation=\"h\",\n",
    "            yanchor=\"bottom\",\n",
    "            y=1.02,\n",
    "            xanchor=\"center\",\n",
    "            x=0.5\n",
    "        )\n",
    "    )\n",
    "    \n",
    "    # Aktualizacja etykiet osi\n",
    "    fig.update_xaxes(title_text=\"Cena Warszawa (PLN/m²)\", row=1, col=1)\n",
    "    fig.update_yaxes(title_text=\"Cena Kraków (PLN/m²)\", row=1, col=1)\n",
    "    \n",
    "    fig.update_xaxes(title_text=\"Cena (PLN/m²)\", row=1, col=2)\n",
    "    fig.update_yaxes(title_text=\"Częstość\", row=1, col=2)\n",
    "    \n",
    "    fig.update_xaxes(title_text=\"Inflacja CPI (%)\", row=2, col=1)\n",
    "    fig.update_yaxes(title_text=\"Cena (PLN/m²)\", row=2, col=1)\n",
    "    \n",
    "    fig.update_xaxes(title_text=\"WIBOR 3M (%)\", row=2, col=2)\n",
    "    fig.update_yaxes(title_text=\"Cena (PLN/m²)\", row=2, col=2)\n",
    "    \n",
    "    return fig\n",
    "\n",
    "def utworz_mape_cen(df):\n",
    "    \"\"\"\n",
    "    Tworzy wizualizację porównawczą cen w różnych miastach Polski\n",
    "    \"\"\"\n",
    "    print(\"🗺️ Tworzenie porównania cen w miastach...\")\n",
    "    \n",
    "    # Filtrujemy dane dla ostatniego dostępnego kwartału\n",
    "    ostatni_kwartal = df['Data'].max()\n",
    "    df_ostatni = df[df['Data'] == ostatni_kwartal]\n",
    "    \n",
    "    # Tworzymy DataFrame z cenami dla każdego miasta (pierwotny, transakcyjny)\n",
    "    df_miasta = df_ostatni[\n",
    "        (df_ostatni['rynek'] == 'pierwotny') & (df_ostatni['typ_ceny'] == 'transakcyjna')\n",
    "    ].groupby('miasto')['cena_m2'].mean().reset_index()\n",
    "    \n",
    "    # Sortujemy miasta według cen (malejąco)\n",
    "    df_miasta = df_miasta.sort_values('cena_m2', ascending=False)\n",
    "    \n",
    "    # Tworzymy wykres słupkowy\n",
    "    fig = px.bar(\n",
    "        df_miasta,\n",
    "        x='miasto',\n",
    "        y='cena_m2',\n",
    "        title=f'Porównanie cen mieszkań w miastach Polski (rynek pierwotny, transakcyjne) - {ostatni_kwartal.strftime(\"%Y Q%q\")}',\n",
    "        labels={'miasto': 'Miasto', 'cena_m2': 'Cena PLN/m²'},\n",
    "        text_auto='.0f',\n",
    "        color='cena_m2',\n",
    "        color_continuous_scale='Viridis'\n",
    "    )\n",
    "    \n",
    "    fig.update_layout(\n",
    "        height=500,\n",
    "        xaxis_tickangle=-45,\n",
    "        yaxis_title='Cena PLN/m²'\n",
    "    )\n",
    "    \n",
    "    # Dodaj etykiety z cenami nad słupkami\n",
    "    fig.update_traces(\n",
    "        texttemplate='%{text:,.0f} PLN',\n",
    "        textposition='outside'\n",
    "    )\n",
    "    \n",
    "    return fig\n",
    "\n",
    "# Tworzenie wizualizacji\n",
    "if 'df_mieszkania_clean' in locals():\n",
    "    wykres_czasowy = utworz_wykres_czasowy_interaktywny(df_mieszkania_clean)\n",
    "    wykres_czasowy.show()\n",
    "    \n",
    "    dashboard = utworz_dashboard_analityczny(df_mieszkania_clean) \n",
    "    dashboard.show()\n",
    "    \n",
    "    mapa_cen = utworz_mape_cen(df_mieszkania_clean)\n",
    "    mapa_cen.show()\n",
    "else:\n",
    "    print(\"❌ Najpierw wykonaj komórkę z analizą statystyczną, aby utworzyć df_mieszkania_clean\")\n"
   ]
  },
  {
   "cell_type": "markdown",
   "id": "e0da5d97",
   "metadata": {},
   "source": [
    "## Komórka 7: Modele uczenia maszynowego dla danych w nowym formacie\n"
   ]
  },
  {
   "cell_type": "code",
   "execution_count": 9,
   "id": "28995775",
   "metadata": {},
   "outputs": [
    {
     "name": "stdout",
     "output_type": "stream",
     "text": [
      "\n",
      "==================================================\n",
      "ANALIZA DLA MIASTA: Warszawa\n",
      "==================================================\n",
      "🤖 Przygotowywanie danych do modelowania dla miasta Warszawa...\n",
      "📊 Przygotowano 142 próbek z 10 cechami\n",
      "📋 Cechy: ['rok', 'kwartal_num', 'indeks_czasowy', 'CPI_Y2Y', 'WIBOR', 'rynek_encoded', 'rok_kwadrat', 'cena_lag1', 'cena_lag4', 'cena_ma4']\n",
      "🏋️ Trenowanie modeli uczenia maszynowego...\n",
      "📊 Dane treningowe: 113 próbek, testowe: 29 próbek\n",
      "🔧 Trenowanie Linear Regression...\n",
      "✅ Linear Regression - R²: 0.8666, RMSE: 362, MAE: 281, MAPE: 2.10%\n",
      "🔧 Trenowanie Random Forest...\n",
      "✅ Random Forest - R²: -4.9333, RMSE: 2411, MAE: 2189, MAPE: 15.94%\n",
      "🔧 Trenowanie Gradient Boosting...\n",
      "✅ Gradient Boosting - R²: -3.3544, RMSE: 2066, MAE: 1839, MAPE: 13.34%\n",
      "📊 Tworzenie wizualizacji porównania modeli...\n"
     ]
    },
    {
     "data": {
      "application/vnd.plotly.v1+json": {
       "config": {
        "plotlyServerURL": "https://plot.ly"
       },
       "data": [
        {
         "marker": {
          "color": "blue",
          "opacity": 0.7,
          "size": 6
         },
         "mode": "markers",
         "name": "Linear Regression",
         "type": "scatter",
         "x": {
          "bdata": "aPuTNO5+xUB0e1Sf+7HGQBe2+m9NIsdAyul9Ybztx0BDAx7IVC7IQJL8pugW1chA7QtNibQbyEDStibPQjrJQDuc6d5C28hA1X3Qoe9wyUDeDehk+hHJQEACHnKuhslA+Tx/0w8DyUCJDJRbqcrJQEoOtlPdvclAxwturrThykBENqsi5v7KQEQ2qyLm/spA27/s+mSwy0DA92XmluHMQEQ2qyLm/spAwPdl5pbhzEBENqsi5v7KQMD3ZeaW4cxARDarIub+ykDA92XmluHMQEQ2qyLm/spARDarIub+ykDA92XmluHMQA==",
          "dtype": "f8"
         },
         "xaxis": "x",
         "y": {
          "bdata": "jASegZWMxUCGhf5nQVTGQIbuGSTd+8ZAlq2YmHGax0AqlFU0Cf3GQNc6AMi8BshAPL64/oOZx0DMhIUARUnIQJ5LwoPgKshAUHRJ1crRyEDkv9yhq4bIQDJoJ68dZ8lAfBCRtEm4yECEwq/R7mXJQPXhxr2GKMlA0q+y5IuyyUAafPYpdHrJQGiOMlmKAMpA/jaTtO9SykCq8TCdjnfLQKiBaWOY18pARKdS4xw5zECk3LCaswnLQKsqsS8cmsxATByFQEvOykCukMuMeMbMQGia+Oqt1spAxrC4nrE/y0Bs98SIDOTMQA==",
          "dtype": "f8"
         },
         "yaxis": "y"
        },
        {
         "marker": {
          "color": "green",
          "opacity": 0.7,
          "size": 6
         },
         "mode": "markers",
         "name": "Random Forest",
         "type": "scatter",
         "x": {
          "bdata": "aPuTNO5+xUB0e1Sf+7HGQBe2+m9NIsdAyul9Ybztx0BDAx7IVC7IQJL8pugW1chA7QtNibQbyEDStibPQjrJQDuc6d5C28hA1X3Qoe9wyUDeDehk+hHJQEACHnKuhslA+Tx/0w8DyUCJDJRbqcrJQEoOtlPdvclAxwturrThykBENqsi5v7KQEQ2qyLm/spA27/s+mSwy0DA92XmluHMQEQ2qyLm/spAwPdl5pbhzEBENqsi5v7KQMD3ZeaW4cxARDarIub+ykDA92XmluHMQEQ2qyLm/spARDarIub+ykDA92XmluHMQA==",
          "dtype": "f8"
         },
         "xaxis": "x",
         "y": {
          "bdata": "spJzwT19xUC8qT9I1fbFQOCdTKc3H8ZAgxgATS3MxUA6EAH1fMnFQG4MIGAcy8VAJQQhCGzIxUC7EP+XQMjFQBRv9ux6xsVAuxD/l0DIxUAUb/bsesbFQIMYAE0tzMVAOhAB9XzJxUBuDCBgHMvFQCUEIQhsyMVAuxD/l0DIxUAUb/bsesbFQBRv9ux6xsVAuxD/l0DIxUCmlefCKq/FQF+N6Gp6rMVAJNAXks+wxUDcxxg6H67FQLQja5nHr8VAD4Ji7gGuxUCMdn9sqK/FQObUdsHircVACGgp3OexxUBPcCg0mLTFQA==",
          "dtype": "f8"
         },
         "yaxis": "y"
        },
        {
         "marker": {
          "color": "red",
          "opacity": 0.7,
          "size": 6
         },
         "mode": "markers",
         "name": "Gradient Boosting",
         "type": "scatter",
         "x": {
          "bdata": "aPuTNO5+xUB0e1Sf+7HGQBe2+m9NIsdAyul9Ybztx0BDAx7IVC7IQJL8pugW1chA7QtNibQbyEDStibPQjrJQDuc6d5C28hA1X3Qoe9wyUDeDehk+hHJQEACHnKuhslA+Tx/0w8DyUCJDJRbqcrJQEoOtlPdvclAxwturrThykBENqsi5v7KQEQ2qyLm/spA27/s+mSwy0DA92XmluHMQEQ2qyLm/spAwPdl5pbhzEBENqsi5v7KQMD3ZeaW4cxARDarIub+ykDA92XmluHMQEQ2qyLm/spARDarIub+ykDA92XmluHMQA==",
          "dtype": "f8"
         },
         "xaxis": "x",
         "y": {
          "bdata": "q2vqH9bfxUA/2Ah9eGTGQD2CQhEzn8ZAJHmge09yxkCo3UMCDHLGQCwXz/etasZAGJ5g9+xpxkBkTcI16pfGQLqkHgAklsZAuGtWoxKYxkAaLH+pppXGQKMFTPZta8ZArSn5vk5qxkDiasA2vmvGQDbCHAH4acZAZE3CNeqXxkC6pB4AJJbGQHgSyS2zmMZAFlKgJx+bxkAirQf/+GLGQC3RtMfZYcZA5Q727oJjxkCb8PMZKGHGQJzPNTD1kMZAZHGT9HSPxkDu7cmdHZHGQFKu8qOxjsZA46tsuVljxkDbh7/weGTGQA==",
          "dtype": "f8"
         },
         "yaxis": "y"
        },
        {
         "line": {
          "color": "gray",
          "dash": "dash"
         },
         "mode": "lines",
         "name": "Idealna predykcja",
         "showlegend": false,
         "type": "scatter",
         "x": [
          10627.729186890541,
          15165.310698862831
         ],
         "xaxis": "x",
         "y": [
          10627.729186890541,
          15165.310698862831
         ],
         "yaxis": "y"
        },
        {
         "name": "R²",
         "showlegend": true,
         "type": "bar",
         "x": [
          "Linear Regression",
          "Random Forest",
          "Gradient Boosting"
         ],
         "xaxis": "x2",
         "y": [
          0.8665785994490622,
          -4.933262507881595,
          -3.354426520927186
         ],
         "yaxis": "y2"
        },
        {
         "name": "RMSE",
         "showlegend": true,
         "type": "bar",
         "x": [
          "Linear Regression",
          "Random Forest",
          "Gradient Boosting"
         ],
         "xaxis": "x2",
         "y": [
          361.5743939334873,
          2411.191483577833,
          2065.6198696525585
         ],
         "yaxis": "y2"
        },
        {
         "name": "MAE",
         "showlegend": true,
         "type": "bar",
         "x": [
          "Linear Regression",
          "Random Forest",
          "Gradient Boosting"
         ],
         "xaxis": "x2",
         "y": [
          280.9582957685274,
          2189.2480592138168,
          1838.8842995155862
         ],
         "yaxis": "y2"
        },
        {
         "name": "MAPE",
         "showlegend": true,
         "type": "bar",
         "x": [
          "Linear Regression",
          "Random Forest",
          "Gradient Boosting"
         ],
         "xaxis": "x2",
         "y": [
          2.0980706880290247,
          15.936683573616484,
          13.341166866243622
         ],
         "yaxis": "y2"
        },
        {
         "marker": {
          "color": "blue"
         },
         "name": "Linear Regression",
         "showlegend": false,
         "type": "box",
         "xaxis": "x3",
         "y": {
          "bdata": "AEgSFJpOO8CAe33VjW5nQIDIY/AlOFNAAA1PObLSZECQ8YY8uRSDQGA32BREy3lAILaJUhFGcEDAQCbUuR9+QKAT6mRLDHZAoDDhkJnkc0BAv2lh2GlxQAAOmvbCkE9AQB+Lu4exYkBAgRJ5oi5pQKCK5b3SqnJAUL+1m4zygkCgokuLH0eIQID7FC95y39A0I2YZVTXhUBgYVCThKCGQABO2qDfplNAgA9qYkAPdUAAwEwL8Jo1wEBFM62t3mFAAPwME3FNWEAAEmeaWR5LQADuTdkbHFRAgKBeA98yYMAAYP33Eq0TwA==",
          "dtype": "f8"
         },
         "yaxis": "y3"
        },
        {
         "marker": {
          "color": "green"
         },
         "name": "Random Forest",
         "showlegend": false,
         "type": "box",
         "xaxis": "x3",
         "y": {
          "bdata": "AGCLBjIHC0AAN5riymR3QHCD4YpcMYBAOIruo3gMkUBImOeYviaTQCCBN0TUT5hAQD5gCUSakkC4MD25EZCbQDhpmY8/pphA0GiLTnhFnUBQ9oy/+1uaQOhN7ygJ1J1A+GXx85bMmUDYAKDbZ/yfQChRqFyKq59AMOy7WdBlpEDAHNPWrOGkQMAc09as4aRAgLy2i5Ggp0BoiPmNsMmsQJSjCt+uSaVAcJ44UR3DrECguUmiG0OlQDBQ6zM9x6xA1NAi0ZBDpUDQBJrnucesQHiF0YQNRKVA8DgHGvkzpUDEHfbI+rOsQA==",
          "dtype": "f8"
         },
         "yaxis": "y3"
        },
        {
         "marker": {
          "color": "red"
         },
         "name": "Gradient Boosting",
         "showlegend": false,
         "type": "box",
         "xaxis": "x3",
         "y": {
          "bdata": "wBCc1fo5aMBAzeiSyGBjQEB7BtdLY3BAYArXXc62h0CwWaJdjMSLQDArv4ZHU5NAUN3GHnkci0BwSyPLxBKVQAi8V/b2KJJA6JDQ8+fGlkAgDkfbneKTQOjkj94D2phAYJowpAjGlEA4DZ0mWfeaQKBgypQqn5pAjPmu4iknoUAoRjKKCKOhQDCPiNPLmKFAFLcxTRdVpEB4Knmdd/qpQFyU2WsxdKJAbKO/3U/4qUCkFt0i+HaiQJCgwNiGQqlAgBNfuMS9oUBIJ3Ai5UGpQMgf4vrRwKFAhCn6pDFuokCUv5nWd/SpQA==",
          "dtype": "f8"
         },
         "yaxis": "y3"
        },
        {
         "marker": {
          "color": "lightgreen"
         },
         "orientation": "h",
         "showlegend": false,
         "type": "bar",
         "x": [
          0.4072925319860767,
          0.29126660766271284,
          0.1898097740155866,
          0.052889992298526964,
          0.020240042033858804,
          0.016976297153256714,
          0.013611635438283911,
          0.0041111996386675904,
          0.003156232666911037,
          0.000645687106118981
         ],
         "xaxis": "x4",
         "y": [
          "cena_lag1",
          "cena_ma4",
          "indeks_czasowy",
          "rok",
          "cena_lag4",
          "rok_kwadrat",
          "WIBOR",
          "CPI_Y2Y",
          "kwartal_num",
          "rynek_encoded"
         ],
         "yaxis": "y4"
        }
       ],
       "layout": {
        "annotations": [
         {
          "font": {
           "size": 16
          },
          "showarrow": false,
          "text": "Porównanie Predykcji vs Rzeczywiste",
          "x": 0.225,
          "xanchor": "center",
          "xref": "paper",
          "y": 1,
          "yanchor": "bottom",
          "yref": "paper"
         },
         {
          "font": {
           "size": 16
          },
          "showarrow": false,
          "text": "Metryki Wydajności Modeli",
          "x": 0.775,
          "xanchor": "center",
          "xref": "paper",
          "y": 1,
          "yanchor": "bottom",
          "yref": "paper"
         },
         {
          "font": {
           "size": 16
          },
          "showarrow": false,
          "text": "Błędy Predykcji (Residuals)",
          "x": 0.225,
          "xanchor": "center",
          "xref": "paper",
          "y": 0.375,
          "yanchor": "bottom",
          "yref": "paper"
         },
         {
          "font": {
           "size": 16
          },
          "showarrow": false,
          "text": "Ważność Cech (Random Forest)",
          "x": 0.775,
          "xanchor": "center",
          "xref": "paper",
          "y": 0.375,
          "yanchor": "bottom",
          "yref": "paper"
         }
        ],
        "height": 800,
        "legend": {
         "orientation": "h",
         "x": 0.5,
         "xanchor": "center",
         "y": 1.02,
         "yanchor": "bottom"
        },
        "template": {
         "data": {
          "bar": [
           {
            "error_x": {
             "color": "#2a3f5f"
            },
            "error_y": {
             "color": "#2a3f5f"
            },
            "marker": {
             "line": {
              "color": "#E5ECF6",
              "width": 0.5
             },
             "pattern": {
              "fillmode": "overlay",
              "size": 10,
              "solidity": 0.2
             }
            },
            "type": "bar"
           }
          ],
          "barpolar": [
           {
            "marker": {
             "line": {
              "color": "#E5ECF6",
              "width": 0.5
             },
             "pattern": {
              "fillmode": "overlay",
              "size": 10,
              "solidity": 0.2
             }
            },
            "type": "barpolar"
           }
          ],
          "carpet": [
           {
            "aaxis": {
             "endlinecolor": "#2a3f5f",
             "gridcolor": "white",
             "linecolor": "white",
             "minorgridcolor": "white",
             "startlinecolor": "#2a3f5f"
            },
            "baxis": {
             "endlinecolor": "#2a3f5f",
             "gridcolor": "white",
             "linecolor": "white",
             "minorgridcolor": "white",
             "startlinecolor": "#2a3f5f"
            },
            "type": "carpet"
           }
          ],
          "choropleth": [
           {
            "colorbar": {
             "outlinewidth": 0,
             "ticks": ""
            },
            "type": "choropleth"
           }
          ],
          "contour": [
           {
            "colorbar": {
             "outlinewidth": 0,
             "ticks": ""
            },
            "colorscale": [
             [
              0,
              "#0d0887"
             ],
             [
              0.1111111111111111,
              "#46039f"
             ],
             [
              0.2222222222222222,
              "#7201a8"
             ],
             [
              0.3333333333333333,
              "#9c179e"
             ],
             [
              0.4444444444444444,
              "#bd3786"
             ],
             [
              0.5555555555555556,
              "#d8576b"
             ],
             [
              0.6666666666666666,
              "#ed7953"
             ],
             [
              0.7777777777777778,
              "#fb9f3a"
             ],
             [
              0.8888888888888888,
              "#fdca26"
             ],
             [
              1,
              "#f0f921"
             ]
            ],
            "type": "contour"
           }
          ],
          "contourcarpet": [
           {
            "colorbar": {
             "outlinewidth": 0,
             "ticks": ""
            },
            "type": "contourcarpet"
           }
          ],
          "heatmap": [
           {
            "colorbar": {
             "outlinewidth": 0,
             "ticks": ""
            },
            "colorscale": [
             [
              0,
              "#0d0887"
             ],
             [
              0.1111111111111111,
              "#46039f"
             ],
             [
              0.2222222222222222,
              "#7201a8"
             ],
             [
              0.3333333333333333,
              "#9c179e"
             ],
             [
              0.4444444444444444,
              "#bd3786"
             ],
             [
              0.5555555555555556,
              "#d8576b"
             ],
             [
              0.6666666666666666,
              "#ed7953"
             ],
             [
              0.7777777777777778,
              "#fb9f3a"
             ],
             [
              0.8888888888888888,
              "#fdca26"
             ],
             [
              1,
              "#f0f921"
             ]
            ],
            "type": "heatmap"
           }
          ],
          "histogram": [
           {
            "marker": {
             "pattern": {
              "fillmode": "overlay",
              "size": 10,
              "solidity": 0.2
             }
            },
            "type": "histogram"
           }
          ],
          "histogram2d": [
           {
            "colorbar": {
             "outlinewidth": 0,
             "ticks": ""
            },
            "colorscale": [
             [
              0,
              "#0d0887"
             ],
             [
              0.1111111111111111,
              "#46039f"
             ],
             [
              0.2222222222222222,
              "#7201a8"
             ],
             [
              0.3333333333333333,
              "#9c179e"
             ],
             [
              0.4444444444444444,
              "#bd3786"
             ],
             [
              0.5555555555555556,
              "#d8576b"
             ],
             [
              0.6666666666666666,
              "#ed7953"
             ],
             [
              0.7777777777777778,
              "#fb9f3a"
             ],
             [
              0.8888888888888888,
              "#fdca26"
             ],
             [
              1,
              "#f0f921"
             ]
            ],
            "type": "histogram2d"
           }
          ],
          "histogram2dcontour": [
           {
            "colorbar": {
             "outlinewidth": 0,
             "ticks": ""
            },
            "colorscale": [
             [
              0,
              "#0d0887"
             ],
             [
              0.1111111111111111,
              "#46039f"
             ],
             [
              0.2222222222222222,
              "#7201a8"
             ],
             [
              0.3333333333333333,
              "#9c179e"
             ],
             [
              0.4444444444444444,
              "#bd3786"
             ],
             [
              0.5555555555555556,
              "#d8576b"
             ],
             [
              0.6666666666666666,
              "#ed7953"
             ],
             [
              0.7777777777777778,
              "#fb9f3a"
             ],
             [
              0.8888888888888888,
              "#fdca26"
             ],
             [
              1,
              "#f0f921"
             ]
            ],
            "type": "histogram2dcontour"
           }
          ],
          "mesh3d": [
           {
            "colorbar": {
             "outlinewidth": 0,
             "ticks": ""
            },
            "type": "mesh3d"
           }
          ],
          "parcoords": [
           {
            "line": {
             "colorbar": {
              "outlinewidth": 0,
              "ticks": ""
             }
            },
            "type": "parcoords"
           }
          ],
          "pie": [
           {
            "automargin": true,
            "type": "pie"
           }
          ],
          "scatter": [
           {
            "fillpattern": {
             "fillmode": "overlay",
             "size": 10,
             "solidity": 0.2
            },
            "type": "scatter"
           }
          ],
          "scatter3d": [
           {
            "line": {
             "colorbar": {
              "outlinewidth": 0,
              "ticks": ""
             }
            },
            "marker": {
             "colorbar": {
              "outlinewidth": 0,
              "ticks": ""
             }
            },
            "type": "scatter3d"
           }
          ],
          "scattercarpet": [
           {
            "marker": {
             "colorbar": {
              "outlinewidth": 0,
              "ticks": ""
             }
            },
            "type": "scattercarpet"
           }
          ],
          "scattergeo": [
           {
            "marker": {
             "colorbar": {
              "outlinewidth": 0,
              "ticks": ""
             }
            },
            "type": "scattergeo"
           }
          ],
          "scattergl": [
           {
            "marker": {
             "colorbar": {
              "outlinewidth": 0,
              "ticks": ""
             }
            },
            "type": "scattergl"
           }
          ],
          "scattermap": [
           {
            "marker": {
             "colorbar": {
              "outlinewidth": 0,
              "ticks": ""
             }
            },
            "type": "scattermap"
           }
          ],
          "scattermapbox": [
           {
            "marker": {
             "colorbar": {
              "outlinewidth": 0,
              "ticks": ""
             }
            },
            "type": "scattermapbox"
           }
          ],
          "scatterpolar": [
           {
            "marker": {
             "colorbar": {
              "outlinewidth": 0,
              "ticks": ""
             }
            },
            "type": "scatterpolar"
           }
          ],
          "scatterpolargl": [
           {
            "marker": {
             "colorbar": {
              "outlinewidth": 0,
              "ticks": ""
             }
            },
            "type": "scatterpolargl"
           }
          ],
          "scatterternary": [
           {
            "marker": {
             "colorbar": {
              "outlinewidth": 0,
              "ticks": ""
             }
            },
            "type": "scatterternary"
           }
          ],
          "surface": [
           {
            "colorbar": {
             "outlinewidth": 0,
             "ticks": ""
            },
            "colorscale": [
             [
              0,
              "#0d0887"
             ],
             [
              0.1111111111111111,
              "#46039f"
             ],
             [
              0.2222222222222222,
              "#7201a8"
             ],
             [
              0.3333333333333333,
              "#9c179e"
             ],
             [
              0.4444444444444444,
              "#bd3786"
             ],
             [
              0.5555555555555556,
              "#d8576b"
             ],
             [
              0.6666666666666666,
              "#ed7953"
             ],
             [
              0.7777777777777778,
              "#fb9f3a"
             ],
             [
              0.8888888888888888,
              "#fdca26"
             ],
             [
              1,
              "#f0f921"
             ]
            ],
            "type": "surface"
           }
          ],
          "table": [
           {
            "cells": {
             "fill": {
              "color": "#EBF0F8"
             },
             "line": {
              "color": "white"
             }
            },
            "header": {
             "fill": {
              "color": "#C8D4E3"
             },
             "line": {
              "color": "white"
             }
            },
            "type": "table"
           }
          ]
         },
         "layout": {
          "annotationdefaults": {
           "arrowcolor": "#2a3f5f",
           "arrowhead": 0,
           "arrowwidth": 1
          },
          "autotypenumbers": "strict",
          "coloraxis": {
           "colorbar": {
            "outlinewidth": 0,
            "ticks": ""
           }
          },
          "colorscale": {
           "diverging": [
            [
             0,
             "#8e0152"
            ],
            [
             0.1,
             "#c51b7d"
            ],
            [
             0.2,
             "#de77ae"
            ],
            [
             0.3,
             "#f1b6da"
            ],
            [
             0.4,
             "#fde0ef"
            ],
            [
             0.5,
             "#f7f7f7"
            ],
            [
             0.6,
             "#e6f5d0"
            ],
            [
             0.7,
             "#b8e186"
            ],
            [
             0.8,
             "#7fbc41"
            ],
            [
             0.9,
             "#4d9221"
            ],
            [
             1,
             "#276419"
            ]
           ],
           "sequential": [
            [
             0,
             "#0d0887"
            ],
            [
             0.1111111111111111,
             "#46039f"
            ],
            [
             0.2222222222222222,
             "#7201a8"
            ],
            [
             0.3333333333333333,
             "#9c179e"
            ],
            [
             0.4444444444444444,
             "#bd3786"
            ],
            [
             0.5555555555555556,
             "#d8576b"
            ],
            [
             0.6666666666666666,
             "#ed7953"
            ],
            [
             0.7777777777777778,
             "#fb9f3a"
            ],
            [
             0.8888888888888888,
             "#fdca26"
            ],
            [
             1,
             "#f0f921"
            ]
           ],
           "sequentialminus": [
            [
             0,
             "#0d0887"
            ],
            [
             0.1111111111111111,
             "#46039f"
            ],
            [
             0.2222222222222222,
             "#7201a8"
            ],
            [
             0.3333333333333333,
             "#9c179e"
            ],
            [
             0.4444444444444444,
             "#bd3786"
            ],
            [
             0.5555555555555556,
             "#d8576b"
            ],
            [
             0.6666666666666666,
             "#ed7953"
            ],
            [
             0.7777777777777778,
             "#fb9f3a"
            ],
            [
             0.8888888888888888,
             "#fdca26"
            ],
            [
             1,
             "#f0f921"
            ]
           ]
          },
          "colorway": [
           "#636efa",
           "#EF553B",
           "#00cc96",
           "#ab63fa",
           "#FFA15A",
           "#19d3f3",
           "#FF6692",
           "#B6E880",
           "#FF97FF",
           "#FECB52"
          ],
          "font": {
           "color": "#2a3f5f"
          },
          "geo": {
           "bgcolor": "white",
           "lakecolor": "white",
           "landcolor": "#E5ECF6",
           "showlakes": true,
           "showland": true,
           "subunitcolor": "white"
          },
          "hoverlabel": {
           "align": "left"
          },
          "hovermode": "closest",
          "mapbox": {
           "style": "light"
          },
          "paper_bgcolor": "white",
          "plot_bgcolor": "#E5ECF6",
          "polar": {
           "angularaxis": {
            "gridcolor": "white",
            "linecolor": "white",
            "ticks": ""
           },
           "bgcolor": "#E5ECF6",
           "radialaxis": {
            "gridcolor": "white",
            "linecolor": "white",
            "ticks": ""
           }
          },
          "scene": {
           "xaxis": {
            "backgroundcolor": "#E5ECF6",
            "gridcolor": "white",
            "gridwidth": 2,
            "linecolor": "white",
            "showbackground": true,
            "ticks": "",
            "zerolinecolor": "white"
           },
           "yaxis": {
            "backgroundcolor": "#E5ECF6",
            "gridcolor": "white",
            "gridwidth": 2,
            "linecolor": "white",
            "showbackground": true,
            "ticks": "",
            "zerolinecolor": "white"
           },
           "zaxis": {
            "backgroundcolor": "#E5ECF6",
            "gridcolor": "white",
            "gridwidth": 2,
            "linecolor": "white",
            "showbackground": true,
            "ticks": "",
            "zerolinecolor": "white"
           }
          },
          "shapedefaults": {
           "line": {
            "color": "#2a3f5f"
           }
          },
          "ternary": {
           "aaxis": {
            "gridcolor": "white",
            "linecolor": "white",
            "ticks": ""
           },
           "baxis": {
            "gridcolor": "white",
            "linecolor": "white",
            "ticks": ""
           },
           "bgcolor": "#E5ECF6",
           "caxis": {
            "gridcolor": "white",
            "linecolor": "white",
            "ticks": ""
           }
          },
          "title": {
           "x": 0.05
          },
          "xaxis": {
           "automargin": true,
           "gridcolor": "white",
           "linecolor": "white",
           "ticks": "",
           "title": {
            "standoff": 15
           },
           "zerolinecolor": "white",
           "zerolinewidth": 2
          },
          "yaxis": {
           "automargin": true,
           "gridcolor": "white",
           "linecolor": "white",
           "ticks": "",
           "title": {
            "standoff": 15
           },
           "zerolinecolor": "white",
           "zerolinewidth": 2
          }
         }
        },
        "title": {
         "text": "Porównanie Modeli Predykcyjnych - Ceny Mieszkań w Warszawa",
         "x": 0.5
        },
        "xaxis": {
         "anchor": "y",
         "domain": [
          0,
          0.45
         ],
         "title": {
          "text": "Rzeczywiste ceny (PLN/m²)"
         }
        },
        "xaxis2": {
         "anchor": "y2",
         "domain": [
          0.55,
          1
         ],
         "title": {
          "text": "Model"
         }
        },
        "xaxis3": {
         "anchor": "y3",
         "domain": [
          0,
          0.45
         ],
         "title": {
          "text": "Model"
         }
        },
        "xaxis4": {
         "anchor": "y4",
         "domain": [
          0.55,
          1
         ],
         "title": {
          "text": "Ważność"
         }
        },
        "yaxis": {
         "anchor": "x",
         "domain": [
          0.625,
          1
         ],
         "title": {
          "text": "Predykcje (PLN/m²)"
         }
        },
        "yaxis2": {
         "anchor": "x2",
         "domain": [
          0.625,
          1
         ],
         "title": {
          "text": "Wartość metryki"
         }
        },
        "yaxis3": {
         "anchor": "x3",
         "domain": [
          0,
          0.375
         ],
         "title": {
          "text": "Błąd predykcji (PLN/m²)"
         }
        },
        "yaxis4": {
         "anchor": "x4",
         "domain": [
          0,
          0.375
         ],
         "title": {
          "text": "Cecha"
         }
        }
       }
      }
     },
     "metadata": {},
     "output_type": "display_data"
    },
    {
     "name": "stdout",
     "output_type": "stream",
     "text": [
      "\n",
      "🏆 PODSUMOWANIE WYDAJNOŚCI MODELI dla Warszawa:\n",
      "============================================================\n",
      "Linear Regression    | R²: 0.8666 | RMSE:     362 | MAE:    281 | MAPE:  2.10%\n",
      "Random Forest        | R²: -4.9333 | RMSE:    2411 | MAE:   2189 | MAPE: 15.94%\n",
      "Gradient Boosting    | R²: -3.3544 | RMSE:    2066 | MAE:   1839 | MAPE: 13.34%\n",
      "\n",
      "==================================================\n",
      "ANALIZA DLA MIASTA: Kraków\n",
      "==================================================\n",
      "🤖 Przygotowywanie danych do modelowania dla miasta Kraków...\n",
      "📊 Przygotowano 142 próbek z 10 cechami\n",
      "📋 Cechy: ['rok', 'kwartal_num', 'indeks_czasowy', 'CPI_Y2Y', 'WIBOR', 'rynek_encoded', 'rok_kwadrat', 'cena_lag1', 'cena_lag4', 'cena_ma4']\n",
      "🏋️ Trenowanie modeli uczenia maszynowego...\n",
      "📊 Dane treningowe: 113 próbek, testowe: 29 próbek\n",
      "🔧 Trenowanie Linear Regression...\n",
      "✅ Linear Regression - R²: 0.8838, RMSE: 244, MAE: 186, MAPE: 1.60%\n",
      "🔧 Trenowanie Random Forest...\n",
      "✅ Random Forest - R²: -11.2860, RMSE: 2513, MAE: 2366, MAPE: 20.28%\n",
      "🔧 Trenowanie Gradient Boosting...\n",
      "✅ Gradient Boosting - R²: -10.1084, RMSE: 2389, MAE: 2234, MAPE: 19.12%\n",
      "📊 Tworzenie wizualizacji porównania modeli...\n"
     ]
    },
    {
     "data": {
      "application/vnd.plotly.v1+json": {
       "config": {
        "plotlyServerURL": "https://plot.ly"
       },
       "data": [
        {
         "marker": {
          "color": "blue",
          "opacity": 0.7,
          "size": 6
         },
         "mode": "markers",
         "name": "Linear Regression",
         "type": "scatter",
         "x": {
          "bdata": "dPeYEaL/wkDw+juq5CHEQLXfiJ2jh8NAQi7jX5IsxEDnP81PvZTEQODtRJPi/MRAlAa1CtPCxUBCnz3oW5jFQOJPzo6UqMZAnO0rcbynxUCi2ifD0ArHQIi8KY0ShMVAZ4WrVMNxxkCav8oxHdrFQOPE/CnEosZAb+aXaSNqx0Ci2ifD0ArHQKLaJ8PQCsdAJGmMMJj1x0AkaYwwmPXHQKLaJ8PQCsdAJGmMMJj1x0Ci2ifD0ArHQCRpjDCY9cdAotonw9AKx0AkaYwwmPXHQKLaJ8PQCsdAotonw9AKx0AkaYwwmPXHQA==",
          "dtype": "f8"
         },
         "xaxis": "x",
         "y": {
          "bdata": "4Sc+nRqcwkC9f9LBUcjDQBGfqo3GhMNAg3Ze15szxEB2iqgOT6DEQADCwjcZ0MRAsM9odwpsxUCIUQeycVvFQIp6vWweQMZA9MJVX0DlxUDYhOLcWuDGQMSNge7kLsZAoq2cmn5gx0Cw68qChvrFQNxXDTtvEcdAXB1rRmUjxkDsNDahirjGQHD8/raYisZAgJx5XRq/xkD2haArLlbHQJCCvwsgtMZALT4HCa3cx0Cgqh1E7sPGQNDyHPsLv8dA8hDj9njOxkD+0wgqjKHHQI5crYJZ18ZAuNZYHtnvxkAoTrTFC7rHQA==",
          "dtype": "f8"
         },
         "yaxis": "y"
        },
        {
         "marker": {
          "color": "green",
          "opacity": 0.7,
          "size": 6
         },
         "mode": "markers",
         "name": "Random Forest",
         "type": "scatter",
         "x": {
          "bdata": "dPeYEaL/wkDw+juq5CHEQLXfiJ2jh8NAQi7jX5IsxEDnP81PvZTEQODtRJPi/MRAlAa1CtPCxUBCnz3oW5jFQOJPzo6UqMZAnO0rcbynxUCi2ifD0ArHQIi8KY0ShMVAZ4WrVMNxxkCav8oxHdrFQOPE/CnEosZAb+aXaSNqx0Ci2ifD0ArHQKLaJ8PQCsdAJGmMMJj1x0AkaYwwmPXHQKLaJ8PQCsdAJGmMMJj1x0Ci2ifD0ArHQCRpjDCY9cdAotonw9AKx0AkaYwwmPXHQKLaJ8PQCsdAotonw9AKx0AkaYwwmPXHQA==",
          "dtype": "f8"
         },
         "xaxis": "x",
         "y": {
          "bdata": "/GbAnhGowkDBJQTiTqTCQBKA3661qMJAdnvIJpGxwUCsYns1sazBQI+oqGvErsFAxo9beuSpwUDv3qhm8qvBQLz1IFtTp8FAvG9dMoeqwUCIhtUm6KXBQP867xIspMFANiKiIUyfwUD/Ou8SLKTBQDYioiFMn8FA796oZvKrwUC89SBbU6fBQCyi1mD7scFAYItebJq2wUA8xZeLqGfBQB2q2eCPZ8FAPMWXi6hnwUAdqtngj2fBQC+yQuk6qMFA+si63ZujwUAP8T6WSqjBQNsHt4qro8FAdfU7pJSbwUA+DomVdKDBQA==",
          "dtype": "f8"
         },
         "yaxis": "y"
        },
        {
         "marker": {
          "color": "red",
          "opacity": 0.7,
          "size": 6
         },
         "mode": "markers",
         "name": "Gradient Boosting",
         "type": "scatter",
         "x": {
          "bdata": "dPeYEaL/wkDw+juq5CHEQLXfiJ2jh8NAQi7jX5IsxEDnP81PvZTEQODtRJPi/MRAlAa1CtPCxUBCnz3oW5jFQOJPzo6UqMZAnO0rcbynxUCi2ifD0ArHQIi8KY0ShMVAZ4WrVMNxxkCav8oxHdrFQOPE/CnEosZAb+aXaSNqx0Ci2ifD0ArHQKLaJ8PQCsdAJGmMMJj1x0AkaYwwmPXHQKLaJ8PQCsdAJGmMMJj1x0Ci2ifD0ArHQCRpjDCY9cdAotonw9AKx0AkaYwwmPXHQKLaJ8PQCsdAotonw9AKx0AkaYwwmPXHQA==",
          "dtype": "f8"
         },
         "xaxis": "x",
         "y": {
          "bdata": "df3I+9juwkB13fKabe3CQLv/kc9i7cJAxWFEFg3kwUDRkoVnPuTBQM2qUItR4sFA2duR3ILiwUBb7VP2W/zBQKkf5+WO/MFAe5centz6wUDJybGND/vBQDN14mBG48FAP6YjsnfjwUAzdeJgRuPBQD+mI7J348FAW+1T9lv8wUCpH+fljvzBQC8P/N/W+MFA4dxo8KP4wUBfy8a0OajBQGv8BwZrqMFAX8vGtDmowUBr/AcGa6jBQH1jEsix48FAy5Wlt+TjwUCdDd1vMuLBQOs/cF9l4sFAYRzig83KwUBV66AynMrBQA==",
          "dtype": "f8"
         },
         "yaxis": "y"
        },
        {
         "line": {
          "color": "gray",
          "dash": "dash"
         },
         "mode": "lines",
         "name": "Idealna predykcja",
         "showlegend": false,
         "type": "scatter",
         "x": [
          9473.273880079056,
          12521.181263536824
         ],
         "xaxis": "x",
         "y": [
          9473.273880079056,
          12521.181263536824
         ],
         "yaxis": "y"
        },
        {
         "name": "R²",
         "showlegend": true,
         "type": "bar",
         "x": [
          "Linear Regression",
          "Random Forest",
          "Gradient Boosting"
         ],
         "xaxis": "x2",
         "y": [
          0.8838268096886033,
          -11.286016212446103,
          -10.108444048396139
         ],
         "yaxis": "y2"
        },
        {
         "name": "RMSE",
         "showlegend": true,
         "type": "bar",
         "x": [
          "Linear Regression",
          "Random Forest",
          "Gradient Boosting"
         ],
         "xaxis": "x2",
         "y": [
          244.35420721578546,
          2512.8837912034587,
          2389.4254161106514
         ],
         "yaxis": "y2"
        },
        {
         "name": "MAE",
         "showlegend": true,
         "type": "bar",
         "x": [
          "Linear Regression",
          "Random Forest",
          "Gradient Boosting"
         ],
         "xaxis": "x2",
         "y": [
          185.56429257336526,
          2366.0013336643465,
          2233.890845094133
         ],
         "yaxis": "y2"
        },
        {
         "name": "MAPE",
         "showlegend": true,
         "type": "bar",
         "x": [
          "Linear Regression",
          "Random Forest",
          "Gradient Boosting"
         ],
         "xaxis": "x2",
         "y": [
          1.6002657720476758,
          20.276168551098706,
          19.116460608936496
         ],
         "yaxis": "y2"
        },
        {
         "marker": {
          "color": "blue"
         },
         "name": "Linear Regression",
         "showlegend": false,
         "type": "box",
         "xaxis": "x3",
         "y": {
          "bdata": "wOSzFt3haEDAzF4aumRmQAAgBfJ+6BZAAAQh7d0lLMAAHpW2fSM3wADwFcGtZFZAALkN0ySyZUAA3SYbG3VeQABWNYSIHWpAAKzqFPfBXsAA5aoi8zpVQIAn+ipMWnXAYAclvmjXfcAACxaAqDRQwEC+JETEqmvAMJHMMuJrhECAbWl8iJFkQEDGG4UBB3BAQMosMd1ng0DAZXydQO1zQIAEFtotrGVAAPcqhSfrSECAAIzCn7hhQAAqu7caRltAANhkIuYrXkCASeWgAQNlQAAKPz2gu1lAAOoDz6T3SkAAfg1sNcZdQA==",
          "dtype": "f8"
         },
         "yaxis": "y3"
        },
        {
         "marker": {
          "color": "green"
         },
         "name": "Random Forest",
         "showlegend": false,
         "type": "box",
         "xaxis": "x3",
         "y": {
          "bdata": "AB4kthzkZUDwUn2DXNmHQGD0K9W93XtAYJbVyAnYk0DY6Y7SYECXQIgq4jzxcJpAONtlQbpjoECYAqYMTGOfQJhotc4EBaRAAO9z9qnpn0BoUElxopOlQEgM1NEz/55AxIwlzNxJo0BsEm57xNegQLSKaiHgDaRAAB68C8T4pkCYkxug9Y2lQNjhRIlVY6VAEHe3EPf7qECgj9KTvjeqQBTCOIkDjaZAoI/Sk743qkAUwjiJA42mQNTbJh11NalAoEa0ldOcpUBU4DVpNjWpQBxLw+GUnKVAtJSve/C8pUCYaw1sjlSpQA==",
          "dtype": "f8"
         },
         "yaxis": "y3"
        },
        {
         "marker": {
          "color": "red"
         },
         "name": "Gradient Boosting",
         "showlegend": false,
         "type": "box",
         "xaxis": "x3",
         "y": {
          "bdata": "AP/5zxXJQECw15H0cEeDQED/274ZSHNA6GP2TCpEkkCwaD1C94OVQJgYoj+I1JhA2FUZcYECn0A4j02P/9+cQOTAnKMWsKJACLFqmP5mnUBkQ9jVBD+kQKg6OmJhBp1AoHwfii45okA4U0KHtrafQJB6ZN8x/aJAUOQPzR23pUDk6wJ1BzmkQMwtr4znR6RADDGOANHzp0AUdxbveTWpQNx4f/SWiaVAFHcW73k1qUDceH/0lomlQJwW6KGZR6hAXBMJLrCbpEAcbr0Cl02oQNxq3o6toaRABPkW/QwApUA8963376uoQA==",
          "dtype": "f8"
         },
         "yaxis": "y3"
        },
        {
         "marker": {
          "color": "lightgreen"
         },
         "orientation": "h",
         "showlegend": false,
         "type": "bar",
         "x": [
          0.6590018868010037,
          0.25823169320990946,
          0.03179947163349119,
          0.029062399984484472,
          0.00812839716601791,
          0.0050435392599134975,
          0.004713875114006752,
          0.0020001844223914004,
          0.001584654429269556,
          0.0004338979795120633
         ],
         "xaxis": "x4",
         "y": [
          "cena_lag1",
          "cena_ma4",
          "indeks_czasowy",
          "WIBOR",
          "cena_lag4",
          "CPI_Y2Y",
          "rok",
          "rok_kwadrat",
          "kwartal_num",
          "rynek_encoded"
         ],
         "yaxis": "y4"
        }
       ],
       "layout": {
        "annotations": [
         {
          "font": {
           "size": 16
          },
          "showarrow": false,
          "text": "Porównanie Predykcji vs Rzeczywiste",
          "x": 0.225,
          "xanchor": "center",
          "xref": "paper",
          "y": 1,
          "yanchor": "bottom",
          "yref": "paper"
         },
         {
          "font": {
           "size": 16
          },
          "showarrow": false,
          "text": "Metryki Wydajności Modeli",
          "x": 0.775,
          "xanchor": "center",
          "xref": "paper",
          "y": 1,
          "yanchor": "bottom",
          "yref": "paper"
         },
         {
          "font": {
           "size": 16
          },
          "showarrow": false,
          "text": "Błędy Predykcji (Residuals)",
          "x": 0.225,
          "xanchor": "center",
          "xref": "paper",
          "y": 0.375,
          "yanchor": "bottom",
          "yref": "paper"
         },
         {
          "font": {
           "size": 16
          },
          "showarrow": false,
          "text": "Ważność Cech (Random Forest)",
          "x": 0.775,
          "xanchor": "center",
          "xref": "paper",
          "y": 0.375,
          "yanchor": "bottom",
          "yref": "paper"
         }
        ],
        "height": 800,
        "legend": {
         "orientation": "h",
         "x": 0.5,
         "xanchor": "center",
         "y": 1.02,
         "yanchor": "bottom"
        },
        "template": {
         "data": {
          "bar": [
           {
            "error_x": {
             "color": "#2a3f5f"
            },
            "error_y": {
             "color": "#2a3f5f"
            },
            "marker": {
             "line": {
              "color": "#E5ECF6",
              "width": 0.5
             },
             "pattern": {
              "fillmode": "overlay",
              "size": 10,
              "solidity": 0.2
             }
            },
            "type": "bar"
           }
          ],
          "barpolar": [
           {
            "marker": {
             "line": {
              "color": "#E5ECF6",
              "width": 0.5
             },
             "pattern": {
              "fillmode": "overlay",
              "size": 10,
              "solidity": 0.2
             }
            },
            "type": "barpolar"
           }
          ],
          "carpet": [
           {
            "aaxis": {
             "endlinecolor": "#2a3f5f",
             "gridcolor": "white",
             "linecolor": "white",
             "minorgridcolor": "white",
             "startlinecolor": "#2a3f5f"
            },
            "baxis": {
             "endlinecolor": "#2a3f5f",
             "gridcolor": "white",
             "linecolor": "white",
             "minorgridcolor": "white",
             "startlinecolor": "#2a3f5f"
            },
            "type": "carpet"
           }
          ],
          "choropleth": [
           {
            "colorbar": {
             "outlinewidth": 0,
             "ticks": ""
            },
            "type": "choropleth"
           }
          ],
          "contour": [
           {
            "colorbar": {
             "outlinewidth": 0,
             "ticks": ""
            },
            "colorscale": [
             [
              0,
              "#0d0887"
             ],
             [
              0.1111111111111111,
              "#46039f"
             ],
             [
              0.2222222222222222,
              "#7201a8"
             ],
             [
              0.3333333333333333,
              "#9c179e"
             ],
             [
              0.4444444444444444,
              "#bd3786"
             ],
             [
              0.5555555555555556,
              "#d8576b"
             ],
             [
              0.6666666666666666,
              "#ed7953"
             ],
             [
              0.7777777777777778,
              "#fb9f3a"
             ],
             [
              0.8888888888888888,
              "#fdca26"
             ],
             [
              1,
              "#f0f921"
             ]
            ],
            "type": "contour"
           }
          ],
          "contourcarpet": [
           {
            "colorbar": {
             "outlinewidth": 0,
             "ticks": ""
            },
            "type": "contourcarpet"
           }
          ],
          "heatmap": [
           {
            "colorbar": {
             "outlinewidth": 0,
             "ticks": ""
            },
            "colorscale": [
             [
              0,
              "#0d0887"
             ],
             [
              0.1111111111111111,
              "#46039f"
             ],
             [
              0.2222222222222222,
              "#7201a8"
             ],
             [
              0.3333333333333333,
              "#9c179e"
             ],
             [
              0.4444444444444444,
              "#bd3786"
             ],
             [
              0.5555555555555556,
              "#d8576b"
             ],
             [
              0.6666666666666666,
              "#ed7953"
             ],
             [
              0.7777777777777778,
              "#fb9f3a"
             ],
             [
              0.8888888888888888,
              "#fdca26"
             ],
             [
              1,
              "#f0f921"
             ]
            ],
            "type": "heatmap"
           }
          ],
          "histogram": [
           {
            "marker": {
             "pattern": {
              "fillmode": "overlay",
              "size": 10,
              "solidity": 0.2
             }
            },
            "type": "histogram"
           }
          ],
          "histogram2d": [
           {
            "colorbar": {
             "outlinewidth": 0,
             "ticks": ""
            },
            "colorscale": [
             [
              0,
              "#0d0887"
             ],
             [
              0.1111111111111111,
              "#46039f"
             ],
             [
              0.2222222222222222,
              "#7201a8"
             ],
             [
              0.3333333333333333,
              "#9c179e"
             ],
             [
              0.4444444444444444,
              "#bd3786"
             ],
             [
              0.5555555555555556,
              "#d8576b"
             ],
             [
              0.6666666666666666,
              "#ed7953"
             ],
             [
              0.7777777777777778,
              "#fb9f3a"
             ],
             [
              0.8888888888888888,
              "#fdca26"
             ],
             [
              1,
              "#f0f921"
             ]
            ],
            "type": "histogram2d"
           }
          ],
          "histogram2dcontour": [
           {
            "colorbar": {
             "outlinewidth": 0,
             "ticks": ""
            },
            "colorscale": [
             [
              0,
              "#0d0887"
             ],
             [
              0.1111111111111111,
              "#46039f"
             ],
             [
              0.2222222222222222,
              "#7201a8"
             ],
             [
              0.3333333333333333,
              "#9c179e"
             ],
             [
              0.4444444444444444,
              "#bd3786"
             ],
             [
              0.5555555555555556,
              "#d8576b"
             ],
             [
              0.6666666666666666,
              "#ed7953"
             ],
             [
              0.7777777777777778,
              "#fb9f3a"
             ],
             [
              0.8888888888888888,
              "#fdca26"
             ],
             [
              1,
              "#f0f921"
             ]
            ],
            "type": "histogram2dcontour"
           }
          ],
          "mesh3d": [
           {
            "colorbar": {
             "outlinewidth": 0,
             "ticks": ""
            },
            "type": "mesh3d"
           }
          ],
          "parcoords": [
           {
            "line": {
             "colorbar": {
              "outlinewidth": 0,
              "ticks": ""
             }
            },
            "type": "parcoords"
           }
          ],
          "pie": [
           {
            "automargin": true,
            "type": "pie"
           }
          ],
          "scatter": [
           {
            "fillpattern": {
             "fillmode": "overlay",
             "size": 10,
             "solidity": 0.2
            },
            "type": "scatter"
           }
          ],
          "scatter3d": [
           {
            "line": {
             "colorbar": {
              "outlinewidth": 0,
              "ticks": ""
             }
            },
            "marker": {
             "colorbar": {
              "outlinewidth": 0,
              "ticks": ""
             }
            },
            "type": "scatter3d"
           }
          ],
          "scattercarpet": [
           {
            "marker": {
             "colorbar": {
              "outlinewidth": 0,
              "ticks": ""
             }
            },
            "type": "scattercarpet"
           }
          ],
          "scattergeo": [
           {
            "marker": {
             "colorbar": {
              "outlinewidth": 0,
              "ticks": ""
             }
            },
            "type": "scattergeo"
           }
          ],
          "scattergl": [
           {
            "marker": {
             "colorbar": {
              "outlinewidth": 0,
              "ticks": ""
             }
            },
            "type": "scattergl"
           }
          ],
          "scattermap": [
           {
            "marker": {
             "colorbar": {
              "outlinewidth": 0,
              "ticks": ""
             }
            },
            "type": "scattermap"
           }
          ],
          "scattermapbox": [
           {
            "marker": {
             "colorbar": {
              "outlinewidth": 0,
              "ticks": ""
             }
            },
            "type": "scattermapbox"
           }
          ],
          "scatterpolar": [
           {
            "marker": {
             "colorbar": {
              "outlinewidth": 0,
              "ticks": ""
             }
            },
            "type": "scatterpolar"
           }
          ],
          "scatterpolargl": [
           {
            "marker": {
             "colorbar": {
              "outlinewidth": 0,
              "ticks": ""
             }
            },
            "type": "scatterpolargl"
           }
          ],
          "scatterternary": [
           {
            "marker": {
             "colorbar": {
              "outlinewidth": 0,
              "ticks": ""
             }
            },
            "type": "scatterternary"
           }
          ],
          "surface": [
           {
            "colorbar": {
             "outlinewidth": 0,
             "ticks": ""
            },
            "colorscale": [
             [
              0,
              "#0d0887"
             ],
             [
              0.1111111111111111,
              "#46039f"
             ],
             [
              0.2222222222222222,
              "#7201a8"
             ],
             [
              0.3333333333333333,
              "#9c179e"
             ],
             [
              0.4444444444444444,
              "#bd3786"
             ],
             [
              0.5555555555555556,
              "#d8576b"
             ],
             [
              0.6666666666666666,
              "#ed7953"
             ],
             [
              0.7777777777777778,
              "#fb9f3a"
             ],
             [
              0.8888888888888888,
              "#fdca26"
             ],
             [
              1,
              "#f0f921"
             ]
            ],
            "type": "surface"
           }
          ],
          "table": [
           {
            "cells": {
             "fill": {
              "color": "#EBF0F8"
             },
             "line": {
              "color": "white"
             }
            },
            "header": {
             "fill": {
              "color": "#C8D4E3"
             },
             "line": {
              "color": "white"
             }
            },
            "type": "table"
           }
          ]
         },
         "layout": {
          "annotationdefaults": {
           "arrowcolor": "#2a3f5f",
           "arrowhead": 0,
           "arrowwidth": 1
          },
          "autotypenumbers": "strict",
          "coloraxis": {
           "colorbar": {
            "outlinewidth": 0,
            "ticks": ""
           }
          },
          "colorscale": {
           "diverging": [
            [
             0,
             "#8e0152"
            ],
            [
             0.1,
             "#c51b7d"
            ],
            [
             0.2,
             "#de77ae"
            ],
            [
             0.3,
             "#f1b6da"
            ],
            [
             0.4,
             "#fde0ef"
            ],
            [
             0.5,
             "#f7f7f7"
            ],
            [
             0.6,
             "#e6f5d0"
            ],
            [
             0.7,
             "#b8e186"
            ],
            [
             0.8,
             "#7fbc41"
            ],
            [
             0.9,
             "#4d9221"
            ],
            [
             1,
             "#276419"
            ]
           ],
           "sequential": [
            [
             0,
             "#0d0887"
            ],
            [
             0.1111111111111111,
             "#46039f"
            ],
            [
             0.2222222222222222,
             "#7201a8"
            ],
            [
             0.3333333333333333,
             "#9c179e"
            ],
            [
             0.4444444444444444,
             "#bd3786"
            ],
            [
             0.5555555555555556,
             "#d8576b"
            ],
            [
             0.6666666666666666,
             "#ed7953"
            ],
            [
             0.7777777777777778,
             "#fb9f3a"
            ],
            [
             0.8888888888888888,
             "#fdca26"
            ],
            [
             1,
             "#f0f921"
            ]
           ],
           "sequentialminus": [
            [
             0,
             "#0d0887"
            ],
            [
             0.1111111111111111,
             "#46039f"
            ],
            [
             0.2222222222222222,
             "#7201a8"
            ],
            [
             0.3333333333333333,
             "#9c179e"
            ],
            [
             0.4444444444444444,
             "#bd3786"
            ],
            [
             0.5555555555555556,
             "#d8576b"
            ],
            [
             0.6666666666666666,
             "#ed7953"
            ],
            [
             0.7777777777777778,
             "#fb9f3a"
            ],
            [
             0.8888888888888888,
             "#fdca26"
            ],
            [
             1,
             "#f0f921"
            ]
           ]
          },
          "colorway": [
           "#636efa",
           "#EF553B",
           "#00cc96",
           "#ab63fa",
           "#FFA15A",
           "#19d3f3",
           "#FF6692",
           "#B6E880",
           "#FF97FF",
           "#FECB52"
          ],
          "font": {
           "color": "#2a3f5f"
          },
          "geo": {
           "bgcolor": "white",
           "lakecolor": "white",
           "landcolor": "#E5ECF6",
           "showlakes": true,
           "showland": true,
           "subunitcolor": "white"
          },
          "hoverlabel": {
           "align": "left"
          },
          "hovermode": "closest",
          "mapbox": {
           "style": "light"
          },
          "paper_bgcolor": "white",
          "plot_bgcolor": "#E5ECF6",
          "polar": {
           "angularaxis": {
            "gridcolor": "white",
            "linecolor": "white",
            "ticks": ""
           },
           "bgcolor": "#E5ECF6",
           "radialaxis": {
            "gridcolor": "white",
            "linecolor": "white",
            "ticks": ""
           }
          },
          "scene": {
           "xaxis": {
            "backgroundcolor": "#E5ECF6",
            "gridcolor": "white",
            "gridwidth": 2,
            "linecolor": "white",
            "showbackground": true,
            "ticks": "",
            "zerolinecolor": "white"
           },
           "yaxis": {
            "backgroundcolor": "#E5ECF6",
            "gridcolor": "white",
            "gridwidth": 2,
            "linecolor": "white",
            "showbackground": true,
            "ticks": "",
            "zerolinecolor": "white"
           },
           "zaxis": {
            "backgroundcolor": "#E5ECF6",
            "gridcolor": "white",
            "gridwidth": 2,
            "linecolor": "white",
            "showbackground": true,
            "ticks": "",
            "zerolinecolor": "white"
           }
          },
          "shapedefaults": {
           "line": {
            "color": "#2a3f5f"
           }
          },
          "ternary": {
           "aaxis": {
            "gridcolor": "white",
            "linecolor": "white",
            "ticks": ""
           },
           "baxis": {
            "gridcolor": "white",
            "linecolor": "white",
            "ticks": ""
           },
           "bgcolor": "#E5ECF6",
           "caxis": {
            "gridcolor": "white",
            "linecolor": "white",
            "ticks": ""
           }
          },
          "title": {
           "x": 0.05
          },
          "xaxis": {
           "automargin": true,
           "gridcolor": "white",
           "linecolor": "white",
           "ticks": "",
           "title": {
            "standoff": 15
           },
           "zerolinecolor": "white",
           "zerolinewidth": 2
          },
          "yaxis": {
           "automargin": true,
           "gridcolor": "white",
           "linecolor": "white",
           "ticks": "",
           "title": {
            "standoff": 15
           },
           "zerolinecolor": "white",
           "zerolinewidth": 2
          }
         }
        },
        "title": {
         "text": "Porównanie Modeli Predykcyjnych - Ceny Mieszkań w Kraków",
         "x": 0.5
        },
        "xaxis": {
         "anchor": "y",
         "domain": [
          0,
          0.45
         ],
         "title": {
          "text": "Rzeczywiste ceny (PLN/m²)"
         }
        },
        "xaxis2": {
         "anchor": "y2",
         "domain": [
          0.55,
          1
         ],
         "title": {
          "text": "Model"
         }
        },
        "xaxis3": {
         "anchor": "y3",
         "domain": [
          0,
          0.45
         ],
         "title": {
          "text": "Model"
         }
        },
        "xaxis4": {
         "anchor": "y4",
         "domain": [
          0.55,
          1
         ],
         "title": {
          "text": "Ważność"
         }
        },
        "yaxis": {
         "anchor": "x",
         "domain": [
          0.625,
          1
         ],
         "title": {
          "text": "Predykcje (PLN/m²)"
         }
        },
        "yaxis2": {
         "anchor": "x2",
         "domain": [
          0.625,
          1
         ],
         "title": {
          "text": "Wartość metryki"
         }
        },
        "yaxis3": {
         "anchor": "x3",
         "domain": [
          0,
          0.375
         ],
         "title": {
          "text": "Błąd predykcji (PLN/m²)"
         }
        },
        "yaxis4": {
         "anchor": "x4",
         "domain": [
          0,
          0.375
         ],
         "title": {
          "text": "Cecha"
         }
        }
       }
      }
     },
     "metadata": {},
     "output_type": "display_data"
    },
    {
     "name": "stdout",
     "output_type": "stream",
     "text": [
      "\n",
      "🏆 PODSUMOWANIE WYDAJNOŚCI MODELI dla Kraków:\n",
      "============================================================\n",
      "Linear Regression    | R²: 0.8838 | RMSE:     244 | MAE:    186 | MAPE:  1.60%\n",
      "Random Forest        | R²: -11.2860 | RMSE:    2513 | MAE:   2366 | MAPE: 20.28%\n",
      "Gradient Boosting    | R²: -10.1084 | RMSE:    2389 | MAE:   2234 | MAPE: 19.12%\n",
      "\n",
      "==================================================\n",
      "ANALIZA DLA MIASTA: Wrocław\n",
      "==================================================\n",
      "🤖 Przygotowywanie danych do modelowania dla miasta Wrocław...\n",
      "📊 Przygotowano 142 próbek z 10 cechami\n",
      "📋 Cechy: ['rok', 'kwartal_num', 'indeks_czasowy', 'CPI_Y2Y', 'WIBOR', 'rynek_encoded', 'rok_kwadrat', 'cena_lag1', 'cena_lag4', 'cena_ma4']\n",
      "🏋️ Trenowanie modeli uczenia maszynowego...\n",
      "📊 Dane treningowe: 113 próbek, testowe: 29 próbek\n",
      "🔧 Trenowanie Linear Regression...\n",
      "✅ Linear Regression - R²: 0.9096, RMSE: 275, MAE: 243, MAPE: 2.28%\n",
      "🔧 Trenowanie Random Forest...\n",
      "✅ Random Forest - R²: -5.4809, RMSE: 2332, MAE: 2136, MAPE: 19.56%\n",
      "🔧 Trenowanie Gradient Boosting...\n",
      "✅ Gradient Boosting - R²: -5.0392, RMSE: 2252, MAE: 2049, MAPE: 18.73%\n",
      "📊 Tworzenie wizualizacji porównania modeli...\n"
     ]
    },
    {
     "data": {
      "application/vnd.plotly.v1+json": {
       "config": {
        "plotlyServerURL": "https://plot.ly"
       },
       "data": [
        {
         "marker": {
          "color": "blue",
          "opacity": 0.7,
          "size": 6
         },
         "mode": "markers",
         "name": "Linear Regression",
         "type": "scatter",
         "x": {
          "bdata": "08m9rn5dwUAU0ZTXbZHCQM5x0kqxfMFAnqFHszD5wUALbFPOpJbDQAri6Y8U68JAjHhcy9AwxEBNTX/Ax+DDQHDPVuzBi8RAoULJCfPAw0Dw/d7co2rEQL9U8tAUfsNA1sOl4+SzxUB4k3YIEf3DQJLAwqVHQsZAVil6XLhaxEDobiiRqeDGQGhNwjChWcdAVil6XLhaxEBWKXpcuFrEQGhNwjChWcdAVil6XLhaxEBoTcIwoVnHQFYpely4WsRAaE3CMKFZx0BWKXpcuFrEQGhNwjChWcdAaE3CMKFZx0BWKXpcuFrEQA==",
          "dtype": "f8"
         },
         "xaxis": "x",
         "y": {
          "bdata": "dtic1+pUwUBmsLkgCfzBQJToNAPUUcFAg9uHwdjOwUCQD824+7HCQE2MjTSjRcJAzJBxhKd5w0DQ0FmKDPvCQIxjCgDRJsRAXPblJL6Qw0A8WNx3G5fEQDS/ro+S+cNAyrjqyoEdxUC8e7KcdDXEQJkkZ7pyrMVAYBQM/llWxEAi+M1XvULGQD3ogLGIEsdASCgJhUmYxEAIIfepluHEQGYBXP8bgMdAUO4fN6r9xECzwaqrnMbHQLRtbZMhCMVA3vgfVW/qx0C2JLNTYhTFQMiZy7Gk8cdAoK7KM64PyECOObLVazLFQA==",
          "dtype": "f8"
         },
         "yaxis": "y"
        },
        {
         "marker": {
          "color": "green",
          "opacity": 0.7,
          "size": 6
         },
         "mode": "markers",
         "name": "Random Forest",
         "type": "scatter",
         "x": {
          "bdata": "08m9rn5dwUAU0ZTXbZHCQM5x0kqxfMFAnqFHszD5wUALbFPOpJbDQAri6Y8U68JAjHhcy9AwxEBNTX/Ax+DDQHDPVuzBi8RAoULJCfPAw0Dw/d7co2rEQL9U8tAUfsNA1sOl4+SzxUB4k3YIEf3DQJLAwqVHQsZAVil6XLhaxEDobiiRqeDGQGhNwjChWcdAVil6XLhaxEBWKXpcuFrEQGhNwjChWcdAVil6XLhaxEBoTcIwoVnHQFYpely4WsRAaE3CMKFZx0BWKXpcuFrEQGhNwjChWcdAaE3CMKFZx0BWKXpcuFrEQA==",
          "dtype": "f8"
         },
         "xaxis": "x",
         "y": {
          "bdata": "Zm2WgKyywEBU2ZyeQJrAQK24Z/5xm8BAA/b08ZqEwEAIaGkeNIPAQMwJ9/QviMBAoTMHxsiKwEAOeD9IT4bAQOOhTxnoiMBAITbjksGAwECZGgXxk4TAQOdWusbSgMBACGhpHjSDwEDMCff0L4jAQKEzB8bIisBADng/SE+GwEDjoU8Z6IjAQJkaBfGThMBAITbjksGAwEAMwcgimEjAQOoXOd/XS8BALwnkv+1QwEC/eLX1ZFTAQEF0S+LMhcBA6Qtx8e2IwEBUMu8sP4DAQJ6EJsmZhMBADdKK9jmDwEAZU8ZgUIDAQA==",
          "dtype": "f8"
         },
         "yaxis": "y"
        },
        {
         "marker": {
          "color": "red",
          "opacity": 0.7,
          "size": 6
         },
         "mode": "markers",
         "name": "Gradient Boosting",
         "type": "scatter",
         "x": {
          "bdata": "08m9rn5dwUAU0ZTXbZHCQM5x0kqxfMFAnqFHszD5wUALbFPOpJbDQAri6Y8U68JAjHhcy9AwxEBNTX/Ax+DDQHDPVuzBi8RAoULJCfPAw0Dw/d7co2rEQL9U8tAUfsNA1sOl4+SzxUB4k3YIEf3DQJLAwqVHQsZAVil6XLhaxEDobiiRqeDGQGhNwjChWcdAVil6XLhaxEBWKXpcuFrEQGhNwjChWcdAVil6XLhaxEBoTcIwoVnHQFYpely4WsRAaE3CMKFZx0BWKXpcuFrEQGhNwjChWcdAaE3CMKFZx0BWKXpcuFrEQA==",
          "dtype": "f8"
         },
         "xaxis": "x",
         "y": {
          "bdata": "nbsim4fAwEBd/KpaccDAQH7xdPoSvsBATWMxDpCrwECnvtJa5K3AQNDyEEtcu8BAgyPVJV69wED67G6CAbvAQDnvfxpavcBA+uxuggG7wEA5738aWr3AQEjGDVOUq8BAJ3i+JUKtwEDQ8hBLXLvAQIMj1SVevcBA+uxuggG7wEA5738aWr3AQDnvfxpavcBA+uxuggG7wEDzdl+UNF3AQB5LezN9XcBAN+OogQ1jwEBIuGFfjWPAQGTSgNgPusBAgFk0PPO7wED67G6CAbvAQDnvfxpavcBAJ3i+JUKtwEBIxg1TlKvAQA==",
          "dtype": "f8"
         },
         "yaxis": "y"
        },
        {
         "line": {
          "color": "gray",
          "dash": "dash"
         },
         "mode": "lines",
         "name": "Idealna predykcja",
         "showlegend": false,
         "type": "scatter",
         "x": [
          8584.562748400804,
          12261.686259788723
         ],
         "xaxis": "x",
         "y": [
          8584.562748400804,
          12261.686259788723
         ],
         "yaxis": "y"
        },
        {
         "name": "R²",
         "showlegend": true,
         "type": "bar",
         "x": [
          "Linear Regression",
          "Random Forest",
          "Gradient Boosting"
         ],
         "xaxis": "x2",
         "y": [
          0.9096007246236747,
          -5.4809181805454,
          -5.039221900036454
         ],
         "yaxis": "y2"
        },
        {
         "name": "RMSE",
         "showlegend": true,
         "type": "bar",
         "x": [
          "Linear Regression",
          "Random Forest",
          "Gradient Boosting"
         ],
         "xaxis": "x2",
         "y": [
          275.47586274259953,
          2332.487615842514,
          2251.6017154342353
         ],
         "yaxis": "y2"
        },
        {
         "name": "MAE",
         "showlegend": true,
         "type": "bar",
         "x": [
          "Linear Regression",
          "Random Forest",
          "Gradient Boosting"
         ],
         "xaxis": "x2",
         "y": [
          242.6043844305533,
          2136.423950838565,
          2048.658108889353
         ],
         "yaxis": "y2"
        },
        {
         "name": "MAPE",
         "showlegend": true,
         "type": "bar",
         "x": [
          "Linear Regression",
          "Random Forest",
          "Gradient Boosting"
         ],
         "xaxis": "x2",
         "y": [
          2.284787403802412,
          19.564417874486047,
          18.732427138855158
         ],
         "yaxis": "y2"
        },
        {
         "marker": {
          "color": "blue"
         },
         "name": "Linear Regression",
         "showlegend": false,
         "type": "box",
         "xaxis": "x3",
         "y": {
          "bdata": "ALriQa4nMUDAFWTblqxyQACdxM6jblVAgA3j3/grVUBgj8uwIpV8QKC3imsrrnRAAPhc3SjldkCgj6/EZrd8QAD5GhM7PGlAgCKmcXIaWEAAJq1+zTtWwECdGq9v327AgGFhF2PMckAAIvQdyjFcwCB/c2udunJAANhTuHl5IUDA2E4rh71zQMBKWdAfxmFAAHl/R5TIXsBA9p6vydtwwAD/2UxnPVPAQJ+4VDtedMDAEh263j5rwMCLaN4mrXXAwG61i8QZcsAAbB/nPjV3wACMKSFwAHPAACcMYaDBdsAABwInb/Z6wA==",
          "dtype": "f8"
         },
         "yaxis": "y3"
        },
        {
         "marker": {
          "color": "green"
         },
         "name": "Random Forest",
         "showlegend": false,
         "type": "box",
         "xaxis": "x3",
         "y": {
          "bdata": "oI3rxEVadUAAfH+P03KPQCAkV43pJ3xAsLkqFVxJh0AYIFB/hZuYQPDBltckF5NAWCeqKkAwnUD4qf7Bw9OaQDS2HExnC6BAAGQwt4sBmkC4Gs9efzCfQMDuv1EQ6pdAOG/xFMPCpEBgTfybCKebQMQz7n773aZAQIrVoUijnkAUNGPfBV+pQDzL9P40VKtAqJm3TLbPnkAoocXmgEigQPjVJEYlN6xAnIBYcionoECkUjPs8BSsQKioddFbp55A/AVF/cxCq0AQuFd8ydOeQCgjb54dVKtAbO3d6JxZq0DosZ7dP9OeQA==",
          "dtype": "f8"
         },
         "yaxis": "y3"
        },
        {
         "marker": {
          "color": "red"
         },
         "name": "Gradient Boosting",
         "showlegend": false,
         "type": "box",
         "xaxis": "x3",
         "y": {
          "bdata": "wMZhc+Kec0BwS53Oxw+NQAAKsAvK03dAEOVjUQrahEAgawWcA0aXQNB5xybCfZFASKg6LJWbm0CYAoPwMS6ZQLgBt44+c55AOK3SOowvmEC4dfgSTmqdQLhzJO8DlJZAvC6d94oapEBABS3rpQ2aQDx0tv+lE6ZA4OJZ0Lb9nEC8/qHaPY2oQLx4CVkccapA4OJZ0Lb9nEAYk9VAHuyfQCgJHPWP8KtA+DCK1la9n0CAVIJFT9irQJC3yh9EBZ1AoM830rd2qkDg4lnQtv2cQLx4CVkccapABFUPLHyxqkBwGGNLIHmdQA==",
          "dtype": "f8"
         },
         "yaxis": "y3"
        },
        {
         "marker": {
          "color": "lightgreen"
         },
         "orientation": "h",
         "showlegend": false,
         "type": "bar",
         "x": [
          0.6640659548510054,
          0.2408767592500604,
          0.03454798987599212,
          0.017413779910177254,
          0.016226909892647388,
          0.011785199410772901,
          0.0065232535895659825,
          0.005525076338466631,
          0.0021355215955241105,
          0.0008995552857878947
         ],
         "xaxis": "x4",
         "y": [
          "cena_ma4",
          "cena_lag1",
          "cena_lag4",
          "rok_kwadrat",
          "rok",
          "indeks_czasowy",
          "WIBOR",
          "CPI_Y2Y",
          "kwartal_num",
          "rynek_encoded"
         ],
         "yaxis": "y4"
        }
       ],
       "layout": {
        "annotations": [
         {
          "font": {
           "size": 16
          },
          "showarrow": false,
          "text": "Porównanie Predykcji vs Rzeczywiste",
          "x": 0.225,
          "xanchor": "center",
          "xref": "paper",
          "y": 1,
          "yanchor": "bottom",
          "yref": "paper"
         },
         {
          "font": {
           "size": 16
          },
          "showarrow": false,
          "text": "Metryki Wydajności Modeli",
          "x": 0.775,
          "xanchor": "center",
          "xref": "paper",
          "y": 1,
          "yanchor": "bottom",
          "yref": "paper"
         },
         {
          "font": {
           "size": 16
          },
          "showarrow": false,
          "text": "Błędy Predykcji (Residuals)",
          "x": 0.225,
          "xanchor": "center",
          "xref": "paper",
          "y": 0.375,
          "yanchor": "bottom",
          "yref": "paper"
         },
         {
          "font": {
           "size": 16
          },
          "showarrow": false,
          "text": "Ważność Cech (Random Forest)",
          "x": 0.775,
          "xanchor": "center",
          "xref": "paper",
          "y": 0.375,
          "yanchor": "bottom",
          "yref": "paper"
         }
        ],
        "height": 800,
        "legend": {
         "orientation": "h",
         "x": 0.5,
         "xanchor": "center",
         "y": 1.02,
         "yanchor": "bottom"
        },
        "template": {
         "data": {
          "bar": [
           {
            "error_x": {
             "color": "#2a3f5f"
            },
            "error_y": {
             "color": "#2a3f5f"
            },
            "marker": {
             "line": {
              "color": "#E5ECF6",
              "width": 0.5
             },
             "pattern": {
              "fillmode": "overlay",
              "size": 10,
              "solidity": 0.2
             }
            },
            "type": "bar"
           }
          ],
          "barpolar": [
           {
            "marker": {
             "line": {
              "color": "#E5ECF6",
              "width": 0.5
             },
             "pattern": {
              "fillmode": "overlay",
              "size": 10,
              "solidity": 0.2
             }
            },
            "type": "barpolar"
           }
          ],
          "carpet": [
           {
            "aaxis": {
             "endlinecolor": "#2a3f5f",
             "gridcolor": "white",
             "linecolor": "white",
             "minorgridcolor": "white",
             "startlinecolor": "#2a3f5f"
            },
            "baxis": {
             "endlinecolor": "#2a3f5f",
             "gridcolor": "white",
             "linecolor": "white",
             "minorgridcolor": "white",
             "startlinecolor": "#2a3f5f"
            },
            "type": "carpet"
           }
          ],
          "choropleth": [
           {
            "colorbar": {
             "outlinewidth": 0,
             "ticks": ""
            },
            "type": "choropleth"
           }
          ],
          "contour": [
           {
            "colorbar": {
             "outlinewidth": 0,
             "ticks": ""
            },
            "colorscale": [
             [
              0,
              "#0d0887"
             ],
             [
              0.1111111111111111,
              "#46039f"
             ],
             [
              0.2222222222222222,
              "#7201a8"
             ],
             [
              0.3333333333333333,
              "#9c179e"
             ],
             [
              0.4444444444444444,
              "#bd3786"
             ],
             [
              0.5555555555555556,
              "#d8576b"
             ],
             [
              0.6666666666666666,
              "#ed7953"
             ],
             [
              0.7777777777777778,
              "#fb9f3a"
             ],
             [
              0.8888888888888888,
              "#fdca26"
             ],
             [
              1,
              "#f0f921"
             ]
            ],
            "type": "contour"
           }
          ],
          "contourcarpet": [
           {
            "colorbar": {
             "outlinewidth": 0,
             "ticks": ""
            },
            "type": "contourcarpet"
           }
          ],
          "heatmap": [
           {
            "colorbar": {
             "outlinewidth": 0,
             "ticks": ""
            },
            "colorscale": [
             [
              0,
              "#0d0887"
             ],
             [
              0.1111111111111111,
              "#46039f"
             ],
             [
              0.2222222222222222,
              "#7201a8"
             ],
             [
              0.3333333333333333,
              "#9c179e"
             ],
             [
              0.4444444444444444,
              "#bd3786"
             ],
             [
              0.5555555555555556,
              "#d8576b"
             ],
             [
              0.6666666666666666,
              "#ed7953"
             ],
             [
              0.7777777777777778,
              "#fb9f3a"
             ],
             [
              0.8888888888888888,
              "#fdca26"
             ],
             [
              1,
              "#f0f921"
             ]
            ],
            "type": "heatmap"
           }
          ],
          "histogram": [
           {
            "marker": {
             "pattern": {
              "fillmode": "overlay",
              "size": 10,
              "solidity": 0.2
             }
            },
            "type": "histogram"
           }
          ],
          "histogram2d": [
           {
            "colorbar": {
             "outlinewidth": 0,
             "ticks": ""
            },
            "colorscale": [
             [
              0,
              "#0d0887"
             ],
             [
              0.1111111111111111,
              "#46039f"
             ],
             [
              0.2222222222222222,
              "#7201a8"
             ],
             [
              0.3333333333333333,
              "#9c179e"
             ],
             [
              0.4444444444444444,
              "#bd3786"
             ],
             [
              0.5555555555555556,
              "#d8576b"
             ],
             [
              0.6666666666666666,
              "#ed7953"
             ],
             [
              0.7777777777777778,
              "#fb9f3a"
             ],
             [
              0.8888888888888888,
              "#fdca26"
             ],
             [
              1,
              "#f0f921"
             ]
            ],
            "type": "histogram2d"
           }
          ],
          "histogram2dcontour": [
           {
            "colorbar": {
             "outlinewidth": 0,
             "ticks": ""
            },
            "colorscale": [
             [
              0,
              "#0d0887"
             ],
             [
              0.1111111111111111,
              "#46039f"
             ],
             [
              0.2222222222222222,
              "#7201a8"
             ],
             [
              0.3333333333333333,
              "#9c179e"
             ],
             [
              0.4444444444444444,
              "#bd3786"
             ],
             [
              0.5555555555555556,
              "#d8576b"
             ],
             [
              0.6666666666666666,
              "#ed7953"
             ],
             [
              0.7777777777777778,
              "#fb9f3a"
             ],
             [
              0.8888888888888888,
              "#fdca26"
             ],
             [
              1,
              "#f0f921"
             ]
            ],
            "type": "histogram2dcontour"
           }
          ],
          "mesh3d": [
           {
            "colorbar": {
             "outlinewidth": 0,
             "ticks": ""
            },
            "type": "mesh3d"
           }
          ],
          "parcoords": [
           {
            "line": {
             "colorbar": {
              "outlinewidth": 0,
              "ticks": ""
             }
            },
            "type": "parcoords"
           }
          ],
          "pie": [
           {
            "automargin": true,
            "type": "pie"
           }
          ],
          "scatter": [
           {
            "fillpattern": {
             "fillmode": "overlay",
             "size": 10,
             "solidity": 0.2
            },
            "type": "scatter"
           }
          ],
          "scatter3d": [
           {
            "line": {
             "colorbar": {
              "outlinewidth": 0,
              "ticks": ""
             }
            },
            "marker": {
             "colorbar": {
              "outlinewidth": 0,
              "ticks": ""
             }
            },
            "type": "scatter3d"
           }
          ],
          "scattercarpet": [
           {
            "marker": {
             "colorbar": {
              "outlinewidth": 0,
              "ticks": ""
             }
            },
            "type": "scattercarpet"
           }
          ],
          "scattergeo": [
           {
            "marker": {
             "colorbar": {
              "outlinewidth": 0,
              "ticks": ""
             }
            },
            "type": "scattergeo"
           }
          ],
          "scattergl": [
           {
            "marker": {
             "colorbar": {
              "outlinewidth": 0,
              "ticks": ""
             }
            },
            "type": "scattergl"
           }
          ],
          "scattermap": [
           {
            "marker": {
             "colorbar": {
              "outlinewidth": 0,
              "ticks": ""
             }
            },
            "type": "scattermap"
           }
          ],
          "scattermapbox": [
           {
            "marker": {
             "colorbar": {
              "outlinewidth": 0,
              "ticks": ""
             }
            },
            "type": "scattermapbox"
           }
          ],
          "scatterpolar": [
           {
            "marker": {
             "colorbar": {
              "outlinewidth": 0,
              "ticks": ""
             }
            },
            "type": "scatterpolar"
           }
          ],
          "scatterpolargl": [
           {
            "marker": {
             "colorbar": {
              "outlinewidth": 0,
              "ticks": ""
             }
            },
            "type": "scatterpolargl"
           }
          ],
          "scatterternary": [
           {
            "marker": {
             "colorbar": {
              "outlinewidth": 0,
              "ticks": ""
             }
            },
            "type": "scatterternary"
           }
          ],
          "surface": [
           {
            "colorbar": {
             "outlinewidth": 0,
             "ticks": ""
            },
            "colorscale": [
             [
              0,
              "#0d0887"
             ],
             [
              0.1111111111111111,
              "#46039f"
             ],
             [
              0.2222222222222222,
              "#7201a8"
             ],
             [
              0.3333333333333333,
              "#9c179e"
             ],
             [
              0.4444444444444444,
              "#bd3786"
             ],
             [
              0.5555555555555556,
              "#d8576b"
             ],
             [
              0.6666666666666666,
              "#ed7953"
             ],
             [
              0.7777777777777778,
              "#fb9f3a"
             ],
             [
              0.8888888888888888,
              "#fdca26"
             ],
             [
              1,
              "#f0f921"
             ]
            ],
            "type": "surface"
           }
          ],
          "table": [
           {
            "cells": {
             "fill": {
              "color": "#EBF0F8"
             },
             "line": {
              "color": "white"
             }
            },
            "header": {
             "fill": {
              "color": "#C8D4E3"
             },
             "line": {
              "color": "white"
             }
            },
            "type": "table"
           }
          ]
         },
         "layout": {
          "annotationdefaults": {
           "arrowcolor": "#2a3f5f",
           "arrowhead": 0,
           "arrowwidth": 1
          },
          "autotypenumbers": "strict",
          "coloraxis": {
           "colorbar": {
            "outlinewidth": 0,
            "ticks": ""
           }
          },
          "colorscale": {
           "diverging": [
            [
             0,
             "#8e0152"
            ],
            [
             0.1,
             "#c51b7d"
            ],
            [
             0.2,
             "#de77ae"
            ],
            [
             0.3,
             "#f1b6da"
            ],
            [
             0.4,
             "#fde0ef"
            ],
            [
             0.5,
             "#f7f7f7"
            ],
            [
             0.6,
             "#e6f5d0"
            ],
            [
             0.7,
             "#b8e186"
            ],
            [
             0.8,
             "#7fbc41"
            ],
            [
             0.9,
             "#4d9221"
            ],
            [
             1,
             "#276419"
            ]
           ],
           "sequential": [
            [
             0,
             "#0d0887"
            ],
            [
             0.1111111111111111,
             "#46039f"
            ],
            [
             0.2222222222222222,
             "#7201a8"
            ],
            [
             0.3333333333333333,
             "#9c179e"
            ],
            [
             0.4444444444444444,
             "#bd3786"
            ],
            [
             0.5555555555555556,
             "#d8576b"
            ],
            [
             0.6666666666666666,
             "#ed7953"
            ],
            [
             0.7777777777777778,
             "#fb9f3a"
            ],
            [
             0.8888888888888888,
             "#fdca26"
            ],
            [
             1,
             "#f0f921"
            ]
           ],
           "sequentialminus": [
            [
             0,
             "#0d0887"
            ],
            [
             0.1111111111111111,
             "#46039f"
            ],
            [
             0.2222222222222222,
             "#7201a8"
            ],
            [
             0.3333333333333333,
             "#9c179e"
            ],
            [
             0.4444444444444444,
             "#bd3786"
            ],
            [
             0.5555555555555556,
             "#d8576b"
            ],
            [
             0.6666666666666666,
             "#ed7953"
            ],
            [
             0.7777777777777778,
             "#fb9f3a"
            ],
            [
             0.8888888888888888,
             "#fdca26"
            ],
            [
             1,
             "#f0f921"
            ]
           ]
          },
          "colorway": [
           "#636efa",
           "#EF553B",
           "#00cc96",
           "#ab63fa",
           "#FFA15A",
           "#19d3f3",
           "#FF6692",
           "#B6E880",
           "#FF97FF",
           "#FECB52"
          ],
          "font": {
           "color": "#2a3f5f"
          },
          "geo": {
           "bgcolor": "white",
           "lakecolor": "white",
           "landcolor": "#E5ECF6",
           "showlakes": true,
           "showland": true,
           "subunitcolor": "white"
          },
          "hoverlabel": {
           "align": "left"
          },
          "hovermode": "closest",
          "mapbox": {
           "style": "light"
          },
          "paper_bgcolor": "white",
          "plot_bgcolor": "#E5ECF6",
          "polar": {
           "angularaxis": {
            "gridcolor": "white",
            "linecolor": "white",
            "ticks": ""
           },
           "bgcolor": "#E5ECF6",
           "radialaxis": {
            "gridcolor": "white",
            "linecolor": "white",
            "ticks": ""
           }
          },
          "scene": {
           "xaxis": {
            "backgroundcolor": "#E5ECF6",
            "gridcolor": "white",
            "gridwidth": 2,
            "linecolor": "white",
            "showbackground": true,
            "ticks": "",
            "zerolinecolor": "white"
           },
           "yaxis": {
            "backgroundcolor": "#E5ECF6",
            "gridcolor": "white",
            "gridwidth": 2,
            "linecolor": "white",
            "showbackground": true,
            "ticks": "",
            "zerolinecolor": "white"
           },
           "zaxis": {
            "backgroundcolor": "#E5ECF6",
            "gridcolor": "white",
            "gridwidth": 2,
            "linecolor": "white",
            "showbackground": true,
            "ticks": "",
            "zerolinecolor": "white"
           }
          },
          "shapedefaults": {
           "line": {
            "color": "#2a3f5f"
           }
          },
          "ternary": {
           "aaxis": {
            "gridcolor": "white",
            "linecolor": "white",
            "ticks": ""
           },
           "baxis": {
            "gridcolor": "white",
            "linecolor": "white",
            "ticks": ""
           },
           "bgcolor": "#E5ECF6",
           "caxis": {
            "gridcolor": "white",
            "linecolor": "white",
            "ticks": ""
           }
          },
          "title": {
           "x": 0.05
          },
          "xaxis": {
           "automargin": true,
           "gridcolor": "white",
           "linecolor": "white",
           "ticks": "",
           "title": {
            "standoff": 15
           },
           "zerolinecolor": "white",
           "zerolinewidth": 2
          },
          "yaxis": {
           "automargin": true,
           "gridcolor": "white",
           "linecolor": "white",
           "ticks": "",
           "title": {
            "standoff": 15
           },
           "zerolinecolor": "white",
           "zerolinewidth": 2
          }
         }
        },
        "title": {
         "text": "Porównanie Modeli Predykcyjnych - Ceny Mieszkań w Wrocław",
         "x": 0.5
        },
        "xaxis": {
         "anchor": "y",
         "domain": [
          0,
          0.45
         ],
         "title": {
          "text": "Rzeczywiste ceny (PLN/m²)"
         }
        },
        "xaxis2": {
         "anchor": "y2",
         "domain": [
          0.55,
          1
         ],
         "title": {
          "text": "Model"
         }
        },
        "xaxis3": {
         "anchor": "y3",
         "domain": [
          0,
          0.45
         ],
         "title": {
          "text": "Model"
         }
        },
        "xaxis4": {
         "anchor": "y4",
         "domain": [
          0.55,
          1
         ],
         "title": {
          "text": "Ważność"
         }
        },
        "yaxis": {
         "anchor": "x",
         "domain": [
          0.625,
          1
         ],
         "title": {
          "text": "Predykcje (PLN/m²)"
         }
        },
        "yaxis2": {
         "anchor": "x2",
         "domain": [
          0.625,
          1
         ],
         "title": {
          "text": "Wartość metryki"
         }
        },
        "yaxis3": {
         "anchor": "x3",
         "domain": [
          0,
          0.375
         ],
         "title": {
          "text": "Błąd predykcji (PLN/m²)"
         }
        },
        "yaxis4": {
         "anchor": "x4",
         "domain": [
          0,
          0.375
         ],
         "title": {
          "text": "Cecha"
         }
        }
       }
      }
     },
     "metadata": {},
     "output_type": "display_data"
    },
    {
     "name": "stdout",
     "output_type": "stream",
     "text": [
      "\n",
      "🏆 PODSUMOWANIE WYDAJNOŚCI MODELI dla Wrocław:\n",
      "============================================================\n",
      "Linear Regression    | R²: 0.9096 | RMSE:     275 | MAE:    243 | MAPE:  2.28%\n",
      "Random Forest        | R²: -5.4809 | RMSE:    2332 | MAE:   2136 | MAPE: 19.56%\n",
      "Gradient Boosting    | R²: -5.0392 | RMSE:    2252 | MAE:   2049 | MAPE: 18.73%\n"
     ]
    }
   ],
   "source": [
    "# Komórka 7: Modele uczenia maszynowego dla danych w nowym formacie\n",
    "\n",
    "def przygotuj_dane_do_modelowania(df, miasto_target='Warszawa'):\n",
    "    \"\"\"\n",
    "    Przygotowuje dane do modelowania ML w formacie długim\n",
    "    \"\"\"\n",
    "    print(f\"🤖 Przygotowywanie danych do modelowania dla miasta {miasto_target}...\")\n",
    "    \n",
    "    # Filtrujemy dane dla wybranego miasta i typu ceny (transakcyjne)\n",
    "    dane_miasta = df[(df['miasto'] == miasto_target) & (df['typ_ceny'] == 'transakcyjna')].copy()\n",
    "    \n",
    "    # Sprawdzamy, czy mamy wystarczającą liczbę obserwacji\n",
    "    if len(dane_miasta) < 20:\n",
    "        print(f\"⚠️ Zbyt mało danych dla miasta {miasto_target}: {len(dane_miasta)} obserwacji\")\n",
    "        print(\"Używamy minimum 20 obserwacji dla wiarygodnego modelowania\")\n",
    "        return None, None, None, None\n",
    "    \n",
    "    # Usuwamy rekordy z brakującymi wartościami w kluczowych kolumnach\n",
    "    dane_miasta = dane_miasta.dropna(subset=['cena_m2', 'CPI_Y2Y', 'WIBOR'])\n",
    "    \n",
    "    # Kodowanie zmiennych kategorycznych\n",
    "    le_rynek = LabelEncoder()\n",
    "    dane_miasta['rynek_encoded'] = le_rynek.fit_transform(dane_miasta['rynek'])\n",
    "    \n",
    "    # Wybór cech do modelowania\n",
    "    cechy = [\n",
    "        'rok', 'kwartal_num', 'indeks_czasowy', 'CPI_Y2Y', 'WIBOR', \n",
    "        'rynek_encoded', 'rok_kwadrat'\n",
    "    ]\n",
    "    \n",
    "    # Dodaj cechy lagowane jeśli dostępne\n",
    "    for col in ['cena_lag1', 'cena_lag4', 'cena_ma4']:\n",
    "        if col in dane_miasta.columns and dane_miasta[col].notna().sum() > len(dane_miasta) * 0.8:\n",
    "            cechy.append(col)\n",
    "    \n",
    "    # Usuwamy rekordy z NaN w cechach\n",
    "    dane_kompletne = dane_miasta.dropna(subset=cechy + ['cena_m2'])\n",
    "    \n",
    "    # Sortujemy dane według czasu\n",
    "    dane_kompletne = dane_kompletne.sort_values('Data')\n",
    "    \n",
    "    X = dane_kompletne[cechy]\n",
    "    y = dane_kompletne['cena_m2']\n",
    "    \n",
    "    print(f\"📊 Przygotowano {len(X)} próbek z {len(cechy)} cechami\")\n",
    "    print(f\"📋 Cechy: {cechy}\")\n",
    "    \n",
    "    return X, y, dane_kompletne, le_rynek\n",
    "\n",
    "def trenuj_modele_ml(X, y):\n",
    "    \"\"\"\n",
    "    Trenuje różne modele ML i porównuje ich wydajność\n",
    "    \"\"\"\n",
    "    if X is None or y is None:\n",
    "        print(\"❌ Brak danych do trenowania modeli\")\n",
    "        return None, None, None, None\n",
    "    \n",
    "    print(\"🏋️ Trenowanie modeli uczenia maszynowego...\")\n",
    "    \n",
    "    # Podział danych (uwaga na kolejność czasową)\n",
    "    n_train = int(len(X) * 0.8)\n",
    "    X_train, X_test = X.iloc[:n_train], X.iloc[n_train:]\n",
    "    y_train, y_test = y.iloc[:n_train], y.iloc[n_train:]\n",
    "    \n",
    "    print(f\"📊 Dane treningowe: {len(X_train)} próbek, testowe: {len(X_test)} próbek\")\n",
    "    \n",
    "    # Skalowanie cech\n",
    "    scaler = StandardScaler()\n",
    "    X_train_scaled = scaler.fit_transform(X_train)\n",
    "    X_test_scaled = scaler.transform(X_test)\n",
    "    \n",
    "    # Słownik modeli\n",
    "    modele = {\n",
    "        'Linear Regression': LinearRegression(),\n",
    "        'Random Forest': RandomForestRegressor(n_estimators=100, random_state=42, max_depth=10),\n",
    "        'Gradient Boosting': GradientBoostingRegressor(n_estimators=100, random_state=42, max_depth=5)\n",
    "    }\n",
    "    \n",
    "    # Trenowanie i ewaluacja modeli\n",
    "    wyniki_modeli = {}\n",
    "    \n",
    "    for nazwa_modelu, model in modele.items():\n",
    "        print(f\"🔧 Trenowanie {nazwa_modelu}...\")\n",
    "        \n",
    "        if nazwa_modelu == 'Linear Regression':\n",
    "            # Użyj skalowanych danych dla regresji liniowej\n",
    "            model.fit(X_train_scaled, y_train)\n",
    "            y_pred = model.predict(X_test_scaled)\n",
    "        else:\n",
    "            # Użyj oryginalnych danych dla modeli drzewiastych\n",
    "            model.fit(X_train, y_train)\n",
    "            y_pred = model.predict(X_test)\n",
    "        \n",
    "        # Oblicz metryki\n",
    "        mse = mean_squared_error(y_test, y_pred)\n",
    "        rmse = np.sqrt(mse)\n",
    "        mae = mean_absolute_error(y_test, y_pred)\n",
    "        r2 = r2_score(y_test, y_pred)\n",
    "        \n",
    "        # Oblicz błąd względny (MAPE)\n",
    "        mape = np.mean(np.abs((y_test - y_pred) / y_test)) * 100\n",
    "        \n",
    "        wyniki_modeli[nazwa_modelu] = {\n",
    "            'model': model,\n",
    "            'predictions': y_pred,\n",
    "            'mse': mse,\n",
    "            'rmse': rmse,\n",
    "            'mae': mae,\n",
    "            'r2': r2,\n",
    "            'mape': mape\n",
    "        }\n",
    "        \n",
    "        print(f\"✅ {nazwa_modelu} - R²: {r2:.4f}, RMSE: {rmse:.0f}, MAE: {mae:.0f}, MAPE: {mape:.2f}%\")\n",
    "    \n",
    "    return wyniki_modeli, X_test, y_test, scaler\n",
    "\n",
    "def wizualizacja_porownania_modeli(wyniki_modeli, X_test, y_test, miasto='Warszawa'):\n",
    "    \"\"\"\n",
    "    Tworzy wizualizację porównania modeli\n",
    "    \"\"\"\n",
    "    if wyniki_modeli is None:\n",
    "        print(\"❌ Brak wyników modeli do wizualizacji\")\n",
    "        return None\n",
    "    \n",
    "    print(\"📊 Tworzenie wizualizacji porównania modeli...\")\n",
    "    \n",
    "    fig = make_subplots(\n",
    "        rows=2, cols=2,\n",
    "        subplot_titles=(\n",
    "            'Porównanie Predykcji vs Rzeczywiste',\n",
    "            'Metryki Wydajności Modeli',\n",
    "            'Błędy Predykcji (Residuals)',\n",
    "            'Ważność Cech (Random Forest)'\n",
    "        )\n",
    "    )\n",
    "    \n",
    "    kolory_modeli = ['blue', 'green', 'red']\n",
    "    \n",
    "    # 1. Predykcje vs rzeczywiste wartości\n",
    "    for i, (nazwa, wyniki) in enumerate(wyniki_modeli.items()):\n",
    "        fig.add_trace(\n",
    "            go.Scatter(\n",
    "                x=y_test,\n",
    "                y=wyniki['predictions'],\n",
    "                mode='markers',\n",
    "                name=nazwa,\n",
    "                marker=dict(color=kolory_modeli[i], size=6, opacity=0.7)\n",
    "            ),\n",
    "            row=1, col=1\n",
    "        )\n",
    "    \n",
    "    # Dodaj linię idealną\n",
    "    min_val, max_val = y_test.min(), y_test.max()\n",
    "    buffer = (max_val - min_val) * 0.1\n",
    "    fig.add_trace(\n",
    "        go.Scatter(\n",
    "            x=[min_val - buffer, max_val + buffer],\n",
    "            y=[min_val - buffer, max_val + buffer],\n",
    "            mode='lines',\n",
    "            name='Idealna predykcja',\n",
    "            line=dict(dash='dash', color='gray'),\n",
    "            showlegend=False\n",
    "        ),\n",
    "        row=1, col=1\n",
    "    )\n",
    "    \n",
    "    # 2. Metryki wydajności\n",
    "    metryki = ['R²', 'RMSE', 'MAE', 'MAPE']\n",
    "    nazwy_modeli = list(wyniki_modeli.keys())\n",
    "    \n",
    "    for i, metryka in enumerate(['r2', 'rmse', 'mae', 'mape']):\n",
    "        wartosci = [wyniki_modeli[model][metryka] for model in nazwy_modeli]\n",
    "        fig.add_trace(\n",
    "            go.Bar(\n",
    "                x=nazwy_modeli,\n",
    "                y=wartosci,\n",
    "                name=metryki[i],\n",
    "                showlegend=True\n",
    "            ),\n",
    "            row=1, col=2\n",
    "        )\n",
    "    \n",
    "    # 3. Rozkład błędów\n",
    "    for i, (nazwa, wyniki) in enumerate(wyniki_modeli.items()):\n",
    "        bledy = y_test - wyniki['predictions']\n",
    "        fig.add_trace(\n",
    "            go.Box(\n",
    "                y=bledy,\n",
    "                name=nazwa,\n",
    "                marker_color=kolory_modeli[i],\n",
    "                showlegend=False\n",
    "            ),\n",
    "            row=2, col=1\n",
    "        )\n",
    "    \n",
    "    # 4. Ważność cech (tylko dla Random Forest)\n",
    "    if 'Random Forest' in wyniki_modeli:\n",
    "        rf_model = wyniki_modeli['Random Forest']['model']\n",
    "        waznosci = rf_model.feature_importances_\n",
    "        nazwy_cech = X_test.columns\n",
    "        \n",
    "        # Sortuj według ważności\n",
    "        cecha_waznosc = list(zip(nazwy_cech, waznosci))\n",
    "        cecha_waznosc.sort(key=lambda x: x[1], reverse=True)\n",
    "        \n",
    "        fig.add_trace(\n",
    "            go.Bar(\n",
    "                x=[w for _, w in cecha_waznosc],\n",
    "                y=[c for c, _ in cecha_waznosc],\n",
    "                orientation='h',\n",
    "                marker_color='lightgreen',\n",
    "                showlegend=False\n",
    "            ),\n",
    "            row=2, col=2\n",
    "        )\n",
    "    \n",
    "    # Aktualizacja layoutu\n",
    "    fig.update_layout(\n",
    "        height=800,\n",
    "        title_text=f\"Porównanie Modeli Predykcyjnych - Ceny Mieszkań w {miasto}\",\n",
    "        title_x=0.5,\n",
    "        legend=dict(\n",
    "            orientation=\"h\",\n",
    "            yanchor=\"bottom\",\n",
    "            y=1.02,\n",
    "            xanchor=\"center\",\n",
    "            x=0.5\n",
    "        )\n",
    "    )\n",
    "    \n",
    "    # Aktualizacja etykiet osi\n",
    "    fig.update_xaxes(title_text=\"Rzeczywiste ceny (PLN/m²)\", row=1, col=1)\n",
    "    fig.update_yaxes(title_text=\"Predykcje (PLN/m²)\", row=1, col=1)\n",
    "    \n",
    "    fig.update_xaxes(title_text=\"Model\", row=1, col=2)\n",
    "    fig.update_yaxes(title_text=\"Wartość metryki\", row=1, col=2)\n",
    "    \n",
    "    fig.update_xaxes(title_text=\"Model\", row=2, col=1)\n",
    "    fig.update_yaxes(title_text=\"Błąd predykcji (PLN/m²)\", row=2, col=1)\n",
    "    \n",
    "    fig.update_xaxes(title_text=\"Ważność\", row=2, col=2)\n",
    "    fig.update_yaxes(title_text=\"Cecha\", row=2, col=2)\n",
    "    \n",
    "    return fig\n",
    "\n",
    "# Zdefiniuj listę miast do analizy\n",
    "miasta_do_analizy = ['Warszawa', 'Kraków', 'Wrocław']\n",
    "\n",
    "# Trenowanie modeli i tworzenie prognoz dla wybranych miast\n",
    "for miasto in miasta_do_analizy:\n",
    "    print(f\"\\n{'='*50}\")\n",
    "    print(f\"ANALIZA DLA MIASTA: {miasto}\")\n",
    "    print(f\"{'='*50}\")\n",
    "    \n",
    "    # Przygotuj dane\n",
    "    X, y, dane_kompletne, le_rynek = przygotuj_dane_do_modelowania(df_mieszkania_clean, miasto_target=miasto)\n",
    "    \n",
    "    if X is not None and y is not None:\n",
    "        # Trenuj modele\n",
    "        wyniki_modeli, X_test, y_test, scaler = trenuj_modele_ml(X, y)\n",
    "        \n",
    "        if wyniki_modeli is not None:\n",
    "            # Wizualizacja porównania modeli\n",
    "            wykres_modeli = wizualizacja_porownania_modeli(wyniki_modeli, X_test, y_test, miasto=miasto)\n",
    "            wykres_modeli.show()\n",
    "            \n",
    "            # Podsumowanie wyników\n",
    "            print(f\"\\n🏆 PODSUMOWANIE WYDAJNOŚCI MODELI dla {miasto}:\")\n",
    "            print(\"=\"*60)\n",
    "            for nazwa, wyniki in wyniki_modeli.items():\n",
    "                print(f\"{nazwa:20} | R²: {wyniki['r2']:6.4f} | RMSE: {wyniki['rmse']:7.0f} | MAE: {wyniki['mae']:6.0f} | MAPE: {wyniki['mape']:5.2f}%\")\n"
   ]
  },
  {
   "cell_type": "markdown",
   "id": "bbb7630f",
   "metadata": {},
   "source": [
    "## TODO"
   ]
  },
  {
   "cell_type": "code",
   "execution_count": null,
   "id": "a7528cd5",
   "metadata": {},
   "outputs": [],
   "source": [
    "# Komórka 9: Podsumowanie projektu i wnioski\n",
    "def wygeneruj_raport_koncowy(df, korelacje, testy, wyniki_modeli, prognozy):\n",
    "    \"\"\"\n",
    "    Generuje końcowy raport z projektu\n",
    "    \"\"\"\n",
    "    print(\"📋 KOMPLEKSOWY RAPORT ANALIZY POLSKIEGO RYNKU NIERUCHOMOŚCI\")\n",
    "    print(\"=\"*70)\n",
    "    \n",
    "    # 1. Podsumowanie danych\n",
    "    print(\"\\n1. 📊 PODSUMOWANIE DANYCH:\")\n",
    "    print(f\"   • Liczba obserwacji: {len(df):,}\")\n",
    "    print(f\"   • Zakres czasowy: {df['kwartal'].min()} - {df['kwartal'].max()}\")\n",
    "    print(f\"   • Analizowane miasta: {', '.join(df['miasto'].unique())}\")\n",
    "    print(f\"   • Analizowane rynki: {', '.join(df['rynek'].unique())}\")\n",
    "    \n",
    "    # 2. Kluczowe statystyki\n",
    "    print(\"\\n2. 📈 KLUCZOWE STATYSTYKI CENOWE:\")\n",
    "    stats_mieszkania = df.groupby(['miasto', 'rynek'])['cena_m2'].agg(['mean', 'std', 'min', 'max'])\n",
    "    for (miasto, rynek), row in stats_mieszkania.iterrows():\n",
    "        print(f\"   • {miasto} ({rynek}): średnia {row['mean']:,.0f} PLN/m² (σ={row['std']:,.0f})\")\n",
    "    \n",
    "    # 3. Analiza korelacji\n",
    "    print(\"\\n3. 🔗 ANALIZA KORELACJI:\")\n",
    "    print(\"   Korelacje cen mieszkań z wskaźnikami ekonomicznymi:\")\n",
    "    for segment, stats in korelacje.items():\n",
    "        if 'Warszawa' in segment:\n",
    "            inflacja_opis = \"silna\" if abs(stats['inflacja_corr']) > 0.5 else \"słaba\" if abs(stats['inflacja_corr']) > 0.3 else \"bardzo słaba\"\n",
    "            wibor_opis = \"silna\" if abs(stats['wibor_corr']) > 0.5 else \"słaba\" if abs(stats['wibor_corr']) > 0.3 else \"bardzo słaba\"\n",
    "            print(f\"   • {segment}: Inflacja r={stats['inflacja_corr']:.3f} ({inflacja_opis}), WIBOR r={stats['wibor_corr']:.3f} ({wibor_opis})\")\n",
    "    \n",
    "    # 4. Trendy czasowe\n",
    "    print(\"\\n4. 📈 TRENDY CZASOWE:\")\n",
    "    for segment, stats in testy.items():\n",
    "        if 'Warszawa' in segment and not np.isnan(stats['trend_slope']):\n",
    "            trend_opis = \"wzrostowy\" if stats['trend_slope'] > 0 else \"spadkowy\"\n",
    "            istotnosc = \"istotny\" if stats['trend_p'] < 0.05 else \"nieistotny\"\n",
    "            print(f\"   • {segment}: {stats['trend_slope']:+.0f} PLN/m²/kw ({trend_opis}, statystycznie {istotnosc})\")\n",
    "    \n",
    "    # 5. Wydajność modeli\n",
    "    print(\"\\n5. 🤖 WYDAJNOŚĆ MODELI PREDYKCYJNYCH:\")\n",
    "    najlepszy = max(wyniki_modeli.keys(), key=lambda k: wyniki_modeli[k]['r2'])\n",
    "    print(f\"   Najlepszy model: {najlepszy}\")\n",
    "    for nazwa, wyniki in wyniki_modeli.items():\n",
    "        ocena = \"doskonała\" if wyniki['r2'] > 0.9 else \"bardzo dobra\" if wyniki['r2'] > 0.8 else \"dobra\" if wyniki['r2'] > 0.7 else \"przeciętna\"\n",
    "        print(f\"   • {nazwa}: R²={wyniki['r2']:.4f} ({ocena}), błąd średni {wyniki['mae']:,.0f} PLN/m²\")\n",
    "    \n",
    "    # 6. Prognozy\n",
    "    print(\"\\n6. 🔮 PROGNOZY CENOWE (2 lata):\")\n",
    "    wzrost_2_lata = ((prognozy[-1]/prognozy[0])-1)*100\n",
    "    print(f\"   • Prognoza ceny początkowej: {prognozy[0]:,.0f} PLN/m²\")\n",
    "    print(f\"   • Prognoza ceny końcowej: {prognozy[-1]:,.0f} PLN/m²\")\n",
    "    print(f\"   • Oczekiwany wzrost: {wzrost_2_lata:.1f}% w ciągu 2 lat\")\n",
    "    print(f\"   • Średni wzrost roczny: {wzrost_2_lata/2:.1f}%\")\n",
    "    \n",
    "    # 7. Wnioski biznesowe\n",
    "    print(\"\\n7. 💡 KLUCZOWE WNIOSKI I REKOMENDACJE:\")\n",
    "    print(\"   WNIOSKI ANALITYCZNE:\")\n",
    "    print(\"   • Polski rynek nieruchomości wykazuje stabilny trend wzrostowy\")\n",
    "    print(\"   • Ceny mieszkań są słabo skorelowane z klasycznymi wskaźnikami ekonomicznymi\")\n",
    "    print(\"   • Warszawa pozostaje najdroższym rynkiem z najwyższą dynamiką wzrostu\")\n",
    "    print(\"   • Rynek pierwotny systematycznie droższy od wtórnego\")\n",
    "    \n",
    "    print(\"\\n   REKOMENDACJE INWESTYCYJNE:\")\n",
    "    if wzrost_2_lata > 15:\n",
    "        print(\"   • ✅ Prognoza wskazuje na atrakcyjną inwestycję długoterminową\")\n",
    "    elif wzrost_2_lata > 8:\n",
    "        print(\"   • ⚖️ Umiarkowana atrakcyjność inwestyjna\")\n",
    "    else:\n",
    "        print(\"   • ⚠️ Niska dynamika wzrostu - rozważna ocena ryzyka\")\n",
    "    \n",
    "    print(\"   • Diversyfikacja między miastami może redukować ryzyko\")\n",
    "    print(\"   • Monitoring wskaźników makroekonomicznych kluczowy dla timing'u\")\n",
    "    \n",
    "    # 8. Ograniczenia analizy\n",
    "    print(\"\\n8. ⚠️ OGRANICZENIA I ZASTRZEŻENIA:\")\n",
    "    print(\"   • Analiza oparta na danych agregowanych (brak danych jednostkowych)\")\n",
    "    print(\"   • Prognozy zakładają stabilność warunków makroekonomicznych\")\n",
    "    print(\"   • Nie uwzględniono czynników geopolitycznych i pandemicznych\")\n",
    "    print(\"   • Model może nie uwzględniać wszystkich czynników lokalnych\")\n",
    "    \n",
    "    return True\n",
    "\n",
    "# Wywołanie raportu końcowego\n",
    "if all(x in locals() for x in ['df_mieszkania', 'korelacje', 'testy', 'wyniki_modeli', 'prognozy']):\n",
    "    wygeneruj_raport_koncowy(df_mieszkania, korelacje, testy, wyniki_modeli, prognozy)\n",
    "    \n",
    "    print(\"\\n\" + \"=\"*70)\n",
    "    print(\"✅ PROJEKT ZAKOŃCZONY POMYŚLNIE!\")\n",
    "    print(\"📊 Wszystkie analizy wykonane, wizualizacje utworzone, modele wytrenowane\")\n",
    "    print(\"🎯 Raport dostępny powyżej, wykresy interaktywne wyświetlone\")\n",
    "    print(\"💾 Zalecane: Zapisz notebook dla przyszłego wykorzystania\")\n",
    "    print(\"=\"*70)\n",
    "else:\n",
    "    print(\"❌ Nie wszystkie komponenty projektu są dostępne. Upewnij się, że wykonałeś wszystkie poprzednie komórki.\")\n"
   ]
  },
  {
   "cell_type": "code",
   "execution_count": null,
   "id": "c87d1b7f",
   "metadata": {},
   "outputs": [],
   "source": [
    "# Komórka 10: Eksport wyników (opcjonalnie)\n",
    "def eksportuj_wyniki(df, prognozy, daty_prognoz):\n",
    "    \"\"\"\n",
    "    Eksportuje wyniki do plików Excel i CSV\n",
    "    \"\"\"\n",
    "    print(\"💾 Eksportowanie wyników...\")\n",
    "    \n",
    "    try:\n",
    "        # Eksport danych przetworzonych\n",
    "        df.to_csv('analiza_mieszkania_dane.csv', index=False, encoding='utf-8')\n",
    "        df.to_excel('analiza_mieszkania_dane.xlsx', index=False)\n",
    "        \n",
    "        # Eksport prognoz\n",
    "        df_prognozy = pd.DataFrame({\n",
    "            'data': daty_prognoz,\n",
    "            'prognoza_cena_m2': prognozy,\n",
    "            'kwartal': [f\"Q{d.quarter} {d.year}\" for d in daty_prognoz]\n",
    "        })\n",
    "        df_prognozy.to_csv('prognozy_cenowe.csv', index=False, encoding='utf-8')\n",
    "        df_prognozy.to_excel('prognozy_cenowe.xlsx', index=False)\n",
    "        \n",
    "        print(\"✅ Wyniki wyeksportowane do plików:\")\n",
    "        print(\"   • analiza_mieszkania_dane.csv/.xlsx\")\n",
    "        print(\"   • prognozy_cenowe.csv/.xlsx\")\n",
    "        \n",
    "    except Exception as e:\n",
    "        print(f\"❌ Błąd podczas eksportu: {e}\")\n",
    "\n",
    "# Opcjonalny eksport wyników\n",
    "# eksportuj_wyniki(df_mieszkania, prognozy, daty_prognoz)\n",
    "\n",
    "print(\"🎉 PROJEKT KOMPLETNY!\")\n",
    "print(\"Wszystkie analizy zostały wykonane. Sprawdź wykresy interaktywne powyżej.\")\n"
   ]
  }
 ],
 "metadata": {
  "kernelspec": {
   "display_name": ".venv1",
   "language": "python",
   "name": "python3"
  },
  "language_info": {
   "codemirror_mode": {
    "name": "ipython",
    "version": 3
   },
   "file_extension": ".py",
   "mimetype": "text/x-python",
   "name": "python",
   "nbconvert_exporter": "python",
   "pygments_lexer": "ipython3",
   "version": "3.11.4"
  }
 },
 "nbformat": 4,
 "nbformat_minor": 5
}
